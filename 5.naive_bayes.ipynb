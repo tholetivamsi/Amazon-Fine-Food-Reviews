{
 "cells": [
  {
   "cell_type": "markdown",
   "metadata": {},
   "source": [
    "# Load the dataset\n"
   ]
  },
  {
   "cell_type": "code",
   "execution_count": 135,
   "metadata": {},
   "outputs": [
    {
     "data": {
      "text/plain": [
       "(568454, 10)"
      ]
     },
     "execution_count": 135,
     "metadata": {},
     "output_type": "execute_result"
    }
   ],
   "source": [
    "import pandas as pd\n",
    "import numpy as np\n",
    "df=pd.read_csv(\"Reviews.csv\")\n",
    "df1=pd.read_csv(\"refined_data.csv\")\n",
    "df.shape\n"
   ]
  },
  {
   "cell_type": "markdown",
   "metadata": {},
   "source": [
    "# Removal of invalid records from the dataset\n",
    "\n",
    "\n",
    "\n",
    "\n",
    "\n",
    "\n",
    "**HelpfulnessNumerator:** Denotes how many people find this helpful.\n",
    "\n",
    "**HelpfulnessDenominator:** Denotes the total no.of people find this helpful and not .\n",
    "\n",
    "So the **HelpfulnessNumerator** must be less than or equals to **HelpfulnessDenominator**\n",
    "<br>\n",
    "<br>\n",
    "\n",
    "********************************************************************************************\n",
    "<br>\n",
    "There might records with empty reviews ,so we can remove them\n",
    "**Removing the records with review length less than 2**\n",
    "<br>\n",
    "\n",
    "\n",
    "\n",
    "\n",
    "\n",
    "\n"
   ]
  },
  {
   "cell_type": "code",
   "execution_count": 136,
   "metadata": {},
   "outputs": [
    {
     "name": "stdout",
     "output_type": "stream",
     "text": [
      "invalid reviews are(less than 2 chars)  0\n",
      "invalid_helpfulness reviews are  2\n",
      "(568454, 10)\n",
      "(568452, 10)\n"
     ]
    }
   ],
   "source": [
    "import numpy as np\n",
    "invalid_helpfulness=df[df['HelpfulnessNumerator']>df['HelpfulnessDenominator']]\n",
    "#invalid_time=df[df[\"Time\"]>time.time()]\n",
    "text_to_length=np.array(list(map(lambda review:len(review),df['Text'].values)))\n",
    "\n",
    "print(\"invalid reviews are(less than 2 chars) \",len(text_to_length[text_to_length<2]))\n",
    "\n",
    "print(\"invalid_helpfulness reviews are \",len(invalid_helpfulness))\n",
    "#print(\"invalid time reviews are \",len(invalid_time))\n",
    "print(df.shape)\n",
    "df=df[df['HelpfulnessNumerator']<=df['HelpfulnessDenominator']]\n",
    "print(df.shape)"
   ]
  },
  {
   "cell_type": "markdown",
   "metadata": {},
   "source": [
    "**We did find that at a signle timestampp we have same reviews which is not possible, perhaps if a user giving review to a single food product  that same review also assigned to different flavours of that product from that user   **\n",
    "\n",
    "So we can remove such all records and keep one product review."
   ]
  },
  {
   "cell_type": "code",
   "execution_count": 137,
   "metadata": {},
   "outputs": [
    {
     "name": "stdout",
     "output_type": "stream",
     "text": [
      "Size before removing duplicates  (568452, 10)\n",
      "Size after removing duplicates  (392907, 10)\n",
      "(392907, 10)\n"
     ]
    }
   ],
   "source": [
    "def remove_duplicate_records(dataframe):\n",
    "  '''\n",
    "  This function will remove the duplicate records because we have more than one review for a user at a specific time which is not possible\n",
    "  '''\n",
    "  print(\"Size before removing duplicates \",dataframe.shape)\n",
    "  dataframe.sort_values('UserId',axis=0,inplace=True,kind='mergesort',na_position=\"last\") # sorting based on the userid's\n",
    "  #fi.sort_values('ProductId', axis=0, ascending=True, inplace=False, kind='quicksort', na_position='last')\n",
    "  dataframe.drop_duplicates(subset={\"UserId\",\"ProfileName\",\"Time\",\"Summary\"},keep=\"first\",inplace=True)\n",
    "  print(\"Size after removing duplicates \",dataframe.shape)\n",
    "  return dataframe\n",
    "#print(df.head(5))\n",
    "df=remove_duplicate_records(df)\n",
    "print(df.shape)"
   ]
  },
  {
   "cell_type": "markdown",
   "metadata": {},
   "source": [
    "# Adding a Class label\n",
    "In our amazon fine food reviews dataset ,we dont have a class lable for any reviews such as whether it is possitive review  or negative.\n",
    "\n",
    "**we can do assign by the rating the user given for that product  **\n",
    "  \n",
    "     \n",
    "\n",
    "*  if rating >=3 (such as 3,4,5) out of 5 we assign a class lable +ve.\n",
    "*    if rating <3 (such as 1,2) out of 5 we assign a class lable -ve.(because users give 1 or 2 if they didn't satisfy about the product)\n",
    "\n",
    "\n",
    "     \n",
    "    \n",
    "     \n",
    "     "
   ]
  },
  {
   "cell_type": "code",
   "execution_count": 138,
   "metadata": {},
   "outputs": [
    {
     "name": "stdout",
     "output_type": "stream",
     "text": [
      "335891 57016\n",
      "Index(['Id', 'ProductId', 'UserId', 'ProfileName', 'HelpfulnessNumerator',\n",
      "       'HelpfulnessDenominator', 'Score', 'Time', 'Summary', 'Text', 'Class'],\n",
      "      dtype='object')\n"
     ]
    }
   ],
   "source": [
    "def map_score_to_class(dataframe):\n",
    "  \"\"\"\n",
    "  This function add a new column(class lable to the existing dataframe)\n",
    "  \"\"\"\n",
    "  x=dataframe[dataframe[\"Score\"]>=3].index\n",
    "  y=dataframe[dataframe[\"Score\"]<3].index\n",
    "  print(len(x),len(y))\n",
    "  dataframe.loc[x,\"Class\"]=\"positive\"\n",
    "  dataframe.loc[y,\"Class\"]=\"negative\"\n",
    "  #print(dataframe.head(1))\n",
    "  print(dataframe.columns)\n",
    "map_score_to_class(df)\n",
    "\n"
   ]
  },
  {
   "cell_type": "markdown",
   "metadata": {},
   "source": [
    "# soritng based on time"
   ]
  },
  {
   "cell_type": "code",
   "execution_count": 139,
   "metadata": {},
   "outputs": [],
   "source": [
    "df.sort_values(\"Time\", axis=0,inplace=True,kind=\"mergesort\")\n",
    "#print(df.iloc[0,][\"Time\"],df.iloc[-1,][\"Time\"])"
   ]
  },
  {
   "cell_type": "markdown",
   "metadata": {},
   "source": [
    "# Data for Naive bayes\n",
    "\n",
    "**Chosen 100k reocrds from dataset to analyze naive bayes algorithm**"
   ]
  },
  {
   "cell_type": "code",
   "execution_count": 143,
   "metadata": {},
   "outputs": [
    {
     "name": "stdout",
     "output_type": "stream",
     "text": [
      "positive    88638\n",
      "negative    11362\n",
      "Name: Class, dtype: int64\n"
     ]
    }
   ],
   "source": [
    "import pandas as pd\n",
    "trainging_data=df.iloc[0:100000]\n",
    "df1[\"Class\"]=trainging_data['Class'].values\n",
    "trainging_data=df1\n",
    "print(trainging_data['Class'].value_counts())\n",
    "df=[]"
   ]
  },
  {
   "cell_type": "markdown",
   "metadata": {},
   "source": [
    "# Removal of HTML tags from reviews"
   ]
  },
  {
   "cell_type": "code",
   "execution_count": null,
   "metadata": {},
   "outputs": [],
   "source": [
    "import re\n",
    "def remove_html_tags(dataframe):\n",
    "  match=re.compile(\"<.*?>\")  \n",
    "  # '<' matches to any starting angular brace\n",
    "  # '.' matches to any charecter \n",
    "  # '*' matches for a string length of zero or more\n",
    "  # '?' matches for any starting tag like <p> if we dont use it will assume whole html tag like <p> hi hello </p> in simple terms it is more greedy but here is non-greedy.\n",
    "  index=0\n",
    "  for review in dataframe[\"Text\"].values:\n",
    "    new_text=re.sub(match,'',review)\n",
    "    dataframe.iloc[index,dataframe.columns.get_loc(\"Text\")]=new_text\n",
    "    index+=1\n",
    "    if(index%10000==0):\n",
    "        print(index)\n",
    "  return dataframe\n",
    "trainging_data=remove_html_tags(trainging_data)\n",
    "print(\"Done with removing html tags from reviews\")\n",
    "\n",
    "\n",
    "#print(trainging_data.iloc[10]['Text'])\n",
    "  "
   ]
  },
  {
   "cell_type": "markdown",
   "metadata": {},
   "source": [
    "# Removal of special charectars and Numbers from the reviews"
   ]
  },
  {
   "cell_type": "code",
   "execution_count": 11,
   "metadata": {},
   "outputs": [
    {
     "name": "stdout",
     "output_type": "stream",
     "text": [
      "Done with removing of special chars from  10000  reviews\n",
      "Done with removing of special chars from  20000  reviews\n",
      "Done with removing of special chars from  30000  reviews\n",
      "Done with removing of special chars from  40000  reviews\n",
      "Done with removing of special chars from  50000  reviews\n",
      "Done with removing of special chars from  60000  reviews\n",
      "Done with removing of special chars from  70000  reviews\n",
      "Done with removing of special chars from  80000  reviews\n",
      "Done with removing of special chars from  90000  reviews\n",
      "Done with removing special chars from the all the reviews\n",
      "                                                Text\n",
      "0  this witty little book makes my son laugh at l...\n",
      "1  i can remember seeing the show when it aired o...\n",
      "2  beetlejuice is a well written movie       ever...\n",
      "3  a twist of rumplestiskin captured on film  sta...\n",
      "4  beetlejuice is an excellent and funny movie  k...\n"
     ]
    }
   ],
   "source": [
    "df=[]\n",
    "from nltk.stem.porter import PorterStemmer\n",
    "stem=PorterStemmer()\n",
    "#trainging_data[\"Class\"].value_counts()\n",
    "import re\n",
    "def remove_spcl_chars(df):\n",
    "  \"\"\"\n",
    "  This function will remove the all the special chars such as .,?/\":;\" and etc\n",
    "  \"\"\"\n",
    "  modified_reviews=[]\n",
    "  match=re.compile(\"\\W\")\n",
    "  index=0\n",
    "  for review in df:\n",
    "    #new_sentence=[]\n",
    "    #for word in review.strip().split(\" \"):\n",
    "    review=review.replace(\"_\",\"\")\n",
    "    new_sen=re.sub(\"\\W\",' ',review)\n",
    "    new_sen=re.sub(\"\\d\",' ',new_sen)\n",
    "    \n",
    "      #new_word = re.sub(r'[?|!|\\'|\"|#]',r'',word)\n",
    "      #new_word = re.sub(r'[.|,|)|(|\\|/]',r' ',new_word)\n",
    "      #print(new_word)\n",
    "      #if(len(new_word.lower())>2):\n",
    "        #new_sentence.append(new_word.lower())\n",
    "    modified_reviews.append(stem.stem(new_sen).lower())\n",
    "    if(index%10000==0 and index>0 ):\n",
    "      print(\"Done with removing of special chars from \",index,\" reviews\")\n",
    "    index+=1\n",
    "  new_modi_reviews=pd.DataFrame(modified_reviews,columns=[\"Text\"])\n",
    "  return new_modi_reviews\n",
    "new_modi_reviews=remove_spcl_chars(trainging_data[\"Text\"].values)\n",
    "print(\"Done with removing special chars from the all the reviews\")\n",
    "print(new_modi_reviews.head())\n",
    "\n",
    "  "
   ]
  },
  {
   "cell_type": "code",
   "execution_count": null,
   "metadata": {},
   "outputs": [],
   "source": [
    "new_modi_reviews.to_csv(\"refined_data.csv\")"
   ]
  },
  {
   "cell_type": "code",
   "execution_count": 12,
   "metadata": {},
   "outputs": [
    {
     "data": {
      "text/plain": [
       "Index(['Text', 'Class'], dtype='object')"
      ]
     },
     "execution_count": 12,
     "metadata": {},
     "output_type": "execute_result"
    }
   ],
   "source": [
    "new_modi_reviews[\"Class\"]=trainging_data[\"Class\"].values\n",
    "new_modi_reviews.columns"
   ]
  },
  {
   "cell_type": "code",
   "execution_count": null,
   "metadata": {},
   "outputs": [],
   "source": [
    "print(new_modi_reviews.head(1))\n",
    "print(type(new_modi_reviews))\n",
    "print(new_modi_reviews['Class'].iloc[120])\n",
    "print(new_modi_reviews[\"Class\"].value_counts())\n",
    "trainging_data[\"Class\"].iloc[0]\n",
    "\n",
    "#train.shape"
   ]
  },
  {
   "cell_type": "markdown",
   "metadata": {},
   "source": [
    "# unigrams-BOW\n",
    "In unigrams(BOW), I implemented the both bernouli naive bayes and multinomial naive bayes . In which bernouil naive bayes takes either 1 or 0 and multinomial naive bayestakes the frequency of the word in the document.\n",
    "\n",
    "**Here in naive bayes classification I took 70% of data for training and 30% data for evaluating the performance of the model(test data)**"
   ]
  },
  {
   "cell_type": "code",
   "execution_count": 144,
   "metadata": {},
   "outputs": [
    {
     "name": "stdout",
     "output_type": "stream",
     "text": [
      "(70000, 2) (30000, 2) (70000,) (30000,)\n"
     ]
    }
   ],
   "source": [
    "import numpy as np\n",
    "heat_plot_bow=[]\n",
    "from sklearn.model_selection import train_test_split\n",
    "df_train_x,df_test_x,df_train_y,df_test_y=train_test_split(new_modi_reviews,new_modi_reviews[\"Class\"].iloc[0:100000],test_size=0.3,random_state=0,shuffle=False)\n",
    "print(df_train_x.shape,df_test_x.shape,df_train_y.shape,df_test_y.shape)"
   ]
  },
  {
   "cell_type": "markdown",
   "metadata": {},
   "source": [
    "**Bernouli naive bayes **"
   ]
  },
  {
   "cell_type": "code",
   "execution_count": 145,
   "metadata": {},
   "outputs": [
    {
     "name": "stdout",
     "output_type": "stream",
     "text": [
      "(30000, 50580) (70000, 50580)\n"
     ]
    }
   ],
   "source": [
    "from sklearn.feature_extraction.text import CountVectorizer\n",
    "count_vec=CountVectorizer(binary=True,stop_words ='english')\n",
    "count_vec.fit(df_train_x[\"Text\"]) # fitting training data words \n",
    "bow_vec=count_vec.transform(df_train_x[\"Text\"])  # Getting vectors for each review in train data\n",
    "test_vec=count_vec.transform(df_test_x[\"Text\"])  # Getting vectors for each eview in test data\n",
    "print(test_vec.shape,bow_vec.shape)"
   ]
  },
  {
   "cell_type": "markdown",
   "metadata": {},
   "source": [
    "1.**The Bow representation has 50,580 features which means every review isrepresented with 50,580 features** \n",
    "\n",
    "2.**I used grid search technique to obtain the best alpha value (hyperparameter for naive bayes) and the metric used is \"f1_score\"**"
   ]
  },
  {
   "cell_type": "code",
   "execution_count": 146,
   "metadata": {
    "scrolled": true
   },
   "outputs": [
    {
     "name": "stderr",
     "output_type": "stream",
     "text": [
      "/home/raviiit121/anaconda3/lib/python3.6/site-packages/sklearn/naive_bayes.py:472: UserWarning: alpha too small will result in numeric errors, setting alpha = 1.0e-10\n",
      "  'setting alpha = %.1e' % _ALPHA_MIN)\n",
      "/home/raviiit121/anaconda3/lib/python3.6/site-packages/sklearn/naive_bayes.py:472: UserWarning: alpha too small will result in numeric errors, setting alpha = 1.0e-10\n",
      "  'setting alpha = %.1e' % _ALPHA_MIN)\n",
      "/home/raviiit121/anaconda3/lib/python3.6/site-packages/sklearn/naive_bayes.py:472: UserWarning: alpha too small will result in numeric errors, setting alpha = 1.0e-10\n",
      "  'setting alpha = %.1e' % _ALPHA_MIN)\n"
     ]
    }
   ],
   "source": [
    "from sklearn.model_selection import cross_val_score\n",
    "from sklearn.model_selection import GridSearchCV\n",
    "from sklearn.model_selection import TimeSeriesSplit\n",
    "from sklearn.naive_bayes import BernoulliNB\n",
    "from sklearn.preprocessing import LabelEncoder\n",
    "label=LabelEncoder()\n",
    "label.fit(df_train_y)\n",
    "y=label.transform(df_train_y)\n",
    "time_cv=TimeSeriesSplit(n_splits=3).split(bow_vec)\n",
    "parameters=[{'alpha':np.append(np.linspace(0,1,20),np.linspace(2,20,9))}]\n",
    "#print(parameters)\n",
    "clf=GridSearchCV(BernoulliNB(),parameters,cv=time_cv,scoring=\"f1\")\n",
    "classification=clf.fit(bow_vec,y)"
   ]
  },
  {
   "cell_type": "code",
   "execution_count": 148,
   "metadata": {},
   "outputs": [
    {
     "name": "stdout",
     "output_type": "stream",
     "text": [
      "0.9409027369318246\n",
      "BernoulliNB(alpha=20.0, binarize=0.0, class_prior=None, fit_prior=True)\n",
      "28\n"
     ]
    },
    {
     "data": {
      "image/png": "[encoded data removed]",
      "text/plain": [
       "<Figure size 1440x360 with 1 Axes>"
      ]
     },
     "metadata": {},
     "output_type": "display_data"
    }
   ],
   "source": [
    "import matplotlib.pyplot as plt\n",
    "print(classification.best_score_)\n",
    "print(classification.best_estimator_)\n",
    "scores=classification.cv_results_['mean_test_score']\n",
    "#print(scores)\n",
    "plt.figure(figsize=(20,5))\n",
    "plt.xlabel(\"Alpha\")\n",
    "plt.ylabel(\"accuracy\")\n",
    "x=np.append(np.linspace(0,1,20),np.linspace(2,20,9))\n",
    "#plt.xlim(0,1)\n",
    "plt.ylim(0.93,0.945)\n",
    "plt.xticks(np.linspace(0,20,40))\n",
    "plt.plot(x,scores)\n",
    "index=np.argmax(scores)\n",
    "print(index)\n",
    "plt.plot(x[index], scores[index], 'r*',markersize=14,linestyle=\"-\")\n",
    "plt.annotate('maximum at 20 ', xy=(x[index], scores[index]), xytext=(20, 0.944),\n",
    "            arrowprops=dict(facecolor='black', shrink=0.05),\n",
    "            )\n",
    "plt.show()"
   ]
  },
  {
   "cell_type": "markdown",
   "metadata": {},
   "source": [
    "# observation\n",
    "**For the alpha=20  Im getting best f1_score however the acuuracy is not much chnaged from aplha=1 and using high aplha might results in underfitting of model  so Im going to use alpha=1 in training**"
   ]
  },
  {
   "cell_type": "code",
   "execution_count": 81,
   "metadata": {},
   "outputs": [
    {
     "name": "stdout",
     "output_type": "stream",
     "text": [
      "Top 20 Important features\n",
      "+----------+----------+\n",
      "| positive | negative |\n",
      "+----------+----------+\n",
      "|  tried   |   love   |\n",
      "+----------+----------+\n",
      "|  better  |   food   |\n",
      "+----------+----------+\n",
      "|   tea    |  great   |\n",
      "+----------+----------+\n",
      "|   make   |   bad    |\n",
      "+----------+----------+\n",
      "|   use    |   time   |\n",
      "+----------+----------+\n",
      "|   time   |   try    |\n",
      "+----------+----------+\n",
      "|   don    |   did    |\n",
      "+----------+----------+\n",
      "|  little  |  better  |\n",
      "+----------+----------+\n",
      "|    ve    |  bought  |\n",
      "+----------+----------+\n",
      "|  amazon  |  tried   |\n",
      "+----------+----------+\n",
      "|  really  |  amazon  |\n",
      "+----------+----------+\n",
      "|   best   |  really  |\n",
      "+----------+----------+\n",
      "|   love   |   buy    |\n",
      "+----------+----------+\n",
      "| product  |   don    |\n",
      "+----------+----------+\n",
      "|  flavor  |  flavor  |\n",
      "+----------+----------+\n",
      "|   just   |   good   |\n",
      "+----------+----------+\n",
      "|  taste   |   just   |\n",
      "+----------+----------+\n",
      "|  great   | product  |\n",
      "+----------+----------+\n",
      "|   good   |  taste   |\n",
      "+----------+----------+\n",
      "|   like   |   like   |\n",
      "+----------+----------+\n"
     ]
    }
   ],
   "source": [
    "from sklearn.naive_bayes import BernoulliNB\n",
    "import numpy as np\n",
    "nb=BernoulliNB(alpha=1)\n",
    "nb.fit(bow_vec,df_train_y)\n",
    "words=[count_vec.get_feature_names()[i] for i in nb.feature_log_prob_[0].argsort()[-20:]]\n",
    "from beautifultable import BeautifulTable\n",
    "table=BeautifulTable()\n",
    "table.insert_column(0,\"negative\",words)\n",
    "words=[count_vec.get_feature_names()[i] for i in nb.feature_log_prob_[1].argsort()[-20:]]\n",
    "table.insert_column(0,\"positive\",words)\n",
    "print(\"Top 20 Important features\")\n",
    "print(table)\n"
   ]
  },
  {
   "cell_type": "code",
   "execution_count": 82,
   "metadata": {},
   "outputs": [
    {
     "name": "stdout",
     "output_type": "stream",
     "text": [
      "+-----------------+--------------+----------+----------------+\n",
      "| precision_score | recall_score | f1_score | accuracy_score |\n",
      "+-----------------+--------------+----------+----------------+\n",
      "|      0.914      |    0.961     |  0.937   |     0.887      |\n",
      "+-----------------+--------------+----------+----------------+\n"
     ]
    },
    {
     "data": {
      "text/plain": [
       "Text(24,0.5,'Actual')"
      ]
     },
     "execution_count": 82,
     "metadata": {},
     "output_type": "execute_result"
    },
    {
     "data": {
      "image/png": "[encoded data removed]",
      "text/plain": [
       "<Figure size 360x360 with 2 Axes>"
      ]
     },
     "metadata": {},
     "output_type": "display_data"
    }
   ],
   "source": [
    "import matplotlib.pyplot as plt\n",
    "import seaborn as sb\n",
    "from sklearn.metrics import confusion_matrix\n",
    "from sklearn.metrics import precision_score,recall_score,f1_score,accuracy_score\n",
    "op=nb.predict(test_vec)\n",
    "correct=op==df_test_y\n",
    "cm=confusion_matrix(df_test_y,op)\n",
    "dcsummary = pd.DataFrame(cm,index=['negative','positive'],columns=['negative','positive'])\n",
    "predicted=list(map(lambda x: 1 if x=='positive' else 0,op))\n",
    "actual=list(map(lambda x: 1 if x=='positive' else 0,df_test_y))\n",
    "from beautifultable import BeautifulTable\n",
    "table=BeautifulTable()\n",
    "table.insert_column(0,\"precision_score\",[precision_score(actual,predicted)])\n",
    "table.insert_column(1,\"recall_score\",[recall_score(actual,predicted)])\n",
    "table.insert_column(2,\"f1_score\",[f1_score(actual,predicted)])\n",
    "table.insert_column(3,\"accuracy_score\",[accuracy_score(actual,predicted)])\n",
    "heat_plot_bow.append(f1_score(actual,predicted))\n",
    "print(table)\n",
    "plt.figure(figsize=(5,5))\n",
    "sb.heatmap(dcsummary,annot=True, fmt='g')\n",
    "plt.title(\"Bernouli Naive bayes (alpha=1)\")\n",
    "plt.xlabel(\"predicted\")\n",
    "plt.ylabel(\"Actual\")"
   ]
  },
  {
   "cell_type": "markdown",
   "metadata": {},
   "source": [
    "# observations\n",
    " 1.**Recall score 96% which indicates that among the total reviews which are labled as positive, 96% are atually positive.** <br>\n",
    " 2.**Precision score is 91 which means from total positive reviews in test data, model identifed correctly 91% of them as positive.** <br>\n",
    " 3.**The models f1 score is 93% which is doing a good job**."
   ]
  },
  {
   "cell_type": "markdown",
   "metadata": {},
   "source": [
    "**Multinomial naive bayes**"
   ]
  },
  {
   "cell_type": "code",
   "execution_count": 149,
   "metadata": {},
   "outputs": [
    {
     "name": "stdout",
     "output_type": "stream",
     "text": [
      "(30000, 50580) (70000, 50580)\n"
     ]
    }
   ],
   "source": [
    "from sklearn.feature_extraction.text import CountVectorizer\n",
    "count_vec=CountVectorizer(stop_words = 'english')\n",
    "count_vec.fit(df_train_x[\"Text\"])\n",
    "bow_vec=count_vec.transform(df_train_x[\"Text\"])\n",
    "test_vec=count_vec.transform(df_test_x[\"Text\"])\n",
    "print(test_vec.shape,bow_vec.shape)"
   ]
  },
  {
   "cell_type": "code",
   "execution_count": 150,
   "metadata": {},
   "outputs": [
    {
     "name": "stderr",
     "output_type": "stream",
     "text": [
      "/home/raviiit121/anaconda3/lib/python3.6/site-packages/sklearn/naive_bayes.py:472: UserWarning: alpha too small will result in numeric errors, setting alpha = 1.0e-10\n",
      "  'setting alpha = %.1e' % _ALPHA_MIN)\n",
      "/home/raviiit121/anaconda3/lib/python3.6/site-packages/sklearn/naive_bayes.py:472: UserWarning: alpha too small will result in numeric errors, setting alpha = 1.0e-10\n",
      "  'setting alpha = %.1e' % _ALPHA_MIN)\n",
      "/home/raviiit121/anaconda3/lib/python3.6/site-packages/sklearn/naive_bayes.py:472: UserWarning: alpha too small will result in numeric errors, setting alpha = 1.0e-10\n",
      "  'setting alpha = %.1e' % _ALPHA_MIN)\n"
     ]
    }
   ],
   "source": [
    "from sklearn.naive_bayes import MultinomialNB\n",
    "from sklearn.model_selection import GridSearchCV\n",
    "from sklearn.preprocessing import LabelEncoder\n",
    "from sklearn.model_selection import TimeSeriesSplit\n",
    "label=LabelEncoder()\n",
    "label.fit(df_train_y)\n",
    "y=label.transform(df_train_y)\n",
    "time_cv=TimeSeriesSplit(n_splits=3).split(bow_vec)\n",
    "clf=GridSearchCV(MultinomialNB(),parameters,cv=time_cv,scoring=\"f1\")\n",
    "classification=clf.fit(bow_vec,y)"
   ]
  },
  {
   "cell_type": "code",
   "execution_count": 151,
   "metadata": {},
   "outputs": [
    {
     "name": "stdout",
     "output_type": "stream",
     "text": [
      "MultinomialNB(alpha=0.894736842105263, class_prior=None, fit_prior=True)\n",
      "0.9454099424048815\n",
      "17\n"
     ]
    },
    {
     "data": {
      "image/png": "[encoded data removed]",
      "text/plain": [
       "<Figure size 1440x360 with 1 Axes>"
      ]
     },
     "metadata": {},
     "output_type": "display_data"
    }
   ],
   "source": [
    "print(classification.best_estimator_)\n",
    "print(classification.best_score_)\n",
    "scores=classification.cv_results_['mean_test_score']\n",
    "#print(scores)\n",
    "plt.figure(figsize=(20,5))\n",
    "plt.xlabel(\"Alpha\")\n",
    "plt.ylabel(\"accuracy\")\n",
    "#plt.xlim(0,1)\n",
    "x=np.append(np.linspace(0,1,20),np.linspace(2,20,9))\n",
    "plt.xticks(np.linspace(0,20,40))\n",
    "plt.ylim(0.9,1)\n",
    "#plt.xticks(np.linspace(0,10,20))\n",
    "#x=np.linspace(0,10,50)\n",
    "plt.plot(x,scores)\n",
    "index=np.argmax(scores)\n",
    "print(index)\n",
    "plt.plot(x[index], scores[index], 'r*',markersize=14)\n",
    "plt.annotate('maximum at 0.89', xy=(x[index], scores[index]), xytext=(1, 1),\n",
    "            arrowprops=dict(facecolor='black', shrink=0.05),\n",
    "            )\n",
    "plt.show()\n"
   ]
  },
  {
   "cell_type": "markdown",
   "metadata": {},
   "source": [
    "# Observation\n",
    "**For the alpha=0.89 the model is giving good f1 score of 94.5% so Im going to use alpha=0.98 in training naive bayes model.**"
   ]
  },
  {
   "cell_type": "code",
   "execution_count": 86,
   "metadata": {},
   "outputs": [
    {
     "name": "stdout",
     "output_type": "stream",
     "text": [
      "+-----------------+--------------+----------+----------------+\n",
      "| precision_score | recall_score | f1_score | accuracy_score |\n",
      "+-----------------+--------------+----------+----------------+\n",
      "|      0.929      |    0.965     |  0.946   |     0.905      |\n",
      "+-----------------+--------------+----------+----------------+\n"
     ]
    },
    {
     "data": {
      "image/png": "[encoded data removed]",
      "text/plain": [
       "<Figure size 360x360 with 2 Axes>"
      ]
     },
     "metadata": {},
     "output_type": "display_data"
    },
    {
     "name": "stdout",
     "output_type": "stream",
     "text": [
      "Top 30 Important words \n",
      "+----------+-----------+\n",
      "| negative | positive  |\n",
      "+----------+-----------+\n",
      "|   way    |   drink   |\n",
      "+----------+-----------+\n",
      "| ordered  |   sweet   |\n",
      "+----------+-----------+\n",
      "|  little  |    try    |\n",
      "+----------+-----------+\n",
      "|    ve    |    eat    |\n",
      "+----------+-----------+\n",
      "|  great   |   price   |\n",
      "+----------+-----------+\n",
      "|   love   | chocolate |\n",
      "+----------+-----------+\n",
      "|   eat    |    buy    |\n",
      "+----------+-----------+\n",
      "|   make   |   sugar   |\n",
      "+----------+-----------+\n",
      "|   bad    |   tried   |\n",
      "+----------+-----------+\n",
      "|   try    |  better   |\n",
      "+----------+-----------+\n",
      "|   time   |   food    |\n",
      "+----------+-----------+\n",
      "|  bought  |   make    |\n",
      "+----------+-----------+\n",
      "|  sugar   |   time    |\n",
      "+----------+-----------+\n",
      "|   did    |    don    |\n",
      "+----------+-----------+\n",
      "|  better  |  little   |\n",
      "+----------+-----------+\n",
      "|   box    |  amazon   |\n",
      "+----------+-----------+\n",
      "|  tried   |    use    |\n",
      "+----------+-----------+\n",
      "|  really  |    ve     |\n",
      "+----------+-----------+\n",
      "|   food   |  really   |\n",
      "+----------+-----------+\n",
      "|   buy    |   best    |\n",
      "+----------+-----------+\n",
      "|  amazon  |  coffee   |\n",
      "+----------+-----------+\n",
      "|  coffee  |   love    |\n",
      "+----------+-----------+\n",
      "|   don    |  product  |\n",
      "+----------+-----------+\n",
      "|   tea    |  flavor   |\n",
      "+----------+-----------+\n",
      "|  flavor  |   just    |\n",
      "+----------+-----------+\n",
      "|   good   |   taste   |\n",
      "+----------+-----------+\n",
      "|   just   |    tea    |\n",
      "+----------+-----------+\n",
      "| product  |   great   |\n",
      "+----------+-----------+\n",
      "|  taste   |   good    |\n",
      "+----------+-----------+\n",
      "|   like   |   like    |\n",
      "+----------+-----------+\n"
     ]
    }
   ],
   "source": [
    "from sklearn.naive_bayes import MultinomialNB\n",
    "from sklearn.metrics import precision_score,recall_score,f1_score,confusion_matrix,accuracy_score\n",
    "import seaborn as sb\n",
    "mul=MultinomialNB(alpha=0.98)\n",
    "mul.fit(bow_vec,df_train_y)\n",
    "op=mul.predict(test_vec)\n",
    "correct=op==df_test_y\n",
    "actual=list(map(lambda x: 1 if x==\"positive\" else 0,df_test_y))\n",
    "predicted=list(map(lambda x: 1 if x==\"positive\" else 0,op))\n",
    "cm=confusion_matrix(op,df_test_y)\n",
    "csummary = pd.DataFrame(cm,index=['negative','positive'],columns=['negative','positive'])\n",
    "\n",
    "from beautifultable import BeautifulTable\n",
    "table=BeautifulTable()\n",
    "table.insert_column(0,\"precision_score\",[precision_score(actual,predicted)])\n",
    "table.insert_column(1,\"recall_score\",[recall_score(actual,predicted)])\n",
    "table.insert_column(2,\"f1_score\",[f1_score(actual,predicted)])\n",
    "table.insert_column(3,\"accuracy_score\",[accuracy_score(actual,predicted)])\n",
    "print(table)\n",
    "heat_plot_bow.append(f1_score(actual,predicted)) # bow multinomial\n",
    "\n",
    "plt.figure(figsize=(5,5))\n",
    "sb.heatmap(csummary,annot=True, fmt='g')\n",
    "plt.title(\"Naive bayes\")\n",
    "plt.xlabel(\"predicted\")\n",
    "plt.ylabel(\"Actual\")\n",
    "plt.show()\n",
    "\n",
    "\n",
    "words=[count_vec.get_feature_names()[i] for i in mul.feature_log_prob_[0].argsort()[-30:]]\n",
    "table=BeautifulTable()\n",
    "table.insert_column(0,\"negative\",words)\n",
    "words=[count_vec.get_feature_names()[i] for i in mul.feature_log_prob_[1].argsort()[-30:]]\n",
    "table.insert_column(1,\"positive\",words)\n",
    "print(\"Top 30 Important words \")\n",
    "print(table)"
   ]
  },
  {
   "cell_type": "markdown",
   "metadata": {},
   "source": [
    "# observations\n",
    " 1.**Recall score 96% which indicates that among the total reviews which are labled as positive in testing, 96% are atually positive.** <br>\n",
    " \n",
    " 2.**precision score 93% which indicates that among the total reviews which are positive, 93% are correctly classified as positive.** <br>\n",
    " \n",
    " 3.**The models f1 score is 94% which is doing a good job**."
   ]
  },
  {
   "cell_type": "markdown",
   "metadata": {},
   "source": [
    "# Bigrams bag of words"
   ]
  },
  {
   "cell_type": "markdown",
   "metadata": {},
   "source": [
    "**Bernouli naive bayes**"
   ]
  },
  {
   "cell_type": "code",
   "execution_count": 87,
   "metadata": {},
   "outputs": [
    {
     "name": "stdout",
     "output_type": "stream",
     "text": [
      "(70000, 1467404) (30000, 1467404)\n"
     ]
    }
   ],
   "source": [
    "from sklearn.feature_extraction.text import CountVectorizer\n",
    "count_vec=CountVectorizer(ngram_range=(1,2),binary=True,stop_words=\"english\")\n",
    "count_vec.fit(new_modi_reviews[\"Text\"]) # fitting on train data\n",
    "bow_vec=count_vec.transform(df_train_x[\"Text\"]) # vector representation of each review in training\n",
    "test_vec=count_vec.transform(df_test_x[\"Text\"]) # vector representation of each review in testing\n",
    "print(bow_vec.shape,test_vec.shape)"
   ]
  },
  {
   "cell_type": "markdown",
   "metadata": {},
   "source": [
    "1.**The Bi-grams vector representation has 14,67,404 features which means every review isrepresented with 14,67,404features** \n",
    "\n",
    "2.**I used grid search technique to obtain the best alpha value (hyperparameter for naive bayes) and the metric used is \"f1_score\"**"
   ]
  },
  {
   "cell_type": "code",
   "execution_count": 88,
   "metadata": {},
   "outputs": [
    {
     "name": "stderr",
     "output_type": "stream",
     "text": [
      "/home/raviiit121/anaconda3/lib/python3.6/site-packages/sklearn/naive_bayes.py:472: UserWarning: alpha too small will result in numeric errors, setting alpha = 1.0e-10\n",
      "  'setting alpha = %.1e' % _ALPHA_MIN)\n",
      "/home/raviiit121/anaconda3/lib/python3.6/site-packages/sklearn/naive_bayes.py:472: UserWarning: alpha too small will result in numeric errors, setting alpha = 1.0e-10\n",
      "  'setting alpha = %.1e' % _ALPHA_MIN)\n",
      "/home/raviiit121/anaconda3/lib/python3.6/site-packages/sklearn/naive_bayes.py:472: UserWarning: alpha too small will result in numeric errors, setting alpha = 1.0e-10\n",
      "  'setting alpha = %.1e' % _ALPHA_MIN)\n"
     ]
    }
   ],
   "source": [
    "from sklearn.feature_extraction.text import CountVectorizer\n",
    "from sklearn.preprocessing import LabelEncoder\n",
    "from sklearn.model_selection import TimeSeriesSplit\n",
    "lable=LabelEncoder()\n",
    "lable.fit(df_train_y)\n",
    "y=lable.transform(df_train_y)\n",
    "#print(parameters)\n",
    "#parameters=[{'alpha': [0.0001, 0.003, 0.001, 0.03, 0.01, 0.1, 1.1]}]\n",
    "time_cv=TimeSeriesSplit(n_splits=3).split(bow_vec)\n",
    "grid=GridSearchCV(BernoulliNB(),parameters,cv=time_cv,scoring=\"f1\")\n",
    "classification=grid.fit(bow_vec,y)"
   ]
  },
  {
   "cell_type": "code",
   "execution_count": 89,
   "metadata": {},
   "outputs": [
    {
     "name": "stdout",
     "output_type": "stream",
     "text": [
      "BernoulliNB(alpha=6.5, binarize=0.0, class_prior=None, fit_prior=True)\n",
      "0.9410716327084453\n",
      "22\n"
     ]
    },
    {
     "data": {
      "image/png": "[encoded data removed]",
      "text/plain": [
       "<Figure size 1440x360 with 1 Axes>"
      ]
     },
     "metadata": {},
     "output_type": "display_data"
    }
   ],
   "source": [
    "#print(classification.best_score_)\n",
    "#print(classification.best_estimator_)\n",
    "print(classification.best_estimator_)\n",
    "print(classification.best_score_)\n",
    "scores=classification.cv_results_['mean_test_score']\n",
    "#print(scores)\n",
    "plt.figure(figsize=(20,5))\n",
    "plt.xlabel(\"Alpha\")\n",
    "plt.ylabel(\"accuracy\")\n",
    "#plt.xlim(0,1)\n",
    "plt.ylim(0.8,1)\n",
    "plt.xticks(np.linspace(0,20,40))\n",
    "#x=[0.0001,0.003,0.001,0.03,0.01,0.1,1.1]\n",
    "plt.plot(x,scores)\n",
    "index=np.argmax(scores)\n",
    "print(index)\n",
    "plt.plot(x[index], scores[index], 'r*',markersize=14)\n",
    "plt.annotate('maximum at 6.5 ', xy=(x[index], scores[index]), xytext=(6.5, 1),\n",
    "            arrowprops=dict(facecolor='black', shrink=0.05),\n",
    "            )\n",
    "plt.show()\n"
   ]
  },
  {
   "cell_type": "markdown",
   "metadata": {},
   "source": [
    "# Observation\n",
    "**For the alpha=6.5 the model is giving good and the plot is also flat from alpha=1 and there is not much difference in accuracy from alpha=1 to alpha=6  and using high alpha could be results in underfitting the model so Im going to use alpha=1.0 in training naive bayes model.**"
   ]
  },
  {
   "cell_type": "code",
   "execution_count": 92,
   "metadata": {},
   "outputs": [
    {
     "name": "stdout",
     "output_type": "stream",
     "text": [
      "+-----------------+--------------+----------+----------------+\n",
      "| precision_score | recall_score | f1_score | accuracy_score |\n",
      "+-----------------+--------------+----------+----------------+\n",
      "|      0.878      |     0.98     |  0.926   |     0.863      |\n",
      "+-----------------+--------------+----------+----------------+\n"
     ]
    },
    {
     "data": {
      "image/png": "[encoded data removed]",
      "text/plain": [
       "<Figure size 360x360 with 2 Axes>"
      ]
     },
     "metadata": {},
     "output_type": "display_data"
    },
    {
     "name": "stdout",
     "output_type": "stream",
     "text": [
      "Top 30 Important words\n",
      "+-----------+----------+\n",
      "| negative  | positive |\n",
      "+-----------+----------+\n",
      "|   sugar   |  tastes  |\n",
      "+-----------+----------+\n",
      "|   food    |   know   |\n",
      "+-----------+----------+\n",
      "| delicious |  little  |\n",
      "+-----------+----------+\n",
      "|   used    |   didn   |\n",
      "+-----------+----------+\n",
      "|   sweet   |   eat    |\n",
      "+-----------+----------+\n",
      "|  coffee   | ordered  |\n",
      "+-----------+----------+\n",
      "|    eat    |   way    |\n",
      "+-----------+----------+\n",
      "|    try    |    ve    |\n",
      "+-----------+----------+\n",
      "|   price   |   make   |\n",
      "+-----------+----------+\n",
      "|    buy    |   box    |\n",
      "+-----------+----------+\n",
      "|   tried   |   love   |\n",
      "+-----------+----------+\n",
      "|  better   |   food   |\n",
      "+-----------+----------+\n",
      "|    tea    |  great   |\n",
      "+-----------+----------+\n",
      "|   make    |   bad    |\n",
      "+-----------+----------+\n",
      "|    use    |   time   |\n",
      "+-----------+----------+\n",
      "|   time    |   try    |\n",
      "+-----------+----------+\n",
      "|    don    |   did    |\n",
      "+-----------+----------+\n",
      "|  little   |  better  |\n",
      "+-----------+----------+\n",
      "|    ve     |  bought  |\n",
      "+-----------+----------+\n",
      "|  amazon   |  tried   |\n",
      "+-----------+----------+\n",
      "|  really   |  amazon  |\n",
      "+-----------+----------+\n",
      "|   best    |  really  |\n",
      "+-----------+----------+\n",
      "|   love    |   buy    |\n",
      "+-----------+----------+\n",
      "|  product  |   don    |\n",
      "+-----------+----------+\n",
      "|  flavor   |  flavor  |\n",
      "+-----------+----------+\n",
      "|   just    |   good   |\n",
      "+-----------+----------+\n",
      "|   taste   |   just   |\n",
      "+-----------+----------+\n",
      "|   great   | product  |\n",
      "+-----------+----------+\n",
      "|   good    |  taste   |\n",
      "+-----------+----------+\n",
      "|   like    |   like   |\n",
      "+-----------+----------+\n"
     ]
    }
   ],
   "source": [
    "from sklearn.metrics import precision_score,recall_score,f1_score\n",
    "bn=BernoulliNB(alpha=1)\n",
    "bn.fit(bow_vec,df_train_y)\n",
    "op=bn.predict(test_vec)\n",
    "count=op==df_test_y\n",
    "actual=list(map(lambda x: 1 if x=='positive' else 0,df_test_y))\n",
    "predicted=list(map(lambda  x: 1 if x=='positive' else 0,op))\n",
    "\n",
    "#cm=confusion_matrix(df_test_y,op)\n",
    "cm=confusion_matrix(op,df_test_y)\n",
    "dcsummary = pd.DataFrame(cm,index=['negative','positive'],columns=['negative','positive'])\n",
    "from beautifultable import BeautifulTable\n",
    "table=BeautifulTable()\n",
    "table.insert_column(0,\"precision_score\",[precision_score(actual,predicted)])\n",
    "table.insert_column(1,\"recall_score\",[recall_score(actual,predicted)])\n",
    "table.insert_column(2,\"f1_score\",[f1_score(actual,predicted)])\n",
    "table.insert_column(3,\"accuracy_score\",[accuracy_score(actual,predicted)])\n",
    "print(table)\n",
    "heat_plot_bow.append(f1_score(actual,predicted)) # bow_bigrams bernouli\n",
    "\n",
    "\n",
    "\n",
    "plt.figure(figsize=(5,5))\n",
    "sb.heatmap(dcsummary,annot=True, fmt='g')\n",
    "plt.title(\"Bernouli Naive bayes(alpha=0.1)\")\n",
    "plt.xlabel(\"predicted\")\n",
    "plt.ylabel(\"Actual\")\n",
    "plt.show()\n",
    "\n",
    "\n",
    "table=BeautifulTable()\n",
    "words=[count_vec.get_feature_names()[i] for i in bn.feature_log_prob_[1, :].argsort()[-30:] ]\n",
    "table.insert_column(0,\"negative\",words)\n",
    "words=[count_vec.get_feature_names()[i] for i in bn.feature_log_prob_[0, :].argsort()[-30:] ]\n",
    "table.insert_column(1,\"positive\",words)\n",
    "print(\"Top 30 Important words\")\n",
    "print(table)\n"
   ]
  },
  {
   "cell_type": "markdown",
   "metadata": {},
   "source": [
    "# observations\n",
    " 1.**Recall score 98% which indicates that among the total reviews which are labled as positive in testing, 98% are atually positive.** <br>\n",
    " \n",
    " 2.**precision score 88% which indicates that among the total reviews which are positive, 88% are correctly classified as positive.** <br>\n",
    " \n",
    " 3.**The models f1 score is 93% which is doing a good job**."
   ]
  },
  {
   "cell_type": "markdown",
   "metadata": {},
   "source": [
    "**Multinomial naive bayes**"
   ]
  },
  {
   "cell_type": "code",
   "execution_count": 152,
   "metadata": {},
   "outputs": [
    {
     "name": "stderr",
     "output_type": "stream",
     "text": [
      "/home/raviiit121/anaconda3/lib/python3.6/site-packages/sklearn/naive_bayes.py:472: UserWarning: alpha too small will result in numeric errors, setting alpha = 1.0e-10\n",
      "  'setting alpha = %.1e' % _ALPHA_MIN)\n",
      "/home/raviiit121/anaconda3/lib/python3.6/site-packages/sklearn/naive_bayes.py:472: UserWarning: alpha too small will result in numeric errors, setting alpha = 1.0e-10\n",
      "  'setting alpha = %.1e' % _ALPHA_MIN)\n",
      "/home/raviiit121/anaconda3/lib/python3.6/site-packages/sklearn/naive_bayes.py:472: UserWarning: alpha too small will result in numeric errors, setting alpha = 1.0e-10\n",
      "  'setting alpha = %.1e' % _ALPHA_MIN)\n"
     ]
    }
   ],
   "source": [
    "from sklearn.feature_extraction.text import CountVectorizer\n",
    "count_vec=CountVectorizer(ngram_range=(1,2),stop_words=\"english\")\n",
    "count_vec.fit(df_train_x[\"Text\"])\n",
    "bow_vec=count_vec.transform(df_train_x[\"Text\"])\n",
    "test_vec=count_vec.transform(df_test_x[\"Text\"])\n",
    "from sklearn.preprocessing import LabelEncoder\n",
    "from sklearn.model_selection import TimeSeriesSplit\n",
    "lable=LabelEncoder()\n",
    "lable.fit(df_train_y)\n",
    "y=lable.transform(df_train_y)\n",
    "time_cv=TimeSeriesSplit(n_splits=3).split(bow_vec)\n",
    "\n",
    "from sklearn.naive_bayes import MultinomialNB\n",
    "from sklearn.model_selection import GridSearchCV\n",
    "grid=GridSearchCV(MultinomialNB(),parameters,cv=time_cv,scoring=\"f1\")\n",
    "clf=grid.fit(bow_vec,y)"
   ]
  },
  {
   "cell_type": "code",
   "execution_count": 153,
   "metadata": {},
   "outputs": [
    {
     "name": "stdout",
     "output_type": "stream",
     "text": [
      "MultinomialNB(alpha=0.6842105263157894, class_prior=None, fit_prior=True)\n",
      "0.9440471369796336\n",
      "13\n"
     ]
    },
    {
     "data": {
      "image/png": "[encoded data removed]",
      "text/plain": [
       "<Figure size 1440x360 with 1 Axes>"
      ]
     },
     "metadata": {},
     "output_type": "display_data"
    }
   ],
   "source": [
    "#print(clf.best_estimator_)\n",
    "#print(clf.best_score_)\n",
    "\n",
    "print(clf.best_estimator_)\n",
    "print(clf.best_score_)\n",
    "scores=clf.cv_results_['mean_test_score']\n",
    "#print(scores)\n",
    "plt.figure(figsize=(20,5))\n",
    "plt.xlabel(\"Alpha\")\n",
    "plt.ylabel(\"accuracy\")\n",
    "#plt.xlim(0,1)\n",
    "plt.ylim(0.8,1.0)\n",
    "plt.xticks(np.linspace(0,20,40))\n",
    "#x=[0.0001,0.003,0.001,0.03,0.01,0.1,1.1]\n",
    "plt.plot(x,scores)\n",
    "index=np.argmax(scores)\n",
    "print(index)\n",
    "plt.plot(x[index], scores[index], 'r*',markersize=14)\n",
    "plt.annotate('maximum at 0.68 ', xy=(x[index], scores[index]), xytext=(1, 1),\n",
    "            arrowprops=dict(facecolor='black', shrink=0.05),\n",
    "            )\n",
    "plt.show()\n",
    "\n",
    "\n"
   ]
  },
  {
   "cell_type": "markdown",
   "metadata": {},
   "source": [
    "# Observation\n",
    "**For the alpha=0.68 the model is giving good f1 score of 94.4% so Im going to use alpha=0.68 in training naive bayes model.**"
   ]
  },
  {
   "cell_type": "code",
   "execution_count": 98,
   "metadata": {},
   "outputs": [
    {
     "name": "stdout",
     "output_type": "stream",
     "text": [
      "*******\n",
      "[[  280  3464]\n",
      " [   38 26218]]\n",
      "+-----------------+--------------+----------+----------------+\n",
      "| precision_score | recall_score | f1_score | accuracy_score |\n",
      "+-----------------+--------------+----------+----------------+\n",
      "|      0.999      |    0.883     |  0.937   |     0.883      |\n",
      "+-----------------+--------------+----------+----------------+\n"
     ]
    },
    {
     "data": {
      "image/png": "[encoded data removed]",
      "text/plain": [
       "<Figure size 360x360 with 2 Axes>"
      ]
     },
     "metadata": {},
     "output_type": "display_data"
    },
    {
     "name": "stdout",
     "output_type": "stream",
     "text": [
      "Top 30 Important words\n",
      "+-----------+----------+\n",
      "| negative  | positive |\n",
      "+-----------+----------+\n",
      "|   drink   |   way    |\n",
      "+-----------+----------+\n",
      "|   sweet   | ordered  |\n",
      "+-----------+----------+\n",
      "|    try    |  little  |\n",
      "+-----------+----------+\n",
      "|    eat    |    ve    |\n",
      "+-----------+----------+\n",
      "|   price   |  great   |\n",
      "+-----------+----------+\n",
      "| chocolate |   love   |\n",
      "+-----------+----------+\n",
      "|    buy    |   eat    |\n",
      "+-----------+----------+\n",
      "|   sugar   |   make   |\n",
      "+-----------+----------+\n",
      "|   tried   |   bad    |\n",
      "+-----------+----------+\n",
      "|  better   |   try    |\n",
      "+-----------+----------+\n",
      "|   food    |   time   |\n",
      "+-----------+----------+\n",
      "|   make    |  bought  |\n",
      "+-----------+----------+\n",
      "|   time    |  sugar   |\n",
      "+-----------+----------+\n",
      "|    don    |   did    |\n",
      "+-----------+----------+\n",
      "|  little   |  better  |\n",
      "+-----------+----------+\n",
      "|  amazon   |   box    |\n",
      "+-----------+----------+\n",
      "|    use    |  tried   |\n",
      "+-----------+----------+\n",
      "|    ve     |  really  |\n",
      "+-----------+----------+\n",
      "|  really   |   food   |\n",
      "+-----------+----------+\n",
      "|   best    |   buy    |\n",
      "+-----------+----------+\n",
      "|  coffee   |  amazon  |\n",
      "+-----------+----------+\n",
      "|   love    |  coffee  |\n",
      "+-----------+----------+\n",
      "|  product  |   don    |\n",
      "+-----------+----------+\n",
      "|  flavor   |   tea    |\n",
      "+-----------+----------+\n",
      "|   just    |  flavor  |\n",
      "+-----------+----------+\n",
      "|   taste   |   good   |\n",
      "+-----------+----------+\n",
      "|    tea    |   just   |\n",
      "+-----------+----------+\n",
      "|   great   | product  |\n",
      "+-----------+----------+\n",
      "|   good    |  taste   |\n",
      "+-----------+----------+\n",
      "|   like    |   like   |\n",
      "+-----------+----------+\n"
     ]
    }
   ],
   "source": [
    "classification=MultinomialNB(alpha=0.68)\n",
    "clf=classification.fit(bow_vec,df_train_y)\n",
    "op=clf.predict(test_vec)\n",
    "count=op==df_test_y\n",
    "\n",
    "print(\"*******\")\n",
    "#print(\"The accuracy score is \",sum(count)/len(df_test_y)*100)\n",
    "actual=list(map(lambda x: 1 if x=='positive' else 0,df_test_y))\n",
    "predicted=list(map(lambda  x: 1 if x=='positive' else 0,op))\n",
    "cm=confusion_matrix(actual,predicted)\n",
    "dcsummary=pd.DataFrame(cm,index=[\"negative\",\"positive\"],columns=[\"negative\",'positive'])\n",
    "print(cm)\n",
    "from beautifultable import BeautifulTable\n",
    "table=BeautifulTable()\n",
    "table.insert_column(0,\"precision_score\",[precision_score(predicted,actual)])\n",
    "table.insert_column(1,\"recall_score\",[recall_score(predicted,actual)])\n",
    "table.insert_column(2,\"f1_score\",[f1_score(actual,predicted)])\n",
    "table.insert_column(3,\"accuracy_score\",[accuracy_score(actual,predicted)])\n",
    "print(table)\n",
    "\n",
    "heat_plot_bow.append(f1_score(actual,predicted)) # bow_bigrams multinomial\n",
    "\n",
    "\n",
    "\n",
    "\n",
    "plt.figure(figsize=(5,5))\n",
    "sb.heatmap(dcsummary,annot=True, fmt='g')\n",
    "plt.title(\"Naive bayes\")\n",
    "plt.xlabel(\"predicted\")\n",
    "plt.ylabel(\"Actual\")\n",
    "plt.show()\n",
    "\n",
    "table=BeautifulTable()\n",
    "words=[count_vec.get_feature_names()[i] for i in classification.feature_log_prob_[1, :].argsort()[-30:] ]\n",
    "table.insert_column(0,\"negative\",words)\n",
    "words=[count_vec.get_feature_names()[i] for i in clf.feature_log_prob_[0, :].argsort()[-30:] ]\n",
    "table.insert_column(1,\"positive\",words)\n",
    "print(\"Top 30 Important words\")\n",
    "print(table)\n",
    "\n",
    "\n",
    "\n"
   ]
  },
  {
   "cell_type": "markdown",
   "metadata": {},
   "source": [
    "# observations\n",
    " 1.**Recall score 88% which indicates that among the total reviews which are labled as positive in testing, 88% are atually positive.** <br>\n",
    " \n",
    " 2.**precision score 99% which indicates that among the total reviews which are positive, 99% are correctly classified as positive.** <br>\n",
    " \n",
    " 3.**The models f1 score is 94% which is doing a good job**."
   ]
  },
  {
   "cell_type": "markdown",
   "metadata": {},
   "source": [
    "# TF_IDF vectorizer - Unigrams"
   ]
  },
  {
   "cell_type": "markdown",
   "metadata": {},
   "source": [
    "**Bernouli naive bayes**"
   ]
  },
  {
   "cell_type": "code",
   "execution_count": 99,
   "metadata": {},
   "outputs": [
    {
     "name": "stdout",
     "output_type": "stream",
     "text": [
      "(30000, 50580) (70000, 50580)\n"
     ]
    }
   ],
   "source": [
    "from sklearn.feature_extraction.text import TfidfVectorizer\n",
    "tf_idf=TfidfVectorizer(binary=True,stop_words=\"english\")\n",
    "tf_idf_uni=tf_idf.fit(df_train_x[\"Text\"])\n",
    "heat_plot_idf=[]\n",
    "bow_vec=tf_idf_uni.transform(df_train_x[\"Text\"])\n",
    "test_vec=tf_idf_uni.transform(df_test_x[\"Text\"])\n",
    "print(test_vec.shape,bow_vec.shape)"
   ]
  },
  {
   "cell_type": "code",
   "execution_count": 100,
   "metadata": {},
   "outputs": [
    {
     "name": "stderr",
     "output_type": "stream",
     "text": [
      "/home/raviiit121/anaconda3/lib/python3.6/site-packages/sklearn/naive_bayes.py:472: UserWarning: alpha too small will result in numeric errors, setting alpha = 1.0e-10\n",
      "  'setting alpha = %.1e' % _ALPHA_MIN)\n",
      "/home/raviiit121/anaconda3/lib/python3.6/site-packages/sklearn/naive_bayes.py:472: UserWarning: alpha too small will result in numeric errors, setting alpha = 1.0e-10\n",
      "  'setting alpha = %.1e' % _ALPHA_MIN)\n",
      "/home/raviiit121/anaconda3/lib/python3.6/site-packages/sklearn/naive_bayes.py:472: UserWarning: alpha too small will result in numeric errors, setting alpha = 1.0e-10\n",
      "  'setting alpha = %.1e' % _ALPHA_MIN)\n"
     ]
    }
   ],
   "source": [
    "#from sklearn.model_selection import GridSearchCV\n",
    "from sklearn.model_selection import TimeSeriesSplit\n",
    "from sklearn.preprocessing import LabelEncoder\n",
    "time_cv=TimeSeriesSplit(n_splits=3).split(bow_vec)\n",
    "lable=LabelEncoder()\n",
    "lable.fit(df_train_y)\n",
    "y=lable.transform(df_train_y)\n",
    "grid=GridSearchCV(BernoulliNB(),parameters,cv=time_cv,scoring=\"f1\")\n",
    "clf=grid.fit(bow_vec,y)"
   ]
  },
  {
   "cell_type": "code",
   "execution_count": 103,
   "metadata": {},
   "outputs": [
    {
     "name": "stdout",
     "output_type": "stream",
     "text": [
      "BernoulliNB(alpha=20.0, binarize=0.0, class_prior=None, fit_prior=True)\n",
      "0.9409027369318246\n",
      "28\n"
     ]
    },
    {
     "data": {
      "image/png": "[encoded data removed]",
      "text/plain": [
       "<Figure size 1440x360 with 1 Axes>"
      ]
     },
     "metadata": {},
     "output_type": "display_data"
    }
   ],
   "source": [
    "#print(clf.best_estimator_)\n",
    "#print(clf.best_score_)\n",
    "print(clf.best_estimator_)\n",
    "print(clf.best_score_)\n",
    "scores=clf.cv_results_['mean_test_score']\n",
    "#print(scores)\n",
    "plt.figure(figsize=(20,5))\n",
    "plt.xlabel(\"Alpha\")\n",
    "plt.ylabel(\"accuracy\")\n",
    "#plt.xlim(0,1)\n",
    "plt.ylim(0.9,1.0)\n",
    "plt.xticks(np.linspace(0,20,40))\n",
    "#x=[0.0001,0.003,0.001,0.03,0.01,0.1,1.1]\n",
    "plt.plot(x,scores)\n",
    "index=np.argmax(scores)\n",
    "print(index)\n",
    "plt.plot(x[index], scores[index], 'r*',markersize=14)\n",
    "plt.annotate('maximum at 20 ', xy=(x[index], scores[index]), xytext=(20, 0.98),\n",
    "            arrowprops=dict(facecolor='black', shrink=0.05),\n",
    "            )\n",
    "plt.show()\n"
   ]
  },
  {
   "cell_type": "markdown",
   "metadata": {},
   "source": [
    "# Observation\n",
    "**However highest accuracy occuring at alpha=20 and there is no significant changei accuracy fom alpha=1to alpha=20  so Im going to use alpha=1.1 in training naive bayes model.**"
   ]
  },
  {
   "cell_type": "code",
   "execution_count": 104,
   "metadata": {},
   "outputs": [
    {
     "name": "stdout",
     "output_type": "stream",
     "text": [
      "+-----------------+--------------+----------+----------------+\n",
      "| precision_score | recall_score | f1_score | accuracy_score |\n",
      "+-----------------+--------------+----------+----------------+\n",
      "|      0.962      |    0.911     |  0.936   |     0.885      |\n",
      "+-----------------+--------------+----------+----------------+\n"
     ]
    },
    {
     "data": {
      "image/png": "[encoded data removed]",
      "text/plain": [
       "<Figure size 360x360 with 2 Axes>"
      ]
     },
     "metadata": {},
     "output_type": "display_data"
    },
    {
     "name": "stdout",
     "output_type": "stream",
     "text": [
      "Top 30 Important words\n",
      "+-----------+----------+\n",
      "| negative  | positive |\n",
      "+-----------+----------+\n",
      "|   sugar   |  tastes  |\n",
      "+-----------+----------+\n",
      "|   food    |   know   |\n",
      "+-----------+----------+\n",
      "| delicious |  little  |\n",
      "+-----------+----------+\n",
      "|   used    |   didn   |\n",
      "+-----------+----------+\n",
      "|   sweet   |   eat    |\n",
      "+-----------+----------+\n",
      "|  coffee   | ordered  |\n",
      "+-----------+----------+\n",
      "|    eat    |   way    |\n",
      "+-----------+----------+\n",
      "|    try    |    ve    |\n",
      "+-----------+----------+\n",
      "|   price   |   make   |\n",
      "+-----------+----------+\n",
      "|    buy    |   box    |\n",
      "+-----------+----------+\n",
      "|   tried   |   love   |\n",
      "+-----------+----------+\n",
      "|  better   |   food   |\n",
      "+-----------+----------+\n",
      "|    tea    |  great   |\n",
      "+-----------+----------+\n",
      "|   make    |   bad    |\n",
      "+-----------+----------+\n",
      "|    use    |   time   |\n",
      "+-----------+----------+\n",
      "|   time    |   try    |\n",
      "+-----------+----------+\n",
      "|    don    |   did    |\n",
      "+-----------+----------+\n",
      "|  little   |  better  |\n",
      "+-----------+----------+\n",
      "|    ve     |  bought  |\n",
      "+-----------+----------+\n",
      "|  amazon   |  tried   |\n",
      "+-----------+----------+\n",
      "|  really   |  amazon  |\n",
      "+-----------+----------+\n",
      "|   best    |  really  |\n",
      "+-----------+----------+\n",
      "|   love    |   buy    |\n",
      "+-----------+----------+\n",
      "|  product  |   don    |\n",
      "+-----------+----------+\n",
      "|  flavor   |  flavor  |\n",
      "+-----------+----------+\n",
      "|   just    |   good   |\n",
      "+-----------+----------+\n",
      "|   taste   |   just   |\n",
      "+-----------+----------+\n",
      "|   great   | product  |\n",
      "+-----------+----------+\n",
      "|   good    |  taste   |\n",
      "+-----------+----------+\n",
      "|   like    |   like   |\n",
      "+-----------+----------+\n"
     ]
    }
   ],
   "source": [
    "nb=BernoulliNB(alpha=1.1)\n",
    "classification=nb.fit(bow_vec,df_train_y)\n",
    "op=classification.predict(test_vec)\n",
    "count=op==df_test_y\n",
    "actual=list(map(lambda x: 1 if x=='positive' else 0,df_test_y))\n",
    "predicted=list(map(lambda  x: 1 if x=='positive' else 0,op))\n",
    "from beautifultable import BeautifulTable\n",
    "table=BeautifulTable()\n",
    "table.insert_column(0,\"precision_score\",[precision_score(predicted,actual)])\n",
    "table.insert_column(1,\"recall_score\",[recall_score(predicted,actual)])\n",
    "table.insert_column(2,\"f1_score\",[f1_score(actual,predicted)])\n",
    "table.insert_column(3,\"accuracy_score\",[accuracy_score(actual,predicted)])\n",
    "print(table)\n",
    "heat_plot_idf.append(f1_score(actual,predicted))\n",
    "cm=confusion_matrix(actual,predicted)\n",
    "csummary=pd.DataFrame(cm,index=[\"negative\",\"positve\"],columns=[\"negative\",\"positive\"])\n",
    "\n",
    "plt.figure(figsize=(5,5))\n",
    "sb.heatmap(csummary,annot=True, fmt='g')\n",
    "plt.title(\"Naive bayes\")\n",
    "plt.xlabel(\"predicted\")\n",
    "plt.ylabel(\"Actual\")\n",
    "plt.show()\n",
    "\n",
    "table=BeautifulTable()\n",
    "words=[tf_idf.get_feature_names()[i] for i in nb.feature_log_prob_[1, :].argsort()[-30:] ]\n",
    "table.insert_column(0,\"negative\",words)\n",
    "words=[tf_idf.get_feature_names()[i] for i in nb.feature_log_prob_[0, :].argsort()[-30:] ]\n",
    "table.insert_column(1,\"positive\",words)\n",
    "print(\"Top 30 Important words\")\n",
    "print(table)\n",
    "\n",
    "\n"
   ]
  },
  {
   "cell_type": "markdown",
   "metadata": {},
   "source": [
    "# observations\n",
    " 1.**Recall score 91% which indicates that among the total reviews which are labled as positive in testing, 91% are atually positive.** <br>\n",
    " \n",
    " 2.**precision score 96% which indicates that among the total reviews which are positive, 96% are correctly classified as positive.** <br>\n",
    " \n",
    " 3.**The models f1 score is 94% which is doing a good job**."
   ]
  },
  {
   "cell_type": "markdown",
   "metadata": {},
   "source": [
    "**Mulitinomial naive bayes**"
   ]
  },
  {
   "cell_type": "code",
   "execution_count": 105,
   "metadata": {},
   "outputs": [
    {
     "name": "stdout",
     "output_type": "stream",
     "text": [
      "(30000, 50580) (70000, 50580)\n"
     ]
    },
    {
     "name": "stderr",
     "output_type": "stream",
     "text": [
      "/home/raviiit121/anaconda3/lib/python3.6/site-packages/sklearn/naive_bayes.py:472: UserWarning: alpha too small will result in numeric errors, setting alpha = 1.0e-10\n",
      "  'setting alpha = %.1e' % _ALPHA_MIN)\n",
      "/home/raviiit121/anaconda3/lib/python3.6/site-packages/sklearn/naive_bayes.py:472: UserWarning: alpha too small will result in numeric errors, setting alpha = 1.0e-10\n",
      "  'setting alpha = %.1e' % _ALPHA_MIN)\n",
      "/home/raviiit121/anaconda3/lib/python3.6/site-packages/sklearn/naive_bayes.py:472: UserWarning: alpha too small will result in numeric errors, setting alpha = 1.0e-10\n",
      "  'setting alpha = %.1e' % _ALPHA_MIN)\n"
     ]
    }
   ],
   "source": [
    "from sklearn.feature_extraction.text import TfidfVectorizer\n",
    "tf_idf=TfidfVectorizer(stop_words=\"english\")\n",
    "tf_idf_uni=tf_idf.fit(df_train_x[\"Text\"])\n",
    "bow_vec=tf_idf_uni.transform(df_train_x[\"Text\"])\n",
    "test_vec=tf_idf_uni.transform(df_test_x[\"Text\"])\n",
    "print(test_vec.shape,bow_vec.shape)\n",
    "from sklearn.model_selection import TimeSeriesSplit\n",
    "time_cv=TimeSeriesSplit(n_splits=3).split(bow_vec)\n",
    "grid=GridSearchCV(MultinomialNB(),parameters,cv=time_cv,scoring=\"f1\")\n",
    "clf=grid.fit(bow_vec,y) "
   ]
  },
  {
   "cell_type": "code",
   "execution_count": 108,
   "metadata": {},
   "outputs": [
    {
     "name": "stdout",
     "output_type": "stream",
     "text": [
      "MultinomialNB(alpha=0.05263157894736842, class_prior=None, fit_prior=True)\n",
      "0.9440310247617427\n",
      "1\n"
     ]
    },
    {
     "data": {
      "image/png": "[encoded data removed]",
      "text/plain": [
       "<Figure size 1440x360 with 1 Axes>"
      ]
     },
     "metadata": {},
     "output_type": "display_data"
    }
   ],
   "source": [
    "print(clf.best_estimator_)\n",
    "print(clf.best_score_)\n",
    "\n",
    "#print(classification.best_estimator_)\n",
    "#print(classification.best_score_)\n",
    "scores=clf.cv_results_['mean_test_score']\n",
    "#print(scores)\n",
    "plt.figure(figsize=(20,5))\n",
    "plt.xlabel(\"Alpha\")\n",
    "plt.ylabel(\"accuracy\")\n",
    "#plt.xlim(0,1)\n",
    "plt.ylim(0.9,1)\n",
    "plt.xticks(np.linspace(0,20,40))\n",
    "#x=[0.0001,0.003,0.001,0.03,0.01,0.1,1]\n",
    "plt.plot(x,scores)\n",
    "index=np.argmax(scores)\n",
    "print(index)\n",
    "plt.plot(x[index], scores[index], 'r*',markersize=14)\n",
    "plt.annotate('maximum at 0.05 ', xy=(x[index], scores[index]), xytext=(1, 0.96),\n",
    "            arrowprops=dict(facecolor='black', shrink=0.05),\n",
    "            )\n",
    "plt.show()\n",
    "\n",
    "\n"
   ]
  },
  {
   "cell_type": "code",
   "execution_count": 109,
   "metadata": {},
   "outputs": [
    {
     "name": "stdout",
     "output_type": "stream",
     "text": [
      "+-----------------+--------------+----------+----------------+\n",
      "| precision_score | recall_score | f1_score | accuracy_score |\n",
      "+-----------------+--------------+----------+----------------+\n",
      "|      0.995      |     0.89     |   0.94   |     0.888      |\n",
      "+-----------------+--------------+----------+----------------+\n"
     ]
    },
    {
     "data": {
      "image/png": "[encoded data removed]",
      "text/plain": [
       "<Figure size 360x360 with 2 Axes>"
      ]
     },
     "metadata": {},
     "output_type": "display_data"
    },
    {
     "name": "stdout",
     "output_type": "stream",
     "text": [
      "Top 30 Important words\n",
      "+-----------+--------------+\n",
      "| negative  |   positive   |\n",
      "+-----------+--------------+\n",
      "|   sweet   |     try      |\n",
      "+-----------+--------------+\n",
      "|   free    |    sugar     |\n",
      "+-----------+--------------+\n",
      "| delicious |  chocolate   |\n",
      "+-----------+--------------+\n",
      "|   food    |     eat      |\n",
      "+-----------+--------------+\n",
      "|    eat    |    tastes    |\n",
      "+-----------+--------------+\n",
      "|   sugar   |    order     |\n",
      "+-----------+--------------+\n",
      "|   tried   |    better    |\n",
      "+-----------+--------------+\n",
      "|    don    |   thought    |\n",
      "+-----------+--------------+\n",
      "|  better   |     didn     |\n",
      "+-----------+--------------+\n",
      "|   make    |   ordered    |\n",
      "+-----------+--------------+\n",
      "| chocolate | disappointed |\n",
      "+-----------+--------------+\n",
      "|    buy    |    money     |\n",
      "+-----------+--------------+\n",
      "|   time    |     food     |\n",
      "+-----------+--------------+\n",
      "|  little   |    tried     |\n",
      "+-----------+--------------+\n",
      "|    use    |    really    |\n",
      "+-----------+--------------+\n",
      "|    ve     |    amazon    |\n",
      "+-----------+--------------+\n",
      "|   price   |    bought    |\n",
      "+-----------+--------------+\n",
      "|  amazon   |     bad      |\n",
      "+-----------+--------------+\n",
      "|  really   |     box      |\n",
      "+-----------+--------------+\n",
      "|   best    |     did      |\n",
      "+-----------+--------------+\n",
      "|  coffee   |     don      |\n",
      "+-----------+--------------+\n",
      "|  flavor   |     buy      |\n",
      "+-----------+--------------+\n",
      "|   just    |    coffee    |\n",
      "+-----------+--------------+\n",
      "|   love    |     tea      |\n",
      "+-----------+--------------+\n",
      "|  product  |     good     |\n",
      "+-----------+--------------+\n",
      "|   taste   |    flavor    |\n",
      "+-----------+--------------+\n",
      "|   like    |     just     |\n",
      "+-----------+--------------+\n",
      "|   good    |   product    |\n",
      "+-----------+--------------+\n",
      "|    tea    |    taste     |\n",
      "+-----------+--------------+\n",
      "|   great   |     like     |\n",
      "+-----------+--------------+\n"
     ]
    }
   ],
   "source": [
    "nb=MultinomialNB(alpha=0.0526)\n",
    "classification=nb.fit(bow_vec,df_train_y)\n",
    "op=classification.predict(test_vec)\n",
    "count=op==df_test_y\n",
    "actual=list(map(lambda x: 1 if x=='positive' else 0,df_test_y))\n",
    "predicted=list(map(lambda  x: 1 if x=='positive' else 0,op))\n",
    "\n",
    "from beautifultable import BeautifulTable\n",
    "table=BeautifulTable()\n",
    "table.insert_column(0,\"precision_score\",[precision_score(predicted,actual)])\n",
    "table.insert_column(1,\"recall_score\",[recall_score(predicted,actual)])\n",
    "table.insert_column(2,\"f1_score\",[f1_score(actual,predicted)])\n",
    "table.insert_column(3,\"accuracy_score\",[accuracy_score(actual,predicted)])\n",
    "print(table)\n",
    "heat_plot_idf.append(f1_score(actual,predicted))\n",
    "cm=confusion_matrix(actual,predicted)\n",
    "csummary=pd.DataFrame(cm,index=[\"negative\",\"positve\"],columns=[\"negative\",\"positive\"])\n",
    "plt.figure(figsize=(5,5))\n",
    "sb.heatmap(csummary,annot=True, fmt='g')\n",
    "plt.title(\"Naive bayes\")\n",
    "plt.xlabel(\"predicted\")\n",
    "plt.ylabel(\"Actual\")\n",
    "plt.show()\n",
    "\n",
    "table=BeautifulTable()\n",
    "words=[tf_idf.get_feature_names()[i] for i in nb.feature_log_prob_[1, :].argsort()[-30:] ]\n",
    "table.insert_column(0,\"negative\",words)\n",
    "words=[tf_idf.get_feature_names()[i] for i in nb.feature_log_prob_[0, :].argsort()[-30:] ]\n",
    "table.insert_column(1,\"positive\",words)\n",
    "print(\"Top 30 Important words\")\n",
    "print(table)\n"
   ]
  },
  {
   "cell_type": "markdown",
   "metadata": {},
   "source": [
    "# observations\n",
    " 1.**Recall score 89% which indicates that among the total reviews which are labled as positive in testing, 89% are atually positive.** <br>\n",
    " \n",
    " 2.**precision score 99% which indicates that among the total reviews which are positive, 99% are correctly classified as positive.** <br>\n",
    " \n",
    " 3.**The models f1 score is 94% which is doing a good job**."
   ]
  },
  {
   "cell_type": "markdown",
   "metadata": {},
   "source": [
    "# TF_IDF Bigrams "
   ]
  },
  {
   "cell_type": "markdown",
   "metadata": {},
   "source": [
    "**Bernouli naive bayes**"
   ]
  },
  {
   "cell_type": "code",
   "execution_count": 110,
   "metadata": {},
   "outputs": [
    {
     "name": "stdout",
     "output_type": "stream",
     "text": [
      "(70000, 1106200) (30000, 1106200)\n"
     ]
    }
   ],
   "source": [
    "tf_idf=TfidfVectorizer(ngram_range=(1,2),binary=True,stop_words=\"english\")\n",
    "tf_idf_bi=tf_idf.fit(df_train_x[\"Text\"])\n",
    "bow_vec=tf_idf_bi.transform(df_train_x[\"Text\"])\n",
    "test_vec=tf_idf_bi.transform(df_test_x[\"Text\"])\n",
    "print(bow_vec.shape,test_vec.shape)"
   ]
  },
  {
   "cell_type": "code",
   "execution_count": 111,
   "metadata": {},
   "outputs": [
    {
     "name": "stderr",
     "output_type": "stream",
     "text": [
      "/home/raviiit121/anaconda3/lib/python3.6/site-packages/sklearn/naive_bayes.py:472: UserWarning: alpha too small will result in numeric errors, setting alpha = 1.0e-10\n",
      "  'setting alpha = %.1e' % _ALPHA_MIN)\n",
      "/home/raviiit121/anaconda3/lib/python3.6/site-packages/sklearn/naive_bayes.py:472: UserWarning: alpha too small will result in numeric errors, setting alpha = 1.0e-10\n",
      "  'setting alpha = %.1e' % _ALPHA_MIN)\n",
      "/home/raviiit121/anaconda3/lib/python3.6/site-packages/sklearn/naive_bayes.py:472: UserWarning: alpha too small will result in numeric errors, setting alpha = 1.0e-10\n",
      "  'setting alpha = %.1e' % _ALPHA_MIN)\n",
      "/home/raviiit121/anaconda3/lib/python3.6/site-packages/sklearn/naive_bayes.py:472: UserWarning: alpha too small will result in numeric errors, setting alpha = 1.0e-10\n",
      "  'setting alpha = %.1e' % _ALPHA_MIN)\n"
     ]
    }
   ],
   "source": [
    "from sklearn.model_selection import TimeSeriesSplit\n",
    "time_cv=TimeSeriesSplit(n_splits=4).split(bow_vec)\n",
    "grid=GridSearchCV(BernoulliNB(),parameters,cv=time_cv,scoring=\"f1\")\n",
    "clf=grid.fit(bow_vec,y)"
   ]
  },
  {
   "cell_type": "code",
   "execution_count": 113,
   "metadata": {},
   "outputs": [
    {
     "name": "stdout",
     "output_type": "stream",
     "text": [
      "BernoulliNB(alpha=8.75, binarize=0.0, class_prior=None, fit_prior=True)\n",
      "0.9416796115281989\n",
      "23\n"
     ]
    },
    {
     "data": {
      "image/png": "[encoded data removed]",
      "text/plain": [
       "<Figure size 1440x360 with 1 Axes>"
      ]
     },
     "metadata": {},
     "output_type": "display_data"
    }
   ],
   "source": [
    "print(clf.best_estimator_)\n",
    "print(clf.best_score_)\n",
    "#print(classification.best_estimator_)\n",
    "#print(classification.best_score_)\n",
    "scores=clf.cv_results_['mean_test_score']\n",
    "#print(scores)\n",
    "plt.figure(figsize=(20,5))\n",
    "plt.xlabel(\"Alpha\")\n",
    "plt.ylabel(\"accuracy\")\n",
    "#plt.xlim(0,1)\n",
    "plt.ylim(0.8,1)\n",
    "plt.xticks(np.linspace(0,20,40))\n",
    "#x=[0.0001,0.003,0.001,0.03,0.01,0.1,1.1,2,3,4,5,6,10]\n",
    "plt.plot(x,scores)\n",
    "index=np.argmax(scores)\n",
    "print(index)\n",
    "plt.plot(x[index], scores[index], 'r*',markersize=14)\n",
    "plt.annotate('maximum at 8.75 ', xy=(x[index], scores[index]), xytext=(9, 0.975),\n",
    "            arrowprops=dict(facecolor='black', shrink=0.05),\n",
    "            )\n",
    "plt.show()\n"
   ]
  },
  {
   "cell_type": "markdown",
   "metadata": {},
   "source": [
    "# observation\n",
    "**Eventhough high accuracy occuring at alpha=8.75 but plot is steady from alpha=1 and there is no significant chenage inaccracy from alpha=1 to alpha=9 and using high alpha could be results in underfitting so im going to using alpha = 1 in training.**"
   ]
  },
  {
   "cell_type": "code",
   "execution_count": 115,
   "metadata": {},
   "outputs": [
    {
     "name": "stdout",
     "output_type": "stream",
     "text": [
      "+-----------------+--------------+----------+----------------+\n",
      "| precision_score | recall_score | f1_score | accuracy_score |\n",
      "+-----------------+--------------+----------+----------------+\n",
      "|      0.999      |    0.876     |  0.933   |     0.875      |\n",
      "+-----------------+--------------+----------+----------------+\n"
     ]
    },
    {
     "data": {
      "image/png": "[encoded data removed]",
      "text/plain": [
       "<Figure size 360x360 with 2 Axes>"
      ]
     },
     "metadata": {},
     "output_type": "display_data"
    },
    {
     "name": "stdout",
     "output_type": "stream",
     "text": [
      "Top 30 Important words\n",
      "+-----------+----------+\n",
      "| negative  | positive |\n",
      "+-----------+----------+\n",
      "|   sugar   |  tastes  |\n",
      "+-----------+----------+\n",
      "|   food    |   know   |\n",
      "+-----------+----------+\n",
      "| delicious |  little  |\n",
      "+-----------+----------+\n",
      "|   used    |   didn   |\n",
      "+-----------+----------+\n",
      "|   sweet   |   eat    |\n",
      "+-----------+----------+\n",
      "|  coffee   | ordered  |\n",
      "+-----------+----------+\n",
      "|    eat    |   way    |\n",
      "+-----------+----------+\n",
      "|    try    |    ve    |\n",
      "+-----------+----------+\n",
      "|   price   |   make   |\n",
      "+-----------+----------+\n",
      "|    buy    |   box    |\n",
      "+-----------+----------+\n",
      "|   tried   |   love   |\n",
      "+-----------+----------+\n",
      "|  better   |   food   |\n",
      "+-----------+----------+\n",
      "|    tea    |  great   |\n",
      "+-----------+----------+\n",
      "|   make    |   bad    |\n",
      "+-----------+----------+\n",
      "|    use    |   time   |\n",
      "+-----------+----------+\n",
      "|   time    |   try    |\n",
      "+-----------+----------+\n",
      "|    don    |   did    |\n",
      "+-----------+----------+\n",
      "|  little   |  better  |\n",
      "+-----------+----------+\n",
      "|    ve     |  bought  |\n",
      "+-----------+----------+\n",
      "|  amazon   |  tried   |\n",
      "+-----------+----------+\n",
      "|  really   |  amazon  |\n",
      "+-----------+----------+\n",
      "|   best    |  really  |\n",
      "+-----------+----------+\n",
      "|   love    |   buy    |\n",
      "+-----------+----------+\n",
      "|  product  |   don    |\n",
      "+-----------+----------+\n",
      "|  flavor   |  flavor  |\n",
      "+-----------+----------+\n",
      "|   just    |   good   |\n",
      "+-----------+----------+\n",
      "|   taste   |   just   |\n",
      "+-----------+----------+\n",
      "|   great   | product  |\n",
      "+-----------+----------+\n",
      "|   good    |  taste   |\n",
      "+-----------+----------+\n",
      "|   like    |   like   |\n",
      "+-----------+----------+\n"
     ]
    }
   ],
   "source": [
    "nb=BernoulliNB(alpha=1)\n",
    "classification=nb.fit(bow_vec,df_train_y)\n",
    "op=classification.predict(test_vec)\n",
    "count=op==df_test_y\n",
    "actual=list(map(lambda x: 1 if x=='positive' else 0,df_test_y))\n",
    "predicted=list(map(lambda  x: 1 if x=='positive' else 0,op))\n",
    "com=confusion_matrix(actual,predicted)\n",
    "from beautifultable import BeautifulTable\n",
    "table=BeautifulTable()\n",
    "table.insert_column(0,\"precision_score\",[precision_score(predicted,actual)])\n",
    "table.insert_column(1,\"recall_score\",[recall_score(predicted,actual)])\n",
    "table.insert_column(2,\"f1_score\",[f1_score(actual,predicted)])\n",
    "table.insert_column(3,\"accuracy_score\",[accuracy_score(actual,predicted)])\n",
    "print(table)\n",
    "heat_plot_idf.append(f1_score(actual,predicted))\n",
    "cm=confusion_matrix(actual,predicted)\n",
    "csummary=pd.DataFrame(cm,index=[\"negative\",\"positve\"],columns=[\"negative\",\"positive\"])\n",
    "\n",
    "plt.figure(figsize=(5,5))\n",
    "sb.heatmap(csummary,annot=True, fmt='g')\n",
    "plt.title(\"Naive bayes\")\n",
    "plt.xlabel(\"predicted\")\n",
    "plt.ylabel(\"Actual\")\n",
    "plt.show()\n",
    "\n",
    "\n",
    "table=BeautifulTable()\n",
    "words=[tf_idf.get_feature_names()[i] for i in nb.feature_log_prob_[1, :].argsort()[-30:] ]\n",
    "table.insert_column(0,\"negative\",words)\n",
    "words=[tf_idf.get_feature_names()[i] for i in nb.feature_log_prob_[0, :].argsort()[-30:] ]\n",
    "table.insert_column(1,\"positive\",words)\n",
    "print(\"Top 30 Important words\")\n",
    "print(table)\n",
    "\n",
    "\n",
    "\n",
    "\n",
    "\n",
    "\n"
   ]
  },
  {
   "cell_type": "markdown",
   "metadata": {},
   "source": [
    "# observations\n",
    " 1.**Recall score 87.6% which indicates that among the total reviews which are labled as positive in testing, 87.6% are atually positive.** <br>\n",
    " \n",
    " 2.**precision score 99% which indicates that among the total reviews which are positive, 99% are correctly classified as positive.** <br>\n",
    " \n",
    " 3.**The models f1 score is 93% which is doing a good job**."
   ]
  },
  {
   "cell_type": "markdown",
   "metadata": {},
   "source": [
    "**Multinomial naive bayes** "
   ]
  },
  {
   "cell_type": "code",
   "execution_count": 116,
   "metadata": {},
   "outputs": [
    {
     "name": "stdout",
     "output_type": "stream",
     "text": [
      "(30000, 1106200) (70000, 1106200)\n"
     ]
    },
    {
     "name": "stderr",
     "output_type": "stream",
     "text": [
      "/home/raviiit121/anaconda3/lib/python3.6/site-packages/sklearn/naive_bayes.py:472: UserWarning: alpha too small will result in numeric errors, setting alpha = 1.0e-10\n",
      "  'setting alpha = %.1e' % _ALPHA_MIN)\n",
      "/home/raviiit121/anaconda3/lib/python3.6/site-packages/sklearn/naive_bayes.py:472: UserWarning: alpha too small will result in numeric errors, setting alpha = 1.0e-10\n",
      "  'setting alpha = %.1e' % _ALPHA_MIN)\n",
      "/home/raviiit121/anaconda3/lib/python3.6/site-packages/sklearn/naive_bayes.py:472: UserWarning: alpha too small will result in numeric errors, setting alpha = 1.0e-10\n",
      "  'setting alpha = %.1e' % _ALPHA_MIN)\n",
      "/home/raviiit121/anaconda3/lib/python3.6/site-packages/sklearn/naive_bayes.py:472: UserWarning: alpha too small will result in numeric errors, setting alpha = 1.0e-10\n",
      "  'setting alpha = %.1e' % _ALPHA_MIN)\n"
     ]
    }
   ],
   "source": [
    "from sklearn.feature_extraction.text import TfidfVectorizer\n",
    "from sklearn.model_selection import TimeSeriesSplit\n",
    "tf_idf=TfidfVectorizer(ngram_range=(1,2),stop_words=\"english\")\n",
    "tf_idf_uni=tf_idf.fit(df_train_x[\"Text\"])\n",
    "bow_vec=tf_idf_uni.transform(df_train_x[\"Text\"])\n",
    "test_vec=tf_idf_uni.transform(df_test_x[\"Text\"])\n",
    "print(test_vec.shape,bow_vec.shape)\n",
    "time_cv=TimeSeriesSplit(n_splits=4).split(bow_vec)\n",
    "grid=GridSearchCV(MultinomialNB(),parameters,cv=time_cv,scoring=\"f1\")\n",
    "clf=grid.fit(bow_vec,y)"
   ]
  },
  {
   "cell_type": "code",
   "execution_count": 118,
   "metadata": {},
   "outputs": [
    {
     "name": "stdout",
     "output_type": "stream",
     "text": [
      "MultinomialNB(alpha=0.10526315789473684, class_prior=None, fit_prior=True)\n",
      "0.9428248288109519\n",
      "2\n"
     ]
    },
    {
     "data": {
      "image/png": "[encoded data removed]",
      "text/plain": [
       "<Figure size 1440x360 with 1 Axes>"
      ]
     },
     "metadata": {},
     "output_type": "display_data"
    }
   ],
   "source": [
    "print(clf.best_estimator_)\n",
    "print(clf.best_score_)\n",
    "scores=clf.cv_results_['mean_test_score']\n",
    "#print(scores)\n",
    "plt.figure(figsize=(20,5))\n",
    "plt.xlabel(\"Alpha\")\n",
    "plt.ylabel(\"accuracy\")\n",
    "#plt.xlim(0,1)\n",
    "plt.ylim(0.9,0.96)\n",
    "plt.xticks(np.linspace(0,20,40))\n",
    "#x=np.linspace(0,1,100)\n",
    "x=np.append(np.linspace(0,1,20),np.linspace(2,20,9))\n",
    "plt.plot(x,scores)\n",
    "index=np.argmax(scores)\n",
    "print(index)\n",
    "plt.plot(x[index], scores[index], 'r*',markersize=14)\n",
    "plt.annotate('maximum at 0.1 ', xy=(x[index], scores[index]), xytext=(0, 0.95),\n",
    "            arrowprops=dict(facecolor='black', shrink=0.05),\n",
    "            )\n",
    "plt.show()\n"
   ]
  },
  {
   "cell_type": "code",
   "execution_count": 119,
   "metadata": {},
   "outputs": [
    {
     "name": "stdout",
     "output_type": "stream",
     "text": [
      "+-----------------+--------------+----------+----------------+\n",
      "| precision_score | recall_score | f1_score | accuracy_score |\n",
      "+-----------------+--------------+----------+----------------+\n",
      "|       1.0       |    0.877     |  0.934   |     0.877      |\n",
      "+-----------------+--------------+----------+----------------+\n"
     ]
    },
    {
     "data": {
      "image/png": "[encoded data removed]",
      "text/plain": [
       "<Figure size 360x360 with 2 Axes>"
      ]
     },
     "metadata": {},
     "output_type": "display_data"
    },
    {
     "name": "stdout",
     "output_type": "stream",
     "text": [
      "Top 30 Important words\n",
      "+-----------+--------------+\n",
      "| negative  |   positive   |\n",
      "+-----------+--------------+\n",
      "|   sweet   |     try      |\n",
      "+-----------+--------------+\n",
      "|   free    |     eat      |\n",
      "+-----------+--------------+\n",
      "| delicious |  chocolate   |\n",
      "+-----------+--------------+\n",
      "|    eat    |    tastes    |\n",
      "+-----------+--------------+\n",
      "|   sugar   |    sugar     |\n",
      "+-----------+--------------+\n",
      "|   food    |    order     |\n",
      "+-----------+--------------+\n",
      "|   tried   |   thought    |\n",
      "+-----------+--------------+\n",
      "|    don    |    better    |\n",
      "+-----------+--------------+\n",
      "|  better   |     didn     |\n",
      "+-----------+--------------+\n",
      "|    buy    | disappointed |\n",
      "+-----------+--------------+\n",
      "|   make    |    money     |\n",
      "+-----------+--------------+\n",
      "| chocolate |   ordered    |\n",
      "+-----------+--------------+\n",
      "|   time    |    tried     |\n",
      "+-----------+--------------+\n",
      "|  little   |     food     |\n",
      "+-----------+--------------+\n",
      "|   price   |    really    |\n",
      "+-----------+--------------+\n",
      "|    ve     |    bought    |\n",
      "+-----------+--------------+\n",
      "|    use    |     bad      |\n",
      "+-----------+--------------+\n",
      "|  amazon   |    amazon    |\n",
      "+-----------+--------------+\n",
      "|  really   |     box      |\n",
      "+-----------+--------------+\n",
      "|   best    |     did      |\n",
      "+-----------+--------------+\n",
      "|  coffee   |     don      |\n",
      "+-----------+--------------+\n",
      "|  flavor   |     buy      |\n",
      "+-----------+--------------+\n",
      "|   just    |    coffee    |\n",
      "+-----------+--------------+\n",
      "|   love    |     good     |\n",
      "+-----------+--------------+\n",
      "|  product  |     tea      |\n",
      "+-----------+--------------+\n",
      "|   taste   |    flavor    |\n",
      "+-----------+--------------+\n",
      "|   like    |     just     |\n",
      "+-----------+--------------+\n",
      "|   good    |    taste     |\n",
      "+-----------+--------------+\n",
      "|   great   |   product    |\n",
      "+-----------+--------------+\n",
      "|    tea    |     like     |\n",
      "+-----------+--------------+\n"
     ]
    }
   ],
   "source": [
    "nb=MultinomialNB(alpha=0.10)\n",
    "classification=nb.fit(bow_vec,df_train_y)\n",
    "op=classification.predict(test_vec)\n",
    "count=op==df_test_y\n",
    "actual=list(map(lambda x: 1 if x=='positive' else 0,df_test_y))\n",
    "predicted=list(map(lambda  x: 1 if x=='positive' else 0,op))\n",
    "\n",
    "from beautifultable import BeautifulTable\n",
    "table=BeautifulTable()\n",
    "table.insert_column(0,\"precision_score\",[precision_score(predicted,actual)])\n",
    "table.insert_column(1,\"recall_score\",[recall_score(predicted,actual)])\n",
    "table.insert_column(2,\"f1_score\",[f1_score(predicted,actual)])\n",
    "table.insert_column(3,\"accuracy_score\",[accuracy_score(actual,predicted)])\n",
    "print(table)\n",
    "heat_plot_idf.append(f1_score(actual,predicted))\n",
    "cm=confusion_matrix(actual,predicted)\n",
    "csummary=pd.DataFrame(cm,index=[\"negative\",\"positve\"],columns=[\"negative\",\"positive\"])\n",
    "\n",
    "plt.figure(figsize=(5,5))\n",
    "sb.heatmap(csummary,annot=True, fmt='g')\n",
    "plt.title(\"Naive bayes\")\n",
    "plt.xlabel(\"predicted\")\n",
    "plt.ylabel(\"Actual\")\n",
    "plt.show()\n",
    "\n",
    "\n",
    "table=BeautifulTable()\n",
    "words=[tf_idf.get_feature_names()[i] for i in nb.feature_log_prob_[1, :].argsort()[-30:] ]\n",
    "table.insert_column(0,\"negative\",words)\n",
    "words=[tf_idf.get_feature_names()[i] for i in nb.feature_log_prob_[0, :].argsort()[-30:] ]\n",
    "table.insert_column(1,\"positive\",words)\n",
    "print(\"Top 30 Important words\")\n",
    "print(table)\n",
    "\n",
    "\n",
    "\n",
    "\n"
   ]
  },
  {
   "cell_type": "markdown",
   "metadata": {},
   "source": [
    "# observations\n",
    " 1.**Recall score 87.7% which indicates that among the total reviews which are labled as positive in testing, 87.7% are atually positive.** <br>\n",
    " \n",
    " 2.**precision score 99.9% which indicates that among the total reviews which are positive, 99.9% are correctly classified as positive.** <br>\n",
    " \n",
    " 3.**The models f1 score is 93.4% which is failrly doing a good job**."
   ]
  },
  {
   "cell_type": "markdown",
   "metadata": {},
   "source": [
    "# word2vec model "
   ]
  },
  {
   "cell_type": "markdown",
   "metadata": {},
   "source": [
    "I did not used word2vec model because\n",
    "**The features values which we get in word2vec is dependent I mean if two words are similar then they get similar vecotr which results in depedent relation. But naive bayes assumes that features are independent and works well if the features are indepenedent from each other.**\n",
    "\n",
    "# conclusion"
   ]
  },
  {
   "cell_type": "code",
   "execution_count": 125,
   "metadata": {},
   "outputs": [
    {
     "data": {
      "image/png": "[encoded data removed]",
      "text/plain": [
       "<Figure size 432x288 with 4 Axes>"
      ]
     },
     "metadata": {},
     "output_type": "display_data"
    }
   ],
   "source": [
    "heat_plot_bow=np.unique(heat_plot_bow)\n",
    "x=np.array(heat_plot_bow).reshape(2,2)\n",
    "data=np.transpose(x)\n",
    "d=pd.DataFrame(data,index=[\"Bernouli\",\"Multiomial\"],columns=[\"unigrams\",\"Bigrams\"])\n",
    "heat_plot_idf=np.unique(heat_plot_idf)\n",
    "y=np.array(heat_plot_idf).reshape(2,2)\n",
    "data1=np.transpose(y)\n",
    "d1=pd.DataFrame(data1,index=[\"Bernouli\",\"Multiomial\"],columns=[\"unigrams\",\"Bigrams\"])\n",
    "\n",
    "\n",
    "temp_list=[d,d1]\n",
    "temp_title=[\"Countvectorizer\",\"TF-IDF\"]\n",
    "fig,axn = plt.subplots(1, 2, sharex=True, sharey=True)\n",
    "index=0\n",
    "for ax in axn.flat:\n",
    "    ax.set_title(temp_title[index])\n",
    "    sb.heatmap(temp_list[index], ax=ax,annot=True,fmt='g')\n",
    "    index+=1"
   ]
  },
  {
   "cell_type": "markdown",
   "metadata": {},
   "source": [
    "**The above plot explains its accuracy for every combination of [bernouli,multinomial] vs [Countvectorizer,TF-IDF]**\n"
   ]
  },
  {
   "cell_type": "code",
   "execution_count": 133,
   "metadata": {},
   "outputs": [
    {
     "name": "stdout",
     "output_type": "stream",
     "text": [
      "+---------------------------+-------+----------------------+-------------------+\n",
      "|           model           | alpha | CV-accuracy(f1-score | accuracy(f1-score |\n",
      "|                           |       |          )           |         )         |\n",
      "+---------------------------+-------+----------------------+-------------------+\n",
      "|   BOW_unigrams_Bernouli   |  20   |          94          |       93.7        |\n",
      "+---------------------------+-------+----------------------+-------------------+\n",
      "| BOW_unigrams_Multinomial  | 0.89  |         94.5         |       94.6        |\n",
      "+---------------------------+-------+----------------------+-------------------+\n",
      "|   BOW_Bigrams_bernouli    |  6.5  |         94.1         |       92.6        |\n",
      "+---------------------------+-------+----------------------+-------------------+\n",
      "|  BOW_Bigrams_Multinomial  | 0.68  |         94.4         |       93.7        |\n",
      "+---------------------------+-------+----------------------+-------------------+\n",
      "| TF_IDF_unigrams_Bernouli  |  20   |          94          |       93.6        |\n",
      "+---------------------------+-------+----------------------+-------------------+\n",
      "| TF_IDF_unigrams_Multinomi | 0.056 |         94.5         |        94         |\n",
      "|            al             |       |                      |                   |\n",
      "+---------------------------+-------+----------------------+-------------------+\n",
      "|  TF_IDF_Bigrams_Bernouli  | 8.75  |        94.16         |       93.3        |\n",
      "+---------------------------+-------+----------------------+-------------------+\n",
      "| TF_IDF_Bigrams_Multinomia |  0.1  |         94.2         |       93.4        |\n",
      "|             l             |       |                      |                   |\n",
      "+---------------------------+-------+----------------------+-------------------+\n"
     ]
    }
   ],
   "source": [
    "from beautifultable import BeautifulTable\n",
    "table=BeautifulTable()\n",
    "model_names=[\"BOW_unigrams_Bernouli\",\"BOW_unigrams_Multinomial\",\"BOW_Bigrams_bernouli\",\"BOW_Bigrams_Multinomial\",\"TF_IDF_unigrams_Bernouli\",\"TF_IDF_unigrams_Multinomial\",\"TF_IDF_Bigrams_Bernouli\",\"TF_IDF_Bigrams_Multinomial\"]\n",
    "alpha=[20,0.89,6.5,0.68,20,0.056,8.75,0.10]\n",
    "acccuracy=[93.7,94.6,92.6,93.7,93.6,94,93.3,93.4]\n",
    "cv_accuracy=[94,94.5,94.1,94.4,94,94.5,94.16,94.2]\n",
    "table.insert_column(0,\"model\",model_names)\n",
    "table.insert_column(1,\"alpha\",alpha)\n",
    "table.insert_column(2,\"CV-accuracy(f1-score)\",cv_accuracy)\n",
    "table.insert_column(3,\"accuracy(f1-score)\",acccuracy)\n",
    "print(table)"
   ]
  },
  {
   "cell_type": "markdown",
   "metadata": {},
   "source": [
    "\n",
    " \n",
    "\n",
    "1. **Analyzed naive bayes algorithm using different models such as Bernouli and Multinomial naive bayes.**\n",
    "\n",
    "\n",
    "2. **From above plot we can conclude that each model is performing well and each accuracy is over 90%.**"
   ]
  }
 ],
 "metadata": {
  "kernelspec": {
   "display_name": "Python 3",
   "language": "python",
   "name": "python3"
  },
  "language_info": {
   "codemirror_mode": {
    "name": "ipython",
    "version": 3
   },
   "file_extension": ".py",
   "mimetype": "text/x-python",
   "name": "python",
   "nbconvert_exporter": "python",
   "pygments_lexer": "ipython3",
   "version": "3.7.0"
  }
 },
 "nbformat": 4,
 "nbformat_minor": 2
}
