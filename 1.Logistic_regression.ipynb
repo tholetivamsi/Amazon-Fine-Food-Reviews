{
 "cells": [
  {
   "cell_type": "markdown",
   "metadata": {},
   "source": [
    "# Ojective\n",
    "**To classify a given new review using Logistic regression technique.**"
   ]
  },
  {
   "cell_type": "markdown",
   "metadata": {},
   "source": [
    "# Loading libraries"
   ]
  },
  {
   "cell_type": "code",
   "execution_count": null,
   "metadata": {},
   "outputs": [],
   "source": [
    "import numpy as np\n",
    "import pandas as pd\n",
    "import matplotlib.pyplot as plt\n",
    "import seaborn as sb\n",
    "%matplotlib inline"
   ]
  },
  {
   "cell_type": "markdown",
   "metadata": {},
   "source": [
    "# Reading data"
   ]
  },
  {
   "cell_type": "code",
   "execution_count": 2,
   "metadata": {},
   "outputs": [
    {
     "data": {
      "text/plain": [
       "Index(['Unnamed: 0', 'Id', 'ProductId', 'UserId', 'ProfileName',\n",
       "       'HelpfulnessNumerator', 'HelpfulnessDenominator', 'Score', 'Time',\n",
       "       'Summary', 'Text', 'Class'],\n",
       "      dtype='object')"
      ]
     },
     "execution_count": 2,
     "metadata": {},
     "output_type": "execute_result"
    }
   ],
   "source": [
    "df=pd.read_csv(\"data.csv\")\n",
    "df.columns"
   ]
  },
  {
   "cell_type": "markdown",
   "metadata": {},
   "source": [
    "# Train and test dataset\n",
    "Dataset is diveided into two parts in which 67% data is train data and 33% of the data is test data which is used to validate the performance of the dataset"
   ]
  },
  {
   "cell_type": "code",
   "execution_count": 3,
   "metadata": {},
   "outputs": [
    {
     "name": "stdout",
     "output_type": "stream",
     "text": [
      "(67000,) (33000,) (67000,) (33000,)\n"
     ]
    }
   ],
   "source": [
    "from sklearn.model_selection import train_test_split\n",
    "from sklearn.feature_extraction.text import CountVectorizer\n",
    "from sklearn.preprocessing import StandardScaler\n",
    "from sklearn import preprocessing\n",
    "df_train_x,df_test_x,df_train_y,df_test_y=train_test_split(df['Text'],df['Class'],test_size=0.33,shuffle=False)\n",
    "print(df_train_x.shape,df_test_x.shape,df_train_y.shape,df_test_y.shape)"
   ]
  },
  {
   "cell_type": "markdown",
   "metadata": {},
   "source": [
    "# BOW-Unigrams"
   ]
  },
  {
   "cell_type": "code",
   "execution_count": 4,
   "metadata": {},
   "outputs": [
    {
     "name": "stdout",
     "output_type": "stream",
     "text": [
      "The train data shape is  (67000, 90770) and test data shape is  (33000, 90770)\n"
     ]
    }
   ],
   "source": [
    "bow_unigrams=CountVectorizer(stop_words='english')\n",
    "BOW1_train=bow_unigrams.fit(df_train_x)\n",
    "BOW1_train=bow_unigrams.transform(df_train_x)\n",
    "BOW1_test=bow_unigrams.transform(df_test_x)\n",
    "print(\"The train data shape is \",BOW1_train.shape,\"and test data shape is \",BOW1_test.shape)"
   ]
  },
  {
   "cell_type": "markdown",
   "metadata": {},
   "source": [
    "# Data standardization"
   ]
  },
  {
   "cell_type": "code",
   "execution_count": 5,
   "metadata": {},
   "outputs": [
    {
     "name": "stdout",
     "output_type": "stream",
     "text": [
      "(67000, 90770) (33000, 90770)\n"
     ]
    }
   ],
   "source": [
    "from sklearn.exceptions import DataConversionWarning\n",
    "from sklearn import warnings\n",
    "warnings.filterwarnings(\"ignore\", category=DataConversionWarning)\n",
    "\n",
    "std=StandardScaler(with_mean=False)\n",
    "std=std.fit(BOW1_train)\n",
    "BOW1_train = BOW1_train.astype(float)\n",
    "BOW1_test = BOW1_test.astype(float)\n",
    "BOW1_train_std=std.transform(BOW1_train)\n",
    "BOW1_test_std=std.transform(BOW1_test)\n",
    "print(BOW1_train_std.shape,BOW1_test_std.shape)"
   ]
  },
  {
   "cell_type": "code",
   "execution_count": 6,
   "metadata": {},
   "outputs": [],
   "source": [
    "from sklearn import preprocessing\n",
    "bin=preprocessing.LabelEncoder()\n",
    "df_train_y=bin.fit_transform(df_train_y)\n",
    "df_test_y=bin.fit_transform(df_test_y)"
   ]
  },
  {
   "cell_type": "markdown",
   "metadata": {},
   "source": [
    "# Hyperparameter tuning -Grid search"
   ]
  },
  {
   "cell_type": "code",
   "execution_count": 41,
   "metadata": {},
   "outputs": [],
   "source": [
    "from sklearn.model_selection import GridSearchCV\n",
    "from sklearn.linear_model import LogisticRegression\n",
    "def grid_search(BOW1_train_std,df_train_y,filename):\n",
    "    parameters = {'C': [0.001, 0.01, 0.1, 1, 10, 100, 1000] ,'penalty': ['l1', 'l2']}\n",
    "    lr=LogisticRegression(n_jobs=-1,max_iter=100,tol=0.1)\n",
    "    cv=GridSearchCV(lr,parameters,cv=3,scoring='f1')\n",
    "    best_model=cv.fit(BOW1_train_std,df_train_y)\n",
    "    x=pd.DataFrame(best_model.cv_results_)\n",
    "    x.to_csv(filename)"
   ]
  },
  {
   "cell_type": "markdown",
   "metadata": {},
   "source": [
    "# Hyperparameter tuning -Random search"
   ]
  },
  {
   "cell_type": "code",
   "execution_count": 42,
   "metadata": {},
   "outputs": [],
   "source": [
    "from sklearn.model_selection import RandomizedSearchCV\n",
    "from sklearn.linear_model import LogisticRegression\n",
    "\n",
    "def random_search(BOW1_train_std,df_train_y,filename):\n",
    "    param_distributions={'C':np.logspace(-1,4,50),'penalty': ['l1', 'l2']}\n",
    "    lr1=LogisticRegression(n_jobs=-1,max_iter=100,tol=0.1)\n",
    "    cv1=RandomizedSearchCV(lr1,param_distributions,cv=3,scoring='f1')\n",
    "    best_model1=cv1.fit(BOW1_train_std,df_train_y)\n",
    "    x=pd.DataFrame(best_model1.cv_results_)\n",
    "    x.to_csv(filename)"
   ]
  },
  {
   "cell_type": "markdown",
   "metadata": {},
   "source": [
    "# draw random and grid search reulsts"
   ]
  },
  {
   "cell_type": "code",
   "execution_count": 43,
   "metadata": {},
   "outputs": [],
   "source": [
    "import ast\n",
    "from IPython.display import display, HTML\n",
    "def read_table_data(filename):\n",
    "    x=pd.read_csv(filename)\n",
    "    lambda_value=[]\n",
    "    regularization=[]\n",
    "    cv_score=[]\n",
    "    for x1 in x[['params','mean_test_score']].values:\n",
    "        a=ast.literal_eval(x1[0])\n",
    "        cv_score.append(x1[1])\n",
    "        lambda_value.append(a['C'])\n",
    "        regularization.append(a['penalty'])\n",
    "    results=pd.DataFrame({'lambda_value':lambda_value,'regularization':regularization,'cv_score':cv_score})\n",
    "    zz=results.sort_values(by=['cv_score','regularization'],ascending=False)\n",
    "    display(zz)"
   ]
  },
  {
   "cell_type": "code",
   "execution_count": null,
   "metadata": {},
   "outputs": [],
   "source": [
    "grid_search(BOW1_train_std,df_train_y,'unigrams_result_grid.csv') #performed grid search\n",
    "random_search(BOW1_train_std,df_train_y,'bow_uni_random.csv') # performed random search"
   ]
  },
  {
   "cell_type": "code",
   "execution_count": 10,
   "metadata": {},
   "outputs": [
    {
     "name": "stdout",
     "output_type": "stream",
     "text": [
      "*********** Results of Grid search ***********\n"
     ]
    },
    {
     "data": {
      "text/html": [
       "<div>\n",
       "<style scoped>\n",
       "    .dataframe tbody tr th:only-of-type {\n",
       "        vertical-align: middle;\n",
       "    }\n",
       "\n",
       "    .dataframe tbody tr th {\n",
       "        vertical-align: top;\n",
       "    }\n",
       "\n",
       "    .dataframe thead th {\n",
       "        text-align: right;\n",
       "    }\n",
       "</style>\n",
       "<table border=\"1\" class=\"dataframe\">\n",
       "  <thead>\n",
       "    <tr style=\"text-align: right;\">\n",
       "      <th></th>\n",
       "      <th>lambda_value</th>\n",
       "      <th>regularization</th>\n",
       "      <th>cv_score</th>\n",
       "    </tr>\n",
       "  </thead>\n",
       "  <tbody>\n",
       "    <tr>\n",
       "      <th>3</th>\n",
       "      <td>0.010</td>\n",
       "      <td>l2</td>\n",
       "      <td>0.942870</td>\n",
       "    </tr>\n",
       "    <tr>\n",
       "      <th>7</th>\n",
       "      <td>1.000</td>\n",
       "      <td>l2</td>\n",
       "      <td>0.942870</td>\n",
       "    </tr>\n",
       "    <tr>\n",
       "      <th>5</th>\n",
       "      <td>0.100</td>\n",
       "      <td>l2</td>\n",
       "      <td>0.942863</td>\n",
       "    </tr>\n",
       "    <tr>\n",
       "      <th>9</th>\n",
       "      <td>10.000</td>\n",
       "      <td>l2</td>\n",
       "      <td>0.942863</td>\n",
       "    </tr>\n",
       "    <tr>\n",
       "      <th>11</th>\n",
       "      <td>100.000</td>\n",
       "      <td>l2</td>\n",
       "      <td>0.942863</td>\n",
       "    </tr>\n",
       "    <tr>\n",
       "      <th>13</th>\n",
       "      <td>1000.000</td>\n",
       "      <td>l2</td>\n",
       "      <td>0.942863</td>\n",
       "    </tr>\n",
       "    <tr>\n",
       "      <th>8</th>\n",
       "      <td>10.000</td>\n",
       "      <td>l1</td>\n",
       "      <td>0.942863</td>\n",
       "    </tr>\n",
       "    <tr>\n",
       "      <th>12</th>\n",
       "      <td>1000.000</td>\n",
       "      <td>l1</td>\n",
       "      <td>0.942863</td>\n",
       "    </tr>\n",
       "    <tr>\n",
       "      <th>1</th>\n",
       "      <td>0.001</td>\n",
       "      <td>l2</td>\n",
       "      <td>0.942856</td>\n",
       "    </tr>\n",
       "    <tr>\n",
       "      <th>6</th>\n",
       "      <td>1.000</td>\n",
       "      <td>l1</td>\n",
       "      <td>0.942856</td>\n",
       "    </tr>\n",
       "    <tr>\n",
       "      <th>10</th>\n",
       "      <td>100.000</td>\n",
       "      <td>l1</td>\n",
       "      <td>0.942856</td>\n",
       "    </tr>\n",
       "    <tr>\n",
       "      <th>2</th>\n",
       "      <td>0.010</td>\n",
       "      <td>l1</td>\n",
       "      <td>0.942848</td>\n",
       "    </tr>\n",
       "    <tr>\n",
       "      <th>4</th>\n",
       "      <td>0.100</td>\n",
       "      <td>l1</td>\n",
       "      <td>0.942848</td>\n",
       "    </tr>\n",
       "    <tr>\n",
       "      <th>0</th>\n",
       "      <td>0.001</td>\n",
       "      <td>l1</td>\n",
       "      <td>0.942826</td>\n",
       "    </tr>\n",
       "  </tbody>\n",
       "</table>\n",
       "</div>"
      ],
      "text/plain": [
       "    lambda_value regularization  cv_score\n",
       "3          0.010             l2  0.942870\n",
       "7          1.000             l2  0.942870\n",
       "5          0.100             l2  0.942863\n",
       "9         10.000             l2  0.942863\n",
       "11       100.000             l2  0.942863\n",
       "13      1000.000             l2  0.942863\n",
       "8         10.000             l1  0.942863\n",
       "12      1000.000             l1  0.942863\n",
       "1          0.001             l2  0.942856\n",
       "6          1.000             l1  0.942856\n",
       "10       100.000             l1  0.942856\n",
       "2          0.010             l1  0.942848\n",
       "4          0.100             l1  0.942848\n",
       "0          0.001             l1  0.942826"
      ]
     },
     "metadata": {},
     "output_type": "display_data"
    },
    {
     "name": "stdout",
     "output_type": "stream",
     "text": [
      "*********** Results of Random search ***********\n"
     ]
    },
    {
     "data": {
      "text/html": [
       "<div>\n",
       "<style scoped>\n",
       "    .dataframe tbody tr th:only-of-type {\n",
       "        vertical-align: middle;\n",
       "    }\n",
       "\n",
       "    .dataframe tbody tr th {\n",
       "        vertical-align: top;\n",
       "    }\n",
       "\n",
       "    .dataframe thead th {\n",
       "        text-align: right;\n",
       "    }\n",
       "</style>\n",
       "<table border=\"1\" class=\"dataframe\">\n",
       "  <thead>\n",
       "    <tr style=\"text-align: right;\">\n",
       "      <th></th>\n",
       "      <th>lambda_value</th>\n",
       "      <th>regularization</th>\n",
       "      <th>cv_score</th>\n",
       "    </tr>\n",
       "  </thead>\n",
       "  <tbody>\n",
       "    <tr>\n",
       "      <th>1</th>\n",
       "      <td>28.117687</td>\n",
       "      <td>l2</td>\n",
       "      <td>0.942878</td>\n",
       "    </tr>\n",
       "    <tr>\n",
       "      <th>4</th>\n",
       "      <td>0.126486</td>\n",
       "      <td>l2</td>\n",
       "      <td>0.942878</td>\n",
       "    </tr>\n",
       "    <tr>\n",
       "      <th>8</th>\n",
       "      <td>0.159986</td>\n",
       "      <td>l1</td>\n",
       "      <td>0.942863</td>\n",
       "    </tr>\n",
       "    <tr>\n",
       "      <th>3</th>\n",
       "      <td>44.984327</td>\n",
       "      <td>l2</td>\n",
       "      <td>0.942863</td>\n",
       "    </tr>\n",
       "    <tr>\n",
       "      <th>0</th>\n",
       "      <td>4.291934</td>\n",
       "      <td>l1</td>\n",
       "      <td>0.942863</td>\n",
       "    </tr>\n",
       "    <tr>\n",
       "      <th>9</th>\n",
       "      <td>596.362332</td>\n",
       "      <td>l1</td>\n",
       "      <td>0.942863</td>\n",
       "    </tr>\n",
       "    <tr>\n",
       "      <th>2</th>\n",
       "      <td>1.676833</td>\n",
       "      <td>l2</td>\n",
       "      <td>0.942856</td>\n",
       "    </tr>\n",
       "    <tr>\n",
       "      <th>5</th>\n",
       "      <td>115.139540</td>\n",
       "      <td>l1</td>\n",
       "      <td>0.942856</td>\n",
       "    </tr>\n",
       "    <tr>\n",
       "      <th>7</th>\n",
       "      <td>0.323746</td>\n",
       "      <td>l1</td>\n",
       "      <td>0.942856</td>\n",
       "    </tr>\n",
       "    <tr>\n",
       "      <th>6</th>\n",
       "      <td>1.676833</td>\n",
       "      <td>l1</td>\n",
       "      <td>0.942848</td>\n",
       "    </tr>\n",
       "  </tbody>\n",
       "</table>\n",
       "</div>"
      ],
      "text/plain": [
       "   lambda_value regularization  cv_score\n",
       "1     28.117687             l2  0.942878\n",
       "4      0.126486             l2  0.942878\n",
       "8      0.159986             l1  0.942863\n",
       "3     44.984327             l2  0.942863\n",
       "0      4.291934             l1  0.942863\n",
       "9    596.362332             l1  0.942863\n",
       "2      1.676833             l2  0.942856\n",
       "5    115.139540             l1  0.942856\n",
       "7      0.323746             l1  0.942856\n",
       "6      1.676833             l1  0.942848"
      ]
     },
     "metadata": {},
     "output_type": "display_data"
    }
   ],
   "source": [
    "print(\"*********** Results of Grid search ***********\")\n",
    "read_table_data('unigrams_result_grid.csv')\n",
    "print(\"*********** Results of Random search ***********\")\n",
    "read_table_data('bow_uni_random.csv')"
   ]
  },
  {
   "cell_type": "markdown",
   "metadata": {},
   "source": [
    "**The best results for Both L1 and L2 reguarization are found at :**\n",
    "\n",
    " For L2 - >  cv_score is **0.942870** and C=**0.010 , 1.0 , 0.1,10,100,28.11** (C= 1 / lambda)\n",
    " \n",
    " \n",
    " For L1 - >  cv_score is **0.942863** and C=**10, 1000,1.0,100,0.010,0.15,4.3**\n",
    " \n",
    " so lets try the test data validation on this parameters\n",
    " \n",
    " \n",
    " \n",
    " \n",
    "\n"
   ]
  },
  {
   "cell_type": "markdown",
   "metadata": {},
   "source": [
    "# L2-regularization with Bag of words unigrams"
   ]
  },
  {
   "cell_type": "code",
   "execution_count": 57,
   "metadata": {},
   "outputs": [
    {
     "name": "stderr",
     "output_type": "stream",
     "text": [
      "/home/gurnatham_ravi/anaconda3/lib/python3.6/site-packages/sklearn/linear_model/logistic.py:1228: UserWarning: 'n_jobs' > 1 does not have any effect when 'solver' is set to 'liblinear'. Got 'n_jobs' = -1.\n",
      "  \" = {}.\".format(self.n_jobs))\n"
     ]
    }
   ],
   "source": [
    "from sklearn.linear_model import LogisticRegression\n",
    "LR=LogisticRegression(penalty='l2', tol=0.0001, C=0.010,  n_jobs=-1)\n",
    "lr_1=LR.fit(BOW1_train_std,df_train_y)\n",
    "LR=LogisticRegression(penalty='l2', tol=0.0001, C=0.012,  n_jobs=-1)\n",
    "lr_2=LR.fit(BOW1_train_std,df_train_y)\n",
    "LR=LogisticRegression(penalty='l2', tol=0.0001, C=28.11,  n_jobs=-1)\n",
    "lr_3=LR.fit(BOW1_train_std,df_train_y)\n",
    "LR=LogisticRegression(penalty='l2', tol=0.0001, C=0.10,  n_jobs=-1)\n",
    "lr_4=LR.fit(BOW1_train_std,df_train_y)\n",
    "LR=LogisticRegression(penalty='l2', tol=0.0001, C=1.0,  n_jobs=-1)\n",
    "lr_5=LR.fit(BOW1_train_std,df_train_y)\n",
    "LR=LogisticRegression(penalty='l2', tol=0.0001, C=100,  n_jobs=-1)\n",
    "lr_6=LR.fit(BOW1_train_std,df_train_y)"
   ]
  },
  {
   "cell_type": "markdown",
   "metadata": {},
   "source": [
    "# Plotting the confusion matrix "
   ]
  },
  {
   "cell_type": "code",
   "execution_count": 58,
   "metadata": {},
   "outputs": [],
   "source": [
    "from sklearn.metrics import confusion_matrix,f1_score,recall_score,precision_score,accuracy_score\n",
    "outputs=[]\n",
    "outputs.append(lr_1.predict(BOW1_test_std))\n",
    "outputs.append(lr_2.predict(BOW1_test_std))\n",
    "outputs.append(lr_3.predict(BOW1_test_std))\n",
    "outputs.append(lr_4.predict(BOW1_test_std))\n",
    "outputs.append(lr_5.predict(BOW1_test_std))\n",
    "outputs.append(lr_6.predict(BOW1_test_std))\n",
    "cms=[]\n",
    "for op in outputs:\n",
    "    cms.append(confusion_matrix(df_test_y,op))\n",
    "dfs=[]\n",
    "for cm in cms:\n",
    "    dfs.append(pd.DataFrame(cm,index=['negative','positive'],columns=['negative','positive']))"
   ]
  },
  {
   "cell_type": "code",
   "execution_count": 15,
   "metadata": {},
   "outputs": [],
   "source": [
    "\n",
    "def plot_confusion_matrix_table(C_values,outputs,df_test_y,lr_1,lr_2,lr_3,lr_4,lr_5,lr_6,nrows=2,ncols=2):\n",
    "    fig, ax = plt.subplots(figsize=(20,15),nrows=nrows, ncols=ncols)\n",
    "    i=0\n",
    "    for row in ax:\n",
    "        for col in row:\n",
    "            sb.heatmap(dfs[i], annot=True, fmt='g',ax=col)\n",
    "            col.title.set_text('L2-regularizatiton with C='+str(C_values[i]))\n",
    "            col.set_xlabel('Predicted label')\n",
    "            col.set_ylabel('True label')\n",
    "            i+=1\n",
    "\n",
    "    pre_scores=[]\n",
    "    re_scores=[]\n",
    "    accuracy_scores=[]\n",
    "    f2_scores=[]\n",
    "    non_zero_ws=[]\n",
    "    sparsity=[]\n",
    "    for i in range(nrows*ncols):\n",
    "        pre_scores.append(precision_score(df_test_y,outputs[i]))\n",
    "        re_scores.append(recall_score(df_test_y,outputs[i]))\n",
    "        accuracy_scores.append(accuracy_score(df_test_y,outputs[i]))\n",
    "        f2_scores.append(f1_score(df_test_y,outputs[i]))\n",
    "    non_zero_ws.append(np.count_nonzero(lr_1.coef_))\n",
    "    non_zero_ws.append(np.count_nonzero(lr_2.coef_))\n",
    "    non_zero_ws.append(np.count_nonzero(lr_3.coef_))\n",
    "    non_zero_ws.append(np.count_nonzero(lr_4.coef_))\n",
    "    non_zero_ws.append(np.count_nonzero(lr_5.coef_))\n",
    "    non_zero_ws.append(np.count_nonzero(lr_6.coef_))\n",
    "    sparsity.append(np.count_nonzero(lr_1.coef_)/ len(lr_1.coef_[0]))\n",
    "    sparsity.append(np.count_nonzero(lr_2.coef_)/ len(lr_2.coef_[0]))\n",
    "    sparsity.append(np.count_nonzero(lr_3.coef_)/ len(lr_3.coef_[0]))\n",
    "    sparsity.append(np.count_nonzero(lr_4.coef_)/ len(lr_4.coef_[0]))\n",
    "    sparsity.append(np.count_nonzero(lr_5.coef_)/ len(lr_5.coef_[0]))\n",
    "    sparsity.append(np.count_nonzero(lr_6.coef_)/ len(lr_6.coef_[0]))\n",
    "    from beautifultable import BeautifulTable\n",
    "    table=BeautifulTable()\n",
    "    table.insert_column(0,\"precision\",pre_scores)\n",
    "    table.insert_column(1,\"recall\",re_scores)\n",
    "    table.insert_column(2,\"accuracy\",accuracy_scores)\n",
    "    table.insert_column(3,\"f1-score\",f2_scores)\n",
    "    table.insert_column(4,\"Non-zero\",non_zero_ws)\n",
    "    table.insert_column(5,\"sparsity(Non-zero weights)\",sparsity)\n",
    "    table.insert_column(6,\"C\",C_values)\n",
    "    sorted_table=table.sort('C')\n",
    "    print(table)   "
   ]
  },
  {
   "cell_type": "code",
   "execution_count": 64,
   "metadata": {},
   "outputs": [
    {
     "name": "stdout",
     "output_type": "stream",
     "text": [
      "+--------+--------+----------+----------+----------+-------------------+-------+\n",
      "| precis | recall | accuracy | f1-score | Non-zero | sparsity(Non-zero |   C   |\n",
      "|  ion   |        |          |          |          |      weights)     |       |\n",
      "+--------+--------+----------+----------+----------+-------------------+-------+\n",
      "| 0.929  | 0.935  |  0.881   |  0.932   |  90770   |        1.0        |   0   |\n",
      "+--------+--------+----------+----------+----------+-------------------+-------+\n",
      "| 0.928  | 0.957  |  0.897   |  0.942   |  90770   |        1.0        | 0.01  |\n",
      "+--------+--------+----------+----------+----------+-------------------+-------+\n",
      "| 0.928  | 0.955  |  0.896   |  0.942   |  90770   |        1.0        | 0.012 |\n",
      "+--------+--------+----------+----------+----------+-------------------+-------+\n",
      "| 0.929  | 0.892  |  0.845   |   0.91   |  90770   |        1.0        |   1   |\n",
      "+--------+--------+----------+----------+----------+-------------------+-------+\n",
      "| 0.928  | 0.915  |  0.864   |  0.922   |  90770   |        1.0        |  10   |\n",
      "+--------+--------+----------+----------+----------+-------------------+-------+\n",
      "| 0.929  | 0.892  |  0.846   |   0.91   |  90770   |        1.0        | 28.11 |\n",
      "+--------+--------+----------+----------+----------+-------------------+-------+\n"
     ]
    },
    {
     "data": {
      "image/png": "[encoded data removed]",
      "text/plain": [
       "<Figure size 1440x1080 with 12 Axes>"
      ]
     },
     "metadata": {},
     "output_type": "display_data"
    }
   ],
   "source": [
    "C_values=[0.010,0.012,28.11,0,10,1]\n",
    "plot_confusion_matrix_table(C_values,outputs,df_test_y,lr_1,lr_2,lr_3,lr_4,lr_5,lr_6,3,2)"
   ]
  },
  {
   "cell_type": "markdown",
   "metadata": {},
   "source": [
    "\n",
    "\n",
    "# Observation:\n",
    "   **As the value of C(1 / lambda), Generalization is improved, which we can clearly seen that error on unseen data decreases**\n"
   ]
  },
  {
   "cell_type": "markdown",
   "metadata": {},
   "source": [
    "# Multicolinearity check (pertubation test) function"
   ]
  },
  {
   "cell_type": "code",
   "execution_count": 27,
   "metadata": {},
   "outputs": [],
   "source": [
    "def add_noise(BOW1_train_std):\n",
    "    new_noise_added_train_data=BOW1_train_std\n",
    "    Epsilon=np.random.normal(0,0.01)\n",
    "    print('Adding noise to every feature is ',Epsilon)\n",
    "    count=0\n",
    "    for review in new_noise_added_train_data:\n",
    "        if(count%10000==0):\n",
    "            print('count is ',count)\n",
    "        non_zero_indices=review.nonzero()\n",
    "        non_zero_indices=non_zero_indices[1]\n",
    "        for index in non_zero_indices:\n",
    "          new_noise_added_train_data[count,index]+=Epsilon\n",
    "        count+=1\n",
    "    return new_noise_added_train_data"
   ]
  },
  {
   "cell_type": "code",
   "execution_count": 68,
   "metadata": {},
   "outputs": [
    {
     "name": "stdout",
     "output_type": "stream",
     "text": [
      "Adding noise to every feature is  0.0011024007994988462\n",
      "count is  0\n",
      "count is  10000\n",
      "count is  20000\n",
      "count is  30000\n",
      "count is  40000\n",
      "count is  50000\n",
      "count is  60000\n"
     ]
    }
   ],
   "source": [
    "new_noise_added_train_data=add_noise(BOW1_train_std)"
   ]
  },
  {
   "cell_type": "code",
   "execution_count": 69,
   "metadata": {},
   "outputs": [
    {
     "name": "stderr",
     "output_type": "stream",
     "text": [
      "/home/gurnatham_ravi/anaconda3/lib/python3.6/site-packages/sklearn/linear_model/logistic.py:1228: UserWarning: 'n_jobs' > 1 does not have any effect when 'solver' is set to 'liblinear'. Got 'n_jobs' = -1.\n",
      "  \" = {}.\".format(self.n_jobs))\n"
     ]
    }
   ],
   "source": [
    "lr_multi_colinearity=LogisticRegression(penalty='l2', tol=0.0001, C=0.01,  n_jobs=-1)\n",
    "lr_colinearity=lr_multi_colinearity.fit(new_noise_added_train_data,df_train_y)"
   ]
  },
  {
   "cell_type": "code",
   "execution_count": 70,
   "metadata": {},
   "outputs": [
    {
     "name": "stdout",
     "output_type": "stream",
     "text": [
      "Before pertubation [ 3.15915600e-02  5.83517997e-03  5.62645245e-03 ...  7.06793915e-03\n",
      " -1.57795577e-06  1.60911456e-07]\n",
      "**************************************\n",
      "After pertubation [ 3.15421582e-02  5.83340838e-03  5.61348826e-03 ...  7.06867726e-03\n",
      " -1.18420734e-06  2.70140107e-07]\n"
     ]
    }
   ],
   "source": [
    "print('Before pertubation',lr_colinearity.coef_[0])\n",
    "print(\"**************************************\")\n",
    "print('After pertubation',lr_1.coef_[0])"
   ]
  },
  {
   "cell_type": "code",
   "execution_count": 71,
   "metadata": {},
   "outputs": [
    {
     "data": {
      "text/plain": [
       "array([0.0001683 , 0.00017448, 0.00018133, 0.00018469, 0.00028134,\n",
       "       0.00029295, 0.00030481, 0.00034399, 0.00043667, 0.00074849])"
      ]
     },
     "execution_count": 71,
     "metadata": {},
     "output_type": "execute_result"
    }
   ],
   "source": [
    "np.sort(lr_1.coef_[0]-lr_colinearity.coef_[0])[-10:]"
   ]
  },
  {
   "cell_type": "markdown",
   "metadata": {},
   "source": [
    "**From above multicolinearity test we can observe that features are not changling a lot due to small change in feature values and maximum change around features is 0.0007 , so we can conclude that features are not colinear.\n",
    "**\n",
    "# so there is no multicolinearity"
   ]
  },
  {
   "cell_type": "markdown",
   "metadata": {},
   "source": [
    "# Feature importance"
   ]
  },
  {
   "cell_type": "code",
   "execution_count": 36,
   "metadata": {},
   "outputs": [],
   "source": [
    "def print_features(lr_1):\n",
    "    c=np.argsort(lr_1.coef_)\n",
    "    c=c[0][-20:]\n",
    "    imp_features=[bow_unigrams.get_feature_names()[s] for s in c ]\n",
    "    weights=[lr_1.coef_[0][index] for index in c]\n",
    "    from beautifultable import BeautifulTable\n",
    "    table=BeautifulTable()\n",
    "    table.insert_column(0,\"Top 20 important features \",np.flip(imp_features,axis=0))\n",
    "    table.insert_column(1,\"Weight \",np.flip(weights,axis=0))\n",
    "    print(table)"
   ]
  },
  {
   "cell_type": "code",
   "execution_count": 73,
   "metadata": {},
   "outputs": [
    {
     "name": "stdout",
     "output_type": "stream",
     "text": [
      "+----------------------------+---------+\n",
      "| Top 20 important features  | Weight  |\n",
      "+----------------------------+---------+\n",
      "|           great            |  0.75   |\n",
      "+----------------------------+---------+\n",
      "|            best            |  0.588  |\n",
      "+----------------------------+---------+\n",
      "|            love            |  0.474  |\n",
      "+----------------------------+---------+\n",
      "|            good            |  0.458  |\n",
      "+----------------------------+---------+\n",
      "|         delicious          |  0.389  |\n",
      "+----------------------------+---------+\n",
      "|          favorite          |  0.363  |\n",
      "+----------------------------+---------+\n",
      "|           loves            |  0.341  |\n",
      "+----------------------------+---------+\n",
      "|         wonderful          |  0.321  |\n",
      "+----------------------------+---------+\n",
      "|          perfect           |  0.308  |\n",
      "+----------------------------+---------+\n",
      "|         excellent          |  0.301  |\n",
      "+----------------------------+---------+\n",
      "|           highly           |  0.271  |\n",
      "+----------------------------+---------+\n",
      "|            nice            |  0.269  |\n",
      "+----------------------------+---------+\n",
      "|          awesome           |  0.232  |\n",
      "+----------------------------+---------+\n",
      "|           tasty            |  0.231  |\n",
      "+----------------------------+---------+\n",
      "|           stores           |  0.207  |\n",
      "+----------------------------+---------+\n",
      "|            easy            |  0.205  |\n",
      "+----------------------------+---------+\n",
      "|           yummy            |  0.192  |\n",
      "+----------------------------+---------+\n",
      "|           smooth           |  0.191  |\n",
      "+----------------------------+---------+\n",
      "|          amazing           |  0.191  |\n",
      "+----------------------------+---------+\n",
      "|           quite            |  0.188  |\n",
      "+----------------------------+---------+\n"
     ]
    }
   ],
   "source": [
    "print_features(lr_1)"
   ]
  },
  {
   "cell_type": "markdown",
   "metadata": {},
   "source": [
    "# L1 regularization with Bag of words unigrams"
   ]
  },
  {
   "cell_type": "code",
   "execution_count": 11,
   "metadata": {},
   "outputs": [
    {
     "name": "stderr",
     "output_type": "stream",
     "text": [
      "/home/gurnatham_ravi/anaconda3/lib/python3.6/site-packages/sklearn/linear_model/logistic.py:1228: UserWarning: 'n_jobs' > 1 does not have any effect when 'solver' is set to 'liblinear'. Got 'n_jobs' = -1.\n",
      "  \" = {}.\".format(self.n_jobs))\n",
      "/home/gurnatham_ravi/anaconda3/lib/python3.6/site-packages/sklearn/linear_model/logistic.py:1228: UserWarning: 'n_jobs' > 1 does not have any effect when 'solver' is set to 'liblinear'. Got 'n_jobs' = -1.\n",
      "  \" = {}.\".format(self.n_jobs))\n",
      "/home/gurnatham_ravi/anaconda3/lib/python3.6/site-packages/sklearn/linear_model/logistic.py:1228: UserWarning: 'n_jobs' > 1 does not have any effect when 'solver' is set to 'liblinear'. Got 'n_jobs' = -1.\n",
      "  \" = {}.\".format(self.n_jobs))\n",
      "/home/gurnatham_ravi/anaconda3/lib/python3.6/site-packages/sklearn/linear_model/logistic.py:1228: UserWarning: 'n_jobs' > 1 does not have any effect when 'solver' is set to 'liblinear'. Got 'n_jobs' = -1.\n",
      "  \" = {}.\".format(self.n_jobs))\n"
     ]
    }
   ],
   "source": [
    "#C=[10, 1000,1.0,100,0.010,0.15,4.3]\n",
    "from sklearn.linear_model import LogisticRegression\n",
    "LR=LogisticRegression(penalty='l1', tol=0.0001, C=10,  n_jobs=-1)\n",
    "lr_1=LR.fit(BOW1_train_std,df_train_y)\n",
    "LR=LogisticRegression(penalty='l1', tol=0.0001, C=0.15,  n_jobs=-1)\n",
    "lr_2=LR.fit(BOW1_train_std,df_train_y)\n",
    "LR=LogisticRegression(penalty='l1', tol=0.0001, C=4.3,  n_jobs=-1)\n",
    "lr_3=LR.fit(BOW1_train_std,df_train_y)\n",
    "LR=LogisticRegression(penalty='l1', tol=0.0001, C=0.010,  n_jobs=-1)\n",
    "lr_4=LR.fit(BOW1_train_std,df_train_y)\n",
    "LR=LogisticRegression(penalty='l1', tol=0.0001, C=100,  n_jobs=-1)\n",
    "lr_5=LR.fit(BOW1_train_std,df_train_y)\n",
    "LR=LogisticRegression(penalty='l1', tol=0.0001, C=0.001,  n_jobs=-1)\n",
    "lr_6=LR.fit(BOW1_train_std,df_train_y)"
   ]
  },
  {
   "cell_type": "code",
   "execution_count": 21,
   "metadata": {},
   "outputs": [],
   "source": [
    "from sklearn.metrics import confusion_matrix,f1_score,recall_score,precision_score,accuracy_score\n",
    "outputs=[]\n",
    "outputs.append(lr_1.predict(BOW1_test_std))\n",
    "outputs.append(lr_2.predict(BOW1_test_std))\n",
    "outputs.append(lr_3.predict(BOW1_test_std))\n",
    "outputs.append(lr_4.predict(BOW1_test_std))\n",
    "outputs.append(lr_5.predict(BOW1_test_std))\n",
    "outputs.append(lr_6.predict(BOW1_test_std))\n",
    "cms=[]\n",
    "for op in outputs:\n",
    "    cms.append(confusion_matrix(df_test_y,op))\n",
    "dfs=[]\n",
    "for cm in cms:\n",
    "    dfs.append(pd.DataFrame(cm,index=['negative','positive'],columns=['negative','positive']))\n"
   ]
  },
  {
   "cell_type": "code",
   "execution_count": 23,
   "metadata": {},
   "outputs": [
    {
     "name": "stdout",
     "output_type": "stream",
     "text": [
      "+--------+--------+----------+----------+----------+-------------------+-------+\n",
      "| precis | recall | accuracy | f1-score | Non-zero | sparsity(Non-zero |   C   |\n",
      "|  ion   |        |          |          |          |      weights)     |       |\n",
      "+--------+--------+----------+----------+----------+-------------------+-------+\n",
      "| 0.881  | 0.999  |  0.881   |  0.936   |    43    |        0.0        | 0.001 |\n",
      "+--------+--------+----------+----------+----------+-------------------+-------+\n",
      "| 0.917  | 0.982  |  0.906   |  0.948   |   6681   |       0.074       | 0.01  |\n",
      "+--------+--------+----------+----------+----------+-------------------+-------+\n",
      "| 0.934  | 0.952  |   0.9    |  0.943   |  16997   |       0.187       | 0.15  |\n",
      "+--------+--------+----------+----------+----------+-------------------+-------+\n",
      "|  0.93  | 0.916  |  0.866   |  0.923   |  18601   |       0.205       |  4.3  |\n",
      "+--------+--------+----------+----------+----------+-------------------+-------+\n",
      "|  0.93  | 0.912  |  0.863   |  0.921   |  17817   |       0.196       |  10   |\n",
      "+--------+--------+----------+----------+----------+-------------------+-------+\n",
      "| 0.924  | 0.905  |  0.852   |  0.914   |  35596   |       0.392       |  100  |\n",
      "+--------+--------+----------+----------+----------+-------------------+-------+\n"
     ]
    },
    {
     "data": {
      "image/png": "[encoded data removed]",
      "text/plain": [
       "<Figure size 1440x1080 with 12 Axes>"
      ]
     },
     "metadata": {},
     "output_type": "display_data"
    }
   ],
   "source": [
    "C_values=[10,0.15,4.3,0.010,100,0.001]\n",
    "plot_confusion_matrix_table(C_values,outputs,df_test_y,lr_1,lr_2,lr_3,lr_4,lr_5,lr_6,3,2)"
   ]
  },
  {
   "cell_type": "markdown",
   "metadata": {},
   "source": [
    "# Observation\n",
    "\n",
    "As the C increasing the the sparisty in weight vectors also increasing  , we can observe that for different values of C values .\n",
    "\n",
    "**1.For value of C=1000(inverse strength) we have sparsity is 46.3 (46.3% of weights are are non-zero)**\n",
    "\n",
    "**2.For value of C=0.15 we have sparisty as 18.7 (only 18.7% are non-zero and remaining are zero)**\n",
    "\n",
    "From both 1 & 2,\n",
    "\n",
    "we can conclude that as the C decreases the sparsity in the weight vectors also increasing.\n",
    "\n",
    "And one more point is as the C is decreasing the model is underfitting, so the precisioin and recall score going to fall down as we can observe that one from the above table."
   ]
  },
  {
   "cell_type": "markdown",
   "metadata": {},
   "source": [
    "# Multicolinearity check (pertubation test)"
   ]
  },
  {
   "cell_type": "code",
   "execution_count": 28,
   "metadata": {},
   "outputs": [
    {
     "name": "stdout",
     "output_type": "stream",
     "text": [
      "Adding noise to every feature is  -0.0242165243647795\n",
      "count is  0\n",
      "count is  10000\n",
      "count is  20000\n",
      "count is  30000\n",
      "count is  40000\n",
      "count is  50000\n",
      "count is  60000\n"
     ]
    }
   ],
   "source": [
    "new_noise_added_train_data=add_noise(BOW1_train_std)"
   ]
  },
  {
   "cell_type": "code",
   "execution_count": 32,
   "metadata": {},
   "outputs": [
    {
     "name": "stderr",
     "output_type": "stream",
     "text": [
      "/home/gurnatham_ravi/anaconda3/lib/python3.6/site-packages/sklearn/linear_model/logistic.py:1228: UserWarning: 'n_jobs' > 1 does not have any effect when 'solver' is set to 'liblinear'. Got 'n_jobs' = -1.\n",
      "  \" = {}.\".format(self.n_jobs))\n"
     ]
    }
   ],
   "source": [
    "lr_multi_colinearity=LogisticRegression(penalty='l1', tol=0.0001, C=4.3,  n_jobs=-1)\n",
    "lr_colinearity=lr_multi_colinearity.fit(new_noise_added_train_data,df_train_y)"
   ]
  },
  {
   "cell_type": "code",
   "execution_count": 33,
   "metadata": {},
   "outputs": [
    {
     "name": "stdout",
     "output_type": "stream",
     "text": [
      "Before pertubation [0.01775329 0.         0.         ... 0.         0.         0.        ]\n",
      "**************************************\n",
      "After pertubation [0.04665548 0.         0.         ... 0.         0.         0.        ]\n"
     ]
    }
   ],
   "source": [
    "print('Before pertubation',lr_colinearity.coef_[0])\n",
    "print(\"**************************************\")\n",
    "print('After pertubation',lr_3.coef_[0])"
   ]
  },
  {
   "cell_type": "code",
   "execution_count": 34,
   "metadata": {},
   "outputs": [
    {
     "data": {
      "text/plain": [
       "array([0.59828875, 0.63343711, 0.63507472, 0.66006194, 0.6662794 ,\n",
       "       0.67422629, 0.69134132, 0.76436877, 0.85844107, 1.04880225])"
      ]
     },
     "execution_count": 34,
     "metadata": {},
     "output_type": "execute_result"
    }
   ],
   "source": [
    "#print(lr_1.coef_[0][24576],lr_colinearity.coef_[0][24576])#24576\n",
    "np.sort(lr_1.coef_[0]-lr_colinearity.coef_[0])[-10:]"
   ]
  },
  {
   "cell_type": "markdown",
   "metadata": {},
   "source": [
    "**From above multicolinearity test we can observe that features are changling due to small change in feature values , and some feaaures changes its weight more than 0.5** "
   ]
  },
  {
   "cell_type": "markdown",
   "metadata": {},
   "source": [
    "# feature importance"
   ]
  },
  {
   "cell_type": "code",
   "execution_count": 37,
   "metadata": {},
   "outputs": [
    {
     "name": "stdout",
     "output_type": "stream",
     "text": [
      "+----------------------------+---------+\n",
      "| Top 20 important features  | Weight  |\n",
      "+----------------------------+---------+\n",
      "|           great            |  3.307  |\n",
      "+----------------------------+---------+\n",
      "|            best            |  2.585  |\n",
      "+----------------------------+---------+\n",
      "|          perfect           |  2.111  |\n",
      "+----------------------------+---------+\n",
      "|            yum             |   2.0   |\n",
      "+----------------------------+---------+\n",
      "|            love            |  1.987  |\n",
      "+----------------------------+---------+\n",
      "|           agave            |  1.931  |\n",
      "+----------------------------+---------+\n",
      "|         excellent          |  1.711  |\n",
      "+----------------------------+---------+\n",
      "|           breath           |  1.653  |\n",
      "+----------------------------+---------+\n",
      "|         sparkling          |  1.56   |\n",
      "+----------------------------+---------+\n",
      "|            good            |  1.518  |\n",
      "+----------------------------+---------+\n",
      "|            long            |  1.513  |\n",
      "+----------------------------+---------+\n",
      "|          favorite          |  1.506  |\n",
      "+----------------------------+---------+\n",
      "|           pasta            |  1.369  |\n",
      "+----------------------------+---------+\n",
      "|           loves            |  1.36   |\n",
      "+----------------------------+---------+\n",
      "|           smooth           |  1.334  |\n",
      "+----------------------------+---------+\n",
      "|            teas            |  1.333  |\n",
      "+----------------------------+---------+\n",
      "|         wonderful          |  1.324  |\n",
      "+----------------------------+---------+\n",
      "|           highly           |  1.307  |\n",
      "+----------------------------+---------+\n",
      "|          awesome           |  1.268  |\n",
      "+----------------------------+---------+\n",
      "|         pleasantly         |  1.242  |\n",
      "+----------------------------+---------+\n"
     ]
    }
   ],
   "source": [
    "print_features(lr_3)"
   ]
  },
  {
   "cell_type": "markdown",
   "metadata": {
    "scrolled": true
   },
   "source": [
    "# Bigrams - Bag of words"
   ]
  },
  {
   "cell_type": "code",
   "execution_count": 38,
   "metadata": {},
   "outputs": [
    {
     "name": "stdout",
     "output_type": "stream",
     "text": [
      "The train data shape is  (67000, 1169770) and test data shape is  (33000, 1169770)\n"
     ]
    }
   ],
   "source": [
    "bow_unigrams=CountVectorizer(ngram_range=(1,2),stop_words='english')\n",
    "BOW1_train=bow_unigrams.fit(df_train_x)\n",
    "BOW1_train=bow_unigrams.transform(df_train_x)\n",
    "BOW1_test=bow_unigrams.transform(df_test_x)\n",
    "print(\"The train data shape is \",BOW1_train.shape,\"and test data shape is \",BOW1_test.shape)"
   ]
  },
  {
   "cell_type": "markdown",
   "metadata": {},
   "source": [
    "# Data standardization"
   ]
  },
  {
   "cell_type": "code",
   "execution_count": 39,
   "metadata": {},
   "outputs": [
    {
     "name": "stdout",
     "output_type": "stream",
     "text": [
      "(67000, 1169770) (33000, 1169770)\n"
     ]
    }
   ],
   "source": [
    "from sklearn.exceptions import DataConversionWarning\n",
    "from sklearn import  warnings\n",
    "warnings.filterwarnings(\"ignore\", category=DataConversionWarning)\n",
    "std=StandardScaler(with_mean=False)\n",
    "std=std.fit(BOW1_train)\n",
    "BOW1_train = BOW1_train.astype(float)\n",
    "BOW1_test = BOW1_test.astype(float)\n",
    "BOW1_train_std=std.transform(BOW1_train)\n",
    "BOW1_test_std=std.transform(BOW1_test)\n",
    "print(BOW1_train_std.shape,BOW1_test_std.shape)"
   ]
  },
  {
   "cell_type": "markdown",
   "metadata": {},
   "source": [
    "# Label Encoder "
   ]
  },
  {
   "cell_type": "code",
   "execution_count": 40,
   "metadata": {},
   "outputs": [],
   "source": [
    "from sklearn import preprocessing\n",
    "bin=preprocessing.LabelEncoder()\n",
    "df_train_y=bin.fit_transform(df_train_y)\n",
    "df_test_y=bin.fit_transform(df_test_y)"
   ]
  },
  {
   "cell_type": "markdown",
   "metadata": {},
   "source": [
    "# Grid and random search"
   ]
  },
  {
   "cell_type": "code",
   "execution_count": null,
   "metadata": {},
   "outputs": [],
   "source": [
    "grid_search(BOW1_train_std,df_train_y,'bigrams_grid.csv') #performed grid search\n",
    "random_search(BOW1_train_std,df_train_y,'bigrams_random.csv') # performed random searc"
   ]
  },
  {
   "cell_type": "code",
   "execution_count": 44,
   "metadata": {},
   "outputs": [
    {
     "name": "stdout",
     "output_type": "stream",
     "text": [
      "*********** Results of Grid search ***********\n"
     ]
    },
    {
     "data": {
      "text/html": [
       "<div>\n",
       "<style scoped>\n",
       "    .dataframe tbody tr th:only-of-type {\n",
       "        vertical-align: middle;\n",
       "    }\n",
       "\n",
       "    .dataframe tbody tr th {\n",
       "        vertical-align: top;\n",
       "    }\n",
       "\n",
       "    .dataframe thead th {\n",
       "        text-align: right;\n",
       "    }\n",
       "</style>\n",
       "<table border=\"1\" class=\"dataframe\">\n",
       "  <thead>\n",
       "    <tr style=\"text-align: right;\">\n",
       "      <th></th>\n",
       "      <th>lambda_value</th>\n",
       "      <th>regularization</th>\n",
       "      <th>cv_score</th>\n",
       "    </tr>\n",
       "  </thead>\n",
       "  <tbody>\n",
       "    <tr>\n",
       "      <th>3</th>\n",
       "      <td>0.010</td>\n",
       "      <td>l2</td>\n",
       "      <td>0.942893</td>\n",
       "    </tr>\n",
       "    <tr>\n",
       "      <th>5</th>\n",
       "      <td>0.100</td>\n",
       "      <td>l2</td>\n",
       "      <td>0.942893</td>\n",
       "    </tr>\n",
       "    <tr>\n",
       "      <th>11</th>\n",
       "      <td>100.000</td>\n",
       "      <td>l2</td>\n",
       "      <td>0.942885</td>\n",
       "    </tr>\n",
       "    <tr>\n",
       "      <th>7</th>\n",
       "      <td>1.000</td>\n",
       "      <td>l2</td>\n",
       "      <td>0.942878</td>\n",
       "    </tr>\n",
       "    <tr>\n",
       "      <th>13</th>\n",
       "      <td>1000.000</td>\n",
       "      <td>l2</td>\n",
       "      <td>0.942878</td>\n",
       "    </tr>\n",
       "    <tr>\n",
       "      <th>1</th>\n",
       "      <td>0.001</td>\n",
       "      <td>l2</td>\n",
       "      <td>0.942878</td>\n",
       "    </tr>\n",
       "    <tr>\n",
       "      <th>9</th>\n",
       "      <td>10.000</td>\n",
       "      <td>l2</td>\n",
       "      <td>0.942870</td>\n",
       "    </tr>\n",
       "    <tr>\n",
       "      <th>8</th>\n",
       "      <td>10.000</td>\n",
       "      <td>l1</td>\n",
       "      <td>0.942863</td>\n",
       "    </tr>\n",
       "    <tr>\n",
       "      <th>12</th>\n",
       "      <td>1000.000</td>\n",
       "      <td>l1</td>\n",
       "      <td>0.942856</td>\n",
       "    </tr>\n",
       "    <tr>\n",
       "      <th>10</th>\n",
       "      <td>100.000</td>\n",
       "      <td>l1</td>\n",
       "      <td>0.942856</td>\n",
       "    </tr>\n",
       "    <tr>\n",
       "      <th>4</th>\n",
       "      <td>0.100</td>\n",
       "      <td>l1</td>\n",
       "      <td>0.942841</td>\n",
       "    </tr>\n",
       "    <tr>\n",
       "      <th>6</th>\n",
       "      <td>1.000</td>\n",
       "      <td>l1</td>\n",
       "      <td>0.942841</td>\n",
       "    </tr>\n",
       "    <tr>\n",
       "      <th>2</th>\n",
       "      <td>0.010</td>\n",
       "      <td>l1</td>\n",
       "      <td>0.942833</td>\n",
       "    </tr>\n",
       "    <tr>\n",
       "      <th>0</th>\n",
       "      <td>0.001</td>\n",
       "      <td>l1</td>\n",
       "      <td>0.942826</td>\n",
       "    </tr>\n",
       "  </tbody>\n",
       "</table>\n",
       "</div>"
      ],
      "text/plain": [
       "    lambda_value regularization  cv_score\n",
       "3          0.010             l2  0.942893\n",
       "5          0.100             l2  0.942893\n",
       "11       100.000             l2  0.942885\n",
       "7          1.000             l2  0.942878\n",
       "13      1000.000             l2  0.942878\n",
       "1          0.001             l2  0.942878\n",
       "9         10.000             l2  0.942870\n",
       "8         10.000             l1  0.942863\n",
       "12      1000.000             l1  0.942856\n",
       "10       100.000             l1  0.942856\n",
       "4          0.100             l1  0.942841\n",
       "6          1.000             l1  0.942841\n",
       "2          0.010             l1  0.942833\n",
       "0          0.001             l1  0.942826"
      ]
     },
     "metadata": {},
     "output_type": "display_data"
    },
    {
     "name": "stdout",
     "output_type": "stream",
     "text": [
      "*********** Results of Random search ***********\n"
     ]
    },
    {
     "data": {
      "text/html": [
       "<div>\n",
       "<style scoped>\n",
       "    .dataframe tbody tr th:only-of-type {\n",
       "        vertical-align: middle;\n",
       "    }\n",
       "\n",
       "    .dataframe tbody tr th {\n",
       "        vertical-align: top;\n",
       "    }\n",
       "\n",
       "    .dataframe thead th {\n",
       "        text-align: right;\n",
       "    }\n",
       "</style>\n",
       "<table border=\"1\" class=\"dataframe\">\n",
       "  <thead>\n",
       "    <tr style=\"text-align: right;\">\n",
       "      <th></th>\n",
       "      <th>lambda_value</th>\n",
       "      <th>regularization</th>\n",
       "      <th>cv_score</th>\n",
       "    </tr>\n",
       "  </thead>\n",
       "  <tbody>\n",
       "    <tr>\n",
       "      <th>3</th>\n",
       "      <td>12.742750</td>\n",
       "      <td>l2</td>\n",
       "      <td>0.944467</td>\n",
       "    </tr>\n",
       "    <tr>\n",
       "      <th>0</th>\n",
       "      <td>0.615848</td>\n",
       "      <td>l2</td>\n",
       "      <td>0.944452</td>\n",
       "    </tr>\n",
       "    <tr>\n",
       "      <th>5</th>\n",
       "      <td>1.128838</td>\n",
       "      <td>l2</td>\n",
       "      <td>0.944452</td>\n",
       "    </tr>\n",
       "    <tr>\n",
       "      <th>7</th>\n",
       "      <td>2.069138</td>\n",
       "      <td>l2</td>\n",
       "      <td>0.944452</td>\n",
       "    </tr>\n",
       "    <tr>\n",
       "      <th>1</th>\n",
       "      <td>1623.776739</td>\n",
       "      <td>l2</td>\n",
       "      <td>0.944444</td>\n",
       "    </tr>\n",
       "    <tr>\n",
       "      <th>8</th>\n",
       "      <td>10000.000000</td>\n",
       "      <td>l2</td>\n",
       "      <td>0.944444</td>\n",
       "    </tr>\n",
       "    <tr>\n",
       "      <th>9</th>\n",
       "      <td>263.665090</td>\n",
       "      <td>l2</td>\n",
       "      <td>0.944444</td>\n",
       "    </tr>\n",
       "    <tr>\n",
       "      <th>4</th>\n",
       "      <td>5455.594781</td>\n",
       "      <td>l1</td>\n",
       "      <td>0.938854</td>\n",
       "    </tr>\n",
       "    <tr>\n",
       "      <th>2</th>\n",
       "      <td>143.844989</td>\n",
       "      <td>l1</td>\n",
       "      <td>0.938596</td>\n",
       "    </tr>\n",
       "    <tr>\n",
       "      <th>6</th>\n",
       "      <td>2976.351442</td>\n",
       "      <td>l1</td>\n",
       "      <td>0.938490</td>\n",
       "    </tr>\n",
       "  </tbody>\n",
       "</table>\n",
       "</div>"
      ],
      "text/plain": [
       "   lambda_value regularization  cv_score\n",
       "3     12.742750             l2  0.944467\n",
       "0      0.615848             l2  0.944452\n",
       "5      1.128838             l2  0.944452\n",
       "7      2.069138             l2  0.944452\n",
       "1   1623.776739             l2  0.944444\n",
       "8  10000.000000             l2  0.944444\n",
       "9    263.665090             l2  0.944444\n",
       "4   5455.594781             l1  0.938854\n",
       "2    143.844989             l1  0.938596\n",
       "6   2976.351442             l1  0.938490"
      ]
     },
     "metadata": {},
     "output_type": "display_data"
    }
   ],
   "source": [
    "print(\"*********** Results of Grid search ***********\")\n",
    "read_table_data('bigrams_grid.csv')\n",
    "print(\"*********** Results of Random search ***********\")\n",
    "read_table_data('bigrams_random.csv')"
   ]
  },
  {
   "cell_type": "markdown",
   "metadata": {},
   "source": [
    "The best results for Both L1 and L2 reguarization are found at :\n",
    "\n",
    "**For L2 - > cv_score is 0.942893 and C=0.010 ,0.1,100, 1.0 ,1000,12.72 (C= 1 / lambda)**\n",
    "\n",
    "**For L1 - > cv_score is 0.942863 and C=10, 1000,100,0.100, 5455.59,0.001 **\n",
    "\n",
    "so lets try the test data validation on this parameters"
   ]
  },
  {
   "cell_type": "markdown",
   "metadata": {},
   "source": [
    "# L2-regularization"
   ]
  },
  {
   "cell_type": "code",
   "execution_count": 45,
   "metadata": {},
   "outputs": [
    {
     "name": "stderr",
     "output_type": "stream",
     "text": [
      "/home/gurnatham_ravi/anaconda3/lib/python3.6/site-packages/sklearn/linear_model/logistic.py:1228: UserWarning: 'n_jobs' > 1 does not have any effect when 'solver' is set to 'liblinear'. Got 'n_jobs' = -1.\n",
      "  \" = {}.\".format(self.n_jobs))\n"
     ]
    }
   ],
   "source": [
    "from sklearn.linear_model import LogisticRegression\n",
    "LR=LogisticRegression(penalty='l2', tol=0.0001, C=0.010,  n_jobs=-1)\n",
    "lr_1=LR.fit(BOW1_train_std,df_train_y)\n",
    "LR=LogisticRegression(penalty='l2', tol=0.0001, C=0.1,  n_jobs=-1)\n",
    "lr_2=LR.fit(BOW1_train_std,df_train_y)\n",
    "LR=LogisticRegression(penalty='l2', tol=0.0001, C=1.0,  n_jobs=-1)\n",
    "lr_3=LR.fit(BOW1_train_std,df_train_y)\n",
    "LR=LogisticRegression(penalty='l2', tol=0.0001, C=12.74,  n_jobs=-1)\n",
    "lr_4=LR.fit(BOW1_train_std,df_train_y)\n",
    "LR=LogisticRegression(penalty='l2', tol=0.0001, C=100,  n_jobs=-1)\n",
    "lr_5=LR.fit(BOW1_train_std,df_train_y)\n",
    "LR=LogisticRegression(penalty='l2', tol=0.0001, C=1000,  n_jobs=-1)\n",
    "lr_6=LR.fit(BOW1_train_std,df_train_y)"
   ]
  },
  {
   "cell_type": "code",
   "execution_count": 46,
   "metadata": {},
   "outputs": [],
   "source": [
    "from sklearn.metrics import confusion_matrix,f1_score,recall_score,precision_score,accuracy_score\n",
    "outputs=[]\n",
    "outputs.append(lr_1.predict(BOW1_test_std))\n",
    "outputs.append(lr_2.predict(BOW1_test_std))\n",
    "outputs.append(lr_3.predict(BOW1_test_std))\n",
    "outputs.append(lr_4.predict(BOW1_test_std))\n",
    "outputs.append(lr_5.predict(BOW1_test_std))\n",
    "outputs.append(lr_6.predict(BOW1_test_std))\n",
    "cms=[]\n",
    "for op in outputs:\n",
    "    cms.append(confusion_matrix(df_test_y,op))\n",
    "dfs=[]\n",
    "for cm in cms:\n",
    "    dfs.append(pd.DataFrame(cm,index=['negative','positive'],columns=['negative','positive']))"
   ]
  },
  {
   "cell_type": "code",
   "execution_count": 47,
   "metadata": {},
   "outputs": [
    {
     "name": "stdout",
     "output_type": "stream",
     "text": [
      "+--------+--------+----------+----------+----------+-------------------+-------+\n",
      "| precis | recall | accuracy | f1-score | Non-zero | sparsity(Non-zero |   C   |\n",
      "|  ion   |        |          |          |          |      weights)     |       |\n",
      "+--------+--------+----------+----------+----------+-------------------+-------+\n",
      "| 0.883  | 0.998  |  0.882   |  0.937   | 1169770  |        1.0        | 0.01  |\n",
      "+--------+--------+----------+----------+----------+-------------------+-------+\n",
      "| 0.884  | 0.997  |  0.883   |  0.937   | 1169770  |        1.0        |  0.1  |\n",
      "+--------+--------+----------+----------+----------+-------------------+-------+\n",
      "| 0.886  | 0.996  |  0.884   |  0.938   | 1169770  |        1.0        |  1.0  |\n",
      "+--------+--------+----------+----------+----------+-------------------+-------+\n",
      "| 0.887  | 0.993  |  0.884   |  0.937   | 1169770  |        1.0        | 12.74 |\n",
      "+--------+--------+----------+----------+----------+-------------------+-------+\n",
      "| 0.888  | 0.992  |  0.884   |  0.937   | 1169770  |        1.0        |  100  |\n",
      "+--------+--------+----------+----------+----------+-------------------+-------+\n",
      "| 0.888  | 0.992  |  0.883   |  0.937   | 1169770  |        1.0        | 1000  |\n",
      "+--------+--------+----------+----------+----------+-------------------+-------+\n"
     ]
    },
    {
     "data": {
      "image/png": "[encoded data removed]",
      "text/plain": [
       "<Figure size 1440x1080 with 12 Axes>"
      ]
     },
     "metadata": {},
     "output_type": "display_data"
    }
   ],
   "source": [
    "C_values=[0.010,0.1,1.0,12.74,100,1000]\n",
    "plot_confusion_matrix_table(C_values,outputs,df_test_y,lr_1,lr_2,lr_3,lr_4,lr_5,lr_6,3,2)"
   ]
  },
  {
   "cell_type": "markdown",
   "metadata": {},
   "source": [
    "# Observation \n",
    "**As the value of C(1 / lambda), Generalization is improved, which we can clearly seen that error on unseen data decreases**"
   ]
  },
  {
   "cell_type": "markdown",
   "metadata": {},
   "source": [
    "# Multicolinearity check (pertubation test)"
   ]
  },
  {
   "cell_type": "code",
   "execution_count": 48,
   "metadata": {},
   "outputs": [
    {
     "name": "stdout",
     "output_type": "stream",
     "text": [
      "Adding noise to every feature is  -0.003715078680938332\n",
      "count is  0\n",
      "count is  10000\n",
      "count is  20000\n",
      "count is  30000\n",
      "count is  40000\n",
      "count is  50000\n",
      "count is  60000\n"
     ]
    }
   ],
   "source": [
    "new_noise_added_train_data=add_noise(BOW1_train_std)"
   ]
  },
  {
   "cell_type": "code",
   "execution_count": 49,
   "metadata": {},
   "outputs": [
    {
     "name": "stderr",
     "output_type": "stream",
     "text": [
      "/home/gurnatham_ravi/anaconda3/lib/python3.6/site-packages/sklearn/linear_model/logistic.py:1228: UserWarning: 'n_jobs' > 1 does not have any effect when 'solver' is set to 'liblinear'. Got 'n_jobs' = -1.\n",
      "  \" = {}.\".format(self.n_jobs))\n"
     ]
    }
   ],
   "source": [
    "lr_multi_colinearity=LogisticRegression(penalty='l2', tol=0.0001, C=0.01,  n_jobs=-1)\n",
    "lr_colinearity=lr_multi_colinearity.fit(new_noise_added_train_data,df_train_y)"
   ]
  },
  {
   "cell_type": "code",
   "execution_count": 50,
   "metadata": {},
   "outputs": [
    {
     "name": "stdout",
     "output_type": "stream",
     "text": [
      "Before pertubation [ 4.48758124e-03  4.40671033e-03  3.35566248e-04 ... -3.59127912e-06\n",
      "  5.43196613e-04  5.43196613e-04]\n",
      "**************************************\n",
      "After pertubation [ 0.00448676  0.00440574  0.00033474 ... -0.0004068   0.00054424\n",
      "  0.00054424]\n"
     ]
    }
   ],
   "source": [
    "print('Before pertubation',lr_colinearity.coef_[0])\n",
    "print(\"**************************************\")\n",
    "print('After pertubation',lr_1.coef_[0])"
   ]
  },
  {
   "cell_type": "code",
   "execution_count": 51,
   "metadata": {},
   "outputs": [
    {
     "data": {
      "text/plain": [
       "array([0.00074009, 0.00074009, 0.00074009, 0.00074009, 0.00074009,\n",
       "       0.00074009, 0.00074009, 0.00074009, 0.00074009, 0.00074009])"
      ]
     },
     "execution_count": 51,
     "metadata": {},
     "output_type": "execute_result"
    }
   ],
   "source": [
    "np.sort(lr_1.coef_[0]-lr_colinearity.coef_[0])[-10:]"
   ]
  },
  {
   "cell_type": "markdown",
   "metadata": {},
   "source": [
    "**From above multicolinearity test we can observe that  features are not changling a lot due to small change in feature values  and maximum change around features is 0.00074769 , so we can conclude that features are not colinear.**"
   ]
  },
  {
   "cell_type": "markdown",
   "metadata": {},
   "source": [
    "# feature importance"
   ]
  },
  {
   "cell_type": "code",
   "execution_count": 52,
   "metadata": {},
   "outputs": [
    {
     "name": "stdout",
     "output_type": "stream",
     "text": [
      "+----------------------------+---------+\n",
      "| Top 20 important features  | Weight  |\n",
      "+----------------------------+---------+\n",
      "|           great            |  0.183  |\n",
      "+----------------------------+---------+\n",
      "|            good            |  0.136  |\n",
      "+----------------------------+---------+\n",
      "|            love            |  0.135  |\n",
      "+----------------------------+---------+\n",
      "|            best            |  0.131  |\n",
      "+----------------------------+---------+\n",
      "|         excellent          |  0.092  |\n",
      "+----------------------------+---------+\n",
      "|         delicious          |  0.085  |\n",
      "+----------------------------+---------+\n",
      "|          product           |  0.079  |\n",
      "+----------------------------+---------+\n",
      "|           loves            |  0.078  |\n",
      "+----------------------------+---------+\n",
      "|           price            |  0.074  |\n",
      "+----------------------------+---------+\n",
      "|          favorite          |  0.072  |\n",
      "+----------------------------+---------+\n",
      "|           tasty            |  0.064  |\n",
      "+----------------------------+---------+\n",
      "|            easy            |  0.063  |\n",
      "+----------------------------+---------+\n",
      "|         wonderful          |  0.063  |\n",
      "+----------------------------+---------+\n",
      "|           flavor           |  0.063  |\n",
      "+----------------------------+---------+\n",
      "|            like            |  0.06   |\n",
      "+----------------------------+---------+\n",
      "|           really           |  0.06   |\n",
      "+----------------------------+---------+\n",
      "|       great product        |  0.058  |\n",
      "+----------------------------+---------+\n",
      "|            just            |  0.058  |\n",
      "+----------------------------+---------+\n",
      "|           taste            |  0.058  |\n",
      "+----------------------------+---------+\n",
      "|           better           |  0.058  |\n",
      "+----------------------------+---------+\n"
     ]
    }
   ],
   "source": [
    "print_features(lr_1)"
   ]
  },
  {
   "cell_type": "markdown",
   "metadata": {},
   "source": [
    "# L1 regularization with Bag of words - Bigrams"
   ]
  },
  {
   "cell_type": "code",
   "execution_count": 148,
   "metadata": {},
   "outputs": [],
   "source": [
    "#C=[10, 1000,100,0.100, 5455.59,0.001]\n",
    "from sklearn.linear_model import LogisticRegression\n",
    "LR=LogisticRegression(penalty='l1', tol=0.0001, C=0.001,  n_jobs=-1)\n",
    "lr_1=LR.fit(BOW1_train_std,df_train_y)\n",
    "LR=LogisticRegression(penalty='l1', tol=0.0001, C=0.1,  n_jobs=-1)\n",
    "lr_2=LR.fit(BOW1_train_std,df_train_y)\n",
    "LR=LogisticRegression(penalty='l1', tol=0.0001, C=1.0,  n_jobs=-1)\n",
    "lr_3=LR.fit(BOW1_train_std,df_train_y)\n",
    "LR=LogisticRegression(penalty='l1', tol=0.0001, C=10,  n_jobs=-1)\n",
    "lr_4=LR.fit(BOW1_train_std,df_train_y)\n",
    "LR=LogisticRegression(penalty='l1', tol=0.0001, C=100,  n_jobs=-1)\n",
    "lr_5=LR.fit(BOW1_train_std,df_train_y)\n",
    "LR=LogisticRegression(penalty='l1', tol=0.0001, C=5455.59,  n_jobs=-1)\n",
    "lr_6=LR.fit(BOW1_train_std,df_train_y)"
   ]
  },
  {
   "cell_type": "code",
   "execution_count": null,
   "metadata": {},
   "outputs": [],
   "source": [
    "LR=LogisticRegression(penalty='l1', tol=0.0001, C=0.001,  n_jobs=-1)\n",
    "lr_1=LR.fit(BOW1_train_std,df_train_y)"
   ]
  },
  {
   "cell_type": "code",
   "execution_count": 28,
   "metadata": {},
   "outputs": [],
   "source": [
    "from sklearn.metrics import confusion_matrix,f1_score,recall_score,precision_score,accuracy_score\n",
    "outputs=[]\n",
    "outputs.append(lr_1.predict(BOW1_test_std))\n",
    "outputs.append(lr_2.predict(BOW1_test_std))\n",
    "outputs.append(lr_3.predict(BOW1_test_std))\n",
    "outputs.append(lr_4.predict(BOW1_test_std))\n",
    "outputs.append(lr_5.predict(BOW1_test_std))\n",
    "outputs.append(lr_6.predict(BOW1_test_std))\n",
    "cms=[]\n",
    "for op in outputs:\n",
    "    cms.append(confusion_matrix(df_test_y,op))\n",
    "dfs=[]\n",
    "for cm in cms:\n",
    "    dfs.append(pd.DataFrame(cm,index=['negative','positive'],columns=['negative','positive']))"
   ]
  },
  {
   "cell_type": "code",
   "execution_count": 29,
   "metadata": {},
   "outputs": [
    {
     "name": "stdout",
     "output_type": "stream",
     "text": [
      "+--------+--------+----------+----------+----------+-------------------+-------+\n",
      "| precis | recall | accuracy | f1-score | Non-zero | sparsity(Non-zero |   C   |\n",
      "|  ion   |        |          |          |          |      weights)     |       |\n",
      "+--------+--------+----------+----------+----------+-------------------+-------+\n",
      "| 0.881  | 0.999  |  0.881   |  0.937   |    49    |        0.0        | 0.001 |\n",
      "+--------+--------+----------+----------+----------+-------------------+-------+\n",
      "|  0.91  | 0.985  |  0.902   |  0.946   |  35901   |       0.031       | 0.01  |\n",
      "+--------+--------+----------+----------+----------+-------------------+-------+\n",
      "| 0.907  | 0.984  |  0.898   |  0.944   |  50863   |       0.043       |  0.1  |\n",
      "+--------+--------+----------+----------+----------+-------------------+-------+\n",
      "|  0.91  | 0.989  |  0.905   |  0.948   |  79068   |       0.068       |  10   |\n",
      "+--------+--------+----------+----------+----------+-------------------+-------+\n",
      "| 0.895  | 0.992  |  0.891   |  0.941   |  307902  |       0.263       |  100  |\n",
      "+--------+--------+----------+----------+----------+-------------------+-------+\n",
      "| 0.892  | 0.985  |  0.882   |  0.936   |  971549  |       0.831       | 5455  |\n",
      "+--------+--------+----------+----------+----------+-------------------+-------+\n"
     ]
    },
    {
     "data": {
      "image/png": "[encoded data removed]",
      "text/plain": [
       "<Figure size 1440x1080 with 12 Axes>"
      ]
     },
     "metadata": {},
     "output_type": "display_data"
    }
   ],
   "source": [
    "C_values=[0.001,0.1,0.1,10,100,5455]\n",
    "plot_confusion_matrix_table(C_values,outputs,df_test_y,lr_1,lr_2,lr_3,lr_4,lr_5,lr_6,3,2)"
   ]
  },
  {
   "cell_type": "markdown",
   "metadata": {},
   "source": [
    "# Observation\n",
    "As the C decreases the the sparisty in weight vectors increasing , we can observe that for different values of C values .\n",
    "\n",
    "1.For value of C=5455(inverse strength) we have sparsity is 83.1 (83.1% of weights are are non-zero)\n",
    "\n",
    "2.For value of C=0.01 we have sparisty as 3 (only 3% are non-zero and remaining are zero)\n",
    "\n",
    "\n",
    "From both 1 & 2,\n",
    "\n",
    "we can conclude that as the C decreases the sparsity in the weight vectors increasing.\n"
   ]
  },
  {
   "cell_type": "markdown",
   "metadata": {},
   "source": [
    "# Multicolinearity check (pertubation test)"
   ]
  },
  {
   "cell_type": "code",
   "execution_count": null,
   "metadata": {},
   "outputs": [],
   "source": [
    "new_noise_added_train_data=add_noise(BOW1_train_std)"
   ]
  },
  {
   "cell_type": "code",
   "execution_count": 55,
   "metadata": {},
   "outputs": [
    {
     "name": "stderr",
     "output_type": "stream",
     "text": [
      "/home/gurnatham_ravi/anaconda3/lib/python3.6/site-packages/sklearn/linear_model/logistic.py:1228: UserWarning: 'n_jobs' > 1 does not have any effect when 'solver' is set to 'liblinear'. Got 'n_jobs' = -1.\n",
      "  \" = {}.\".format(self.n_jobs))\n"
     ]
    }
   ],
   "source": [
    "lr_multi_colinearity=LogisticRegression(penalty='l1', tol=0.0001, C=100,  n_jobs=-1)\n",
    "lr_colinearity=lr_multi_colinearity.fit(new_noise_added_train_data,df_train_y)"
   ]
  },
  {
   "cell_type": "code",
   "execution_count": 57,
   "metadata": {},
   "outputs": [
    {
     "name": "stdout",
     "output_type": "stream",
     "text": [
      "After pertubation [ 0.          0.00389908  0.         ... -0.00632317  0.\n",
      "  0.00011376]\n",
      "**************************************\n",
      "Before pertubation [0.01222699 0.         0.         ... 0.         0.         0.        ]\n"
     ]
    }
   ],
   "source": [
    "print('After pertubation',lr_colinearity.coef_[0])\n",
    "print(\"**************************************\")\n",
    "print('Before pertubation',lr_5.coef_[0])"
   ]
  },
  {
   "cell_type": "code",
   "execution_count": 58,
   "metadata": {},
   "outputs": [
    {
     "data": {
      "text/plain": [
       "array([0.09125652, 0.09695444, 0.09801514, 0.09855165, 0.10058579,\n",
       "       0.10364766, 0.10636119, 0.10923902, 0.11055586, 0.11154997,\n",
       "       0.12524099, 0.12851334, 0.12915713, 0.13186541, 0.1382764 ,\n",
       "       0.14233147, 0.14737975, 0.18503357, 0.20539086, 0.20719337])"
      ]
     },
     "execution_count": 58,
     "metadata": {},
     "output_type": "execute_result"
    }
   ],
   "source": [
    "np.sort(lr_5.coef_[0]-lr_colinearity.coef_[0])[-20:]"
   ]
  },
  {
   "cell_type": "markdown",
   "metadata": {},
   "source": [
    "From above multicolinearity test we can observe that features are not changling a lot due to small change in feature values , so we can conclude that there is no colinearity among the features.\n",
    "# So we can conclude that between features, there is no multicolinearity."
   ]
  },
  {
   "cell_type": "markdown",
   "metadata": {},
   "source": [
    "# feature importance"
   ]
  },
  {
   "cell_type": "code",
   "execution_count": 59,
   "metadata": {},
   "outputs": [
    {
     "name": "stdout",
     "output_type": "stream",
     "text": [
      "+----------------------------+---------+\n",
      "| Top 20 important features  | Weight  |\n",
      "+----------------------------+---------+\n",
      "|         excellent          |  0.573  |\n",
      "+----------------------------+---------+\n",
      "|            love            |  0.506  |\n",
      "+----------------------------+---------+\n",
      "|           great            |  0.445  |\n",
      "+----------------------------+---------+\n",
      "|           bottle           |  0.397  |\n",
      "+----------------------------+---------+\n",
      "|            good            |  0.396  |\n",
      "+----------------------------+---------+\n",
      "|            best            |  0.324  |\n",
      "+----------------------------+---------+\n",
      "|           tasty            |  0.29   |\n",
      "+----------------------------+---------+\n",
      "|           loved            |  0.289  |\n",
      "+----------------------------+---------+\n",
      "|         delicious          |  0.287  |\n",
      "+----------------------------+---------+\n",
      "|         wonderful          |  0.287  |\n",
      "+----------------------------+---------+\n",
      "|           really           |  0.286  |\n",
      "+----------------------------+---------+\n",
      "|          product           |  0.283  |\n",
      "+----------------------------+---------+\n",
      "|           loves            |  0.262  |\n",
      "+----------------------------+---------+\n",
      "|        tastes great        |  0.223  |\n",
      "+----------------------------+---------+\n",
      "|           highly           |  0.212  |\n",
      "+----------------------------+---------+\n",
      "|        like product        |  0.192  |\n",
      "+----------------------------+---------+\n",
      "|            easy            |  0.187  |\n",
      "+----------------------------+---------+\n",
      "|           bought           |  0.183  |\n",
      "+----------------------------+---------+\n",
      "|           coffee           |  0.18   |\n",
      "+----------------------------+---------+\n",
      "|        great taste         |  0.176  |\n",
      "+----------------------------+---------+\n"
     ]
    }
   ],
   "source": [
    "print_features(lr_5)"
   ]
  },
  {
   "cell_type": "markdown",
   "metadata": {},
   "source": [
    "# tf_idf - Unigrams"
   ]
  },
  {
   "cell_type": "code",
   "execution_count": 60,
   "metadata": {},
   "outputs": [
    {
     "name": "stdout",
     "output_type": "stream",
     "text": [
      "The train data shape is  (67000, 90770) and test data shape is  (33000, 90770)\n"
     ]
    }
   ],
   "source": [
    "from sklearn.feature_extraction.text import TfidfVectorizer\n",
    "bow_unigrams=TfidfVectorizer(stop_words='english')\n",
    "BOW1_train=bow_unigrams.fit(df_train_x)\n",
    "BOW1_train=bow_unigrams.transform(df_train_x)\n",
    "BOW1_test=bow_unigrams.transform(df_test_x)\n",
    "print(\"The train data shape is \",BOW1_train.shape,\"and test data shape is \",BOW1_test.shape)"
   ]
  },
  {
   "cell_type": "markdown",
   "metadata": {},
   "source": [
    "# Data standardization"
   ]
  },
  {
   "cell_type": "code",
   "execution_count": 61,
   "metadata": {},
   "outputs": [
    {
     "name": "stdout",
     "output_type": "stream",
     "text": [
      "(67000, 90770) (33000, 90770)\n"
     ]
    }
   ],
   "source": [
    "std=StandardScaler(with_mean=False)\n",
    "std=std.fit(BOW1_train)\n",
    "BOW1_train = BOW1_train.astype(float)\n",
    "BOW1_test = BOW1_test.astype(float)\n",
    "BOW1_train_std=std.transform(BOW1_train)\n",
    "BOW1_test_std=std.transform(BOW1_test)\n",
    "print(BOW1_train_std.shape,BOW1_test_std.shape)"
   ]
  },
  {
   "cell_type": "markdown",
   "metadata": {},
   "source": [
    "# Label Encoder"
   ]
  },
  {
   "cell_type": "code",
   "execution_count": 62,
   "metadata": {},
   "outputs": [],
   "source": [
    "from sklearn import preprocessing\n",
    "bin=preprocessing.LabelEncoder()\n",
    "df_train_y=bin.fit_transform(df_train_y)\n",
    "df_test_y=bin.fit_transform(df_test_y)"
   ]
  },
  {
   "cell_type": "markdown",
   "metadata": {},
   "source": [
    "# Hyperparameter tuning -Grid and random search "
   ]
  },
  {
   "cell_type": "code",
   "execution_count": null,
   "metadata": {},
   "outputs": [],
   "source": [
    "grid_search(BOW1_train_std,df_train_y,'tf_uni_grid.csv') #performed grid search\n",
    "random_search(BOW1_train_std,df_train_y,'tf_uni_random.csv') # performed random search"
   ]
  },
  {
   "cell_type": "code",
   "execution_count": 63,
   "metadata": {},
   "outputs": [
    {
     "name": "stdout",
     "output_type": "stream",
     "text": [
      "*********** Results of Grid search ***********\n"
     ]
    },
    {
     "data": {
      "text/html": [
       "<div>\n",
       "<style scoped>\n",
       "    .dataframe tbody tr th:only-of-type {\n",
       "        vertical-align: middle;\n",
       "    }\n",
       "\n",
       "    .dataframe tbody tr th {\n",
       "        vertical-align: top;\n",
       "    }\n",
       "\n",
       "    .dataframe thead th {\n",
       "        text-align: right;\n",
       "    }\n",
       "</style>\n",
       "<table border=\"1\" class=\"dataframe\">\n",
       "  <thead>\n",
       "    <tr style=\"text-align: right;\">\n",
       "      <th></th>\n",
       "      <th>lambda_value</th>\n",
       "      <th>regularization</th>\n",
       "      <th>cv_score</th>\n",
       "    </tr>\n",
       "  </thead>\n",
       "  <tbody>\n",
       "    <tr>\n",
       "      <th>2</th>\n",
       "      <td>0.010</td>\n",
       "      <td>l1</td>\n",
       "      <td>0.953928</td>\n",
       "    </tr>\n",
       "    <tr>\n",
       "      <th>1</th>\n",
       "      <td>0.001</td>\n",
       "      <td>l2</td>\n",
       "      <td>0.949042</td>\n",
       "    </tr>\n",
       "    <tr>\n",
       "      <th>4</th>\n",
       "      <td>0.100</td>\n",
       "      <td>l1</td>\n",
       "      <td>0.948340</td>\n",
       "    </tr>\n",
       "    <tr>\n",
       "      <th>0</th>\n",
       "      <td>0.001</td>\n",
       "      <td>l1</td>\n",
       "      <td>0.943371</td>\n",
       "    </tr>\n",
       "    <tr>\n",
       "      <th>3</th>\n",
       "      <td>0.010</td>\n",
       "      <td>l2</td>\n",
       "      <td>0.941260</td>\n",
       "    </tr>\n",
       "    <tr>\n",
       "      <th>6</th>\n",
       "      <td>1.000</td>\n",
       "      <td>l1</td>\n",
       "      <td>0.939800</td>\n",
       "    </tr>\n",
       "    <tr>\n",
       "      <th>8</th>\n",
       "      <td>10.000</td>\n",
       "      <td>l1</td>\n",
       "      <td>0.931198</td>\n",
       "    </tr>\n",
       "    <tr>\n",
       "      <th>10</th>\n",
       "      <td>100.000</td>\n",
       "      <td>l1</td>\n",
       "      <td>0.929188</td>\n",
       "    </tr>\n",
       "    <tr>\n",
       "      <th>5</th>\n",
       "      <td>0.100</td>\n",
       "      <td>l2</td>\n",
       "      <td>0.928392</td>\n",
       "    </tr>\n",
       "    <tr>\n",
       "      <th>12</th>\n",
       "      <td>1000.000</td>\n",
       "      <td>l1</td>\n",
       "      <td>0.927586</td>\n",
       "    </tr>\n",
       "    <tr>\n",
       "      <th>7</th>\n",
       "      <td>1.000</td>\n",
       "      <td>l2</td>\n",
       "      <td>0.923286</td>\n",
       "    </tr>\n",
       "    <tr>\n",
       "      <th>9</th>\n",
       "      <td>10.000</td>\n",
       "      <td>l2</td>\n",
       "      <td>0.922626</td>\n",
       "    </tr>\n",
       "    <tr>\n",
       "      <th>13</th>\n",
       "      <td>1000.000</td>\n",
       "      <td>l2</td>\n",
       "      <td>0.922619</td>\n",
       "    </tr>\n",
       "    <tr>\n",
       "      <th>11</th>\n",
       "      <td>100.000</td>\n",
       "      <td>l2</td>\n",
       "      <td>0.922434</td>\n",
       "    </tr>\n",
       "  </tbody>\n",
       "</table>\n",
       "</div>"
      ],
      "text/plain": [
       "    lambda_value regularization  cv_score\n",
       "2          0.010             l1  0.953928\n",
       "1          0.001             l2  0.949042\n",
       "4          0.100             l1  0.948340\n",
       "0          0.001             l1  0.943371\n",
       "3          0.010             l2  0.941260\n",
       "6          1.000             l1  0.939800\n",
       "8         10.000             l1  0.931198\n",
       "10       100.000             l1  0.929188\n",
       "5          0.100             l2  0.928392\n",
       "12      1000.000             l1  0.927586\n",
       "7          1.000             l2  0.923286\n",
       "9         10.000             l2  0.922626\n",
       "13      1000.000             l2  0.922619\n",
       "11       100.000             l2  0.922434"
      ]
     },
     "metadata": {},
     "output_type": "display_data"
    },
    {
     "name": "stdout",
     "output_type": "stream",
     "text": [
      "*********** Results of Random search ***********\n"
     ]
    },
    {
     "data": {
      "text/html": [
       "<div>\n",
       "<style scoped>\n",
       "    .dataframe tbody tr th:only-of-type {\n",
       "        vertical-align: middle;\n",
       "    }\n",
       "\n",
       "    .dataframe tbody tr th {\n",
       "        vertical-align: top;\n",
       "    }\n",
       "\n",
       "    .dataframe thead th {\n",
       "        text-align: right;\n",
       "    }\n",
       "</style>\n",
       "<table border=\"1\" class=\"dataframe\">\n",
       "  <thead>\n",
       "    <tr style=\"text-align: right;\">\n",
       "      <th></th>\n",
       "      <th>lambda_value</th>\n",
       "      <th>regularization</th>\n",
       "      <th>cv_score</th>\n",
       "    </tr>\n",
       "  </thead>\n",
       "  <tbody>\n",
       "    <tr>\n",
       "      <th>3</th>\n",
       "      <td>0.255955</td>\n",
       "      <td>l1</td>\n",
       "      <td>0.944319</td>\n",
       "    </tr>\n",
       "    <tr>\n",
       "      <th>2</th>\n",
       "      <td>0.828643</td>\n",
       "      <td>l1</td>\n",
       "      <td>0.940027</td>\n",
       "    </tr>\n",
       "    <tr>\n",
       "      <th>7</th>\n",
       "      <td>1.676833</td>\n",
       "      <td>l1</td>\n",
       "      <td>0.936780</td>\n",
       "    </tr>\n",
       "    <tr>\n",
       "      <th>5</th>\n",
       "      <td>10000.000000</td>\n",
       "      <td>l1</td>\n",
       "      <td>0.929142</td>\n",
       "    </tr>\n",
       "    <tr>\n",
       "      <th>4</th>\n",
       "      <td>3088.843596</td>\n",
       "      <td>l1</td>\n",
       "      <td>0.928550</td>\n",
       "    </tr>\n",
       "    <tr>\n",
       "      <th>6</th>\n",
       "      <td>754.312006</td>\n",
       "      <td>l1</td>\n",
       "      <td>0.928070</td>\n",
       "    </tr>\n",
       "    <tr>\n",
       "      <th>9</th>\n",
       "      <td>115.139540</td>\n",
       "      <td>l1</td>\n",
       "      <td>0.925936</td>\n",
       "    </tr>\n",
       "    <tr>\n",
       "      <th>1</th>\n",
       "      <td>0.517947</td>\n",
       "      <td>l2</td>\n",
       "      <td>0.924069</td>\n",
       "    </tr>\n",
       "    <tr>\n",
       "      <th>0</th>\n",
       "      <td>6250.551925</td>\n",
       "      <td>l2</td>\n",
       "      <td>0.923041</td>\n",
       "    </tr>\n",
       "    <tr>\n",
       "      <th>8</th>\n",
       "      <td>2442.053095</td>\n",
       "      <td>l2</td>\n",
       "      <td>0.922704</td>\n",
       "    </tr>\n",
       "  </tbody>\n",
       "</table>\n",
       "</div>"
      ],
      "text/plain": [
       "   lambda_value regularization  cv_score\n",
       "3      0.255955             l1  0.944319\n",
       "2      0.828643             l1  0.940027\n",
       "7      1.676833             l1  0.936780\n",
       "5  10000.000000             l1  0.929142\n",
       "4   3088.843596             l1  0.928550\n",
       "6    754.312006             l1  0.928070\n",
       "9    115.139540             l1  0.925936\n",
       "1      0.517947             l2  0.924069\n",
       "0   6250.551925             l2  0.923041\n",
       "8   2442.053095             l2  0.922704"
      ]
     },
     "metadata": {},
     "output_type": "display_data"
    }
   ],
   "source": [
    "print(\"*********** Results of Grid search ***********\")\n",
    "read_table_data('tf_uni_grid.csv')\n",
    "print(\"*********** Results of Random search ***********\")\n",
    "read_table_data('tf_uni_random.csv')"
   ]
  },
  {
   "cell_type": "markdown",
   "metadata": {},
   "source": [
    "The best results for Both L1 and L2 reguarization are found at :\n",
    "\n",
    "**For L2 - > cv_score is around 0.95 and C=0.0010 , 0.01 , 0.1,1,2442,6250 (C= 1 / lambda)**\n",
    "\n",
    "**For L1 - > cv_score is 0.95 and C=0.001,0.010,1.0,0.25,1.67,10000**\n",
    "\n",
    "so lets try the test data validation on this parameters\n",
    "\n"
   ]
  },
  {
   "cell_type": "markdown",
   "metadata": {},
   "source": [
    "# L2-regularization"
   ]
  },
  {
   "cell_type": "code",
   "execution_count": 33,
   "metadata": {},
   "outputs": [
    {
     "name": "stderr",
     "output_type": "stream",
     "text": [
      "/home/gurnatham_ravi/anaconda3/lib/python3.6/site-packages/sklearn/linear_model/logistic.py:1228: UserWarning: 'n_jobs' > 1 does not have any effect when 'solver' is set to 'liblinear'. Got 'n_jobs' = -1.\n",
      "  \" = {}.\".format(self.n_jobs))\n"
     ]
    }
   ],
   "source": [
    "#c=[0.0010 , 0.01 , 0.1,1,6250,2442]\n",
    "from sklearn.linear_model import LogisticRegression\n",
    "LR=LogisticRegression(penalty='l2', tol=0.0001, C=0.0010,  n_jobs=-1)\n",
    "lr_1=LR.fit(BOW1_train_std,df_train_y)\n",
    "LR=LogisticRegression(penalty='l2', tol=0.0001, C=0.01,  n_jobs=-1)\n",
    "lr_2=LR.fit(BOW1_train_std,df_train_y)\n",
    "LR=LogisticRegression(penalty='l2', tol=0.0001, C=0.1,  n_jobs=-1)\n",
    "lr_3=LR.fit(BOW1_train_std,df_train_y)\n",
    "LR=LogisticRegression(penalty='l2', tol=0.0001, C=1,  n_jobs=-1)\n",
    "lr_4=LR.fit(BOW1_train_std,df_train_y)\n",
    "LR=LogisticRegression(penalty='l2', tol=0.0001, C=6250,  n_jobs=-1)\n",
    "lr_5=LR.fit(BOW1_train_std,df_train_y)\n",
    "LR=LogisticRegression(penalty='l2', tol=0.0001, C=2442,  n_jobs=-1)\n",
    "lr_6=LR.fit(BOW1_train_std,df_train_y)"
   ]
  },
  {
   "cell_type": "code",
   "execution_count": 35,
   "metadata": {},
   "outputs": [],
   "source": [
    "from sklearn.metrics import confusion_matrix,f1_score,recall_score,precision_score,accuracy_score\n",
    "outputs=[]\n",
    "outputs.append(lr_1.predict(BOW1_test_std))\n",
    "outputs.append(lr_2.predict(BOW1_test_std))\n",
    "outputs.append(lr_3.predict(BOW1_test_std))\n",
    "outputs.append(lr_4.predict(BOW1_test_std))\n",
    "outputs.append(lr_5.predict(BOW1_test_std))\n",
    "outputs.append(lr_6.predict(BOW1_test_std))\n",
    "cms=[]\n",
    "for op in outputs:\n",
    "    cms.append(confusion_matrix(df_test_y,op))\n",
    "dfs=[]\n",
    "for cm in cms:\n",
    "    dfs.append(pd.DataFrame(cm,index=['negative','positive'],columns=['negative','positive']))"
   ]
  },
  {
   "cell_type": "code",
   "execution_count": 38,
   "metadata": {},
   "outputs": [
    {
     "name": "stdout",
     "output_type": "stream",
     "text": [
      "+--------+--------+----------+----------+----------+-------------------+-------+\n",
      "| precis | recall | accuracy | f1-score | Non-zero | sparsity(Non-zero |   C   |\n",
      "|  ion   |        |          |          |          |      weights)     |       |\n",
      "+--------+--------+----------+----------+----------+-------------------+-------+\n",
      "| 0.916  |  0.97  |  0.896   |  0.942   |  90770   |        1.0        | 0.001 |\n",
      "+--------+--------+----------+----------+----------+-------------------+-------+\n",
      "| 0.922  | 0.948  |  0.885   |  0.935   |  90770   |        1.0        | 0.01  |\n",
      "+--------+--------+----------+----------+----------+-------------------+-------+\n",
      "| 0.924  | 0.927  |  0.869   |  0.925   |  90770   |        1.0        |  0.1  |\n",
      "+--------+--------+----------+----------+----------+-------------------+-------+\n",
      "| 0.925  | 0.913  |  0.858   |  0.919   |  90770   |        1.0        |   1   |\n",
      "+--------+--------+----------+----------+----------+-------------------+-------+\n",
      "| 0.931  | 0.841  |  0.806   |  0.884   |  90770   |        1.0        | 2442  |\n",
      "+--------+--------+----------+----------+----------+-------------------+-------+\n",
      "| 0.931  | 0.841  |  0.806   |  0.883   |  90770   |        1.0        | 6250  |\n",
      "+--------+--------+----------+----------+----------+-------------------+-------+\n"
     ]
    },
    {
     "data": {
      "image/png": "[encoded data removed]",
      "text/plain": [
       "<Figure size 1440x1080 with 12 Axes>"
      ]
     },
     "metadata": {},
     "output_type": "display_data"
    }
   ],
   "source": [
    "C_values=[0.0010 , 0.01 , 0.1,1,6250,2442]\n",
    "plot_confusion_matrix_table(C_values,outputs,df_test_y,lr_1,lr_2,lr_3,lr_4,lr_5,lr_6,3,2)"
   ]
  },
  {
   "cell_type": "markdown",
   "metadata": {},
   "source": [
    "# Observation \n",
    "As the value of C(1 / lambda), Generalization is improved, which we can clearly seen that error on unseen data decreases"
   ]
  },
  {
   "cell_type": "markdown",
   "metadata": {},
   "source": [
    "# Multicolinearity check (pertubation test)"
   ]
  },
  {
   "cell_type": "code",
   "execution_count": 64,
   "metadata": {},
   "outputs": [
    {
     "name": "stdout",
     "output_type": "stream",
     "text": [
      "Adding noise to every feature is  0.004675002330205349\n",
      "count is  0\n",
      "count is  10000\n",
      "count is  20000\n",
      "count is  30000\n",
      "count is  40000\n",
      "count is  50000\n",
      "count is  60000\n"
     ]
    }
   ],
   "source": [
    "new_noise_added_train_data=add_noise(BOW1_train_std)"
   ]
  },
  {
   "cell_type": "code",
   "execution_count": 65,
   "metadata": {},
   "outputs": [
    {
     "name": "stderr",
     "output_type": "stream",
     "text": [
      "/home/gurnatham_ravi/anaconda3/lib/python3.6/site-packages/sklearn/linear_model/logistic.py:1228: UserWarning: 'n_jobs' > 1 does not have any effect when 'solver' is set to 'liblinear'. Got 'n_jobs' = -1.\n",
      "  \" = {}.\".format(self.n_jobs))\n"
     ]
    }
   ],
   "source": [
    "lr_multi_colinearity=LogisticRegression(penalty='l2', tol=0.0001, C=0.01,  n_jobs=-1)\n",
    "lr_colinearity=lr_multi_colinearity.fit(new_noise_added_train_data,df_train_y)"
   ]
  },
  {
   "cell_type": "code",
   "execution_count": 68,
   "metadata": {},
   "outputs": [
    {
     "name": "stdout",
     "output_type": "stream",
     "text": [
      "Before pertubation [3.08405965e-02 7.39714102e-03 2.19955580e-03 ... 7.07529481e-03\n",
      " 9.76844450e-05 3.55584627e-05]\n",
      "**************************************\n",
      "After pertubation [3.08405965e-02 7.39714102e-03 2.19955580e-03 ... 7.07529481e-03\n",
      " 9.76844450e-05 3.55584627e-05]\n"
     ]
    }
   ],
   "source": [
    "print('Before pertubation',lr_2.coef_[0])\n",
    "print(\"**************************************\")\n",
    "print('After pertubation',lr_colinearity.coef_[0])"
   ]
  },
  {
   "cell_type": "code",
   "execution_count": 70,
   "metadata": {},
   "outputs": [
    {
     "data": {
      "text/plain": [
       "array([0., 0., 0., 0., 0., 0., 0., 0., 0., 0.])"
      ]
     },
     "execution_count": 70,
     "metadata": {},
     "output_type": "execute_result"
    }
   ],
   "source": [
    "np.sort(lr_2.coef_[0]-lr_colinearity.coef_[0])[-10:]"
   ]
  },
  {
   "cell_type": "markdown",
   "metadata": {},
   "source": [
    "**From above multicolinearity test we can observe that features are not changling  due to small change in feature values , so we can conclude that features are not colinear.**"
   ]
  },
  {
   "cell_type": "markdown",
   "metadata": {},
   "source": [
    "# feature importance"
   ]
  },
  {
   "cell_type": "code",
   "execution_count": 71,
   "metadata": {},
   "outputs": [
    {
     "name": "stdout",
     "output_type": "stream",
     "text": [
      "+----------------------------+---------+\n",
      "| Top 20 important features  | Weight  |\n",
      "+----------------------------+---------+\n",
      "|           great            |  0.683  |\n",
      "+----------------------------+---------+\n",
      "|            best            |  0.506  |\n",
      "+----------------------------+---------+\n",
      "|            love            |  0.426  |\n",
      "+----------------------------+---------+\n",
      "|            good            |  0.373  |\n",
      "+----------------------------+---------+\n",
      "|         delicious          |  0.321  |\n",
      "+----------------------------+---------+\n",
      "|          favorite          |  0.31   |\n",
      "+----------------------------+---------+\n",
      "|           loves            |  0.286  |\n",
      "+----------------------------+---------+\n",
      "|         excellent          |  0.281  |\n",
      "+----------------------------+---------+\n",
      "|          perfect           |  0.277  |\n",
      "+----------------------------+---------+\n",
      "|         wonderful          |  0.269  |\n",
      "+----------------------------+---------+\n",
      "|           highly           |  0.229  |\n",
      "+----------------------------+---------+\n",
      "|           tasty            |  0.209  |\n",
      "+----------------------------+---------+\n",
      "|          awesome           |  0.203  |\n",
      "+----------------------------+---------+\n",
      "|           smooth           |  0.187  |\n",
      "+----------------------------+---------+\n",
      "|            easy            |  0.18   |\n",
      "+----------------------------+---------+\n",
      "|            nice            |  0.178  |\n",
      "+----------------------------+---------+\n",
      "|           yummy            |  0.176  |\n",
      "+----------------------------+---------+\n",
      "|            long            |  0.174  |\n",
      "+----------------------------+---------+\n",
      "|          amazing           |  0.17   |\n",
      "+----------------------------+---------+\n",
      "|           quite            |  0.166  |\n",
      "+----------------------------+---------+\n"
     ]
    }
   ],
   "source": [
    "print_features(lr_2)"
   ]
  },
  {
   "cell_type": "markdown",
   "metadata": {},
   "source": [
    "# L1 regularization"
   ]
  },
  {
   "cell_type": "code",
   "execution_count": 47,
   "metadata": {},
   "outputs": [
    {
     "name": "stderr",
     "output_type": "stream",
     "text": [
      "/home/gurnatham_ravi/anaconda3/lib/python3.6/site-packages/sklearn/linear_model/logistic.py:1228: UserWarning: 'n_jobs' > 1 does not have any effect when 'solver' is set to 'liblinear'. Got 'n_jobs' = -1.\n",
      "  \" = {}.\".format(self.n_jobs))\n"
     ]
    }
   ],
   "source": [
    "from sklearn.linear_model import LogisticRegression\n",
    "LR=LogisticRegression(penalty='l1', tol=0.0001, C=0.0010,  n_jobs=-1)\n",
    "lr_1=LR.fit(BOW1_train_std,df_train_y)\n",
    "LR=LogisticRegression(penalty='l1', tol=0.0001, C=0.01,  n_jobs=-1)\n",
    "lr_2=LR.fit(BOW1_train_std,df_train_y)\n",
    "LR=LogisticRegression(penalty='l1', tol=0.0001, C=0.1,  n_jobs=-1)\n",
    "lr_3=LR.fit(BOW1_train_std,df_train_y)\n",
    "LR=LogisticRegression(penalty='l1', tol=0.0001, C=1.0,  n_jobs=-1)\n",
    "lr_4=LR.fit(BOW1_train_std,df_train_y)\n",
    "LR=LogisticRegression(penalty='l1', tol=0.0001, C=0.25,  n_jobs=-1)\n",
    "lr_5=LR.fit(BOW1_train_std,df_train_y)\n",
    "LR=LogisticRegression(penalty='l1', tol=0.0001, C=1000,  n_jobs=-1)\n",
    "lr_6=LR.fit(BOW1_train_std,df_train_y)"
   ]
  },
  {
   "cell_type": "code",
   "execution_count": 48,
   "metadata": {},
   "outputs": [],
   "source": [
    "from sklearn.metrics import confusion_matrix,f1_score,recall_score,precision_score,accuracy_score\n",
    "outputs=[]\n",
    "outputs.append(lr_1.predict(BOW1_test_std))\n",
    "outputs.append(lr_2.predict(BOW1_test_std))\n",
    "outputs.append(lr_3.predict(BOW1_test_std))\n",
    "outputs.append(lr_4.predict(BOW1_test_std))\n",
    "outputs.append(lr_5.predict(BOW1_test_std))\n",
    "outputs.append(lr_6.predict(BOW1_test_std))\n",
    "cms=[]\n",
    "for op in outputs:\n",
    "    cms.append(confusion_matrix(df_test_y,op))\n",
    "dfs=[]\n",
    "for cm in cms:\n",
    "    dfs.append(pd.DataFrame(cm,index=['negative','positive'],columns=['negative','positive']))"
   ]
  },
  {
   "cell_type": "code",
   "execution_count": 49,
   "metadata": {},
   "outputs": [
    {
     "name": "stdout",
     "output_type": "stream",
     "text": [
      "+--------+--------+----------+----------+----------+-------------------+-------+\n",
      "| precis | recall | accuracy | f1-score | Non-zero | sparsity(Non-zero |   C   |\n",
      "|  ion   |        |          |          |          |      weights)     |       |\n",
      "+--------+--------+----------+----------+----------+-------------------+-------+\n",
      "| 0.882  | 0.999  |  0.882   |  0.937   |    46    |       0.001       | 0.001 |\n",
      "+--------+--------+----------+----------+----------+-------------------+-------+\n",
      "| 0.918  | 0.982  |  0.907   |  0.949   |   7593   |       0.084       | 0.01  |\n",
      "+--------+--------+----------+----------+----------+-------------------+-------+\n",
      "| 0.929  | 0.957  |  0.898   |  0.943   |  18451   |       0.203       |  0.1  |\n",
      "+--------+--------+----------+----------+----------+-------------------+-------+\n",
      "|  0.93  | 0.944  |  0.889   |  0.937   |  20112   |       0.222       | 0.25  |\n",
      "+--------+--------+----------+----------+----------+-------------------+-------+\n",
      "| 0.928  | 0.928  |  0.875   |  0.928   |  20440   |       0.225       |  1.0  |\n",
      "+--------+--------+----------+----------+----------+-------------------+-------+\n",
      "|  0.92  | 0.905  |  0.848   |  0.912   |  27887   |       0.307       | 1000  |\n",
      "+--------+--------+----------+----------+----------+-------------------+-------+\n"
     ]
    },
    {
     "data": {
      "image/png": "[encoded data removed]",
      "text/plain": [
       "<Figure size 1440x1080 with 12 Axes>"
      ]
     },
     "metadata": {},
     "output_type": "display_data"
    }
   ],
   "source": [
    "C_values=[0.001,0.01,0.1,1.0,0.25,1000]\n",
    "plot_confusion_matrix_table(C_values,outputs,df_test_y,lr_1,lr_2,lr_3,lr_4,lr_5,lr_6,3,2)"
   ]
  },
  {
   "cell_type": "markdown",
   "metadata": {},
   "source": [
    "# Observation\n",
    "As the C decreases the the sparisty in weight vectors increasing , we can observe that for different values of C values .\n",
    "\n",
    "1.For value of C=1000(inverse strength) we have sparsity is 31 (31% of weights are are non-zero)\n",
    "\n",
    "2.For value of C=0.01 we have sparisty as 8.4 (only 8.4% are non-zero and remaining are zero)\n",
    "\n",
    "From both 1 & 2,\n",
    "\n",
    "we can conclude that as the C decreases the sparsity in the weight vectors increasing.\n",
    "\n",
    "And one more point is as the C is decreasing the model is underfit, so the precision and recall score going to fall down as we can observe that one from the above table."
   ]
  },
  {
   "cell_type": "markdown",
   "metadata": {},
   "source": [
    "# Multicolinearity check (pertubation test)"
   ]
  },
  {
   "cell_type": "code",
   "execution_count": null,
   "metadata": {},
   "outputs": [],
   "source": [
    "new_noise_added_train_data=add_noise(BOW1_train_std)"
   ]
  },
  {
   "cell_type": "code",
   "execution_count": 72,
   "metadata": {},
   "outputs": [
    {
     "name": "stderr",
     "output_type": "stream",
     "text": [
      "/home/gurnatham_ravi/anaconda3/lib/python3.6/site-packages/sklearn/linear_model/logistic.py:1228: UserWarning: 'n_jobs' > 1 does not have any effect when 'solver' is set to 'liblinear'. Got 'n_jobs' = -1.\n",
      "  \" = {}.\".format(self.n_jobs))\n"
     ]
    }
   ],
   "source": [
    "lr_multi_colinearity=LogisticRegression(penalty='l1', tol=0.0001, C=1000,  n_jobs=-1)\n",
    "lr_colinearity=lr_multi_colinearity.fit(new_noise_added_train_data,df_train_y)"
   ]
  },
  {
   "cell_type": "code",
   "execution_count": 74,
   "metadata": {},
   "outputs": [
    {
     "name": "stdout",
     "output_type": "stream",
     "text": [
      "Before pertubation [0.21474247 0.04594157 0.         ... 0.01603066 0.         0.        ]\n",
      "**************************************\n",
      "After pertubation [0.21104274 0.03997007 0.         ... 0.         0.         0.        ]\n"
     ]
    }
   ],
   "source": [
    "print('Before pertubation',lr_6.coef_[0])\n",
    "print(\"**************************************\")\n",
    "print('After pertubation',lr_colinearity.coef_[0])"
   ]
  },
  {
   "cell_type": "code",
   "execution_count": 75,
   "metadata": {},
   "outputs": [
    {
     "data": {
      "text/plain": [
       "array([0.2371474 , 0.23748732, 0.24128306, 0.24159379, 0.2422542 ,\n",
       "       0.24290642, 0.24962263, 0.25000816, 0.25001381, 0.25395506,\n",
       "       0.25516809, 0.26430339, 0.274095  , 0.28653307, 0.28709294,\n",
       "       0.29372219, 0.30553237, 0.30566803, 0.31170605, 0.31269272])"
      ]
     },
     "execution_count": 75,
     "metadata": {},
     "output_type": "execute_result"
    }
   ],
   "source": [
    "np.sort(lr_6.coef_[0]-lr_colinearity.coef_[0])[-20:]"
   ]
  },
  {
   "cell_type": "markdown",
   "metadata": {},
   "source": [
    "**From above multicolinearity test we can observe that features are changling due to small change in feature values , so we can conclude that there is colinearity among the features.**"
   ]
  },
  {
   "cell_type": "markdown",
   "metadata": {},
   "source": [
    "# So we can conclude that between features, there is multicolinearity."
   ]
  },
  {
   "cell_type": "markdown",
   "metadata": {},
   "source": [
    "# feature importance"
   ]
  },
  {
   "cell_type": "code",
   "execution_count": 76,
   "metadata": {},
   "outputs": [
    {
     "name": "stdout",
     "output_type": "stream",
     "text": [
      "+----------------------------+---------+\n",
      "| Top 20 important features  | Weight  |\n",
      "+----------------------------+---------+\n",
      "|           great            |  3.044  |\n",
      "+----------------------------+---------+\n",
      "|            yum             |  2.622  |\n",
      "+----------------------------+---------+\n",
      "|            best            |  2.183  |\n",
      "+----------------------------+---------+\n",
      "|           agave            |  2.128  |\n",
      "+----------------------------+---------+\n",
      "|           quinoa           |  2.068  |\n",
      "+----------------------------+---------+\n",
      "|           season           |  1.845  |\n",
      "+----------------------------+---------+\n",
      "|            love            |  1.841  |\n",
      "+----------------------------+---------+\n",
      "|         excellent          |  1.835  |\n",
      "+----------------------------+---------+\n",
      "|          perfect           |  1.81   |\n",
      "+----------------------------+---------+\n",
      "|         satisfying         |  1.782  |\n",
      "+----------------------------+---------+\n",
      "|          awesome           |  1.771  |\n",
      "+----------------------------+---------+\n",
      "|          stocked           |  1.715  |\n",
      "+----------------------------+---------+\n",
      "|           carry            |  1.537  |\n",
      "+----------------------------+---------+\n",
      "|         pleasantly         |  1.433  |\n",
      "+----------------------------+---------+\n",
      "|           smooth           |  1.402  |\n",
      "+----------------------------+---------+\n",
      "|          morning           |  1.397  |\n",
      "+----------------------------+---------+\n",
      "|           pasta            |  1.387  |\n",
      "+----------------------------+---------+\n",
      "|         beautiful          |  1.353  |\n",
      "+----------------------------+---------+\n",
      "|           keeps            |  1.353  |\n",
      "+----------------------------+---------+\n",
      "|            fats            |  1.343  |\n",
      "+----------------------------+---------+\n"
     ]
    }
   ],
   "source": [
    "print_features(lr_6)"
   ]
  },
  {
   "cell_type": "markdown",
   "metadata": {},
   "source": [
    "# tf-idf bigrams vectorization"
   ]
  },
  {
   "cell_type": "code",
   "execution_count": 77,
   "metadata": {},
   "outputs": [
    {
     "name": "stdout",
     "output_type": "stream",
     "text": [
      "The train data shape is  (67000, 1169770) and test data shape is  (33000, 1169770)\n"
     ]
    }
   ],
   "source": [
    "from sklearn.feature_extraction.text import TfidfVectorizer\n",
    "bow_unigrams=TfidfVectorizer(ngram_range=(1,2),stop_words='english')\n",
    "BOW1_train=bow_unigrams.fit(df_train_x)\n",
    "BOW1_train=bow_unigrams.transform(df_train_x)\n",
    "BOW1_test=bow_unigrams.transform(df_test_x)\n",
    "print(\"The train data shape is \",BOW1_train.shape,\"and test data shape is \",BOW1_test.shape)"
   ]
  },
  {
   "cell_type": "markdown",
   "metadata": {},
   "source": [
    "# Data standardization"
   ]
  },
  {
   "cell_type": "code",
   "execution_count": 78,
   "metadata": {},
   "outputs": [
    {
     "name": "stdout",
     "output_type": "stream",
     "text": [
      "(67000, 1169770) (33000, 1169770)\n"
     ]
    }
   ],
   "source": [
    "std=StandardScaler(with_mean=False)\n",
    "std=std.fit(BOW1_train)\n",
    "BOW1_train = BOW1_train.astype(float)\n",
    "BOW1_test = BOW1_test.astype(float)\n",
    "BOW1_train_std=std.transform(BOW1_train)\n",
    "BOW1_test_std=std.transform(BOW1_test)\n",
    "print(BOW1_train_std.shape,BOW1_test_std.shape)"
   ]
  },
  {
   "cell_type": "markdown",
   "metadata": {},
   "source": [
    "# Hyperparameter tuning - Grid and random search"
   ]
  },
  {
   "cell_type": "code",
   "execution_count": null,
   "metadata": {},
   "outputs": [],
   "source": [
    "grid_search(BOW1_train_std,df_train_y,'tf_bi_grid.csv') #performed grid search\n",
    "random_search(BOW1_train_std,df_train_y,'tf_bi_random.csv') # performed random searc"
   ]
  },
  {
   "cell_type": "code",
   "execution_count": 79,
   "metadata": {},
   "outputs": [
    {
     "name": "stdout",
     "output_type": "stream",
     "text": [
      "*********** Results of Grid search ***********\n"
     ]
    },
    {
     "data": {
      "text/html": [
       "<div>\n",
       "<style scoped>\n",
       "    .dataframe tbody tr th:only-of-type {\n",
       "        vertical-align: middle;\n",
       "    }\n",
       "\n",
       "    .dataframe tbody tr th {\n",
       "        vertical-align: top;\n",
       "    }\n",
       "\n",
       "    .dataframe thead th {\n",
       "        text-align: right;\n",
       "    }\n",
       "</style>\n",
       "<table border=\"1\" class=\"dataframe\">\n",
       "  <thead>\n",
       "    <tr style=\"text-align: right;\">\n",
       "      <th></th>\n",
       "      <th>lambda_value</th>\n",
       "      <th>regularization</th>\n",
       "      <th>cv_score</th>\n",
       "    </tr>\n",
       "  </thead>\n",
       "  <tbody>\n",
       "    <tr>\n",
       "      <th>2</th>\n",
       "      <td>0.010</td>\n",
       "      <td>l1</td>\n",
       "      <td>0.952168</td>\n",
       "    </tr>\n",
       "    <tr>\n",
       "      <th>4</th>\n",
       "      <td>0.100</td>\n",
       "      <td>l1</td>\n",
       "      <td>0.946252</td>\n",
       "    </tr>\n",
       "    <tr>\n",
       "      <th>5</th>\n",
       "      <td>0.100</td>\n",
       "      <td>l2</td>\n",
       "      <td>0.944300</td>\n",
       "    </tr>\n",
       "    <tr>\n",
       "      <th>9</th>\n",
       "      <td>10.000</td>\n",
       "      <td>l2</td>\n",
       "      <td>0.944300</td>\n",
       "    </tr>\n",
       "    <tr>\n",
       "      <th>7</th>\n",
       "      <td>1.000</td>\n",
       "      <td>l2</td>\n",
       "      <td>0.944299</td>\n",
       "    </tr>\n",
       "    <tr>\n",
       "      <th>11</th>\n",
       "      <td>100.000</td>\n",
       "      <td>l2</td>\n",
       "      <td>0.944299</td>\n",
       "    </tr>\n",
       "    <tr>\n",
       "      <th>13</th>\n",
       "      <td>1000.000</td>\n",
       "      <td>l2</td>\n",
       "      <td>0.944299</td>\n",
       "    </tr>\n",
       "    <tr>\n",
       "      <th>3</th>\n",
       "      <td>0.010</td>\n",
       "      <td>l2</td>\n",
       "      <td>0.944227</td>\n",
       "    </tr>\n",
       "    <tr>\n",
       "      <th>1</th>\n",
       "      <td>0.001</td>\n",
       "      <td>l2</td>\n",
       "      <td>0.944013</td>\n",
       "    </tr>\n",
       "    <tr>\n",
       "      <th>0</th>\n",
       "      <td>0.001</td>\n",
       "      <td>l1</td>\n",
       "      <td>0.943487</td>\n",
       "    </tr>\n",
       "    <tr>\n",
       "      <th>6</th>\n",
       "      <td>1.000</td>\n",
       "      <td>l1</td>\n",
       "      <td>0.943046</td>\n",
       "    </tr>\n",
       "    <tr>\n",
       "      <th>10</th>\n",
       "      <td>100.000</td>\n",
       "      <td>l1</td>\n",
       "      <td>0.935423</td>\n",
       "    </tr>\n",
       "    <tr>\n",
       "      <th>8</th>\n",
       "      <td>10.000</td>\n",
       "      <td>l1</td>\n",
       "      <td>0.934959</td>\n",
       "    </tr>\n",
       "    <tr>\n",
       "      <th>12</th>\n",
       "      <td>1000.000</td>\n",
       "      <td>l1</td>\n",
       "      <td>0.933917</td>\n",
       "    </tr>\n",
       "  </tbody>\n",
       "</table>\n",
       "</div>"
      ],
      "text/plain": [
       "    lambda_value regularization  cv_score\n",
       "2          0.010             l1  0.952168\n",
       "4          0.100             l1  0.946252\n",
       "5          0.100             l2  0.944300\n",
       "9         10.000             l2  0.944300\n",
       "7          1.000             l2  0.944299\n",
       "11       100.000             l2  0.944299\n",
       "13      1000.000             l2  0.944299\n",
       "3          0.010             l2  0.944227\n",
       "1          0.001             l2  0.944013\n",
       "0          0.001             l1  0.943487\n",
       "6          1.000             l1  0.943046\n",
       "10       100.000             l1  0.935423\n",
       "8         10.000             l1  0.934959\n",
       "12      1000.000             l1  0.933917"
      ]
     },
     "metadata": {},
     "output_type": "display_data"
    },
    {
     "name": "stdout",
     "output_type": "stream",
     "text": [
      "*********** Results of Random search ***********\n"
     ]
    },
    {
     "data": {
      "text/html": [
       "<div>\n",
       "<style scoped>\n",
       "    .dataframe tbody tr th:only-of-type {\n",
       "        vertical-align: middle;\n",
       "    }\n",
       "\n",
       "    .dataframe tbody tr th {\n",
       "        vertical-align: top;\n",
       "    }\n",
       "\n",
       "    .dataframe thead th {\n",
       "        text-align: right;\n",
       "    }\n",
       "</style>\n",
       "<table border=\"1\" class=\"dataframe\">\n",
       "  <thead>\n",
       "    <tr style=\"text-align: right;\">\n",
       "      <th></th>\n",
       "      <th>lambda_value</th>\n",
       "      <th>regularization</th>\n",
       "      <th>cv_score</th>\n",
       "    </tr>\n",
       "  </thead>\n",
       "  <tbody>\n",
       "    <tr>\n",
       "      <th>2</th>\n",
       "      <td>0.010</td>\n",
       "      <td>l1</td>\n",
       "      <td>0.952168</td>\n",
       "    </tr>\n",
       "    <tr>\n",
       "      <th>4</th>\n",
       "      <td>0.100</td>\n",
       "      <td>l1</td>\n",
       "      <td>0.946252</td>\n",
       "    </tr>\n",
       "    <tr>\n",
       "      <th>5</th>\n",
       "      <td>0.100</td>\n",
       "      <td>l2</td>\n",
       "      <td>0.944300</td>\n",
       "    </tr>\n",
       "    <tr>\n",
       "      <th>9</th>\n",
       "      <td>10.000</td>\n",
       "      <td>l2</td>\n",
       "      <td>0.944300</td>\n",
       "    </tr>\n",
       "    <tr>\n",
       "      <th>7</th>\n",
       "      <td>1.000</td>\n",
       "      <td>l2</td>\n",
       "      <td>0.944299</td>\n",
       "    </tr>\n",
       "    <tr>\n",
       "      <th>11</th>\n",
       "      <td>100.000</td>\n",
       "      <td>l2</td>\n",
       "      <td>0.944299</td>\n",
       "    </tr>\n",
       "    <tr>\n",
       "      <th>13</th>\n",
       "      <td>1000.000</td>\n",
       "      <td>l2</td>\n",
       "      <td>0.944299</td>\n",
       "    </tr>\n",
       "    <tr>\n",
       "      <th>3</th>\n",
       "      <td>0.010</td>\n",
       "      <td>l2</td>\n",
       "      <td>0.944227</td>\n",
       "    </tr>\n",
       "    <tr>\n",
       "      <th>1</th>\n",
       "      <td>0.001</td>\n",
       "      <td>l2</td>\n",
       "      <td>0.944013</td>\n",
       "    </tr>\n",
       "    <tr>\n",
       "      <th>0</th>\n",
       "      <td>0.001</td>\n",
       "      <td>l1</td>\n",
       "      <td>0.943487</td>\n",
       "    </tr>\n",
       "    <tr>\n",
       "      <th>6</th>\n",
       "      <td>1.000</td>\n",
       "      <td>l1</td>\n",
       "      <td>0.943046</td>\n",
       "    </tr>\n",
       "    <tr>\n",
       "      <th>10</th>\n",
       "      <td>100.000</td>\n",
       "      <td>l1</td>\n",
       "      <td>0.935423</td>\n",
       "    </tr>\n",
       "    <tr>\n",
       "      <th>8</th>\n",
       "      <td>10.000</td>\n",
       "      <td>l1</td>\n",
       "      <td>0.934959</td>\n",
       "    </tr>\n",
       "    <tr>\n",
       "      <th>12</th>\n",
       "      <td>1000.000</td>\n",
       "      <td>l1</td>\n",
       "      <td>0.933917</td>\n",
       "    </tr>\n",
       "  </tbody>\n",
       "</table>\n",
       "</div>"
      ],
      "text/plain": [
       "    lambda_value regularization  cv_score\n",
       "2          0.010             l1  0.952168\n",
       "4          0.100             l1  0.946252\n",
       "5          0.100             l2  0.944300\n",
       "9         10.000             l2  0.944300\n",
       "7          1.000             l2  0.944299\n",
       "11       100.000             l2  0.944299\n",
       "13      1000.000             l2  0.944299\n",
       "3          0.010             l2  0.944227\n",
       "1          0.001             l2  0.944013\n",
       "0          0.001             l1  0.943487\n",
       "6          1.000             l1  0.943046\n",
       "10       100.000             l1  0.935423\n",
       "8         10.000             l1  0.934959\n",
       "12      1000.000             l1  0.933917"
      ]
     },
     "metadata": {},
     "output_type": "display_data"
    }
   ],
   "source": [
    "print(\"*********** Results of Grid search ***********\")\n",
    "read_table_data('tf_bi_grid.csv')\n",
    "print(\"*********** Results of Random search ***********\")\n",
    "read_table_data('tf_bi_random.csv')"
   ]
  },
  {
   "cell_type": "markdown",
   "metadata": {},
   "source": [
    "The best results for Both L1 and L2 reguarization are found at :\n",
    "\n",
    "**For L2 - > cv_score is 0.942893 and C=0.10 , 10 , 1,100,1000,0.001 (C= 1 / lambda)**\n",
    "\n",
    "**For L1 - > cv_score is 0.942863 and C=0.1,0.010,0.001,1.0,10,100**\n",
    "\n",
    "so lets try the test data validation on this parameters"
   ]
  },
  {
   "cell_type": "markdown",
   "metadata": {},
   "source": [
    "# L2-regularization"
   ]
  },
  {
   "cell_type": "code",
   "execution_count": 9,
   "metadata": {},
   "outputs": [
    {
     "name": "stderr",
     "output_type": "stream",
     "text": [
      "/home/gurnatham_ravi/anaconda3/lib/python3.6/site-packages/sklearn/linear_model/logistic.py:1228: UserWarning: 'n_jobs' > 1 does not have any effect when 'solver' is set to 'liblinear'. Got 'n_jobs' = -1.\n",
      "  \" = {}.\".format(self.n_jobs))\n",
      "/home/gurnatham_ravi/anaconda3/lib/python3.6/site-packages/sklearn/linear_model/logistic.py:1228: UserWarning: 'n_jobs' > 1 does not have any effect when 'solver' is set to 'liblinear'. Got 'n_jobs' = -1.\n",
      "  \" = {}.\".format(self.n_jobs))\n",
      "/home/gurnatham_ravi/anaconda3/lib/python3.6/site-packages/sklearn/linear_model/logistic.py:1228: UserWarning: 'n_jobs' > 1 does not have any effect when 'solver' is set to 'liblinear'. Got 'n_jobs' = -1.\n",
      "  \" = {}.\".format(self.n_jobs))\n",
      "/home/gurnatham_ravi/anaconda3/lib/python3.6/site-packages/sklearn/linear_model/logistic.py:1228: UserWarning: 'n_jobs' > 1 does not have any effect when 'solver' is set to 'liblinear'. Got 'n_jobs' = -1.\n",
      "  \" = {}.\".format(self.n_jobs))\n",
      "/home/gurnatham_ravi/anaconda3/lib/python3.6/site-packages/sklearn/linear_model/logistic.py:1228: UserWarning: 'n_jobs' > 1 does not have any effect when 'solver' is set to 'liblinear'. Got 'n_jobs' = -1.\n",
      "  \" = {}.\".format(self.n_jobs))\n",
      "/home/gurnatham_ravi/anaconda3/lib/python3.6/site-packages/sklearn/linear_model/logistic.py:1228: UserWarning: 'n_jobs' > 1 does not have any effect when 'solver' is set to 'liblinear'. Got 'n_jobs' = -1.\n",
      "  \" = {}.\".format(self.n_jobs))\n"
     ]
    }
   ],
   "source": [
    "#C=[0.10 , 10 , 1,100,1000,0.01]\n",
    "from sklearn.linear_model import LogisticRegression\n",
    "LR=LogisticRegression(penalty='l2', tol=0.0001, C=0.10,  n_jobs=-1)\n",
    "lr_1=LR.fit(BOW1_train_std,df_train_y)\n",
    "LR=LogisticRegression(penalty='l2', tol=0.0001, C=10,  n_jobs=-1)\n",
    "lr_2=LR.fit(BOW1_train_std,df_train_y)\n",
    "LR=LogisticRegression(penalty='l2', tol=0.0001, C=1.0,  n_jobs=-1)\n",
    "lr_3=LR.fit(BOW1_train_std,df_train_y)\n",
    "LR=LogisticRegression(penalty='l2', tol=0.0001, C=100,  n_jobs=-1)\n",
    "lr_4=LR.fit(BOW1_train_std,df_train_y)\n",
    "LR=LogisticRegression(penalty='l2', tol=0.0001, C=1000,  n_jobs=-1)\n",
    "lr_5=LR.fit(BOW1_train_std,df_train_y)\n",
    "LR=LogisticRegression(penalty='l2', tol=0.0001, C=0.01,  n_jobs=-1)\n",
    "lr_6=LR.fit(BOW1_train_std,df_train_y)"
   ]
  },
  {
   "cell_type": "code",
   "execution_count": 10,
   "metadata": {},
   "outputs": [],
   "source": [
    "from sklearn.metrics import confusion_matrix,f1_score,recall_score,precision_score,accuracy_score\n",
    "outputs=[]\n",
    "outputs.append(lr_1.predict(BOW1_test_std))\n",
    "outputs.append(lr_2.predict(BOW1_test_std))\n",
    "outputs.append(lr_3.predict(BOW1_test_std))\n",
    "outputs.append(lr_4.predict(BOW1_test_std))\n",
    "outputs.append(lr_5.predict(BOW1_test_std))\n",
    "outputs.append(lr_6.predict(BOW1_test_std))\n",
    "cms=[]\n",
    "for op in outputs:\n",
    "    cms.append(confusion_matrix(df_test_y,op))\n",
    "dfs=[]\n",
    "for cm in cms:\n",
    "    dfs.append(pd.DataFrame(cm,index=['negative','positive'],columns=['negative','positive']))"
   ]
  },
  {
   "cell_type": "code",
   "execution_count": 12,
   "metadata": {},
   "outputs": [
    {
     "name": "stdout",
     "output_type": "stream",
     "text": [
      "+--------+--------+----------+----------+----------+--------------------+------+\n",
      "| precis | recall | accuracy | f1-score | Non-zero | sparsity(Non-zero  |  C   |\n",
      "|  ion   |        |          |          |          |      weights)      |      |\n",
      "+--------+--------+----------+----------+----------+--------------------+------+\n",
      "| 0.883  | 0.999  |  0.883   |  0.937   | 1169770  |        1.0         | 0.01 |\n",
      "+--------+--------+----------+----------+----------+--------------------+------+\n",
      "| 0.883  | 0.998  |  0.883   |  0.937   | 1169770  |        1.0         | 0.1  |\n",
      "+--------+--------+----------+----------+----------+--------------------+------+\n",
      "| 0.884  | 0.998  |  0.884   |  0.938   | 1169770  |        1.0         |  1   |\n",
      "+--------+--------+----------+----------+----------+--------------------+------+\n",
      "| 0.885  | 0.998  |  0.885   |  0.938   | 1169770  |        1.0         |  10  |\n",
      "+--------+--------+----------+----------+----------+--------------------+------+\n",
      "| 0.885  | 0.997  |  0.885   |  0.938   | 1169770  |        1.0         | 100  |\n",
      "+--------+--------+----------+----------+----------+--------------------+------+\n",
      "| 0.885  | 0.997  |  0.885   |  0.938   | 1169770  |        1.0         | 1000 |\n",
      "+--------+--------+----------+----------+----------+--------------------+------+\n"
     ]
    },
    {
     "data": {
      "image/png": "[encoded data removed]",
      "text/plain": [
       "<Figure size 1440x1080 with 12 Axes>"
      ]
     },
     "metadata": {},
     "output_type": "display_data"
    }
   ],
   "source": [
    "C_values=[0.10 , 10 , 1,100,1000,0.01]\n",
    "plot_confusion_matrix_table(C_values,outputs,df_test_y,lr_1,lr_2,lr_3,lr_4,lr_5,lr_6,3,2)"
   ]
  },
  {
   "cell_type": "markdown",
   "metadata": {},
   "source": [
    "# Observation \n",
    "**As the value of C(1 / lambda), Generalization is improved, which we can clearly seen that error on unseen data decreases**"
   ]
  },
  {
   "cell_type": "markdown",
   "metadata": {},
   "source": [
    "# Multicolinearity check (pertubation test)"
   ]
  },
  {
   "cell_type": "code",
   "execution_count": 80,
   "metadata": {},
   "outputs": [
    {
     "name": "stdout",
     "output_type": "stream",
     "text": [
      "Adding noise to every feature is  -0.004571682209832734\n",
      "count is  0\n",
      "count is  10000\n",
      "count is  20000\n",
      "count is  30000\n",
      "count is  40000\n",
      "count is  50000\n",
      "count is  60000\n"
     ]
    }
   ],
   "source": [
    "new_noise_added_train_data=add_noise(BOW1_train_std)"
   ]
  },
  {
   "cell_type": "code",
   "execution_count": 84,
   "metadata": {},
   "outputs": [
    {
     "name": "stderr",
     "output_type": "stream",
     "text": [
      "/home/gurnatham_ravi/anaconda3/lib/python3.6/site-packages/sklearn/linear_model/logistic.py:1228: UserWarning: 'n_jobs' > 1 does not have any effect when 'solver' is set to 'liblinear'. Got 'n_jobs' = -1.\n",
      "  \" = {}.\".format(self.n_jobs))\n"
     ]
    }
   ],
   "source": [
    "lr_multi_colinearity=LogisticRegression(penalty='l2', tol=0.0001, C=0.01,  n_jobs=-1)\n",
    "lr_colinearity=lr_multi_colinearity.fit(new_noise_added_train_data,df_train_y)"
   ]
  },
  {
   "cell_type": "code",
   "execution_count": 85,
   "metadata": {},
   "outputs": [
    {
     "name": "stdout",
     "output_type": "stream",
     "text": [
      "Before pertubation [4.00381042e-03 2.63603872e-03 4.55135337e-04 ... 2.42268452e-06\n",
      " 5.77703391e-04 5.77703391e-04]\n",
      "**************************************\n",
      "After pertubation [4.00381042e-03 2.63603872e-03 4.55135337e-04 ... 2.42268452e-06\n",
      " 5.77703391e-04 5.77703391e-04]\n"
     ]
    }
   ],
   "source": [
    "print('Before pertubation',lr_6.coef_[0])\n",
    "print(\"**************************************\")\n",
    "print('After pertubation',lr_colinearity.coef_[0])"
   ]
  },
  {
   "cell_type": "code",
   "execution_count": 86,
   "metadata": {},
   "outputs": [
    {
     "data": {
      "text/plain": [
       "array([0., 0., 0., 0., 0., 0., 0., 0., 0., 0.])"
      ]
     },
     "execution_count": 86,
     "metadata": {},
     "output_type": "execute_result"
    }
   ],
   "source": [
    "np.sort(lr_6.coef_[0]-lr_colinearity.coef_[0])[-10:]"
   ]
  },
  {
   "cell_type": "markdown",
   "metadata": {},
   "source": [
    "**From above multicolinearity test we can observe that features are not changling a lot due to small change in feature values , so we can conclude that features are not colinear.**"
   ]
  },
  {
   "cell_type": "markdown",
   "metadata": {},
   "source": [
    "# So features are not colinear"
   ]
  },
  {
   "cell_type": "markdown",
   "metadata": {},
   "source": [
    "# feature importance"
   ]
  },
  {
   "cell_type": "code",
   "execution_count": 87,
   "metadata": {},
   "outputs": [
    {
     "name": "stdout",
     "output_type": "stream",
     "text": [
      "+----------------------------+---------+\n",
      "| Top 20 important features  | Weight  |\n",
      "+----------------------------+---------+\n",
      "|           great            |  0.145  |\n",
      "+----------------------------+---------+\n",
      "|            good            |  0.119  |\n",
      "+----------------------------+---------+\n",
      "|            love            |  0.112  |\n",
      "+----------------------------+---------+\n",
      "|            best            |  0.11   |\n",
      "+----------------------------+---------+\n",
      "|         delicious          |  0.075  |\n",
      "+----------------------------+---------+\n",
      "|          product           |  0.073  |\n",
      "+----------------------------+---------+\n",
      "|         excellent          |  0.072  |\n",
      "+----------------------------+---------+\n",
      "|           loves            |  0.066  |\n",
      "+----------------------------+---------+\n",
      "|          favorite          |  0.065  |\n",
      "+----------------------------+---------+\n",
      "|           price            |  0.064  |\n",
      "+----------------------------+---------+\n",
      "|            just            |  0.063  |\n",
      "+----------------------------+---------+\n",
      "|           flavor           |  0.062  |\n",
      "+----------------------------+---------+\n",
      "|            like            |  0.061  |\n",
      "+----------------------------+---------+\n",
      "|            use             |  0.059  |\n",
      "+----------------------------+---------+\n",
      "|           really           |  0.057  |\n",
      "+----------------------------+---------+\n",
      "|         wonderful          |  0.057  |\n",
      "+----------------------------+---------+\n",
      "|           tasty            |  0.057  |\n",
      "+----------------------------+---------+\n",
      "|           better           |  0.057  |\n",
      "+----------------------------+---------+\n",
      "|            tea             |  0.055  |\n",
      "+----------------------------+---------+\n",
      "|           taste            |  0.055  |\n",
      "+----------------------------+---------+\n"
     ]
    }
   ],
   "source": [
    "print_features(lr_6)"
   ]
  },
  {
   "cell_type": "markdown",
   "metadata": {},
   "source": [
    "# L1 regularization"
   ]
  },
  {
   "cell_type": "code",
   "execution_count": 18,
   "metadata": {},
   "outputs": [
    {
     "name": "stderr",
     "output_type": "stream",
     "text": [
      "/home/gurnatham_ravi/anaconda3/lib/python3.6/site-packages/sklearn/linear_model/logistic.py:1228: UserWarning: 'n_jobs' > 1 does not have any effect when 'solver' is set to 'liblinear'. Got 'n_jobs' = -1.\n",
      "  \" = {}.\".format(self.n_jobs))\n"
     ]
    }
   ],
   "source": [
    "from sklearn.linear_model import LogisticRegression\n",
    "LR=LogisticRegression(penalty='l1', tol=0.0001, C=0.1,  n_jobs=-1)\n",
    "lr_1=LR.fit(BOW1_train_std,df_train_y)\n",
    "LR=LogisticRegression(penalty='l1', tol=0.0001, C=0.01,  n_jobs=-1)\n",
    "lr_2=LR.fit(BOW1_train_std,df_train_y)\n",
    "LR=LogisticRegression(penalty='l1', tol=0.0001, C=0.001,  n_jobs=-1)\n",
    "lr_3=LR.fit(BOW1_train_std,df_train_y)\n",
    "LR=LogisticRegression(penalty='l1', tol=0.0001, C=1.0,  n_jobs=-1)\n",
    "lr_4=LR.fit(BOW1_train_std,df_train_y)\n",
    "LR=LogisticRegression(penalty='l1', tol=0.0001, C=10,  n_jobs=-1)\n",
    "lr_5=LR.fit(BOW1_train_std,df_train_y)\n",
    "LR=LogisticRegression(penalty='l1', tol=0.0001, C=100,  n_jobs=-1)\n",
    "lr_6=LR.fit(BOW1_train_std,df_train_y)"
   ]
  },
  {
   "cell_type": "code",
   "execution_count": 19,
   "metadata": {},
   "outputs": [],
   "source": [
    "from sklearn.metrics import confusion_matrix,f1_score,recall_score,precision_score,accuracy_score\n",
    "outputs=[]\n",
    "outputs.append(lr_1.predict(BOW1_test_std))\n",
    "outputs.append(lr_2.predict(BOW1_test_std))\n",
    "outputs.append(lr_3.predict(BOW1_test_std))\n",
    "outputs.append(lr_4.predict(BOW1_test_std))\n",
    "outputs.append(lr_5.predict(BOW1_test_std))\n",
    "outputs.append(lr_6.predict(BOW1_test_std))\n",
    "cms=[]\n",
    "for op in outputs:\n",
    "    cms.append(confusion_matrix(df_test_y,op))\n",
    "dfs=[]\n",
    "for cm in cms:\n",
    "    dfs.append(pd.DataFrame(cm,index=['negative','positive'],columns=['negative','positive']))"
   ]
  },
  {
   "cell_type": "code",
   "execution_count": 20,
   "metadata": {},
   "outputs": [
    {
     "name": "stdout",
     "output_type": "stream",
     "text": [
      "+--------+--------+----------+----------+----------+-------------------+-------+\n",
      "| precis | recall | accuracy | f1-score | Non-zero | sparsity(Non-zero |   C   |\n",
      "|  ion   |        |          |          |          |      weights)     |       |\n",
      "+--------+--------+----------+----------+----------+-------------------+-------+\n",
      "| 0.886  | 0.998  |  0.886   |  0.939   |    49    |        0.0        | 0.001 |\n",
      "+--------+--------+----------+----------+----------+-------------------+-------+\n",
      "| 0.921  | 0.979  |  0.908   |  0.949   |  36578   |       0.031       | 0.01  |\n",
      "+--------+--------+----------+----------+----------+-------------------+-------+\n",
      "| 0.917  | 0.978  |  0.903   |  0.946   |  48247   |       0.041       |  0.1  |\n",
      "+--------+--------+----------+----------+----------+-------------------+-------+\n",
      "| 0.913  | 0.978  |   0.9    |  0.945   |  59853   |       0.051       |  1.0  |\n",
      "+--------+--------+----------+----------+----------+-------------------+-------+\n",
      "| 0.898  | 0.994  |  0.896   |  0.944   |  116415  |        0.1        |  10   |\n",
      "+--------+--------+----------+----------+----------+-------------------+-------+\n",
      "| 0.891  | 0.995  |  0.889   |   0.94   |  269836  |       0.231       |  100  |\n",
      "+--------+--------+----------+----------+----------+-------------------+-------+\n"
     ]
    },
    {
     "data": {
      "image/png": "[encoded data removed]",
      "text/plain": [
       "<Figure size 1440x1080 with 12 Axes>"
      ]
     },
     "metadata": {},
     "output_type": "display_data"
    }
   ],
   "source": [
    "C_values=[0.1, 0.010,0.001,1.0,10,100]\n",
    "plot_confusion_matrix_table(C_values,outputs,df_test_y,lr_1,lr_2,lr_3,lr_4,lr_5,lr_6,3,2)"
   ]
  },
  {
   "cell_type": "markdown",
   "metadata": {},
   "source": [
    "# Observation\n",
    "As the C increasing the the sparisty in weight vectors also increasing , we can observe that for different values of C values .\n",
    "\n",
    "1.For value of C=100(inverse strength) we have sparsity is 23 (23% of weights are are non-zero)\n",
    "\n",
    "2.For value of C=10 we have sparisty as 10 (only 10% are non-zero and remaining are zero)\n",
    "\n",
    "From both 1 & 2,\n",
    "\n",
    "we can conclude that as the C decreases the sparsity in the weight vectors also increasing.\n",
    "\n",
    "And one more point is as the C is decreasing the model is underfit, so the preciioin and recall score going to fall down as we can observe that one from the above table."
   ]
  },
  {
   "cell_type": "markdown",
   "metadata": {},
   "source": [
    "# Multicolinearity check (pertubation test)"
   ]
  },
  {
   "cell_type": "code",
   "execution_count": null,
   "metadata": {},
   "outputs": [],
   "source": [
    "new_noise_added_train_data=add_noise(BOW1_train_std)"
   ]
  },
  {
   "cell_type": "code",
   "execution_count": 88,
   "metadata": {},
   "outputs": [
    {
     "name": "stderr",
     "output_type": "stream",
     "text": [
      "/home/gurnatham_ravi/anaconda3/lib/python3.6/site-packages/sklearn/linear_model/logistic.py:1228: UserWarning: 'n_jobs' > 1 does not have any effect when 'solver' is set to 'liblinear'. Got 'n_jobs' = -1.\n",
      "  \" = {}.\".format(self.n_jobs))\n"
     ]
    }
   ],
   "source": [
    "lr_multi_colinearity=LogisticRegression(penalty='l1', tol=0.0001, C=100,  n_jobs=-1)\n",
    "lr_colinearity=lr_multi_colinearity.fit(new_noise_added_train_data,df_train_y)"
   ]
  },
  {
   "cell_type": "code",
   "execution_count": 89,
   "metadata": {},
   "outputs": [
    {
     "name": "stderr",
     "output_type": "stream",
     "text": [
      "/home/gurnatham_ravi/anaconda3/lib/python3.6/site-packages/sklearn/linear_model/logistic.py:1228: UserWarning: 'n_jobs' > 1 does not have any effect when 'solver' is set to 'liblinear'. Got 'n_jobs' = -1.\n",
      "  \" = {}.\".format(self.n_jobs))\n"
     ]
    }
   ],
   "source": [
    "LR=LogisticRegression(penalty='l1', tol=0.0001, C=100,  n_jobs=-1)\n",
    "lr_6=LR.fit(BOW1_train_std,df_train_y)"
   ]
  },
  {
   "cell_type": "code",
   "execution_count": 90,
   "metadata": {},
   "outputs": [
    {
     "name": "stdout",
     "output_type": "stream",
     "text": [
      "Before pertubation [0.00080505 0.00173802 0.         ... 0.         0.         0.        ]\n",
      "**************************************\n",
      "After pertubation [0.         0.00704507 0.         ... 0.         0.         0.        ]\n"
     ]
    }
   ],
   "source": [
    "print('Before pertubation',lr_6.coef_[0])\n",
    "print(\"**************************************\")\n",
    "print('After pertubation',lr_colinearity.coef_[0])"
   ]
  },
  {
   "cell_type": "code",
   "execution_count": 91,
   "metadata": {},
   "outputs": [
    {
     "data": {
      "text/plain": [
       "array([0.09809953, 0.09818423, 0.09978827, 0.10192775, 0.10416216,\n",
       "       0.10447645, 0.10466907, 0.1062624 , 0.10698821, 0.11184561,\n",
       "       0.11431271, 0.11535737, 0.11599387, 0.12094103, 0.12908477,\n",
       "       0.13115942, 0.13880394, 0.14966688, 0.17829102, 0.18935972])"
      ]
     },
     "execution_count": 91,
     "metadata": {},
     "output_type": "execute_result"
    }
   ],
   "source": [
    "np.sort(lr_6.coef_[0]-lr_colinearity.coef_[0])[-20:]"
   ]
  },
  {
   "cell_type": "markdown",
   "metadata": {},
   "source": [
    "**From above multicolinearity test we can observe that features are not changling due to small change in feature values , so we can conclude that there is no colinearity among the features.**"
   ]
  },
  {
   "cell_type": "markdown",
   "metadata": {},
   "source": [
    "# feature importance"
   ]
  },
  {
   "cell_type": "code",
   "execution_count": 92,
   "metadata": {},
   "outputs": [
    {
     "name": "stdout",
     "output_type": "stream",
     "text": [
      "+----------------------------+---------+\n",
      "| Top 20 important features  | Weight  |\n",
      "+----------------------------+---------+\n",
      "|          favorite          |   0.4   |\n",
      "+----------------------------+---------+\n",
      "|          perfect           |  0.312  |\n",
      "+----------------------------+---------+\n",
      "|           great            |  0.293  |\n",
      "+----------------------------+---------+\n",
      "|            love            |  0.289  |\n",
      "+----------------------------+---------+\n",
      "|         wonderful          |  0.254  |\n",
      "+----------------------------+---------+\n",
      "|           bought           |  0.249  |\n",
      "+----------------------------+---------+\n",
      "|            best            |  0.245  |\n",
      "+----------------------------+---------+\n",
      "|           tried            |  0.242  |\n",
      "+----------------------------+---------+\n",
      "|            tea             |  0.232  |\n",
      "+----------------------------+---------+\n",
      "|           smooth           |  0.227  |\n",
      "+----------------------------+---------+\n",
      "|            good            |  0.22   |\n",
      "+----------------------------+---------+\n",
      "|           loved            |  0.207  |\n",
      "+----------------------------+---------+\n",
      "|            low             |  0.202  |\n",
      "+----------------------------+---------+\n",
      "|          awesome           |  0.198  |\n",
      "+----------------------------+---------+\n",
      "|          cheaper           |  0.196  |\n",
      "+----------------------------+---------+\n",
      "|          amazing           |  0.196  |\n",
      "+----------------------------+---------+\n",
      "|           theyre           |  0.196  |\n",
      "+----------------------------+---------+\n",
      "|         delicious          |  0.195  |\n",
      "+----------------------------+---------+\n",
      "|          crunchy           |  0.19   |\n",
      "+----------------------------+---------+\n",
      "|            far             |  0.187  |\n",
      "+----------------------------+---------+\n"
     ]
    }
   ],
   "source": [
    "print_features(lr_6)"
   ]
  },
  {
   "cell_type": "markdown",
   "metadata": {},
   "source": [
    "# word2vec model"
   ]
  },
  {
   "cell_type": "code",
   "execution_count": 136,
   "metadata": {},
   "outputs": [
    {
     "name": "stdout",
     "output_type": "stream",
     "text": [
      "['witty', 'little', 'book', 'makes', 'son', 'laugh', 'loud', 'recite', 'car', 'driving']\n"
     ]
    }
   ],
   "source": [
    "from sklearn.feature_extraction.text import TfidfVectorizer \n",
    "tf_idf_model=TfidfVectorizer(stop_words='english')\n",
    "stop_words = tf_idf_model.get_stop_words()\n",
    "model=[]   #df_train_x.shape,df_test_x.shape,df_train_y.shape,df_test_y.shape\n",
    "for sent in df_train_x:\n",
    "    temp=[]\n",
    "    for word in sent.split():\n",
    "        if word not in stop_words:\n",
    "            temp.append(word)\n",
    "    model.append(temp)\n",
    "print(model[0][0:10])"
   ]
  },
  {
   "cell_type": "code",
   "execution_count": 137,
   "metadata": {},
   "outputs": [],
   "source": [
    "#!pip install google_compute_engine\n",
    "from gensim.models import Word2Vec\n",
    "amazon_model = Word2Vec(model, size=300, window=5, min_count=1, workers=4)"
   ]
  },
  {
   "cell_type": "code",
   "execution_count": 96,
   "metadata": {},
   "outputs": [
    {
     "name": "stdout",
     "output_type": "stream",
     "text": [
      "0\n",
      "10000\n",
      "20000\n",
      "30000\n",
      "40000\n",
      "50000\n",
      "60000\n"
     ]
    }
   ],
   "source": [
    "import numpy as np\n",
    "word_vectors = amazon_model.wv\n",
    "train_vec=[]\n",
    "counter=0\n",
    "for sentence in df_train_x:\n",
    "    temp=np.zeros(300)\n",
    "    length=0\n",
    "    for word in sentence.split():\n",
    "        if word in word_vectors:\n",
    "            temp=temp+amazon_model.wv[word]\n",
    "        else:\n",
    "            #print(word,\" is not presnet in training model of word2vec\")\n",
    "            pass\n",
    "        length+=1\n",
    "    train_vec.append(temp/length)\n",
    "    if(counter%10000==0):\n",
    "        print(counter)\n",
    "    counter+=1"
   ]
  },
  {
   "cell_type": "code",
   "execution_count": 99,
   "metadata": {},
   "outputs": [
    {
     "name": "stdout",
     "output_type": "stream",
     "text": [
      "0\n",
      "10000\n",
      "20000\n",
      "30000\n"
     ]
    }
   ],
   "source": [
    "import numpy as np\n",
    "word_vectors = amazon_model.wv\n",
    "test_vec=[]\n",
    "counter=0\n",
    "for sentence in df_test_x:\n",
    "    temp=np.zeros(300)\n",
    "    length=0\n",
    "    for word in sentence.split():\n",
    "        if word in word_vectors:\n",
    "            temp=temp+amazon_model.wv[word]\n",
    "        else:\n",
    "            pass# print(word,\" is not presnet in training model of word2vec\")\n",
    "        length+=1\n",
    "    test_vec.append(temp/length)\n",
    "    if(counter%10000==0):\n",
    "        print(counter)\n",
    "    counter+=1"
   ]
  },
  {
   "cell_type": "markdown",
   "metadata": {},
   "source": [
    "# Data standardization"
   ]
  },
  {
   "cell_type": "code",
   "execution_count": 102,
   "metadata": {},
   "outputs": [
    {
     "name": "stdout",
     "output_type": "stream",
     "text": [
      "(67000, 300) (33000, 300)\n"
     ]
    }
   ],
   "source": [
    "std=StandardScaler(with_mean=False)\n",
    "std=std.fit(train_vec)\n",
    "BOW1_train_std=std.transform(train_vec)\n",
    "BOW1_test_std=std.transform(test_vec)\n",
    "print(BOW1_train_std.shape,BOW1_test_std.shape)"
   ]
  },
  {
   "cell_type": "markdown",
   "metadata": {},
   "source": [
    "# Hyperparameter tuning -Grid and random search"
   ]
  },
  {
   "cell_type": "code",
   "execution_count": null,
   "metadata": {},
   "outputs": [],
   "source": [
    "grid_search(BOW1_train_std,df_train_y,'word2vec_grid.csv') #performed grid search\n",
    "random_search(BOW1_train_std,df_train_y,'word2vec_random.csv') # performed random searc"
   ]
  },
  {
   "cell_type": "code",
   "execution_count": 103,
   "metadata": {},
   "outputs": [
    {
     "name": "stdout",
     "output_type": "stream",
     "text": [
      "*********** Results of Grid search ***********\n"
     ]
    },
    {
     "data": {
      "text/html": [
       "<div>\n",
       "<style scoped>\n",
       "    .dataframe tbody tr th:only-of-type {\n",
       "        vertical-align: middle;\n",
       "    }\n",
       "\n",
       "    .dataframe tbody tr th {\n",
       "        vertical-align: top;\n",
       "    }\n",
       "\n",
       "    .dataframe thead th {\n",
       "        text-align: right;\n",
       "    }\n",
       "</style>\n",
       "<table border=\"1\" class=\"dataframe\">\n",
       "  <thead>\n",
       "    <tr style=\"text-align: right;\">\n",
       "      <th></th>\n",
       "      <th>lambda_value</th>\n",
       "      <th>regularization</th>\n",
       "      <th>cv_score</th>\n",
       "    </tr>\n",
       "  </thead>\n",
       "  <tbody>\n",
       "    <tr>\n",
       "      <th>3</th>\n",
       "      <td>0.010</td>\n",
       "      <td>l2</td>\n",
       "      <td>0.946132</td>\n",
       "    </tr>\n",
       "    <tr>\n",
       "      <th>5</th>\n",
       "      <td>0.100</td>\n",
       "      <td>l2</td>\n",
       "      <td>0.945905</td>\n",
       "    </tr>\n",
       "    <tr>\n",
       "      <th>7</th>\n",
       "      <td>1.000</td>\n",
       "      <td>l2</td>\n",
       "      <td>0.945820</td>\n",
       "    </tr>\n",
       "    <tr>\n",
       "      <th>9</th>\n",
       "      <td>10.000</td>\n",
       "      <td>l2</td>\n",
       "      <td>0.945812</td>\n",
       "    </tr>\n",
       "    <tr>\n",
       "      <th>11</th>\n",
       "      <td>100.000</td>\n",
       "      <td>l2</td>\n",
       "      <td>0.945812</td>\n",
       "    </tr>\n",
       "    <tr>\n",
       "      <th>13</th>\n",
       "      <td>1000.000</td>\n",
       "      <td>l2</td>\n",
       "      <td>0.945812</td>\n",
       "    </tr>\n",
       "    <tr>\n",
       "      <th>1</th>\n",
       "      <td>0.001</td>\n",
       "      <td>l2</td>\n",
       "      <td>0.945000</td>\n",
       "    </tr>\n",
       "    <tr>\n",
       "      <th>10</th>\n",
       "      <td>100.000</td>\n",
       "      <td>l1</td>\n",
       "      <td>0.944365</td>\n",
       "    </tr>\n",
       "    <tr>\n",
       "      <th>8</th>\n",
       "      <td>10.000</td>\n",
       "      <td>l1</td>\n",
       "      <td>0.944338</td>\n",
       "    </tr>\n",
       "    <tr>\n",
       "      <th>6</th>\n",
       "      <td>1.000</td>\n",
       "      <td>l1</td>\n",
       "      <td>0.944285</td>\n",
       "    </tr>\n",
       "    <tr>\n",
       "      <th>12</th>\n",
       "      <td>1000.000</td>\n",
       "      <td>l1</td>\n",
       "      <td>0.944217</td>\n",
       "    </tr>\n",
       "    <tr>\n",
       "      <th>2</th>\n",
       "      <td>0.010</td>\n",
       "      <td>l1</td>\n",
       "      <td>0.943896</td>\n",
       "    </tr>\n",
       "    <tr>\n",
       "      <th>4</th>\n",
       "      <td>0.100</td>\n",
       "      <td>l1</td>\n",
       "      <td>0.943659</td>\n",
       "    </tr>\n",
       "    <tr>\n",
       "      <th>0</th>\n",
       "      <td>0.001</td>\n",
       "      <td>l1</td>\n",
       "      <td>0.942880</td>\n",
       "    </tr>\n",
       "  </tbody>\n",
       "</table>\n",
       "</div>"
      ],
      "text/plain": [
       "    lambda_value regularization  cv_score\n",
       "3          0.010             l2  0.946132\n",
       "5          0.100             l2  0.945905\n",
       "7          1.000             l2  0.945820\n",
       "9         10.000             l2  0.945812\n",
       "11       100.000             l2  0.945812\n",
       "13      1000.000             l2  0.945812\n",
       "1          0.001             l2  0.945000\n",
       "10       100.000             l1  0.944365\n",
       "8         10.000             l1  0.944338\n",
       "6          1.000             l1  0.944285\n",
       "12      1000.000             l1  0.944217\n",
       "2          0.010             l1  0.943896\n",
       "4          0.100             l1  0.943659\n",
       "0          0.001             l1  0.942880"
      ]
     },
     "metadata": {},
     "output_type": "display_data"
    },
    {
     "name": "stdout",
     "output_type": "stream",
     "text": [
      "*********** Results of Random search ***********\n"
     ]
    },
    {
     "data": {
      "text/html": [
       "<div>\n",
       "<style scoped>\n",
       "    .dataframe tbody tr th:only-of-type {\n",
       "        vertical-align: middle;\n",
       "    }\n",
       "\n",
       "    .dataframe tbody tr th {\n",
       "        vertical-align: top;\n",
       "    }\n",
       "\n",
       "    .dataframe thead th {\n",
       "        text-align: right;\n",
       "    }\n",
       "</style>\n",
       "<table border=\"1\" class=\"dataframe\">\n",
       "  <thead>\n",
       "    <tr style=\"text-align: right;\">\n",
       "      <th></th>\n",
       "      <th>lambda_value</th>\n",
       "      <th>regularization</th>\n",
       "      <th>cv_score</th>\n",
       "    </tr>\n",
       "  </thead>\n",
       "  <tbody>\n",
       "    <tr>\n",
       "      <th>5</th>\n",
       "      <td>0.159986</td>\n",
       "      <td>l2</td>\n",
       "      <td>0.945871</td>\n",
       "    </tr>\n",
       "    <tr>\n",
       "      <th>0</th>\n",
       "      <td>6250.551925</td>\n",
       "      <td>l2</td>\n",
       "      <td>0.945812</td>\n",
       "    </tr>\n",
       "    <tr>\n",
       "      <th>3</th>\n",
       "      <td>294.705170</td>\n",
       "      <td>l2</td>\n",
       "      <td>0.945812</td>\n",
       "    </tr>\n",
       "    <tr>\n",
       "      <th>8</th>\n",
       "      <td>13.894955</td>\n",
       "      <td>l2</td>\n",
       "      <td>0.945812</td>\n",
       "    </tr>\n",
       "    <tr>\n",
       "      <th>9</th>\n",
       "      <td>596.362332</td>\n",
       "      <td>l2</td>\n",
       "      <td>0.945812</td>\n",
       "    </tr>\n",
       "    <tr>\n",
       "      <th>4</th>\n",
       "      <td>2.682696</td>\n",
       "      <td>l2</td>\n",
       "      <td>0.945805</td>\n",
       "    </tr>\n",
       "    <tr>\n",
       "      <th>7</th>\n",
       "      <td>0.255955</td>\n",
       "      <td>l1</td>\n",
       "      <td>0.944885</td>\n",
       "    </tr>\n",
       "    <tr>\n",
       "      <th>2</th>\n",
       "      <td>71.968567</td>\n",
       "      <td>l1</td>\n",
       "      <td>0.944654</td>\n",
       "    </tr>\n",
       "    <tr>\n",
       "      <th>6</th>\n",
       "      <td>1.325711</td>\n",
       "      <td>l1</td>\n",
       "      <td>0.944327</td>\n",
       "    </tr>\n",
       "    <tr>\n",
       "      <th>1</th>\n",
       "      <td>17.575106</td>\n",
       "      <td>l1</td>\n",
       "      <td>0.944086</td>\n",
       "    </tr>\n",
       "  </tbody>\n",
       "</table>\n",
       "</div>"
      ],
      "text/plain": [
       "   lambda_value regularization  cv_score\n",
       "5      0.159986             l2  0.945871\n",
       "0   6250.551925             l2  0.945812\n",
       "3    294.705170             l2  0.945812\n",
       "8     13.894955             l2  0.945812\n",
       "9    596.362332             l2  0.945812\n",
       "4      2.682696             l2  0.945805\n",
       "7      0.255955             l1  0.944885\n",
       "2     71.968567             l1  0.944654\n",
       "6      1.325711             l1  0.944327\n",
       "1     17.575106             l1  0.944086"
      ]
     },
     "metadata": {},
     "output_type": "display_data"
    }
   ],
   "source": [
    "print(\"*********** Results of Grid search ***********\")\n",
    "read_table_data('word2vec_grid.csv')\n",
    "print(\"*********** Results of Random search ***********\")\n",
    "read_table_data('word2vec_random.csv')"
   ]
  },
  {
   "cell_type": "markdown",
   "metadata": {},
   "source": [
    "The best results for Both L1 and L2 reguarization are found at :\n",
    "\n",
    "**For L2 - > cv_score is 0.942893 and C=0.010 , 0.10 , 1,10,100,1000 (C= 1 / lambda)**\n",
    "\n",
    "**For L1 - > cv_score is 0.942863 and C=10,1,1000,0.25,0.10,0.01**\n",
    "\n",
    "so lets try the test data validation on this parameters\n",
    "\n"
   ]
  },
  {
   "cell_type": "markdown",
   "metadata": {},
   "source": [
    "# L2-regularization with word2vec"
   ]
  },
  {
   "cell_type": "code",
   "execution_count": 41,
   "metadata": {},
   "outputs": [
    {
     "name": "stderr",
     "output_type": "stream",
     "text": [
      "/home/gurnatham_ravi/anaconda3/lib/python3.6/site-packages/sklearn/linear_model/logistic.py:1228: UserWarning: 'n_jobs' > 1 does not have any effect when 'solver' is set to 'liblinear'. Got 'n_jobs' = -1.\n",
      "  \" = {}.\".format(self.n_jobs))\n",
      "/home/gurnatham_ravi/anaconda3/lib/python3.6/site-packages/sklearn/linear_model/logistic.py:1228: UserWarning: 'n_jobs' > 1 does not have any effect when 'solver' is set to 'liblinear'. Got 'n_jobs' = -1.\n",
      "  \" = {}.\".format(self.n_jobs))\n",
      "/home/gurnatham_ravi/anaconda3/lib/python3.6/site-packages/sklearn/linear_model/logistic.py:1228: UserWarning: 'n_jobs' > 1 does not have any effect when 'solver' is set to 'liblinear'. Got 'n_jobs' = -1.\n",
      "  \" = {}.\".format(self.n_jobs))\n",
      "/home/gurnatham_ravi/anaconda3/lib/python3.6/site-packages/sklearn/linear_model/logistic.py:1228: UserWarning: 'n_jobs' > 1 does not have any effect when 'solver' is set to 'liblinear'. Got 'n_jobs' = -1.\n",
      "  \" = {}.\".format(self.n_jobs))\n",
      "/home/gurnatham_ravi/anaconda3/lib/python3.6/site-packages/sklearn/linear_model/logistic.py:1228: UserWarning: 'n_jobs' > 1 does not have any effect when 'solver' is set to 'liblinear'. Got 'n_jobs' = -1.\n",
      "  \" = {}.\".format(self.n_jobs))\n",
      "/home/gurnatham_ravi/anaconda3/lib/python3.6/site-packages/sklearn/linear_model/logistic.py:1228: UserWarning: 'n_jobs' > 1 does not have any effect when 'solver' is set to 'liblinear'. Got 'n_jobs' = -1.\n",
      "  \" = {}.\".format(self.n_jobs))\n"
     ]
    }
   ],
   "source": [
    "#c=[0.10 , 10 , 1,100,1000,0.01 ]\n",
    "from sklearn.linear_model import LogisticRegression\n",
    "LR=LogisticRegression(penalty='l2', tol=0.0001, C=0.10,  n_jobs=-1)\n",
    "lr_1=LR.fit(BOW1_train_std,df_train_y)\n",
    "LR=LogisticRegression(penalty='l2', tol=0.0001, C=10,  n_jobs=-1)\n",
    "lr_2=LR.fit(BOW1_train_std,df_train_y)\n",
    "LR=LogisticRegression(penalty='l2', tol=0.0001, C=1.0,  n_jobs=-1)\n",
    "lr_3=LR.fit(BOW1_train_std,df_train_y)\n",
    "LR=LogisticRegression(penalty='l2', tol=0.0001, C=100,  n_jobs=-1)\n",
    "lr_4=LR.fit(BOW1_train_std,df_train_y)\n",
    "LR=LogisticRegression(penalty='l2', tol=0.0001, C=1000,  n_jobs=-1)\n",
    "lr_5=LR.fit(BOW1_train_std,df_train_y)\n",
    "LR=LogisticRegression(penalty='l2', tol=0.0001, C=0.01,  n_jobs=-1)\n",
    "lr_6=LR.fit(BOW1_train_std,df_train_y)"
   ]
  },
  {
   "cell_type": "code",
   "execution_count": 43,
   "metadata": {},
   "outputs": [],
   "source": [
    "from sklearn.metrics import confusion_matrix,f1_score,recall_score,precision_score,accuracy_score\n",
    "outputs=[]\n",
    "outputs.append(lr_1.predict(BOW1_test_std))\n",
    "outputs.append(lr_2.predict(BOW1_test_std))\n",
    "outputs.append(lr_3.predict(BOW1_test_std))\n",
    "outputs.append(lr_4.predict(BOW1_test_std))\n",
    "outputs.append(lr_5.predict(BOW1_test_std))\n",
    "outputs.append(lr_6.predict(BOW1_test_std))\n",
    "cms=[]\n",
    "for op in outputs:\n",
    "    cms.append(confusion_matrix(df_test_y,op))\n",
    "dfs=[]\n",
    "for cm in cms:\n",
    "    dfs.append(pd.DataFrame(cm,index=['negative','positive'],columns=['negative','positive']))"
   ]
  },
  {
   "cell_type": "code",
   "execution_count": 44,
   "metadata": {},
   "outputs": [
    {
     "name": "stdout",
     "output_type": "stream",
     "text": [
      "+--------+--------+----------+----------+----------+--------------------+------+\n",
      "| precis | recall | accuracy | f1-score | Non-zero | sparsity(Non-zero  |  C   |\n",
      "|  ion   |        |          |          |          |      weights)      |      |\n",
      "+--------+--------+----------+----------+----------+--------------------+------+\n",
      "| 0.899  | 0.981  |  0.887   |  0.938   |   100    |        1.0         | 0.01 |\n",
      "+--------+--------+----------+----------+----------+--------------------+------+\n",
      "|  0.9   | 0.979  |  0.887   |  0.938   |   100    |        1.0         | 0.1  |\n",
      "+--------+--------+----------+----------+----------+--------------------+------+\n",
      "| 0.901  | 0.979  |  0.887   |  0.938   |   100    |        1.0         |  1   |\n",
      "+--------+--------+----------+----------+----------+--------------------+------+\n",
      "| 0.901  | 0.979  |  0.887   |  0.938   |   100    |        1.0         |  10  |\n",
      "+--------+--------+----------+----------+----------+--------------------+------+\n",
      "| 0.901  | 0.979  |  0.887   |  0.938   |   100    |        1.0         | 100  |\n",
      "+--------+--------+----------+----------+----------+--------------------+------+\n",
      "| 0.901  | 0.979  |  0.887   |  0.938   |   100    |        1.0         | 1000 |\n",
      "+--------+--------+----------+----------+----------+--------------------+------+\n"
     ]
    },
    {
     "data": {
      "image/png": "[encoded data removed]",
      "text/plain": [
       "<Figure size 1440x1080 with 12 Axes>"
      ]
     },
     "metadata": {},
     "output_type": "display_data"
    }
   ],
   "source": [
    "C_values=[0.10 , 10 , 1,100,1000,0.01]\n",
    "plot_confusion_matrix_table(C_values,outputs,df_test_y,lr_1,lr_2,lr_3,lr_4,lr_5,lr_6,3,2)"
   ]
  },
  {
   "cell_type": "markdown",
   "metadata": {},
   "source": [
    "# Observation \n",
    "As the value of C(1 / lambda), Generalization is improved, which we can clearly seen that error on unseen data decreases"
   ]
  },
  {
   "cell_type": "markdown",
   "metadata": {},
   "source": [
    "# Multicolinearity check (pertubation test)"
   ]
  },
  {
   "cell_type": "code",
   "execution_count": 107,
   "metadata": {},
   "outputs": [
    {
     "name": "stdout",
     "output_type": "stream",
     "text": [
      "Adding noise is  0.0083545625573513\n",
      "count is  0\n",
      "count is  10000\n",
      "count is  20000\n",
      "count is  30000\n",
      "count is  40000\n",
      "count is  50000\n",
      "count is  60000\n"
     ]
    }
   ],
   "source": [
    "new_noise_added_train_data=BOW1_train_std\n",
    "Epsilon=np.random.normal(0,0.01)\n",
    "print('Adding noise is ',Epsilon)\n",
    "count=0\n",
    "for review in new_noise_added_train_data:\n",
    "    if(count%10000==0):\n",
    "        print('count is ',count)\n",
    "    review+=Epsilon\n",
    "    count+=1"
   ]
  },
  {
   "cell_type": "code",
   "execution_count": 108,
   "metadata": {},
   "outputs": [
    {
     "name": "stderr",
     "output_type": "stream",
     "text": [
      "/home/gurnatham_ravi/anaconda3/lib/python3.6/site-packages/sklearn/linear_model/logistic.py:1228: UserWarning: 'n_jobs' > 1 does not have any effect when 'solver' is set to 'liblinear'. Got 'n_jobs' = -1.\n",
      "  \" = {}.\".format(self.n_jobs))\n"
     ]
    }
   ],
   "source": [
    "lr_multi_colinearity=LogisticRegression(penalty='l2', tol=0.0001, C=0.01,  n_jobs=-1)\n",
    "lr_colinearity=lr_multi_colinearity.fit(new_noise_added_train_data,df_train_y)"
   ]
  },
  {
   "cell_type": "code",
   "execution_count": 110,
   "metadata": {},
   "outputs": [
    {
     "name": "stderr",
     "output_type": "stream",
     "text": [
      "/home/gurnatham_ravi/anaconda3/lib/python3.6/site-packages/sklearn/linear_model/logistic.py:1228: UserWarning: 'n_jobs' > 1 does not have any effect when 'solver' is set to 'liblinear'. Got 'n_jobs' = -1.\n",
      "  \" = {}.\".format(self.n_jobs))\n"
     ]
    }
   ],
   "source": [
    "LR=LogisticRegression(penalty='l2', tol=0.0001, C=0.010,  n_jobs=-1)\n",
    "lr_6=LR.fit(BOW1_train_std,df_train_y)"
   ]
  },
  {
   "cell_type": "code",
   "execution_count": 114,
   "metadata": {},
   "outputs": [
    {
     "name": "stdout",
     "output_type": "stream",
     "text": [
      "Before pertubation [ 0.18215249  0.0967532   0.02236355  0.00426414  0.00866139 -0.116129\n",
      "  0.09594435 -0.18034897 -0.13670899 -0.06531021]\n",
      "**************************************\n",
      "After pertubation [ 0.18215249  0.0967532   0.02236355  0.00426414  0.00866139 -0.116129\n",
      "  0.09594435 -0.18034897 -0.13670899 -0.06531021]\n"
     ]
    }
   ],
   "source": [
    "print('Before pertubation',lr_6.coef_[0][:10])\n",
    "print(\"**************************************\")\n",
    "print('After pertubation',lr_colinearity.coef_[0][:10])"
   ]
  },
  {
   "cell_type": "code",
   "execution_count": 116,
   "metadata": {},
   "outputs": [
    {
     "data": {
      "text/plain": [
       "array([0., 0., 0., 0., 0., 0., 0., 0., 0., 0.])"
      ]
     },
     "execution_count": 116,
     "metadata": {},
     "output_type": "execute_result"
    }
   ],
   "source": [
    "np.sort(lr_6.coef_[0]-lr_colinearity.coef_[0])[-10:]"
   ]
  },
  {
   "cell_type": "markdown",
   "metadata": {},
   "source": [
    "**From above multicolinearity test we can observe that features are not changling a lot due to small change in feature values , so we can conclude that features are not colinear.**"
   ]
  },
  {
   "cell_type": "markdown",
   "metadata": {},
   "source": [
    "# So features are not colinear"
   ]
  },
  {
   "cell_type": "markdown",
   "metadata": {},
   "source": [
    "# Feature importance"
   ]
  },
  {
   "cell_type": "markdown",
   "metadata": {},
   "source": [
    "**Feature importance does not make sense with resprect to the wod2vec because weights doesnot represent its words. So did not include the feature importance.**"
   ]
  },
  {
   "cell_type": "markdown",
   "metadata": {},
   "source": [
    "# L1 regularization"
   ]
  },
  {
   "cell_type": "code",
   "execution_count": 51,
   "metadata": {},
   "outputs": [
    {
     "name": "stderr",
     "output_type": "stream",
     "text": [
      "/home/gurnatham_ravi/anaconda3/lib/python3.6/site-packages/sklearn/linear_model/logistic.py:1228: UserWarning: 'n_jobs' > 1 does not have any effect when 'solver' is set to 'liblinear'. Got 'n_jobs' = -1.\n",
      "  \" = {}.\".format(self.n_jobs))\n"
     ]
    }
   ],
   "source": [
    "from sklearn.linear_model import LogisticRegression\n",
    "LR=LogisticRegression(penalty='l1', tol=0.0001, C=0.01,  n_jobs=-1)\n",
    "lr_1=LR.fit(BOW1_train_std,df_train_y)\n",
    "LR=LogisticRegression(penalty='l1', tol=0.0001, C=0.1,  n_jobs=-1)\n",
    "lr_2=LR.fit(BOW1_train_std,df_train_y)\n",
    "LR=LogisticRegression(penalty='l1', tol=0.0001, C=1,  n_jobs=-1)\n",
    "lr_3=LR.fit(BOW1_train_std,df_train_y)\n",
    "LR=LogisticRegression(penalty='l1', tol=0.0001, C=17.57,  n_jobs=-1)\n",
    "lr_4=LR.fit(BOW1_train_std,df_train_y)\n",
    "LR=LogisticRegression(penalty='l1', tol=0.0001, C=100,  n_jobs=-1)\n",
    "lr_5=LR.fit(BOW1_train_std,df_train_y)\n",
    "LR=LogisticRegression(penalty='l1', tol=0.0001, C=1000,  n_jobs=-1)\n",
    "lr_6=LR.fit(BOW1_train_std,df_train_y)"
   ]
  },
  {
   "cell_type": "code",
   "execution_count": 52,
   "metadata": {},
   "outputs": [],
   "source": [
    "from sklearn.metrics import confusion_matrix,f1_score,recall_score,precision_score,accuracy_score\n",
    "outputs=[]\n",
    "outputs.append(lr_1.predict(BOW1_test_std))\n",
    "outputs.append(lr_2.predict(BOW1_test_std))\n",
    "outputs.append(lr_3.predict(BOW1_test_std))\n",
    "outputs.append(lr_4.predict(BOW1_test_std))\n",
    "outputs.append(lr_5.predict(BOW1_test_std))\n",
    "outputs.append(lr_6.predict(BOW1_test_std))\n",
    "cms=[]\n",
    "for op in outputs:\n",
    "    cms.append(confusion_matrix(df_test_y,op))\n",
    "dfs=[]\n",
    "for cm in cms:\n",
    "    dfs.append(pd.DataFrame(cm,index=['negative','positive'],columns=['negative','positive']))"
   ]
  },
  {
   "cell_type": "code",
   "execution_count": 53,
   "metadata": {},
   "outputs": [
    {
     "name": "stdout",
     "output_type": "stream",
     "text": [
      "+--------+--------+----------+----------+----------+-------------------+-------+\n",
      "| precis | recall | accuracy | f1-score | Non-zero | sparsity(Non-zero |   C   |\n",
      "|  ion   |        |          |          |          |      weights)     |       |\n",
      "+--------+--------+----------+----------+----------+-------------------+-------+\n",
      "| 0.895  | 0.984  |  0.885   |  0.937   |    69    |       0.69        | 0.01  |\n",
      "+--------+--------+----------+----------+----------+-------------------+-------+\n",
      "|  0.9   |  0.98  |  0.887   |  0.938   |    98    |       0.98        |  0.1  |\n",
      "+--------+--------+----------+----------+----------+-------------------+-------+\n",
      "|  0.9   | 0.979  |  0.887   |  0.938   |   100    |        1.0        |   1   |\n",
      "+--------+--------+----------+----------+----------+-------------------+-------+\n",
      "|  0.9   | 0.979  |  0.887   |  0.938   |   100    |        1.0        | 17.57 |\n",
      "+--------+--------+----------+----------+----------+-------------------+-------+\n",
      "|  0.9   | 0.979  |  0.887   |  0.938   |   100    |        1.0        |  100  |\n",
      "+--------+--------+----------+----------+----------+-------------------+-------+\n",
      "|  0.9   | 0.979  |  0.887   |  0.938   |   100    |        1.0        | 1000  |\n",
      "+--------+--------+----------+----------+----------+-------------------+-------+\n"
     ]
    },
    {
     "data": {
      "image/png": "[encoded data removed]",
      "text/plain": [
       "<Figure size 1440x1080 with 12 Axes>"
      ]
     },
     "metadata": {},
     "output_type": "display_data"
    }
   ],
   "source": [
    "C_values=[0.01, 0.10,1,17.57,100,1000]\n",
    "plot_confusion_matrix_table(C_values,outputs,df_test_y,lr_1,lr_2,lr_3,lr_4,lr_5,lr_6,3,2)"
   ]
  },
  {
   "cell_type": "markdown",
   "metadata": {},
   "source": [
    "# Observation\n",
    "As the C decreases the the sparisty in weight vectors increasing , we can observe that for different values of C values .\n",
    "\n",
    "1.For value of C=1000(inverse strength) we have sparsity is 100 (100% of weights are are non-zero)\n",
    "\n",
    "2.For value of C=0.01 we have sparisty as 69 (only 69% are non-zero and remaining are zero)\n",
    "\n",
    "From both 1 & 2,\n",
    "\n",
    "we can conclude that as the C decreases the sparsity in the weight vectors increasing.\n",
    "\n",
    "And one more point is as the C is decreasing the model is underfit, so the precision and recall score going to fall down as we can observe that one from the above table."
   ]
  },
  {
   "cell_type": "markdown",
   "metadata": {},
   "source": [
    "# Multicolinearity check (pertubation test)"
   ]
  },
  {
   "cell_type": "code",
   "execution_count": 117,
   "metadata": {},
   "outputs": [
    {
     "name": "stdout",
     "output_type": "stream",
     "text": [
      "Adding noise is  -0.002486673573054828\n",
      "count is  0\n",
      "count is  10000\n",
      "count is  20000\n",
      "count is  30000\n",
      "count is  40000\n",
      "count is  50000\n",
      "count is  60000\n"
     ]
    }
   ],
   "source": [
    "new_noise_added_train_data=BOW1_train_std\n",
    "Epsilon=np.random.normal(0,0.01)\n",
    "print('Adding noise is ',Epsilon)\n",
    "count=0\n",
    "for review in new_noise_added_train_data:\n",
    "    if(count%10000==0):\n",
    "        print('count is ',count)\n",
    "    review+=Epsilon\n",
    "    count+=1"
   ]
  },
  {
   "cell_type": "code",
   "execution_count": 118,
   "metadata": {},
   "outputs": [
    {
     "name": "stderr",
     "output_type": "stream",
     "text": [
      "/home/gurnatham_ravi/anaconda3/lib/python3.6/site-packages/sklearn/linear_model/logistic.py:1228: UserWarning: 'n_jobs' > 1 does not have any effect when 'solver' is set to 'liblinear'. Got 'n_jobs' = -1.\n",
      "  \" = {}.\".format(self.n_jobs))\n"
     ]
    }
   ],
   "source": [
    "lr_multi_colinearity=LogisticRegression(penalty='l1', tol=0.0001, C=0.01,  n_jobs=-1)\n",
    "lr_colinearity=lr_multi_colinearity.fit(new_noise_added_train_data,df_train_y)"
   ]
  },
  {
   "cell_type": "code",
   "execution_count": 119,
   "metadata": {},
   "outputs": [
    {
     "name": "stderr",
     "output_type": "stream",
     "text": [
      "/home/gurnatham_ravi/anaconda3/lib/python3.6/site-packages/sklearn/linear_model/logistic.py:1228: UserWarning: 'n_jobs' > 1 does not have any effect when 'solver' is set to 'liblinear'. Got 'n_jobs' = -1.\n",
      "  \" = {}.\".format(self.n_jobs))\n"
     ]
    }
   ],
   "source": [
    "LR=LogisticRegression(penalty='l1', tol=0.0001, C=0.01,  n_jobs=-1)\n",
    "lr_1=LR.fit(BOW1_train_std,df_train_y)"
   ]
  },
  {
   "cell_type": "code",
   "execution_count": 120,
   "metadata": {},
   "outputs": [
    {
     "name": "stdout",
     "output_type": "stream",
     "text": [
      "After pertubation [ 0.          0.          0.          0.          0.          0.\n",
      "  0.         -0.06085093  0.          0.        ]\n",
      "**************************************\n",
      "Before pertubation [ 0.          0.          0.          0.          0.          0.\n",
      "  0.         -0.05605525  0.          0.        ]\n"
     ]
    }
   ],
   "source": [
    "print('After pertubation',lr_1.coef_[0][:10])\n",
    "print(\"**************************************\")\n",
    "print('Before pertubation',lr_colinearity.coef_[0][:10])"
   ]
  },
  {
   "cell_type": "code",
   "execution_count": 121,
   "metadata": {},
   "outputs": [
    {
     "data": {
      "text/plain": [
       "array([0.00317243, 0.00332893, 0.00352177, 0.00360433, 0.00395276,\n",
       "       0.00417773, 0.0044742 , 0.00462299, 0.00474971, 0.0048686 ,\n",
       "       0.00499473, 0.0050022 , 0.00533112, 0.00555291, 0.0058138 ,\n",
       "       0.00759873, 0.00763409, 0.00792457, 0.00816954, 0.00843461])"
      ]
     },
     "execution_count": 121,
     "metadata": {},
     "output_type": "execute_result"
    }
   ],
   "source": [
    "np.sort(lr_1.coef_[0]-lr_colinearity.coef_[0])[-20:]"
   ]
  },
  {
   "cell_type": "markdown",
   "metadata": {},
   "source": [
    "**From above multicolinearity test we can observe that features are not changling a lot due to small change in feature values , so we can conclude that there is no multicolinearity among the features.**"
   ]
  },
  {
   "cell_type": "markdown",
   "metadata": {},
   "source": [
    "# feature importance"
   ]
  },
  {
   "cell_type": "markdown",
   "metadata": {},
   "source": [
    "**Feature importance does not make sense with resprect to the wod2vec because weights doesnot represent its words. So did not include the feature importance.**"
   ]
  },
  {
   "cell_type": "markdown",
   "metadata": {},
   "source": [
    "# Conclusion"
   ]
  },
  {
   "cell_type": "code",
   "execution_count": 150,
   "metadata": {},
   "outputs": [
    {
     "name": "stdout",
     "output_type": "stream",
     "text": [
      "+-------------+-------------+------+----------+----------+----------+---------+\n",
      "|    Type     | Regularizat |  C   | cv-accur | Test sco | precisio | recall  |\n",
      "|             |    ion      |      |   acy    |   re     |    n     |         |\n",
      "+-------------+-------------+------+----------+----------+----------+---------+\n",
      "|  unigrams   |     L2      | 0.01 |  94.28   |   94.2   |   92.8   |  95.7   |\n",
      "+-------------+-------------+------+----------+----------+----------+---------+\n",
      "|  unigrams   |     L1      | 4.3  |   94.3   |   92.3   |    93    |  91.6   |\n",
      "+-------------+-------------+------+----------+----------+----------+---------+\n",
      "|   Bigrams   |     L2      | 0.01 |  94.28   |   93.7   |   88.3   |  99.8   |\n",
      "+-------------+-------------+------+----------+----------+----------+---------+\n",
      "|   Bigrams   |     L1      | 100  |  94.286  |   94.1   |   89.5   |  99.2   |\n",
      "+-------------+-------------+------+----------+----------+----------+---------+\n",
      "| Tf-idf-unig |     L2      | 0.01 |  94.12   |   93.5   |   92.2   |  94.8   |\n",
      "|    rams     |             |      |          |          |          |         |\n",
      "+-------------+-------------+------+----------+----------+----------+---------+\n",
      "| Tf-idf-unig |     L1      | 1000 |  92.75   |   91.2   |    92    |  90.5   |\n",
      "|    rams     |             |      |          |          |          |         |\n",
      "+-------------+-------------+------+----------+----------+----------+---------+\n",
      "| Tf-idf-Bigr |     L2      | 0.01 |   94.5   |   93.7   |   88.3   |  99.9   |\n",
      "|     ams     |             |      |          |          |          |         |\n",
      "+-------------+-------------+------+----------+----------+----------+---------+\n",
      "| Tf-idf-Bigr |     L1      | 100  |   93.5   |    94    |   89.1   |  99.5   |\n",
      "|     ams     |             |      |          |          |          |         |\n",
      "+-------------+-------------+------+----------+----------+----------+---------+\n",
      "|  word2vec   |     L2      | 0.01 |   94.6   |   93.8   |   89.9   |  98.1   |\n",
      "+-------------+-------------+------+----------+----------+----------+---------+\n",
      "|  word2vec   |     L1      | 0.01 |   94.3   |   93.7   |   89.5   |  98.4   |\n",
      "+-------------+-------------+------+----------+----------+----------+---------+\n"
     ]
    }
   ],
   "source": [
    "from beautifultable import BeautifulTable\n",
    "type_model=['unigrams','unigrams','Bigrams','Bigrams','Tf-idf-unigrams','Tf-idf-unigrams','Tf-idf-Bigrams','Tf-idf-Bigrams','word2vec','word2vec']\n",
    "reg=['L2','L1','L2','L1','L2','L1','L2','L1','L2','L1','L2','L1']\n",
    "C=[0.01,4.3,0.01,100,0.01,1000,0.01,100,0.01,0.01]\n",
    "cv_accuracy=[94.28,94.3,94.28,94.2856,94.12,92.75,94.5,93.5,94.6,94.3]\n",
    "test_accuracy=[94.2,92.3,93.7,94.1,93.5,91.2,93.7,94,93.8,93.7]\n",
    "precision=[92.8,93,88.3,89.5,92.2,92,88.3,89.1,89.9,89.5]\n",
    "recall=[95.7,91.6,99.8,99.2,94.8,90.5,99.9,99.5,98.1,98.4]\n",
    "table=BeautifulTable()\n",
    "table.insert_column(0,\"Type \",type_model)\n",
    "table.insert_column(1,\"Regularization \",reg)\n",
    "table.insert_column(2,\"C \",C)\n",
    "table.insert_column(3,\"cv-accuracy\",cv_accuracy)\n",
    "table.insert_column(4,\"Test score \",test_accuracy)\n",
    "table.insert_column(5,\"precision \",precision)\n",
    "table.insert_column(6,\"recall \",recall)\n",
    "print(table)"
   ]
  },
  {
   "cell_type": "markdown",
   "metadata": {},
   "source": [
    "**All vectorizations are performing well and each model f-1 score is more than 90% and having good precision and recall score**"
   ]
  }
 ],
 "metadata": {
  "kernelspec": {
   "display_name": "Python 3",
   "language": "python",
   "name": "python3"
  },
  "language_info": {
   "codemirror_mode": {
    "name": "ipython",
    "version": 3
   },
   "file_extension": ".py",
   "mimetype": "text/x-python",
   "name": "python",
   "nbconvert_exporter": "python",
   "pygments_lexer": "ipython3",
   "version": "3.6.5"
  }
 },
 "nbformat": 4,
 "nbformat_minor": 2
}
