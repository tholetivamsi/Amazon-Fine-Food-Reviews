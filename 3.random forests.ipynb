{
  "nbformat": 4,
  "nbformat_minor": 0,
  "metadata": {
    "colab": {
      "name": "decision_trees.ipynb",
      "version": "0.3.2",
      "provenance": []
    },
    "kernelspec": {
      "name": "python3",
      "display_name": "Python 3"
    },
    "accelerator": "TPU"
  },
  "cells": [
    {
      "metadata": {
        "id": "C6oAtL8vclfp",
        "colab_type": "text"
      },
      "cell_type": "markdown",
      "source": [
        "# Ojective\n",
        "To classify a given new review eithe positive or negative  using **Random forest trees and XGBoost tree classifier**  technqiue."
      ]
    },
    {
      "metadata": {
        "id": "W72PwKTIcoCq",
        "colab_type": "code",
        "colab": {
          "base_uri": "https://localhost:8080/",
          "height": 34
        },
        "outputId": "696f297f-bdb7-4f8a-ca24-e3a9abe7ca64"
      },
      "cell_type": "code",
      "source": [
        "# Load the Drive helper and mount\n",
        "from google.colab import drive\n",
        "# This will prompt for authorization.\n",
        "drive.mount('/content/drive')"
      ],
      "execution_count": 1,
      "outputs": [
        {
          "output_type": "stream",
          "text": [
            "Drive already mounted at /content/drive; to attempt to forcibly remount, call drive.mount(\"/content/drive\", force_remount=True).\n"
          ],
          "name": "stdout"
        }
      ]
    },
    {
      "metadata": {
        "id": "ZTa_4V6Zclfs",
        "colab_type": "text"
      },
      "cell_type": "markdown",
      "source": [
        "# Loading libraries"
      ]
    },
    {
      "metadata": {
        "id": "mXk11sa4clft",
        "colab_type": "code",
        "colab": {}
      },
      "cell_type": "code",
      "source": [
        "import numpy as np\n",
        "import pandas as pd\n",
        "import matplotlib.pyplot as plt\n",
        "import seaborn as sb\n",
        "%matplotlib inline"
      ],
      "execution_count": 0,
      "outputs": []
    },
    {
      "metadata": {
        "id": "Vsb86AxGclfz",
        "colab_type": "text"
      },
      "cell_type": "markdown",
      "source": [
        "# Reading data"
      ]
    },
    {
      "metadata": {
        "id": "p-XNfpdzc1ty",
        "colab_type": "code",
        "colab": {
          "base_uri": "https://localhost:8080/",
          "height": 102
        },
        "outputId": "c94680d5-8fff-4872-e323-15241fb861c0"
      },
      "cell_type": "code",
      "source": [
        "df=pd.read_csv('/content/drive/My Drive/Colab_Notebooks/Decision_trees/data.csv')\n",
        "print(df.shape)\n",
        "df.columns"
      ],
      "execution_count": 3,
      "outputs": [
        {
          "output_type": "stream",
          "text": [
            "(100000, 12)\n"
          ],
          "name": "stdout"
        },
        {
          "output_type": "execute_result",
          "data": {
            "text/plain": [
              "Index(['Unnamed: 0', 'Id', 'ProductId', 'UserId', 'ProfileName',\n",
              "       'HelpfulnessNumerator', 'HelpfulnessDenominator', 'Score', 'Time',\n",
              "       'Summary', 'Text', 'Class'],\n",
              "      dtype='object')"
            ]
          },
          "metadata": {
            "tags": []
          },
          "execution_count": 3
        }
      ]
    },
    {
      "metadata": {
        "id": "r_9InKQdclf9",
        "colab_type": "text"
      },
      "cell_type": "markdown",
      "source": [
        "# Train and test dataset\n",
        "Dataset is diveided into two parts in which 67% data is train data and 33% of the data is test data which is used to validate the performance of the dataset"
      ]
    },
    {
      "metadata": {
        "id": "r1QygsI-clf-",
        "colab_type": "code",
        "colab": {
          "base_uri": "https://localhost:8080/",
          "height": 34
        },
        "outputId": "87fb88bb-7ab1-470e-a24c-d23285bdbce4"
      },
      "cell_type": "code",
      "source": [
        "from sklearn.model_selection import train_test_split\n",
        "df_train_x,df_test_x,df_train_y,df_test_y=train_test_split(df['Text'],df['Class'],test_size=0.33,shuffle=False)\n",
        "print(df_train_x.shape,df_test_x.shape,df_train_y.shape,df_test_y.shape)"
      ],
      "execution_count": 4,
      "outputs": [
        {
          "output_type": "stream",
          "text": [
            "(67000,) (33000,) (67000,) (33000,)\n"
          ],
          "name": "stdout"
        }
      ]
    },
    {
      "metadata": {
        "id": "hCNUT4_cdxjV",
        "colab_type": "text"
      },
      "cell_type": "markdown",
      "source": [
        "# read_table_data"
      ]
    },
    {
      "metadata": {
        "id": "sGFtjGKWclgX",
        "colab_type": "code",
        "colab": {}
      },
      "cell_type": "code",
      "source": [
        "import ast\n",
        "from IPython.display import display, HTML\n",
        "def read_table_data(filename):\n",
        "    x=pd.read_csv(filename)\n",
        "    trees=[]\n",
        "    depth=[]\n",
        "    learning_rate=[]\n",
        "    cv_score=[]\n",
        "    for x1 in x[['params','mean_test_score']].values:\n",
        "       # print(x1)\n",
        "       # print('************')\n",
        "        a=ast.literal_eval(x1[0])\n",
        "        cv_score.append(x1[1])\n",
        "        trees.append(a['n_estimators'])\n",
        "        depth.append(a['max_depth'])\n",
        "        learning_rate.append(a['learning_rate'])\n",
        "    results=pd.DataFrame({'trees':trees,'depth':depth,'cv_score':cv_score,'learning_rate':learning_rate})\n",
        "    zz=results.sort_values(by=['cv_score','trees'],ascending=False)\n",
        "    display(zz)"
      ],
      "execution_count": 0,
      "outputs": []
    },
    {
      "metadata": {
        "id": "vZ16aDNYqF_B",
        "colab_type": "text"
      },
      "cell_type": "markdown",
      "source": [
        "# Feature importance function"
      ]
    },
    {
      "metadata": {
        "id": "wbbeOrlZqGmK",
        "colab_type": "code",
        "colab": {}
      },
      "cell_type": "code",
      "source": [
        "!pip install beautifultable\n",
        "from beautifultable import BeautifulTable\n",
        "def feature_importance(models_list,word_model):\n",
        "  #words=[]\n",
        "  index=0\n",
        "  table=BeautifulTable()\n",
        "  for model in models_list:\n",
        "    scores=model.feature_importances_\n",
        "    indices=np.argsort(scores)[-20:]\n",
        "    words=[word_model.get_feature_names()[i] for i in np.argsort(scores)[-20:]]\n",
        "    table.insert_column(index,\"Important features model \"+str(index),words)\n",
        "    index=index+1\n",
        "  print(\"Top 20 Important features\")\n",
        "  print(table)\n",
        "  #print(words)\n",
        "  "
      ],
      "execution_count": 0,
      "outputs": []
    },
    {
      "metadata": {
        "id": "4wCaquPJuRn0",
        "colab_type": "text"
      },
      "cell_type": "markdown",
      "source": [
        "#  plot confusion matrix function"
      ]
    },
    {
      "metadata": {
        "id": "z6p1VcCxE9oG",
        "colab_type": "code",
        "colab": {}
      },
      "cell_type": "code",
      "source": [
        "from sklearn.metrics import f1_score,confusion_matrix,precision_score,recall_score,accuracy_score\n",
        "def plot_confusion_matrix(output,df_test_y,name):\n",
        "  import seaborn as sns\n",
        "  from beautifultable import BeautifulTable\n",
        "  table=BeautifulTable()\n",
        "  table.insert_column(0,\"precision_score\",[precision_score(df_test_y,output)])\n",
        "  table.insert_column(1,\"recall_score\",[recall_score(df_test_y,output)])\n",
        "  table.insert_column(2,\"accuracy\",[accuracy_score(df_test_y,output)])\n",
        "  table.insert_column(3,\"f1-score\",[f1_score(df_test_y,output)])\n",
        "  print(table)\n",
        "  cm_df = pd.DataFrame(confusion_matrix(df_test_y,output),index = ['negative','positive'], columns = ['negative','positive'])\n",
        "  plt.figure(figsize=(5.5,4))\n",
        "  sns.heatmap(cm_df, annot=True, fmt='g')\n",
        "  plt.title('confusion matrix'+name)\n",
        "  plt.ylabel('True label')\n",
        "  plt.xlabel('Predicted label')\n",
        "  plt.show()"
      ],
      "execution_count": 0,
      "outputs": []
    },
    {
      "metadata": {
        "id": "e419tzqIuYKL",
        "colab_type": "text"
      },
      "cell_type": "markdown",
      "source": [
        "# plot the table"
      ]
    },
    {
      "metadata": {
        "id": "8s6zuHasclga",
        "colab_type": "code",
        "colab": {}
      },
      "cell_type": "code",
      "source": [
        "from sklearn.metrics import f1_score,accuracy_score\n",
        "def plot_table(depth,output,output1,output2):\n",
        "  precision_scores=[];recall_scores=[];f1_scores=[];accuracies=[];\n",
        "  outputs=[output,output1,output2]\n",
        "  for item in outputs:\n",
        "    precision_scores.append(precision_score(df_test_y,item))\n",
        "    recall_scores.append(recall_score(df_test_y,item))\n",
        "    f1_scores.append(f1_score(df_test_y,item))\n",
        "    accuracies.append(accuracy_score(df_test_y,item))\n",
        "  from beautifultable import BeautifulTable\n",
        "  table=BeautifulTable()\n",
        "  table.insert_column(0,\"precision\",precision_scores)\n",
        "  table.insert_column(1,\"recall\",recall_scores)\n",
        "  table.insert_column(2,\"accuracy\",accuracies)\n",
        "  table.insert_column(3,\"f1-score\",f1_scores)\n",
        "  table.insert_column(4,\"depth\",depth)\n",
        "  sorted_table=table.sort('depth')\n",
        "  print(table) "
      ],
      "execution_count": 0,
      "outputs": []
    },
    {
      "metadata": {
        "id": "RqNySEcJXMNX",
        "colab_type": "text"
      },
      "cell_type": "markdown",
      "source": [
        "# plot the grpah"
      ]
    },
    {
      "metadata": {
        "id": "9bZTBYTMXK48",
        "colab_type": "code",
        "colab": {}
      },
      "cell_type": "code",
      "source": [
        "def plot_graph(data,name):\n",
        "  depth=data['depth']\n",
        "  scores=data['scores']\n",
        "  import matplotlib.pyplot as plt\n",
        "  plt.xticks(range(1,30))\n",
        "  plt.title(name)\n",
        "  plt.xlabel('depth')\n",
        "  plt.ylabel('accuracy')\n",
        "  plt.plot(depth,scores)\n",
        "  plt.show()"
      ],
      "execution_count": 0,
      "outputs": []
    },
    {
      "metadata": {
        "id": "IFq4ykCn0z7F",
        "colab_type": "text"
      },
      "cell_type": "markdown",
      "source": [
        "# random cv"
      ]
    },
    {
      "metadata": {
        "id": "cXCNuwm400Mx",
        "colab_type": "code",
        "colab": {}
      },
      "cell_type": "code",
      "source": [
        "import xgboost as xgb\n",
        "from xgboost.sklearn import XGBClassifier\n",
        "from sklearn.model_selection import RandomizedSearchCV\n",
        "import scipy.stats as st\n",
        "xclassifier = XGBClassifier()\n",
        "def random_cv(train_data,df_train_y,filename):\n",
        "  params = {  \n",
        "    \"n_estimators\": range(100,1000,100),\n",
        "    \"max_depth\": range(1,4),\n",
        "    \"learning_rate\": np.linspace(0.3,0.1,10),\n",
        "    #\"colsample_bytree\": one_to_left,\n",
        "    #\"subsample\": one_to_left,\n",
        "    #gamma\": st.uniform(0, 10),\n",
        "   # 'reg_alpha': from_zero_positive,\n",
        "   # \"min_child_weight\": from_zero_positive,\n",
        "  }\n",
        "  random_cv=RandomizedSearchCV(xclassifier, params, scoring='f1', cv=3,return_train_score=True)\n",
        "  result=random_cv.fit(train_data,df_train_y)\n",
        "  x=pd.DataFrame(result.cv_results_)\n",
        "  path=\"/content/drive/My Drive/Colab_Notebooks/rf_xgboost/xg_boost/\"\n",
        "  x.to_csv(path+filename)"
      ],
      "execution_count": 0,
      "outputs": []
    },
    {
      "metadata": {
        "id": "xRZSpJgpclgf",
        "colab_type": "text"
      },
      "cell_type": "markdown",
      "source": [
        "# Bag of words - unigrams"
      ]
    },
    {
      "metadata": {
        "id": "QYXA01m4clgg",
        "colab_type": "code",
        "colab": {
          "base_uri": "https://localhost:8080/",
          "height": 34
        },
        "outputId": "d4b4861b-e6b8-4a28-c2ad-57afb92eb256"
      },
      "cell_type": "code",
      "source": [
        "from sklearn.feature_extraction.text import CountVectorizer\n",
        "from sklearn import preprocessing\n",
        "bow_unigrams=CountVectorizer(stop_words='english')\n",
        "BOW1_train=bow_unigrams.fit(df_train_x)\n",
        "train_data=bow_unigrams.transform(df_train_x)\n",
        "test_data=bow_unigrams.transform(df_test_x)\n",
        "print(\"The train data shape is \",train_data.shape,\"and test data shape is \",test_data.shape)"
      ],
      "execution_count": 32,
      "outputs": [
        {
          "output_type": "stream",
          "text": [
            "The train data shape is  (67000, 90770) and test data shape is  (33000, 90770)\n"
          ],
          "name": "stdout"
        }
      ]
    },
    {
      "metadata": {
        "id": "St9t1bhMfus5",
        "colab_type": "code",
        "colab": {}
      },
      "cell_type": "code",
      "source": [
        "from sklearn import preprocessing\n",
        "bin=preprocessing.LabelEncoder()\n",
        "df_train_y=bin.fit_transform(df_train_y)\n",
        "df_test_y=bin.fit_transform(df_test_y)"
      ],
      "execution_count": 0,
      "outputs": []
    },
    {
      "metadata": {
        "id": "f8ZHORMmwAbf",
        "colab_type": "code",
        "colab": {}
      },
      "cell_type": "code",
      "source": [
        "from sklearn.ensemble import RandomForestClassifier\n",
        "oob_scores=[];trees=[];depth=[]\n",
        "for no_of_trees in range(1,100,10):\n",
        "  trees.append(no_of_trees)\n",
        "  for depth_max in range(1,100,10):\n",
        "    depth.append(depth_max)\n",
        "    rf=RandomForestClassifier(n_estimators=no_of_trees, criterion='gini', max_depth=depth_max, min_samples_split=2, min_samples_leaf=1, max_features='auto', bootstrap=True, oob_score=True, n_jobs=-1,  verbose=1, class_weight=\"balanced\")\n",
        "    radom_forest=rf.fit(train_data[:40000],df_train_y[:40000])\n",
        "    oob_scores.append(radom_forest.oob_score_)"
      ],
      "execution_count": 0,
      "outputs": []
    },
    {
      "metadata": {
        "id": "lqfrYI3ixOFi",
        "colab_type": "code",
        "colab": {
          "base_uri": "https://localhost:8080/",
          "height": 3468
        },
        "outputId": "8b145b44-aa38-4412-e32d-64595a387d2d"
      },
      "cell_type": "code",
      "source": [
        "depth=[];trees=[]\n",
        "for i in range(1,100,10):\n",
        "  for j in range(1,100,10):\n",
        "    depth.append(i)\n",
        "    trees.append(j)\n",
        "from beautifultable import BeautifulTable\n",
        "table = BeautifulTable()\n",
        "table.insert_column(0,\"trees\",trees)\n",
        "table.insert_column(1,\"depth\",depth)\n",
        "table.insert_column(2,\"oob_score\",oob_scores)\n",
        "table.sort('oob_score',reverse=True)\n",
        "print(table)"
      ],
      "execution_count": 71,
      "outputs": [
        {
          "output_type": "stream",
          "text": [
            "+-------+-------+-----------+\n",
            "| trees | depth | oob_score |\n",
            "+-------+-------+-----------+\n",
            "|  71   |  91   |   0.909   |\n",
            "+-------+-------+-----------+\n",
            "|  81   |  81   |   0.908   |\n",
            "+-------+-------+-----------+\n",
            "|  91   |  61   |   0.907   |\n",
            "+-------+-------+-----------+\n",
            "|  91   |  81   |   0.907   |\n",
            "+-------+-------+-----------+\n",
            "|  91   |  91   |   0.907   |\n",
            "+-------+-------+-----------+\n",
            "|  81   |  71   |   0.907   |\n",
            "+-------+-------+-----------+\n",
            "|  81   |  91   |   0.907   |\n",
            "+-------+-------+-----------+\n",
            "|  91   |  71   |   0.906   |\n",
            "+-------+-------+-----------+\n",
            "|  71   |  81   |   0.906   |\n",
            "+-------+-------+-----------+\n",
            "|  81   |  61   |   0.904   |\n",
            "+-------+-------+-----------+\n",
            "|  61   |  91   |   0.903   |\n",
            "+-------+-------+-----------+\n",
            "|  61   |  81   |   0.903   |\n",
            "+-------+-------+-----------+\n",
            "|  71   |  71   |   0.903   |\n",
            "+-------+-------+-----------+\n",
            "|  91   |  51   |   0.903   |\n",
            "+-------+-------+-----------+\n",
            "|  71   |  61   |   0.902   |\n",
            "+-------+-------+-----------+\n",
            "|  81   |  51   |   0.902   |\n",
            "+-------+-------+-----------+\n",
            "|  91   |  41   |   0.901   |\n",
            "+-------+-------+-----------+\n",
            "|  71   |  51   |   0.901   |\n",
            "+-------+-------+-----------+\n",
            "|  51   |  71   |    0.9    |\n",
            "+-------+-------+-----------+\n",
            "|  61   |  71   |   0.898   |\n",
            "+-------+-------+-----------+\n",
            "|  81   |  41   |   0.898   |\n",
            "+-------+-------+-----------+\n",
            "|  51   |  91   |   0.898   |\n",
            "+-------+-------+-----------+\n",
            "|  51   |  81   |   0.898   |\n",
            "+-------+-------+-----------+\n",
            "|  71   |  41   |   0.896   |\n",
            "+-------+-------+-----------+\n",
            "|  61   |  61   |   0.895   |\n",
            "+-------+-------+-----------+\n",
            "|  91   |  31   |   0.894   |\n",
            "+-------+-------+-----------+\n",
            "|  61   |  51   |   0.893   |\n",
            "+-------+-------+-----------+\n",
            "|  41   |  81   |   0.892   |\n",
            "+-------+-------+-----------+\n",
            "|  41   |  91   |   0.892   |\n",
            "+-------+-------+-----------+\n",
            "|  81   |  31   |   0.891   |\n",
            "+-------+-------+-----------+\n",
            "|  41   |  71   |   0.891   |\n",
            "+-------+-------+-----------+\n",
            "|  71   |  31   |   0.891   |\n",
            "+-------+-------+-----------+\n",
            "|  51   |  61   |   0.89    |\n",
            "+-------+-------+-----------+\n",
            "|  51   |  51   |   0.89    |\n",
            "+-------+-------+-----------+\n",
            "|  61   |  41   |   0.888   |\n",
            "+-------+-------+-----------+\n",
            "|  41   |  61   |   0.884   |\n",
            "+-------+-------+-----------+\n",
            "|  61   |  31   |   0.884   |\n",
            "+-------+-------+-----------+\n",
            "|  31   |  91   |   0.88    |\n",
            "+-------+-------+-----------+\n",
            "|  41   |  51   |   0.878   |\n",
            "+-------+-------+-----------+\n",
            "|  31   |  81   |   0.877   |\n",
            "+-------+-------+-----------+\n",
            "|  91   |  21   |   0.877   |\n",
            "+-------+-------+-----------+\n",
            "|  81   |  21   |   0.874   |\n",
            "+-------+-------+-----------+\n",
            "|  51   |  41   |   0.873   |\n",
            "+-------+-------+-----------+\n",
            "|  71   |  21   |   0.872   |\n",
            "+-------+-------+-----------+\n",
            "|  31   |  71   |   0.87    |\n",
            "+-------+-------+-----------+\n",
            "|  41   |  41   |   0.867   |\n",
            "+-------+-------+-----------+\n",
            "|  31   |  61   |   0.864   |\n",
            "+-------+-------+-----------+\n",
            "|  61   |  21   |   0.864   |\n",
            "+-------+-------+-----------+\n",
            "|  51   |  31   |   0.864   |\n",
            "+-------+-------+-----------+\n",
            "|  41   |  31   |   0.861   |\n",
            "+-------+-------+-----------+\n",
            "|  21   |  91   |   0.856   |\n",
            "+-------+-------+-----------+\n",
            "|  21   |  81   |   0.852   |\n",
            "+-------+-------+-----------+\n",
            "|  21   |  71   |   0.847   |\n",
            "+-------+-------+-----------+\n",
            "|  31   |  51   |   0.846   |\n",
            "+-------+-------+-----------+\n",
            "|  51   |  21   |   0.845   |\n",
            "+-------+-------+-----------+\n",
            "|  91   |  11   |   0.84    |\n",
            "+-------+-------+-----------+\n",
            "|  31   |  41   |   0.838   |\n",
            "+-------+-------+-----------+\n",
            "|  21   |  51   |   0.837   |\n",
            "+-------+-------+-----------+\n",
            "|  81   |  11   |   0.834   |\n",
            "+-------+-------+-----------+\n",
            "|  41   |  21   |   0.833   |\n",
            "+-------+-------+-----------+\n",
            "|  11   |  81   |   0.824   |\n",
            "+-------+-------+-----------+\n",
            "|  21   |  61   |   0.823   |\n",
            "+-------+-------+-----------+\n",
            "|  31   |  31   |   0.821   |\n",
            "+-------+-------+-----------+\n",
            "|  21   |  41   |   0.816   |\n",
            "+-------+-------+-----------+\n",
            "|  71   |  11   |   0.813   |\n",
            "+-------+-------+-----------+\n",
            "|  31   |  21   |   0.809   |\n",
            "+-------+-------+-----------+\n",
            "|  61   |  11   |   0.804   |\n",
            "+-------+-------+-----------+\n",
            "|  11   |  91   |   0.798   |\n",
            "+-------+-------+-----------+\n",
            "|  51   |  11   |   0.797   |\n",
            "+-------+-------+-----------+\n",
            "|  21   |  31   |   0.791   |\n",
            "+-------+-------+-----------+\n",
            "|  11   |  51   |   0.786   |\n",
            "+-------+-------+-----------+\n",
            "|  11   |  71   |   0.784   |\n",
            "+-------+-------+-----------+\n",
            "|  11   |  21   |   0.781   |\n",
            "+-------+-------+-----------+\n",
            "|  11   |  11   |   0.779   |\n",
            "+-------+-------+-----------+\n",
            "|  11   |  41   |   0.777   |\n",
            "+-------+-------+-----------+\n",
            "|  11   |  61   |   0.773   |\n",
            "+-------+-------+-----------+\n",
            "|  21   |  11   |   0.768   |\n",
            "+-------+-------+-----------+\n",
            "|  11   |  31   |   0.756   |\n",
            "+-------+-------+-----------+\n",
            "|  41   |  11   |   0.756   |\n",
            "+-------+-------+-----------+\n",
            "|  21   |  21   |   0.752   |\n",
            "+-------+-------+-----------+\n",
            "|   1   |  91   |   0.748   |\n",
            "+-------+-------+-----------+\n",
            "|  31   |  11   |   0.715   |\n",
            "+-------+-------+-----------+\n",
            "|   1   |  41   |   0.675   |\n",
            "+-------+-------+-----------+\n",
            "|   1   |  31   |   0.61    |\n",
            "+-------+-------+-----------+\n",
            "|   1   |  61   |   0.572   |\n",
            "+-------+-------+-----------+\n",
            "|   1   |  71   |   0.561   |\n",
            "+-------+-------+-----------+\n",
            "|   1   |  21   |   0.536   |\n",
            "+-------+-------+-----------+\n",
            "|   1   |  11   |   0.495   |\n",
            "+-------+-------+-----------+\n",
            "|   1   |  51   |   0.482   |\n",
            "+-------+-------+-----------+\n",
            "|   1   |  81   |   0.469   |\n",
            "+-------+-------+-----------+\n",
            "|  31   |   1   |   0.383   |\n",
            "+-------+-------+-----------+\n",
            "|  21   |   1   |   0.38    |\n",
            "+-------+-------+-----------+\n",
            "|  61   |   1   |   0.373   |\n",
            "+-------+-------+-----------+\n",
            "|  91   |   1   |   0.363   |\n",
            "+-------+-------+-----------+\n",
            "|  71   |   1   |   0.357   |\n",
            "+-------+-------+-----------+\n",
            "|  81   |   1   |   0.347   |\n",
            "+-------+-------+-----------+\n",
            "|  11   |   1   |   0.32    |\n",
            "+-------+-------+-----------+\n",
            "|  51   |   1   |   0.235   |\n",
            "+-------+-------+-----------+\n",
            "|  41   |   1   |   0.201   |\n",
            "+-------+-------+-----------+\n",
            "|   1   |   1   |   0.112   |\n",
            "+-------+-------+-----------+\n"
          ],
          "name": "stdout"
        }
      ]
    },
    {
      "metadata": {
        "id": "GnDdqU4lD1BK",
        "colab_type": "code",
        "colab": {
          "base_uri": "https://localhost:8080/",
          "height": 336
        },
        "outputId": "b36eb05d-ac98-4af9-b134-05e42db99a0a"
      },
      "cell_type": "code",
      "source": [
        "zmax= np.max(oob_scores)\n",
        "print(np.argmax(oob_scores))\n",
        "mask = np.array(oob_scores) ==  0.9018\n",
        "color = np.where(mask, 'red', 'blue')\n",
        "fig = plt.figure()\n",
        "ax = Axes3D(fig)\n",
        "ax.scatter(depth, trees, oob_scores, color=color)\n",
        "plt.ticklabel_format(useOffset=False)   \n",
        "ax.set_xlabel('depth')\n",
        "ax.set_ylabel('trees')\n",
        "ax.set_zlabel('oob_scores')\n",
        "plt.show()"
      ],
      "execution_count": 75,
      "outputs": [
        {
          "output_type": "stream",
          "text": [
            "97\n"
          ],
          "name": "stdout"
        },
        {
          "output_type": "display_data",
          "data": {
            "image/png": "[encoded data removed]",
            "text/plain": [
              "<matplotlib.figure.Figure at 0x7f0e21a62b00>"
            ]
          },
          "metadata": {
            "tags": []
          }
        }
      ]
    },
    {
      "metadata": {
        "id": "j0AUgsPRI2JZ",
        "colab_type": "text"
      },
      "cell_type": "markdown",
      "source": [
        "**At the depth=41 and no.of trees=91 we are getting high oob_score around 90% so lets try these values on the test data.**"
      ]
    },
    {
      "metadata": {
        "id": "5DikNe04TiyO",
        "colab_type": "code",
        "colab": {}
      },
      "cell_type": "code",
      "source": [
        "from sklearn.ensemble import RandomForestClassifier\n",
        "rf=RandomForestClassifier(n_estimators=91, criterion='gini', max_depth=41, min_samples_split=2, min_samples_leaf=1, max_features='auto', bootstrap=True, oob_score=True, n_jobs=-1,  verbose=1, class_weight=\"balanced\")\n",
        "radom_forest=rf.fit(train_data,df_train_y)"
      ],
      "execution_count": 0,
      "outputs": []
    },
    {
      "metadata": {
        "id": "iLuuI_64T6wa",
        "colab_type": "code",
        "colab": {}
      },
      "cell_type": "code",
      "source": [
        "output=radom_forest.predict(test_data)"
      ],
      "execution_count": 0,
      "outputs": []
    },
    {
      "metadata": {
        "id": "adGpO8MRUEnY",
        "colab_type": "code",
        "colab": {
          "base_uri": "https://localhost:8080/",
          "height": 467
        },
        "outputId": "54e717e2-127b-41ec-bd98-1d6987ef5ea8"
      },
      "cell_type": "code",
      "source": [
        "from sklearn.metrics import confusion_matrix\n",
        "#!pip install beautifultable\n",
        "plot_confusion_matrix(output,df_test_y,'')"
      ],
      "execution_count": 35,
      "outputs": [
        {
          "output_type": "stream",
          "text": [
            "+-----------------+--------------+----------+----------+\n",
            "| precision_score | recall_score | accuracy | f1-score |\n",
            "+-----------------+--------------+----------+----------+\n",
            "|      0.939      |    0.933     |  0.888   |  0.936   |\n",
            "+-----------------+--------------+----------+----------+\n"
          ],
          "name": "stdout"
        },
        {
          "output_type": "stream",
          "text": [
            "/usr/local/lib/python3.6/dist-packages/seaborn/matrix.py:143: DeprecationWarning: elementwise == comparison failed; this will raise an error in the future.\n",
            "  if xticklabels == []:\n",
            "/usr/local/lib/python3.6/dist-packages/seaborn/matrix.py:151: DeprecationWarning: elementwise == comparison failed; this will raise an error in the future.\n",
            "  if yticklabels == []:\n"
          ],
          "name": "stderr"
        },
        {
          "output_type": "display_data",
          "data": {
            "image/png": "[encoded data removed]",
            "text/plain": [
              "<matplotlib.figure.Figure at 0x7f54daad9160>"
            ]
          },
          "metadata": {
            "tags": []
          }
        }
      ]
    },
    {
      "metadata": {
        "id": "3fIv029TSDC0",
        "colab_type": "code",
        "colab": {
          "base_uri": "https://localhost:8080/",
          "height": 765
        },
        "outputId": "7254488c-ecf3-4dc5-b1f1-e05ab81807a9"
      },
      "cell_type": "code",
      "source": [
        "feature_importance([radom_forest],bow_unigrams)"
      ],
      "execution_count": 36,
      "outputs": [
        {
          "output_type": "stream",
          "text": [
            "Top 20 Important features\n",
            "+----------------------------+\n",
            "| Important features model 0 |\n",
            "+----------------------------+\n",
            "|           waste            |\n",
            "+----------------------------+\n",
            "|            good            |\n",
            "+----------------------------+\n",
            "|          received          |\n",
            "+----------------------------+\n",
            "|            away            |\n",
            "+----------------------------+\n",
            "|           threw            |\n",
            "+----------------------------+\n",
            "|          product           |\n",
            "+----------------------------+\n",
            "|           loves            |\n",
            "+----------------------------+\n",
            "|            bad             |\n",
            "+----------------------------+\n",
            "|            easy            |\n",
            "+----------------------------+\n",
            "|          thought           |\n",
            "+----------------------------+\n",
            "|           awful            |\n",
            "+----------------------------+\n",
            "|            did             |\n",
            "+----------------------------+\n",
            "|           highly           |\n",
            "+----------------------------+\n",
            "|          perfect           |\n",
            "+----------------------------+\n",
            "|           money            |\n",
            "+----------------------------+\n",
            "|            love            |\n",
            "+----------------------------+\n",
            "|         delicious          |\n",
            "+----------------------------+\n",
            "|        disappointed        |\n",
            "+----------------------------+\n",
            "|            best            |\n",
            "+----------------------------+\n",
            "|           great            |\n",
            "+----------------------------+\n"
          ],
          "name": "stdout"
        }
      ]
    },
    {
      "metadata": {
        "id": "49YnmD-SD6tS",
        "colab_type": "code",
        "colab": {
          "base_uri": "https://localhost:8080/",
          "height": 359
        },
        "outputId": "64090bfa-6fff-449f-a0cc-92a2fd2310f1"
      },
      "cell_type": "code",
      "source": [
        "#random_cv(train_data,df_train_y,\"bow_unigrams.csv\")\n",
        "read_table_data('/content/drive/My Drive/Colab_Notebooks/rf_xgboost/xg_boost/bow_unigrams.csv')"
      ],
      "execution_count": 20,
      "outputs": [
        {
          "output_type": "display_data",
          "data": {
            "text/html": [
              "<div>\n",
              "<style scoped>\n",
              "    .dataframe tbody tr th:only-of-type {\n",
              "        vertical-align: middle;\n",
              "    }\n",
              "\n",
              "    .dataframe tbody tr th {\n",
              "        vertical-align: top;\n",
              "    }\n",
              "\n",
              "    .dataframe thead th {\n",
              "        text-align: right;\n",
              "    }\n",
              "</style>\n",
              "<table border=\"1\" class=\"dataframe\">\n",
              "  <thead>\n",
              "    <tr style=\"text-align: right;\">\n",
              "      <th></th>\n",
              "      <th>cv_score</th>\n",
              "      <th>depth</th>\n",
              "      <th>learning_rate</th>\n",
              "      <th>trees</th>\n",
              "    </tr>\n",
              "  </thead>\n",
              "  <tbody>\n",
              "    <tr>\n",
              "      <th>6</th>\n",
              "      <td>0.955640</td>\n",
              "      <td>3</td>\n",
              "      <td>0.211111</td>\n",
              "      <td>900</td>\n",
              "    </tr>\n",
              "    <tr>\n",
              "      <th>5</th>\n",
              "      <td>0.955060</td>\n",
              "      <td>3</td>\n",
              "      <td>0.188889</td>\n",
              "      <td>800</td>\n",
              "    </tr>\n",
              "    <tr>\n",
              "      <th>2</th>\n",
              "      <td>0.953935</td>\n",
              "      <td>3</td>\n",
              "      <td>0.233333</td>\n",
              "      <td>400</td>\n",
              "    </tr>\n",
              "    <tr>\n",
              "      <th>0</th>\n",
              "      <td>0.953092</td>\n",
              "      <td>3</td>\n",
              "      <td>0.166667</td>\n",
              "      <td>400</td>\n",
              "    </tr>\n",
              "    <tr>\n",
              "      <th>8</th>\n",
              "      <td>0.952967</td>\n",
              "      <td>2</td>\n",
              "      <td>0.277778</td>\n",
              "      <td>400</td>\n",
              "    </tr>\n",
              "    <tr>\n",
              "      <th>3</th>\n",
              "      <td>0.952921</td>\n",
              "      <td>1</td>\n",
              "      <td>0.300000</td>\n",
              "      <td>700</td>\n",
              "    </tr>\n",
              "    <tr>\n",
              "      <th>7</th>\n",
              "      <td>0.952731</td>\n",
              "      <td>2</td>\n",
              "      <td>0.188889</td>\n",
              "      <td>500</td>\n",
              "    </tr>\n",
              "    <tr>\n",
              "      <th>9</th>\n",
              "      <td>0.952222</td>\n",
              "      <td>1</td>\n",
              "      <td>0.277778</td>\n",
              "      <td>600</td>\n",
              "    </tr>\n",
              "    <tr>\n",
              "      <th>1</th>\n",
              "      <td>0.951382</td>\n",
              "      <td>2</td>\n",
              "      <td>0.277778</td>\n",
              "      <td>200</td>\n",
              "    </tr>\n",
              "    <tr>\n",
              "      <th>4</th>\n",
              "      <td>0.948133</td>\n",
              "      <td>1</td>\n",
              "      <td>0.233333</td>\n",
              "      <td>200</td>\n",
              "    </tr>\n",
              "  </tbody>\n",
              "</table>\n",
              "</div>"
            ],
            "text/plain": [
              "   cv_score  depth  learning_rate  trees\n",
              "6  0.955640      3       0.211111    900\n",
              "5  0.955060      3       0.188889    800\n",
              "2  0.953935      3       0.233333    400\n",
              "0  0.953092      3       0.166667    400\n",
              "8  0.952967      2       0.277778    400\n",
              "3  0.952921      1       0.300000    700\n",
              "7  0.952731      2       0.188889    500\n",
              "9  0.952222      1       0.277778    600\n",
              "1  0.951382      2       0.277778    200\n",
              "4  0.948133      1       0.233333    200"
            ]
          },
          "metadata": {
            "tags": []
          }
        }
      ]
    },
    {
      "metadata": {
        "id": "HYgEr5lbXsde",
        "colab_type": "text"
      },
      "cell_type": "markdown",
      "source": [
        "For depth=3 and no.of trees=900 we are getting an accuracy around 95% "
      ]
    },
    {
      "metadata": {
        "id": "9ofJy31oE5lb",
        "colab_type": "code",
        "colab": {}
      },
      "cell_type": "code",
      "source": [
        "from xgboost.sklearn import XGBClassifier\n",
        "xgb1 = XGBClassifier(learning_rate =0.2,n_estimators=900,max_depth=3,min_child_weight=1,gamma=0,subsample=0.8,colsample_bytree=0.8,scale_pos_weight=1,)"
      ],
      "execution_count": 0,
      "outputs": []
    },
    {
      "metadata": {
        "id": "3vzmMZ72CWKR",
        "colab_type": "code",
        "colab": {}
      },
      "cell_type": "code",
      "source": [
        "xgb_model=xgb1.fit(train_data,df_train_y)"
      ],
      "execution_count": 0,
      "outputs": []
    },
    {
      "metadata": {
        "id": "oEirjvNv-BBO",
        "colab_type": "code",
        "colab": {}
      },
      "cell_type": "code",
      "source": [
        "ouput=xgb_model.predict(test_data)"
      ],
      "execution_count": 0,
      "outputs": []
    },
    {
      "metadata": {
        "id": "D9wrZdlcfIao",
        "colab_type": "code",
        "colab": {
          "base_uri": "https://localhost:8080/",
          "height": 467
        },
        "outputId": "0d906a38-b7b6-4dbe-fe78-17854aa3fcf7"
      },
      "cell_type": "code",
      "source": [
        "plot_confusion_matrix(ouput,df_test_y,'')"
      ],
      "execution_count": 29,
      "outputs": [
        {
          "output_type": "stream",
          "text": [
            "+-----------------+--------------+----------+----------+\n",
            "| precision_score | recall_score | accuracy | f1-score |\n",
            "+-----------------+--------------+----------+----------+\n",
            "|      0.923      |     0.98     |   0.91   |   0.95   |\n",
            "+-----------------+--------------+----------+----------+\n"
          ],
          "name": "stdout"
        },
        {
          "output_type": "stream",
          "text": [
            "/usr/local/lib/python3.6/dist-packages/seaborn/matrix.py:143: DeprecationWarning: elementwise == comparison failed; this will raise an error in the future.\n",
            "  if xticklabels == []:\n",
            "/usr/local/lib/python3.6/dist-packages/seaborn/matrix.py:151: DeprecationWarning: elementwise == comparison failed; this will raise an error in the future.\n",
            "  if yticklabels == []:\n"
          ],
          "name": "stderr"
        },
        {
          "output_type": "display_data",
          "data": {
            "image/png": "[encoded data removed]",
            "text/plain": [
              "<matplotlib.figure.Figure at 0x7fd740886b70>"
            ]
          },
          "metadata": {
            "tags": []
          }
        }
      ]
    },
    {
      "metadata": {
        "id": "KCrCogsAO2fR",
        "colab_type": "text"
      },
      "cell_type": "markdown",
      "source": [
        "# Bag of words - Bigrams"
      ]
    },
    {
      "metadata": {
        "id": "7cT9jVdWDxLA",
        "colab_type": "code",
        "colab": {
          "base_uri": "https://localhost:8080/",
          "height": 34
        },
        "outputId": "f1b64812-1a8f-41d6-a423-812b396ce4d3"
      },
      "cell_type": "code",
      "source": [
        "from sklearn.feature_extraction.text import CountVectorizer\n",
        "from sklearn import preprocessing\n",
        "bow_unigrams=CountVectorizer(ngram_range=(1,2),stop_words='english')\n",
        "BOW1_train=bow_unigrams.fit(df_train_x)\n",
        "train_data=bow_unigrams.transform(df_train_x)\n",
        "test_data=bow_unigrams.transform(df_test_x)\n",
        "print(\"The train data shape is \",train_data.shape,\"and test data shape is \",test_data.shape)"
      ],
      "execution_count": 30,
      "outputs": [
        {
          "output_type": "stream",
          "text": [
            "The train data shape is  (67000, 1169770) and test data shape is  (33000, 1169770)\n"
          ],
          "name": "stdout"
        }
      ]
    },
    {
      "metadata": {
        "id": "gpOS0LjTbBSx",
        "colab_type": "code",
        "colab": {}
      },
      "cell_type": "code",
      "source": [
        "from sklearn.ensemble import RandomForestClassifier\n",
        "oob_scores=[];trees=[];depth=[]\n",
        "for no_of_trees in range(1,100,10):\n",
        "  for depth_max in range(1,100,10):\n",
        "    trees.append(no_of_trees)\n",
        "    depth.append(depth_max)\n",
        "    rf=RandomForestClassifier(n_estimators=no_of_trees, criterion='gini', max_depth=depth_max, min_samples_split=2, min_samples_leaf=1, max_features='auto', bootstrap=True, oob_score=True, n_jobs=-1,  verbose=1, class_weight=\"balanced\")\n",
        "    radom_forest=rf.fit(train_data,df_train_y)\n",
        "    oob_scores.append(radom_forest.oob_score_)"
      ],
      "execution_count": 0,
      "outputs": []
    },
    {
      "metadata": {
        "id": "r6O-1cmyn_e_",
        "colab_type": "code",
        "colab": {}
      },
      "cell_type": "code",
      "source": [
        "depth=[];trees=[]\n",
        "for i in range(1,100,10):\n",
        "  for j in range(1,100,10):\n",
        "    depth.append(i)\n",
        "    trees.append(j)\n",
        "    \n",
        "bow_bigrams=pd.DataFrame({'depth':depth,'trees':trees,'oob_scores':oob_scores})\n",
        "bow_bigrams.to_csv('/content/drive/My Drive/Colab_Notebooks/rf_xgboost/bow_biigrams.csv')\n",
        "from beautifultable import BeautifulTable\n",
        "table = BeautifulTable()\n",
        "table.insert_column(0,\"trees\",trees)\n",
        "table.insert_column(1,\"depth\",depth)\n",
        "table.insert_column(2,\"oob_score\",oob_scores)\n",
        "table.sort('oob_score',reverse=True)"
      ],
      "execution_count": 0,
      "outputs": []
    },
    {
      "metadata": {
        "id": "JL5h9uoz9kTk",
        "colab_type": "code",
        "colab": {
          "base_uri": "https://localhost:8080/",
          "height": 319
        },
        "outputId": "d9dad529-b4de-4198-ecdf-90ed58cf302f"
      },
      "cell_type": "code",
      "source": [
        "zmax= np.max(oob_scores)\n",
        "mask = np.array(oob_scores) == 0.89698507\n",
        "color = np.where(mask, 'red', 'blue')\n",
        "fig = plt.figure()\n",
        "ax = Axes3D(fig)\n",
        "ax.scatter(depth, trees, oob_scores, color=color)\n",
        "plt.ticklabel_format(useOffset=False)   \n",
        "ax.set_xlabel('depth')\n",
        "ax.set_ylabel('trees')\n",
        "ax.set_zlabel('oob_scores')\n",
        "plt.show()"
      ],
      "execution_count": 92,
      "outputs": [
        {
          "output_type": "display_data",
          "data": {
            "image/png": "[encoded data removed]",
            "text/plain": [
              "<matplotlib.figure.Figure at 0x7f0e18b93dd8>"
            ]
          },
          "metadata": {
            "tags": []
          }
        }
      ]
    },
    {
      "metadata": {
        "id": "6blDRDLYAnYX",
        "colab_type": "code",
        "colab": {}
      },
      "cell_type": "code",
      "source": [
        ""
      ],
      "execution_count": 0,
      "outputs": []
    },
    {
      "metadata": {
        "id": "jFELZlG2enV8",
        "colab_type": "text"
      },
      "cell_type": "markdown",
      "source": [
        "**At the tree depth=51 and no.of trees =91 we are getting accuracy around 90% , so lets try these values**"
      ]
    },
    {
      "metadata": {
        "id": "xDXTxtGugpby",
        "colab_type": "code",
        "colab": {
          "base_uri": "https://localhost:8080/",
          "height": 51
        },
        "outputId": "d60d2ce2-efda-4e8c-c494-142b3d5e66ed"
      },
      "cell_type": "code",
      "source": [
        "from sklearn.ensemble import RandomForestClassifier\n",
        "rf=RandomForestClassifier(n_estimators=91, criterion='gini', max_depth=51, min_samples_split=2, min_samples_leaf=1, max_features='auto', bootstrap=True, oob_score=True, n_jobs=-1,  verbose=1, class_weight=\"balanced\")\n",
        "radom_forest=rf.fit(train_data,df_train_y)"
      ],
      "execution_count": 32,
      "outputs": [
        {
          "output_type": "stream",
          "text": [
            "[Parallel(n_jobs=-1)]: Done  46 tasks      | elapsed:   29.8s\n",
            "[Parallel(n_jobs=-1)]: Done  91 out of  91 | elapsed:   58.6s finished\n"
          ],
          "name": "stderr"
        }
      ]
    },
    {
      "metadata": {
        "id": "Iyz6sMWNgxPu",
        "colab_type": "code",
        "colab": {
          "base_uri": "https://localhost:8080/",
          "height": 467
        },
        "outputId": "a3004d1a-ac95-4c67-a8cb-ff84535a18a9"
      },
      "cell_type": "code",
      "source": [
        "output=radom_forest.predict(test_data)\n",
        "plot_confusion_matrix(output,df_test_y,'')"
      ],
      "execution_count": 34,
      "outputs": [
        {
          "output_type": "stream",
          "text": [
            "+-----------------+--------------+----------+----------+\n",
            "| precision_score | recall_score | accuracy | f1-score |\n",
            "+-----------------+--------------+----------+----------+\n",
            "|      0.934      |    0.948     |  0.896   |  0.941   |\n",
            "+-----------------+--------------+----------+----------+\n"
          ],
          "name": "stdout"
        },
        {
          "output_type": "stream",
          "text": [
            "/usr/local/lib/python3.6/dist-packages/seaborn/matrix.py:143: DeprecationWarning: elementwise == comparison failed; this will raise an error in the future.\n",
            "  if xticklabels == []:\n",
            "/usr/local/lib/python3.6/dist-packages/seaborn/matrix.py:151: DeprecationWarning: elementwise == comparison failed; this will raise an error in the future.\n",
            "  if yticklabels == []:\n"
          ],
          "name": "stderr"
        },
        {
          "output_type": "display_data",
          "data": {
            "image/png": "[encoded data removed]",
            "text/plain": [
              "<matplotlib.figure.Figure at 0x7fd740a6c6d8>"
            ]
          },
          "metadata": {
            "tags": []
          }
        }
      ]
    },
    {
      "metadata": {
        "id": "D04fc4qFgryY",
        "colab_type": "text"
      },
      "cell_type": "markdown",
      "source": [
        "# xgboost"
      ]
    },
    {
      "metadata": {
        "id": "LizcOcYoRcTB",
        "colab_type": "code",
        "colab": {}
      },
      "cell_type": "code",
      "source": [
        "random_cv(train_data,df_train_y,\"bow_bigrams.csv\")"
      ],
      "execution_count": 0,
      "outputs": []
    },
    {
      "metadata": {
        "id": "A23rOaMzRdDg",
        "colab_type": "code",
        "colab": {
          "base_uri": "https://localhost:8080/",
          "height": 359
        },
        "outputId": "6f118261-d4b8-4fbe-fb58-5a6c9836b8e4"
      },
      "cell_type": "code",
      "source": [
        "read_table_data('/content/drive/My Drive/Colab_Notebooks/rf_xgboost/xg_boost/bow_bigrams.csv')"
      ],
      "execution_count": 31,
      "outputs": [
        {
          "output_type": "display_data",
          "data": {
            "text/html": [
              "<div>\n",
              "<style scoped>\n",
              "    .dataframe tbody tr th:only-of-type {\n",
              "        vertical-align: middle;\n",
              "    }\n",
              "\n",
              "    .dataframe tbody tr th {\n",
              "        vertical-align: top;\n",
              "    }\n",
              "\n",
              "    .dataframe thead th {\n",
              "        text-align: right;\n",
              "    }\n",
              "</style>\n",
              "<table border=\"1\" class=\"dataframe\">\n",
              "  <thead>\n",
              "    <tr style=\"text-align: right;\">\n",
              "      <th></th>\n",
              "      <th>cv_score</th>\n",
              "      <th>depth</th>\n",
              "      <th>learning_rate</th>\n",
              "      <th>trees</th>\n",
              "    </tr>\n",
              "  </thead>\n",
              "  <tbody>\n",
              "    <tr>\n",
              "      <th>5</th>\n",
              "      <td>0.954179</td>\n",
              "      <td>3</td>\n",
              "      <td>0.211111</td>\n",
              "      <td>500</td>\n",
              "    </tr>\n",
              "    <tr>\n",
              "      <th>8</th>\n",
              "      <td>0.953783</td>\n",
              "      <td>3</td>\n",
              "      <td>0.122222</td>\n",
              "      <td>700</td>\n",
              "    </tr>\n",
              "    <tr>\n",
              "      <th>7</th>\n",
              "      <td>0.953485</td>\n",
              "      <td>3</td>\n",
              "      <td>0.166667</td>\n",
              "      <td>500</td>\n",
              "    </tr>\n",
              "    <tr>\n",
              "      <th>0</th>\n",
              "      <td>0.952790</td>\n",
              "      <td>2</td>\n",
              "      <td>0.233333</td>\n",
              "      <td>400</td>\n",
              "    </tr>\n",
              "    <tr>\n",
              "      <th>6</th>\n",
              "      <td>0.951873</td>\n",
              "      <td>1</td>\n",
              "      <td>0.255556</td>\n",
              "      <td>600</td>\n",
              "    </tr>\n",
              "    <tr>\n",
              "      <th>4</th>\n",
              "      <td>0.951382</td>\n",
              "      <td>2</td>\n",
              "      <td>0.100000</td>\n",
              "      <td>600</td>\n",
              "    </tr>\n",
              "    <tr>\n",
              "      <th>1</th>\n",
              "      <td>0.950237</td>\n",
              "      <td>1</td>\n",
              "      <td>0.277778</td>\n",
              "      <td>300</td>\n",
              "    </tr>\n",
              "    <tr>\n",
              "      <th>9</th>\n",
              "      <td>0.949958</td>\n",
              "      <td>1</td>\n",
              "      <td>0.166667</td>\n",
              "      <td>500</td>\n",
              "    </tr>\n",
              "    <tr>\n",
              "      <th>2</th>\n",
              "      <td>0.947672</td>\n",
              "      <td>1</td>\n",
              "      <td>0.144444</td>\n",
              "      <td>300</td>\n",
              "    </tr>\n",
              "    <tr>\n",
              "      <th>3</th>\n",
              "      <td>0.944207</td>\n",
              "      <td>1</td>\n",
              "      <td>0.122222</td>\n",
              "      <td>100</td>\n",
              "    </tr>\n",
              "  </tbody>\n",
              "</table>\n",
              "</div>"
            ],
            "text/plain": [
              "   cv_score  depth  learning_rate  trees\n",
              "5  0.954179      3       0.211111    500\n",
              "8  0.953783      3       0.122222    700\n",
              "7  0.953485      3       0.166667    500\n",
              "0  0.952790      2       0.233333    400\n",
              "6  0.951873      1       0.255556    600\n",
              "4  0.951382      2       0.100000    600\n",
              "1  0.950237      1       0.277778    300\n",
              "9  0.949958      1       0.166667    500\n",
              "2  0.947672      1       0.144444    300\n",
              "3  0.944207      1       0.122222    100"
            ]
          },
          "metadata": {
            "tags": []
          }
        }
      ]
    },
    {
      "metadata": {
        "id": "jZSmNTd-sLn6",
        "colab_type": "text"
      },
      "cell_type": "markdown",
      "source": [
        "**The models precision score is around  94 and f1 score is  score is 83%**\n",
        "\n"
      ]
    },
    {
      "metadata": {
        "id": "poWzW2pYhLLn",
        "colab_type": "code",
        "colab": {}
      },
      "cell_type": "code",
      "source": [
        "from xgboost.sklearn import XGBClassifier\n",
        "xgb1 = XGBClassifier(learning_rate =0.2,n_estimators=500,max_depth=3,min_child_weight=1,gamma=0,subsample=0.8,colsample_bytree=0.8,scale_pos_weight=1,)"
      ],
      "execution_count": 0,
      "outputs": []
    },
    {
      "metadata": {
        "id": "YyWJrvOZhTML",
        "colab_type": "code",
        "colab": {}
      },
      "cell_type": "code",
      "source": [
        "xgb_classifier=xgb1.fit(train_data,df_train_y)"
      ],
      "execution_count": 0,
      "outputs": []
    },
    {
      "metadata": {
        "id": "ZYTw_7FQh4Ai",
        "colab_type": "code",
        "colab": {
          "base_uri": "https://localhost:8080/",
          "height": 501
        },
        "outputId": "c1aebf99-f933-42d3-bcfa-43746bcb74f1"
      },
      "cell_type": "code",
      "source": [
        "output=xgb_classifier.predict(test_data)\n",
        "plot_confusion_matrix(output,df_test_y,'')"
      ],
      "execution_count": 40,
      "outputs": [
        {
          "output_type": "stream",
          "text": [
            "/usr/local/lib/python3.6/dist-packages/sklearn/preprocessing/label.py:151: DeprecationWarning: The truth value of an empty array is ambiguous. Returning False, but in future this will result in an error. Use `array.size > 0` to check that an array is not empty.\n",
            "  if diff:\n",
            "/usr/local/lib/python3.6/dist-packages/seaborn/matrix.py:143: DeprecationWarning: elementwise == comparison failed; this will raise an error in the future.\n",
            "  if xticklabels == []:\n",
            "/usr/local/lib/python3.6/dist-packages/seaborn/matrix.py:151: DeprecationWarning: elementwise == comparison failed; this will raise an error in the future.\n",
            "  if yticklabels == []:\n"
          ],
          "name": "stderr"
        },
        {
          "output_type": "stream",
          "text": [
            "+-----------------+--------------+----------+----------+\n",
            "| precision_score | recall_score | accuracy | f1-score |\n",
            "+-----------------+--------------+----------+----------+\n",
            "|      0.917      |    0.983     |  0.908   |  0.949   |\n",
            "+-----------------+--------------+----------+----------+\n"
          ],
          "name": "stdout"
        },
        {
          "output_type": "display_data",
          "data": {
            "image/png": "[encoded data removed]",
            "text/plain": [
              "<matplotlib.figure.Figure at 0x7fd72b5164e0>"
            ]
          },
          "metadata": {
            "tags": []
          }
        }
      ]
    },
    {
      "metadata": {
        "id": "mjfP5e6EhtS7",
        "colab_type": "code",
        "colab": {
          "base_uri": "https://localhost:8080/",
          "height": 765
        },
        "outputId": "c1df6358-db28-44b7-8c48-8e844190f17e"
      },
      "cell_type": "code",
      "source": [
        "feature_importance([xgb_classifier],BOW1_train)"
      ],
      "execution_count": 43,
      "outputs": [
        {
          "output_type": "stream",
          "text": [
            "Top 20 Important features\n",
            "+----------------------------+\n",
            "| Important features model 0 |\n",
            "+----------------------------+\n",
            "|           flavor           |\n",
            "+----------------------------+\n",
            "|          ordered           |\n",
            "+----------------------------+\n",
            "|           didnt            |\n",
            "+----------------------------+\n",
            "|             im             |\n",
            "+----------------------------+\n",
            "|            try             |\n",
            "+----------------------------+\n",
            "|           tried            |\n",
            "+----------------------------+\n",
            "|            box             |\n",
            "+----------------------------+\n",
            "|           price            |\n",
            "+----------------------------+\n",
            "|            time            |\n",
            "+----------------------------+\n",
            "|           little           |\n",
            "+----------------------------+\n",
            "|           bought           |\n",
            "+----------------------------+\n",
            "|            best            |\n",
            "+----------------------------+\n",
            "|           really           |\n",
            "+----------------------------+\n",
            "|            dont            |\n",
            "+----------------------------+\n",
            "|           great            |\n",
            "+----------------------------+\n",
            "|            just            |\n",
            "+----------------------------+\n",
            "|           taste            |\n",
            "+----------------------------+\n",
            "|            good            |\n",
            "+----------------------------+\n",
            "|          product           |\n",
            "+----------------------------+\n",
            "|            like            |\n",
            "+----------------------------+\n"
          ],
          "name": "stdout"
        }
      ]
    },
    {
      "metadata": {
        "id": "iRtog4LxXumC",
        "colab_type": "text"
      },
      "cell_type": "markdown",
      "source": [
        "# Tf_idf Unigrams"
      ]
    },
    {
      "metadata": {
        "id": "b1ZoGxUTIfJ9",
        "colab_type": "code",
        "colab": {
          "base_uri": "https://localhost:8080/",
          "height": 34
        },
        "outputId": "490e340e-32bc-4f06-9efb-38e18ef38810"
      },
      "cell_type": "code",
      "source": [
        "from sklearn.feature_extraction.text import TfidfVectorizer\n",
        "bow_unigrams=TfidfVectorizer(stop_words='english')\n",
        "tfidf1_train=bow_unigrams.fit(df_train_x)\n",
        "train_data=bow_unigrams.transform(df_train_x)\n",
        "test_data=bow_unigrams.transform(df_test_x)\n",
        "print(\"The train data shape is \",train_data.shape,\"and test data shape is \",test_data.shape)"
      ],
      "execution_count": 44,
      "outputs": [
        {
          "output_type": "stream",
          "text": [
            "The train data shape is  (67000, 90770) and test data shape is  (33000, 90770)\n"
          ],
          "name": "stdout"
        }
      ]
    },
    {
      "metadata": {
        "id": "RYOFLMhYfk-q",
        "colab_type": "code",
        "colab": {}
      },
      "cell_type": "code",
      "source": [
        "from sklearn.ensemble import RandomForestClassifier\n",
        "oob_scores=[];trees=[];depth=[]\n",
        "for no_of_trees in range(1,100,10):\n",
        "  for depth_max in range(1,100,10):\n",
        "    trees.append(no_of_trees)\n",
        "    depth.append(depth_max)\n",
        "    rf=RandomForestClassifier(n_estimators=no_of_trees, criterion='gini', max_depth=depth_max, min_samples_split=2, min_samples_leaf=1, max_features='auto', bootstrap=True, oob_score=True, n_jobs=-1,  verbose=1, class_weight=\"balanced\")\n",
        "    radom_forest=rf.fit(train_data,df_train_y)\n",
        "    oob_scores.append(radom_forest.oob_score_)"
      ],
      "execution_count": 0,
      "outputs": []
    },
    {
      "metadata": {
        "id": "4fUXibHsm52q",
        "colab_type": "code",
        "colab": {
          "base_uri": "https://localhost:8080/",
          "height": 3468
        },
        "outputId": "7566a5bc-a2b7-4dd7-d479-421f58c65628"
      },
      "cell_type": "code",
      "source": [
        "depth=[];trees=[]\n",
        "for i in range(1,100,10):\n",
        "  for j in range(1,100,10):\n",
        "    depth.append(i)\n",
        "    trees.append(j)\n",
        "tfidf_unigrams=pd.DataFrame({'depth':depth,'trees':trees,'oob_scores':oob_scores})\n",
        "tfidf_unigrams.to_csv('/content/drive/My Drive/Colab_Notebooks/rf_xgboost/tfidf_unigrams.csv')\n",
        "from beautifultable import BeautifulTable\n",
        "table = BeautifulTable()\n",
        "table.insert_column(0,\"trees\",trees)\n",
        "table.insert_column(1,\"depth\",depth)\n",
        "table.insert_column(2,\"oob_score\",oob_scores)\n",
        "table.sort('oob_score',reverse=True)\n",
        "print(table)"
      ],
      "execution_count": 97,
      "outputs": [
        {
          "output_type": "stream",
          "text": [
            "+-------+-------+-----------+\n",
            "| trees | depth | oob_score |\n",
            "+-------+-------+-----------+\n",
            "|  91   |  91   |   0.907   |\n",
            "+-------+-------+-----------+\n",
            "|  91   |  81   |   0.906   |\n",
            "+-------+-------+-----------+\n",
            "|  81   |  81   |   0.906   |\n",
            "+-------+-------+-----------+\n",
            "|  91   |  71   |   0.905   |\n",
            "+-------+-------+-----------+\n",
            "|  81   |  91   |   0.904   |\n",
            "+-------+-------+-----------+\n",
            "|  81   |  71   |   0.904   |\n",
            "+-------+-------+-----------+\n",
            "|  71   |  81   |   0.903   |\n",
            "+-------+-------+-----------+\n",
            "|  91   |  61   |   0.903   |\n",
            "+-------+-------+-----------+\n",
            "|  71   |  91   |   0.903   |\n",
            "+-------+-------+-----------+\n",
            "|  81   |  61   |   0.901   |\n",
            "+-------+-------+-----------+\n",
            "|  61   |  91   |    0.9    |\n",
            "+-------+-------+-----------+\n",
            "|  61   |  81   |    0.9    |\n",
            "+-------+-------+-----------+\n",
            "|  71   |  61   |    0.9    |\n",
            "+-------+-------+-----------+\n",
            "|  91   |  51   |    0.9    |\n",
            "+-------+-------+-----------+\n",
            "|  71   |  71   |   0.899   |\n",
            "+-------+-------+-----------+\n",
            "|  81   |  51   |   0.898   |\n",
            "+-------+-------+-----------+\n",
            "|  91   |  41   |   0.897   |\n",
            "+-------+-------+-----------+\n",
            "|  51   |  91   |   0.897   |\n",
            "+-------+-------+-----------+\n",
            "|  71   |  51   |   0.897   |\n",
            "+-------+-------+-----------+\n",
            "|  61   |  71   |   0.896   |\n",
            "+-------+-------+-----------+\n",
            "|  61   |  61   |   0.894   |\n",
            "+-------+-------+-----------+\n",
            "|  51   |  81   |   0.894   |\n",
            "+-------+-------+-----------+\n",
            "|  81   |  41   |   0.892   |\n",
            "+-------+-------+-----------+\n",
            "|  51   |  71   |   0.892   |\n",
            "+-------+-------+-----------+\n",
            "|  61   |  51   |   0.891   |\n",
            "+-------+-------+-----------+\n",
            "|  41   |  91   |   0.89    |\n",
            "+-------+-------+-----------+\n",
            "|  51   |  61   |   0.89    |\n",
            "+-------+-------+-----------+\n",
            "|  91   |  31   |   0.889   |\n",
            "+-------+-------+-----------+\n",
            "|  71   |  41   |   0.889   |\n",
            "+-------+-------+-----------+\n",
            "|  81   |  31   |   0.887   |\n",
            "+-------+-------+-----------+\n",
            "|  41   |  81   |   0.886   |\n",
            "+-------+-------+-----------+\n",
            "|  61   |  41   |   0.886   |\n",
            "+-------+-------+-----------+\n",
            "|  51   |  51   |   0.882   |\n",
            "+-------+-------+-----------+\n",
            "|  41   |  71   |   0.881   |\n",
            "+-------+-------+-----------+\n",
            "|  51   |  41   |   0.878   |\n",
            "+-------+-------+-----------+\n",
            "|  71   |  31   |   0.878   |\n",
            "+-------+-------+-----------+\n",
            "|  91   |  21   |   0.876   |\n",
            "+-------+-------+-----------+\n",
            "|  31   |  91   |   0.876   |\n",
            "+-------+-------+-----------+\n",
            "|  81   |  21   |   0.875   |\n",
            "+-------+-------+-----------+\n",
            "|  41   |  61   |   0.875   |\n",
            "+-------+-------+-----------+\n",
            "|  41   |  51   |   0.869   |\n",
            "+-------+-------+-----------+\n",
            "|  61   |  31   |   0.869   |\n",
            "+-------+-------+-----------+\n",
            "|  31   |  81   |   0.868   |\n",
            "+-------+-------+-----------+\n",
            "|  41   |  41   |   0.865   |\n",
            "+-------+-------+-----------+\n",
            "|  31   |  71   |   0.865   |\n",
            "+-------+-------+-----------+\n",
            "|  51   |  31   |   0.864   |\n",
            "+-------+-------+-----------+\n",
            "|  71   |  21   |   0.861   |\n",
            "+-------+-------+-----------+\n",
            "|  31   |  61   |   0.86    |\n",
            "+-------+-------+-----------+\n",
            "|  61   |  21   |   0.856   |\n",
            "+-------+-------+-----------+\n",
            "|  31   |  51   |   0.854   |\n",
            "+-------+-------+-----------+\n",
            "|  21   |  91   |   0.845   |\n",
            "+-------+-------+-----------+\n",
            "|  21   |  81   |   0.843   |\n",
            "+-------+-------+-----------+\n",
            "|  41   |  31   |   0.841   |\n",
            "+-------+-------+-----------+\n",
            "|  51   |  21   |   0.839   |\n",
            "+-------+-------+-----------+\n",
            "|  21   |  71   |   0.839   |\n",
            "+-------+-------+-----------+\n",
            "|  91   |  11   |   0.839   |\n",
            "+-------+-------+-----------+\n",
            "|  21   |  61   |   0.837   |\n",
            "+-------+-------+-----------+\n",
            "|  31   |  41   |   0.832   |\n",
            "+-------+-------+-----------+\n",
            "|  81   |  11   |   0.827   |\n",
            "+-------+-------+-----------+\n",
            "|  21   |  51   |   0.822   |\n",
            "+-------+-------+-----------+\n",
            "|  21   |  41   |   0.817   |\n",
            "+-------+-------+-----------+\n",
            "|  11   |  81   |   0.812   |\n",
            "+-------+-------+-----------+\n",
            "|  41   |  21   |   0.812   |\n",
            "+-------+-------+-----------+\n",
            "|  71   |  11   |   0.811   |\n",
            "+-------+-------+-----------+\n",
            "|  11   |  91   |   0.806   |\n",
            "+-------+-------+-----------+\n",
            "|  11   |  71   |   0.806   |\n",
            "+-------+-------+-----------+\n",
            "|  31   |  31   |   0.806   |\n",
            "+-------+-------+-----------+\n",
            "|  11   |  41   |   0.792   |\n",
            "+-------+-------+-----------+\n",
            "|  31   |  21   |   0.788   |\n",
            "+-------+-------+-----------+\n",
            "|  61   |  11   |   0.786   |\n",
            "+-------+-------+-----------+\n",
            "|  51   |  11   |   0.785   |\n",
            "+-------+-------+-----------+\n",
            "|  21   |  31   |   0.776   |\n",
            "+-------+-------+-----------+\n",
            "|  11   |  61   |   0.775   |\n",
            "+-------+-------+-----------+\n",
            "|  21   |  11   |   0.77    |\n",
            "+-------+-------+-----------+\n",
            "|   1   |  61   |   0.764   |\n",
            "+-------+-------+-----------+\n",
            "|  11   |  51   |   0.764   |\n",
            "+-------+-------+-----------+\n",
            "|  41   |  11   |   0.756   |\n",
            "+-------+-------+-----------+\n",
            "|  21   |  21   |   0.752   |\n",
            "+-------+-------+-----------+\n",
            "|   1   |  21   |   0.724   |\n",
            "+-------+-------+-----------+\n",
            "|  31   |  11   |   0.715   |\n",
            "+-------+-------+-----------+\n",
            "|   1   |  81   |   0.713   |\n",
            "+-------+-------+-----------+\n",
            "|  11   |  31   |   0.705   |\n",
            "+-------+-------+-----------+\n",
            "|   1   |  71   |   0.67    |\n",
            "+-------+-------+-----------+\n",
            "|  11   |  21   |   0.669   |\n",
            "+-------+-------+-----------+\n",
            "|   1   |  41   |   0.634   |\n",
            "+-------+-------+-----------+\n",
            "|  11   |  11   |   0.618   |\n",
            "+-------+-------+-----------+\n",
            "|   1   |  31   |   0.597   |\n",
            "+-------+-------+-----------+\n",
            "|   1   |  91   |   0.489   |\n",
            "+-------+-------+-----------+\n",
            "|   1   |  51   |   0.454   |\n",
            "+-------+-------+-----------+\n",
            "|   1   |   1   |   0.395   |\n",
            "+-------+-------+-----------+\n",
            "|  91   |   1   |   0.357   |\n",
            "+-------+-------+-----------+\n",
            "|  71   |   1   |   0.356   |\n",
            "+-------+-------+-----------+\n",
            "|  81   |   1   |   0.352   |\n",
            "+-------+-------+-----------+\n",
            "|  51   |   1   |   0.327   |\n",
            "+-------+-------+-----------+\n",
            "|   1   |  11   |   0.316   |\n",
            "+-------+-------+-----------+\n",
            "|  41   |   1   |   0.25    |\n",
            "+-------+-------+-----------+\n",
            "|  61   |   1   |   0.241   |\n",
            "+-------+-------+-----------+\n",
            "|  31   |   1   |   0.207   |\n",
            "+-------+-------+-----------+\n",
            "|  21   |   1   |   0.169   |\n",
            "+-------+-------+-----------+\n",
            "|  11   |   1   |   0.137   |\n",
            "+-------+-------+-----------+\n"
          ],
          "name": "stdout"
        }
      ]
    },
    {
      "metadata": {
        "id": "C-dXEIkZnQ5V",
        "colab_type": "code",
        "colab": {
          "base_uri": "https://localhost:8080/",
          "height": 319
        },
        "outputId": "cace3758-2ac3-4daf-9a93-4c8c4a9d6091"
      },
      "cell_type": "code",
      "source": [
        "zmax= np.max(oob_scores)\n",
        "mask = np.array(oob_scores) == 0.89698507\n",
        "color = np.where(mask, 'red', 'blue')\n",
        "fig = plt.figure()\n",
        "ax = Axes3D(fig)\n",
        "ax.scatter(depth, trees, oob_scores, color=color)\n",
        "plt.ticklabel_format(useOffset=False)   \n",
        "ax.set_xlabel('depth')\n",
        "ax.set_ylabel('trees')\n",
        "ax.set_zlabel('oob_scores')\n",
        "plt.show()"
      ],
      "execution_count": 96,
      "outputs": [
        {
          "output_type": "display_data",
          "data": {
            "image/png": "[encoded data removed]",
            "text/plain": [
              "<matplotlib.figure.Figure at 0x7f0e1ead16d8>"
            ]
          },
          "metadata": {
            "tags": []
          }
        }
      ]
    },
    {
      "metadata": {
        "id": "YWnymVYVYI3q",
        "colab_type": "text"
      },
      "cell_type": "markdown",
      "source": [
        "**For the no.of trees=91 and depth= 51 we are getting an accrracy around 90% so lets try out therse values on the test data**"
      ]
    },
    {
      "metadata": {
        "id": "flLQb3vEkm7O",
        "colab_type": "code",
        "colab": {
          "base_uri": "https://localhost:8080/",
          "height": 51
        },
        "outputId": "27a0beb8-af9f-4c85-ef24-6bfa6cd368dc"
      },
      "cell_type": "code",
      "source": [
        "from sklearn.ensemble import RandomForestClassifier\n",
        "rf=RandomForestClassifier(n_estimators=91, criterion='gini', max_depth=51, min_samples_split=2, min_samples_leaf=1, max_features='auto', bootstrap=True, oob_score=True, n_jobs=-1,  verbose=1, class_weight=\"balanced\")\n",
        "radom_forest=rf.fit(train_data,df_train_y)"
      ],
      "execution_count": 46,
      "outputs": [
        {
          "output_type": "stream",
          "text": [
            "[Parallel(n_jobs=-1)]: Done  46 tasks      | elapsed:   11.8s\n",
            "[Parallel(n_jobs=-1)]: Done  91 out of  91 | elapsed:   22.8s finished\n"
          ],
          "name": "stderr"
        }
      ]
    },
    {
      "metadata": {
        "id": "cSIaCvJ1kw7F",
        "colab_type": "code",
        "colab": {
          "base_uri": "https://localhost:8080/",
          "height": 501
        },
        "outputId": "9eee15f5-8b9c-4c60-c5eb-4060a270766d"
      },
      "cell_type": "code",
      "source": [
        "output=radom_forest.predict(test_data)\n",
        "plot_confusion_matrix(output,df_test_y,'')"
      ],
      "execution_count": 48,
      "outputs": [
        {
          "output_type": "stream",
          "text": [
            "[Parallel(n_jobs=2)]: Done  46 tasks      | elapsed:    0.4s\n",
            "[Parallel(n_jobs=2)]: Done  91 out of  91 | elapsed:    0.8s finished\n",
            "/usr/local/lib/python3.6/dist-packages/seaborn/matrix.py:143: DeprecationWarning: elementwise == comparison failed; this will raise an error in the future.\n",
            "  if xticklabels == []:\n",
            "/usr/local/lib/python3.6/dist-packages/seaborn/matrix.py:151: DeprecationWarning: elementwise == comparison failed; this will raise an error in the future.\n",
            "  if yticklabels == []:\n"
          ],
          "name": "stderr"
        },
        {
          "output_type": "stream",
          "text": [
            "+-----------------+--------------+----------+----------+\n",
            "| precision_score | recall_score | accuracy | f1-score |\n",
            "+-----------------+--------------+----------+----------+\n",
            "|      0.93       |    0.955     |  0.898   |  0.942   |\n",
            "+-----------------+--------------+----------+----------+\n"
          ],
          "name": "stdout"
        },
        {
          "output_type": "display_data",
          "data": {
            "image/png": "[encoded data removed]",
            "text/plain": [
              "<matplotlib.figure.Figure at 0x7fd73318afd0>"
            ]
          },
          "metadata": {
            "tags": []
          }
        }
      ]
    },
    {
      "metadata": {
        "id": "Lnf3wM23lDf9",
        "colab_type": "code",
        "colab": {
          "base_uri": "https://localhost:8080/",
          "height": 765
        },
        "outputId": "a4e02342-858d-427c-fbd1-c50c6b887fa5"
      },
      "cell_type": "code",
      "source": [
        "feature_importance([radom_forest],BOW1_train)"
      ],
      "execution_count": 54,
      "outputs": [
        {
          "output_type": "stream",
          "text": [
            "Top 20 Important features\n",
            "+-----------------------------+\n",
            "| Important features model 0  |\n",
            "+-----------------------------+\n",
            "|     best noncaffinated      |\n",
            "+-----------------------------+\n",
            "|        bald patches         |\n",
            "+-----------------------------+\n",
            "|      awaywilford voehl      |\n",
            "+-----------------------------+\n",
            "|          best mean          |\n",
            "+-----------------------------+\n",
            "|       actual dogbubba       |\n",
            "+-----------------------------+\n",
            "|      allergies summer       |\n",
            "+-----------------------------+\n",
            "|       amazon showing        |\n",
            "+-----------------------------+\n",
            "|            altar            |\n",
            "+-----------------------------+\n",
            "|         amazingyum          |\n",
            "+-----------------------------+\n",
            "|         actual pods         |\n",
            "+-----------------------------+\n",
            "|       allergies sense       |\n",
            "+-----------------------------+\n",
            "|      astounding month       |\n",
            "+-----------------------------+\n",
            "|    antioxidants perfect     |\n",
            "+-----------------------------+\n",
            "|       averaged priced       |\n",
            "+-----------------------------+\n",
            "|     actually considered     |\n",
            "+-----------------------------+\n",
            "|       asthma trigger        |\n",
            "+-----------------------------+\n",
            "|         alfredoalso         |\n",
            "+-----------------------------+\n",
            "|           add ms            |\n",
            "+-----------------------------+\n",
            "| allnaturalorganicweve tried |\n",
            "+-----------------------------+\n",
            "|       anythingi just        |\n",
            "+-----------------------------+\n"
          ],
          "name": "stdout"
        }
      ]
    },
    {
      "metadata": {
        "id": "7I-gO4ytknDw",
        "colab_type": "text"
      },
      "cell_type": "markdown",
      "source": [
        "xgboost"
      ]
    },
    {
      "metadata": {
        "id": "O4Rc21qtftXX",
        "colab_type": "code",
        "colab": {}
      },
      "cell_type": "code",
      "source": [
        "random_cv(train_data,df_train_y,\"tf_idf_unigrams.csv\")"
      ],
      "execution_count": 0,
      "outputs": []
    },
    {
      "metadata": {
        "id": "rk9LJOjqrvfl",
        "colab_type": "code",
        "colab": {
          "base_uri": "https://localhost:8080/",
          "height": 359
        },
        "outputId": "5f186b23-7a3d-4787-9c04-0b20f74956b6"
      },
      "cell_type": "code",
      "source": [
        "read_table_data('/content/drive/My Drive/Colab_Notebooks/rf_xgboost/xg_boost/tf_idf_unigrams.csv')"
      ],
      "execution_count": 45,
      "outputs": [
        {
          "output_type": "display_data",
          "data": {
            "text/html": [
              "<div>\n",
              "<style scoped>\n",
              "    .dataframe tbody tr th:only-of-type {\n",
              "        vertical-align: middle;\n",
              "    }\n",
              "\n",
              "    .dataframe tbody tr th {\n",
              "        vertical-align: top;\n",
              "    }\n",
              "\n",
              "    .dataframe thead th {\n",
              "        text-align: right;\n",
              "    }\n",
              "</style>\n",
              "<table border=\"1\" class=\"dataframe\">\n",
              "  <thead>\n",
              "    <tr style=\"text-align: right;\">\n",
              "      <th></th>\n",
              "      <th>cv_score</th>\n",
              "      <th>depth</th>\n",
              "      <th>learning_rate</th>\n",
              "      <th>trees</th>\n",
              "    </tr>\n",
              "  </thead>\n",
              "  <tbody>\n",
              "    <tr>\n",
              "      <th>6</th>\n",
              "      <td>0.955287</td>\n",
              "      <td>3</td>\n",
              "      <td>0.211111</td>\n",
              "      <td>900</td>\n",
              "    </tr>\n",
              "    <tr>\n",
              "      <th>4</th>\n",
              "      <td>0.954892</td>\n",
              "      <td>3</td>\n",
              "      <td>0.233333</td>\n",
              "      <td>600</td>\n",
              "    </tr>\n",
              "    <tr>\n",
              "      <th>1</th>\n",
              "      <td>0.954149</td>\n",
              "      <td>3</td>\n",
              "      <td>0.144444</td>\n",
              "      <td>600</td>\n",
              "    </tr>\n",
              "    <tr>\n",
              "      <th>3</th>\n",
              "      <td>0.953955</td>\n",
              "      <td>2</td>\n",
              "      <td>0.277778</td>\n",
              "      <td>400</td>\n",
              "    </tr>\n",
              "    <tr>\n",
              "      <th>7</th>\n",
              "      <td>0.953735</td>\n",
              "      <td>3</td>\n",
              "      <td>0.100000</td>\n",
              "      <td>800</td>\n",
              "    </tr>\n",
              "    <tr>\n",
              "      <th>0</th>\n",
              "      <td>0.953496</td>\n",
              "      <td>1</td>\n",
              "      <td>0.233333</td>\n",
              "      <td>900</td>\n",
              "    </tr>\n",
              "    <tr>\n",
              "      <th>9</th>\n",
              "      <td>0.951866</td>\n",
              "      <td>1</td>\n",
              "      <td>0.211111</td>\n",
              "      <td>600</td>\n",
              "    </tr>\n",
              "    <tr>\n",
              "      <th>2</th>\n",
              "      <td>0.950537</td>\n",
              "      <td>1</td>\n",
              "      <td>0.166667</td>\n",
              "      <td>500</td>\n",
              "    </tr>\n",
              "    <tr>\n",
              "      <th>8</th>\n",
              "      <td>0.950153</td>\n",
              "      <td>1</td>\n",
              "      <td>0.100000</td>\n",
              "      <td>800</td>\n",
              "    </tr>\n",
              "    <tr>\n",
              "      <th>5</th>\n",
              "      <td>0.945391</td>\n",
              "      <td>1</td>\n",
              "      <td>0.188889</td>\n",
              "      <td>100</td>\n",
              "    </tr>\n",
              "  </tbody>\n",
              "</table>\n",
              "</div>"
            ],
            "text/plain": [
              "   cv_score  depth  learning_rate  trees\n",
              "6  0.955287      3       0.211111    900\n",
              "4  0.954892      3       0.233333    600\n",
              "1  0.954149      3       0.144444    600\n",
              "3  0.953955      2       0.277778    400\n",
              "7  0.953735      3       0.100000    800\n",
              "0  0.953496      1       0.233333    900\n",
              "9  0.951866      1       0.211111    600\n",
              "2  0.950537      1       0.166667    500\n",
              "8  0.950153      1       0.100000    800\n",
              "5  0.945391      1       0.188889    100"
            ]
          },
          "metadata": {
            "tags": []
          }
        }
      ]
    },
    {
      "metadata": {
        "id": "ww3Xtvl6lIn8",
        "colab_type": "code",
        "colab": {}
      },
      "cell_type": "code",
      "source": [
        "from xgboost.sklearn import XGBClassifier\n",
        "xgb1 = XGBClassifier(learning_rate =0.2,n_estimators=900,max_depth=3,min_child_weight=1,gamma=0,subsample=0.8,colsample_bytree=0.8,scale_pos_weight=1,)"
      ],
      "execution_count": 0,
      "outputs": []
    },
    {
      "metadata": {
        "id": "VZB-hXYclVbA",
        "colab_type": "code",
        "colab": {}
      },
      "cell_type": "code",
      "source": [
        "xgb_classifier=xgb1.fit(train_data,df_train_y)"
      ],
      "execution_count": 0,
      "outputs": []
    },
    {
      "metadata": {
        "id": "Hv6xss-kmR95",
        "colab_type": "code",
        "colab": {
          "base_uri": "https://localhost:8080/",
          "height": 501
        },
        "outputId": "83884cb3-498e-4306-faee-cc0903532dcf"
      },
      "cell_type": "code",
      "source": [
        "output=xgb_classifier.predict(test_data)\n",
        "plot_confusion_matrix(output,df_test_y,'')"
      ],
      "execution_count": 53,
      "outputs": [
        {
          "output_type": "stream",
          "text": [
            "+-----------------+--------------+----------+----------+\n",
            "| precision_score | recall_score | accuracy | f1-score |\n",
            "+-----------------+--------------+----------+----------+\n",
            "|      0.923      |     0.98     |  0.911   |   0.95   |\n",
            "+-----------------+--------------+----------+----------+\n"
          ],
          "name": "stdout"
        },
        {
          "output_type": "stream",
          "text": [
            "/usr/local/lib/python3.6/dist-packages/sklearn/preprocessing/label.py:151: DeprecationWarning: The truth value of an empty array is ambiguous. Returning False, but in future this will result in an error. Use `array.size > 0` to check that an array is not empty.\n",
            "  if diff:\n",
            "/usr/local/lib/python3.6/dist-packages/seaborn/matrix.py:143: DeprecationWarning: elementwise == comparison failed; this will raise an error in the future.\n",
            "  if xticklabels == []:\n",
            "/usr/local/lib/python3.6/dist-packages/seaborn/matrix.py:151: DeprecationWarning: elementwise == comparison failed; this will raise an error in the future.\n",
            "  if yticklabels == []:\n"
          ],
          "name": "stderr"
        },
        {
          "output_type": "display_data",
          "data": {
            "image/png": "[encoded data removed]",
            "text/plain": [
              "<matplotlib.figure.Figure at 0x7fd72bf8b2e8>"
            ]
          },
          "metadata": {
            "tags": []
          }
        }
      ]
    },
    {
      "metadata": {
        "id": "bABrzTcimqGO",
        "colab_type": "code",
        "colab": {
          "base_uri": "https://localhost:8080/",
          "height": 765
        },
        "outputId": "a0983557-8cf9-4524-cd71-43bf773c1568"
      },
      "cell_type": "code",
      "source": [
        "feature_importance([xgb_classifier],BOW1_train)"
      ],
      "execution_count": 55,
      "outputs": [
        {
          "output_type": "stream",
          "text": [
            "Top 20 Important features\n",
            "+----------------------------+\n",
            "| Important features model 0 |\n",
            "+----------------------------+\n",
            "|       better england       |\n",
            "+----------------------------+\n",
            "|       addicted pack        |\n",
            "+----------------------------+\n",
            "|    aftertaste delicious    |\n",
            "+----------------------------+\n",
            "|           add ms           |\n",
            "+----------------------------+\n",
            "|      allergies sense       |\n",
            "+----------------------------+\n",
            "|         arcata ca          |\n",
            "+----------------------------+\n",
            "|       best pricethe        |\n",
            "+----------------------------+\n",
            "|      assortment agree      |\n",
            "+----------------------------+\n",
            "|    access refrigeratora    |\n",
            "+----------------------------+\n",
            "|       asthma trigger       |\n",
            "+----------------------------+\n",
            "|        bar proteins        |\n",
            "+----------------------------+\n",
            "|        almond tarts        |\n",
            "+----------------------------+\n",
            "|       anythingi just       |\n",
            "+----------------------------+\n",
            "|     amazons reviewers      |\n",
            "+----------------------------+\n",
            "|   additional unnecessary   |\n",
            "+----------------------------+\n",
            "|   arthritisi reccommend    |\n",
            "+----------------------------+\n",
            "|          aspiring          |\n",
            "+----------------------------+\n",
            "|    benefits peasprotein    |\n",
            "+----------------------------+\n",
            "|        bald patches        |\n",
            "+----------------------------+\n",
            "|    antioxidants perfect    |\n",
            "+----------------------------+\n"
          ],
          "name": "stdout"
        }
      ]
    },
    {
      "metadata": {
        "id": "MKqlqeTxbphz",
        "colab_type": "text"
      },
      "cell_type": "markdown",
      "source": [
        "# TF-IDF bigrams"
      ]
    },
    {
      "metadata": {
        "id": "uCvQGDB6VY__",
        "colab_type": "code",
        "colab": {
          "base_uri": "https://localhost:8080/",
          "height": 34
        },
        "outputId": "a1c82db2-21f9-4037-f06a-0cb45c75018a"
      },
      "cell_type": "code",
      "source": [
        "from sklearn.feature_extraction.text import TfidfVectorizer\n",
        "bow_unigrams=TfidfVectorizer(ngram_range=(1,2),stop_words='english')\n",
        "tfidf1_train=bow_unigrams.fit(df_train_x)\n",
        "train_data=bow_unigrams.transform(df_train_x)\n",
        "test_data=bow_unigrams.transform(df_test_x)\n",
        "print(\"The train data shape is \",train_data.shape,\"and test data shape is \",test_data.shape)"
      ],
      "execution_count": 11,
      "outputs": [
        {
          "output_type": "stream",
          "text": [
            "The train data shape is  (67000, 1169770) and test data shape is  (33000, 1169770)\n"
          ],
          "name": "stdout"
        }
      ]
    },
    {
      "metadata": {
        "id": "XERIyexUVgsD",
        "colab_type": "code",
        "colab": {
          "base_uri": "https://localhost:8080/",
          "height": 85
        },
        "outputId": "c5043cf3-9762-4f28-f707-8a1d50f556e2"
      },
      "cell_type": "code",
      "source": [
        "from sklearn.ensemble import RandomForestClassifier\n",
        "oob_scores=[];trees=[];depth=[]\n",
        "for no_of_trees in range(1,100,10):\n",
        "  for depth_max in range(1,100,10):\n",
        "    trees.append(no_of_trees)\n",
        "    depth.append(depth_max)\n",
        "    rf=RandomForestClassifier(n_estimators=no_of_trees, criterion='gini', max_depth=depth_max, min_samples_split=2, min_samples_leaf=1, max_features='auto', bootstrap=True, oob_score=True, n_jobs=-1,  verbose=1, class_weight=\"balanced\")\n",
        "    radom_forest=rf.fit(train_data,df_train_y)\n",
        "    oob_scores.append(radom_forest.oob_score_)"
      ],
      "execution_count": 99,
      "outputs": [
        {
          "output_type": "stream",
          "text": [
            "[Parallel(n_jobs=-1)]: Done  46 tasks      | elapsed:  1.2min\n",
            "[Parallel(n_jobs=-1)]: Done  91 out of  91 | elapsed:  2.4min finished\n",
            "[Parallel(n_jobs=-1)]: Done  46 tasks      | elapsed:  1.5min\n",
            "[Parallel(n_jobs=-1)]: Done  91 out of  91 | elapsed:  2.8min finished\n"
          ],
          "name": "stderr"
        }
      ]
    },
    {
      "metadata": {
        "id": "OBauZp5imoYr",
        "colab_type": "code",
        "colab": {
          "base_uri": "https://localhost:8080/",
          "height": 3468
        },
        "outputId": "42c93958-e9f7-48fc-9f20-b7b150727b61"
      },
      "cell_type": "code",
      "source": [
        "depth=[];trees=[]\n",
        "for i in range(1,100,10):\n",
        "  for j in range(1,100,10):\n",
        "    depth.append(i)\n",
        "    trees.append(j)\n",
        "    \n",
        "tfidf_Bigrams=pd.DataFrame({'depth':depth,'trees':trees,'oob_scores':oob_scores})\n",
        "tfidf_Bigrams.to_csv('/content/drive/My Drive/Colab_Notebooks/rf_xgboost/tfidf_Bigrams.csv')\n",
        "from beautifultable import BeautifulTable\n",
        "table = BeautifulTable()\n",
        "table.insert_column(0,\"trees\",trees)\n",
        "table.insert_column(1,\"depth\",depth)\n",
        "table.insert_column(2,\"oob_score\",oob_scores)\n",
        "table.sort('oob_score',reverse=True)\n",
        "print(table)"
      ],
      "execution_count": 100,
      "outputs": [
        {
          "output_type": "stream",
          "text": [
            "+-------+-------+-----------+\n",
            "| trees | depth | oob_score |\n",
            "+-------+-------+-----------+\n",
            "|  91   |  81   |   0.905   |\n",
            "+-------+-------+-----------+\n",
            "|  81   |  91   |   0.905   |\n",
            "+-------+-------+-----------+\n",
            "|  91   |  71   |   0.905   |\n",
            "+-------+-------+-----------+\n",
            "|  91   |  91   |   0.904   |\n",
            "+-------+-------+-----------+\n",
            "|  81   |  81   |   0.903   |\n",
            "+-------+-------+-----------+\n",
            "|  71   |  91   |   0.903   |\n",
            "+-------+-------+-----------+\n",
            "|  91   |  61   |   0.901   |\n",
            "+-------+-------+-----------+\n",
            "|  81   |  71   |    0.9    |\n",
            "+-------+-------+-----------+\n",
            "|  61   |  91   |   0.898   |\n",
            "+-------+-------+-----------+\n",
            "|  81   |  61   |   0.896   |\n",
            "+-------+-------+-----------+\n",
            "|  71   |  81   |   0.896   |\n",
            "+-------+-------+-----------+\n",
            "|  71   |  71   |   0.894   |\n",
            "+-------+-------+-----------+\n",
            "|  91   |  51   |   0.894   |\n",
            "+-------+-------+-----------+\n",
            "|  61   |  81   |   0.893   |\n",
            "+-------+-------+-----------+\n",
            "|  51   |  91   |   0.891   |\n",
            "+-------+-------+-----------+\n",
            "|  81   |  51   |   0.891   |\n",
            "+-------+-------+-----------+\n",
            "|  91   |  41   |   0.889   |\n",
            "+-------+-------+-----------+\n",
            "|  71   |  61   |   0.888   |\n",
            "+-------+-------+-----------+\n",
            "|  61   |  71   |   0.886   |\n",
            "+-------+-------+-----------+\n",
            "|  51   |  81   |   0.885   |\n",
            "+-------+-------+-----------+\n",
            "|  71   |  51   |   0.884   |\n",
            "+-------+-------+-----------+\n",
            "|  81   |  41   |   0.883   |\n",
            "+-------+-------+-----------+\n",
            "|  91   |  31   |   0.88    |\n",
            "+-------+-------+-----------+\n",
            "|  61   |  61   |   0.88    |\n",
            "+-------+-------+-----------+\n",
            "|  51   |  71   |   0.877   |\n",
            "+-------+-------+-----------+\n",
            "|  71   |  41   |   0.875   |\n",
            "+-------+-------+-----------+\n",
            "|  61   |  51   |   0.875   |\n",
            "+-------+-------+-----------+\n",
            "|  51   |  61   |   0.872   |\n",
            "+-------+-------+-----------+\n",
            "|  41   |  91   |   0.871   |\n",
            "+-------+-------+-----------+\n",
            "|  61   |  41   |   0.867   |\n",
            "+-------+-------+-----------+\n",
            "|  81   |  31   |   0.866   |\n",
            "+-------+-------+-----------+\n",
            "|  71   |  31   |   0.866   |\n",
            "+-------+-------+-----------+\n",
            "|  41   |  71   |   0.865   |\n",
            "+-------+-------+-----------+\n",
            "|  51   |  51   |   0.864   |\n",
            "+-------+-------+-----------+\n",
            "|  41   |  81   |   0.862   |\n",
            "+-------+-------+-----------+\n",
            "|  31   |  91   |   0.859   |\n",
            "+-------+-------+-----------+\n",
            "|  41   |  61   |   0.857   |\n",
            "+-------+-------+-----------+\n",
            "|  81   |  21   |   0.854   |\n",
            "+-------+-------+-----------+\n",
            "|  41   |  51   |   0.854   |\n",
            "+-------+-------+-----------+\n",
            "|  31   |  81   |   0.851   |\n",
            "+-------+-------+-----------+\n",
            "|  51   |  41   |   0.849   |\n",
            "+-------+-------+-----------+\n",
            "|  61   |  31   |   0.849   |\n",
            "+-------+-------+-----------+\n",
            "|  91   |  21   |   0.847   |\n",
            "+-------+-------+-----------+\n",
            "|  31   |  71   |   0.84    |\n",
            "+-------+-------+-----------+\n",
            "|  41   |  41   |   0.837   |\n",
            "+-------+-------+-----------+\n",
            "|  71   |  21   |   0.833   |\n",
            "+-------+-------+-----------+\n",
            "|  31   |  51   |   0.829   |\n",
            "+-------+-------+-----------+\n",
            "|  31   |  61   |   0.824   |\n",
            "+-------+-------+-----------+\n",
            "|  21   |  91   |   0.82    |\n",
            "+-------+-------+-----------+\n",
            "|  51   |  31   |   0.82    |\n",
            "+-------+-------+-----------+\n",
            "|  21   |  81   |   0.818   |\n",
            "+-------+-------+-----------+\n",
            "|  61   |  21   |   0.815   |\n",
            "+-------+-------+-----------+\n",
            "|  31   |  41   |   0.811   |\n",
            "+-------+-------+-----------+\n",
            "|  21   |  71   |   0.81    |\n",
            "+-------+-------+-----------+\n",
            "|  71   |  11   |   0.806   |\n",
            "+-------+-------+-----------+\n",
            "|  21   |  61   |   0.805   |\n",
            "+-------+-------+-----------+\n",
            "|  41   |  31   |   0.799   |\n",
            "+-------+-------+-----------+\n",
            "|  81   |  11   |   0.793   |\n",
            "+-------+-------+-----------+\n",
            "|  31   |  31   |   0.792   |\n",
            "+-------+-------+-----------+\n",
            "|  41   |  21   |   0.781   |\n",
            "+-------+-------+-----------+\n",
            "|  51   |  21   |   0.779   |\n",
            "+-------+-------+-----------+\n",
            "|  21   |  41   |   0.777   |\n",
            "+-------+-------+-----------+\n",
            "|  11   |  81   |   0.774   |\n",
            "+-------+-------+-----------+\n",
            "|  51   |  11   |   0.77    |\n",
            "+-------+-------+-----------+\n",
            "|  21   |  51   |   0.769   |\n",
            "+-------+-------+-----------+\n",
            "|  11   |  91   |   0.768   |\n",
            "+-------+-------+-----------+\n",
            "|  91   |  11   |   0.762   |\n",
            "+-------+-------+-----------+\n",
            "|   1   |  91   |   0.758   |\n",
            "+-------+-------+-----------+\n",
            "|  11   |  71   |   0.752   |\n",
            "+-------+-------+-----------+\n",
            "|  11   |  41   |   0.752   |\n",
            "+-------+-------+-----------+\n",
            "|  31   |  21   |   0.749   |\n",
            "+-------+-------+-----------+\n",
            "|  11   |  61   |   0.745   |\n",
            "+-------+-------+-----------+\n",
            "|  61   |  11   |   0.741   |\n",
            "+-------+-------+-----------+\n",
            "|  11   |  51   |   0.734   |\n",
            "+-------+-------+-----------+\n",
            "|   1   |  11   |   0.723   |\n",
            "+-------+-------+-----------+\n",
            "|  41   |  11   |   0.708   |\n",
            "+-------+-------+-----------+\n",
            "|  21   |  31   |    0.7    |\n",
            "+-------+-------+-----------+\n",
            "|  31   |  11   |   0.696   |\n",
            "+-------+-------+-----------+\n",
            "|  11   |  31   |   0.691   |\n",
            "+-------+-------+-----------+\n",
            "|   1   |  41   |   0.684   |\n",
            "+-------+-------+-----------+\n",
            "|  11   |  21   |   0.682   |\n",
            "+-------+-------+-----------+\n",
            "|   1   |  21   |   0.677   |\n",
            "+-------+-------+-----------+\n",
            "|  21   |  21   |   0.676   |\n",
            "+-------+-------+-----------+\n",
            "|   1   |  81   |   0.655   |\n",
            "+-------+-------+-----------+\n",
            "|   1   |  51   |   0.647   |\n",
            "+-------+-------+-----------+\n",
            "|  21   |  11   |   0.619   |\n",
            "+-------+-------+-----------+\n",
            "|   1   |  71   |   0.615   |\n",
            "+-------+-------+-----------+\n",
            "|   1   |  61   |   0.519   |\n",
            "+-------+-------+-----------+\n",
            "|  11   |  11   |   0.448   |\n",
            "+-------+-------+-----------+\n",
            "|  11   |   1   |   0.397   |\n",
            "+-------+-------+-----------+\n",
            "|   1   |   1   |   0.394   |\n",
            "+-------+-------+-----------+\n",
            "|  91   |   1   |   0.387   |\n",
            "+-------+-------+-----------+\n",
            "|  41   |   1   |   0.384   |\n",
            "+-------+-------+-----------+\n",
            "|  71   |   1   |   0.383   |\n",
            "+-------+-------+-----------+\n",
            "|  31   |   1   |   0.379   |\n",
            "+-------+-------+-----------+\n",
            "|  51   |   1   |   0.376   |\n",
            "+-------+-------+-----------+\n",
            "|   1   |  31   |   0.323   |\n",
            "+-------+-------+-----------+\n",
            "|  81   |   1   |   0.195   |\n",
            "+-------+-------+-----------+\n",
            "|  61   |   1   |   0.185   |\n",
            "+-------+-------+-----------+\n",
            "|  21   |   1   |   0.131   |\n",
            "+-------+-------+-----------+\n"
          ],
          "name": "stdout"
        }
      ]
    },
    {
      "metadata": {
        "id": "C9CodX7PB5B9",
        "colab_type": "code",
        "colab": {
          "base_uri": "https://localhost:8080/",
          "height": 319
        },
        "outputId": "7108ec1a-26a0-45cf-e363-916007c366b9"
      },
      "cell_type": "code",
      "source": [
        "\n",
        "zmax= np.max(oob_scores)\n",
        "mask = np.array(oob_scores) == 0.88\n",
        "color = np.where(mask, 'red', 'blue')\n",
        "fig = plt.figure()\n",
        "ax = Axes3D(fig)\n",
        "ax.scatter(depth, trees, oob_scores, color=color)\n",
        "plt.ticklabel_format(useOffset=False)   \n",
        "ax.set_xlabel('depth')\n",
        "ax.set_ylabel('trees')\n",
        "ax.set_zlabel('oob_scores')\n",
        "plt.show()"
      ],
      "execution_count": 101,
      "outputs": [
        {
          "output_type": "display_data",
          "data": {
            "image/png": "[encoded data removed]",
            "text/plain": [
              "<matplotlib.figure.Figure at 0x7f0e1eaccac8>"
            ]
          },
          "metadata": {
            "tags": []
          }
        }
      ]
    },
    {
      "metadata": {
        "id": "Us5VR_GFCCcc",
        "colab_type": "text"
      },
      "cell_type": "markdown",
      "source": [
        "**At no.of tree=91    and depth= 31  we are getting an accuracy nearer to the 90%, so lets keep the these avalues evaluate the model performance on the test dataset.**\n"
      ]
    },
    {
      "metadata": {
        "id": "RJUNftg3nuhO",
        "colab_type": "code",
        "colab": {
          "base_uri": "https://localhost:8080/",
          "height": 51
        },
        "outputId": "40cfe71f-93bb-4240-8343-d7a77746e7de"
      },
      "cell_type": "code",
      "source": [
        "from sklearn.ensemble import RandomForestClassifier\n",
        "rf=RandomForestClassifier(n_estimators=91, criterion='gini', max_depth=31, min_samples_split=2, min_samples_leaf=1, max_features='auto', bootstrap=True, oob_score=True, n_jobs=-1,  verbose=1, class_weight=\"balanced\")\n",
        "radom_forest=rf.fit(train_data,df_train_y)"
      ],
      "execution_count": 12,
      "outputs": [
        {
          "output_type": "stream",
          "text": [
            "[Parallel(n_jobs=-1)]: Done  46 tasks      | elapsed:   13.2s\n",
            "[Parallel(n_jobs=-1)]: Done  91 out of  91 | elapsed:   26.1s finished\n"
          ],
          "name": "stderr"
        }
      ]
    },
    {
      "metadata": {
        "id": "NxUAoa5jn6uB",
        "colab_type": "code",
        "colab": {
          "base_uri": "https://localhost:8080/",
          "height": 501
        },
        "outputId": "01d63245-3f90-48d6-8b1a-d17ac8d41dd2"
      },
      "cell_type": "code",
      "source": [
        "output=radom_forest.predict(test_data)\n",
        "plot_confusion_matrix(output,df_test_y,'')"
      ],
      "execution_count": 13,
      "outputs": [
        {
          "output_type": "stream",
          "text": [
            "[Parallel(n_jobs=2)]: Done  46 tasks      | elapsed:    1.2s\n",
            "[Parallel(n_jobs=2)]: Done  91 out of  91 | elapsed:    2.2s finished\n",
            "/usr/local/lib/python3.6/dist-packages/seaborn/matrix.py:143: DeprecationWarning: elementwise == comparison failed; this will raise an error in the future.\n",
            "  if xticklabels == []:\n",
            "/usr/local/lib/python3.6/dist-packages/seaborn/matrix.py:151: DeprecationWarning: elementwise == comparison failed; this will raise an error in the future.\n",
            "  if yticklabels == []:\n"
          ],
          "name": "stderr"
        },
        {
          "output_type": "stream",
          "text": [
            "+-----------------+--------------+----------+----------+\n",
            "| precision_score | recall_score | accuracy | f1-score |\n",
            "+-----------------+--------------+----------+----------+\n",
            "|      0.942      |    0.928     |  0.887   |  0.935   |\n",
            "+-----------------+--------------+----------+----------+\n"
          ],
          "name": "stdout"
        },
        {
          "output_type": "display_data",
          "data": {
            "image/png": "[encoded data removed]",
            "text/plain": [
              "<matplotlib.figure.Figure at 0x7f54e2230518>"
            ]
          },
          "metadata": {
            "tags": []
          }
        }
      ]
    },
    {
      "metadata": {
        "id": "eljgiXeboHga",
        "colab_type": "code",
        "colab": {
          "base_uri": "https://localhost:8080/",
          "height": 765
        },
        "outputId": "45b705e6-71dd-4057-bb11-3409357b7934"
      },
      "cell_type": "code",
      "source": [
        "feature_importance([radom_forest],bow_unigrams)"
      ],
      "execution_count": 61,
      "outputs": [
        {
          "output_type": "stream",
          "text": [
            "Top 20 Important features\n",
            "+----------------------------+\n",
            "| Important features model 0 |\n",
            "+----------------------------+\n",
            "|         breakfast          |\n",
            "+----------------------------+\n",
            "|            rich            |\n",
            "+----------------------------+\n",
            "|            like            |\n",
            "+----------------------------+\n",
            "|       disappointment       |\n",
            "+----------------------------+\n",
            "|            nice            |\n",
            "+----------------------------+\n",
            "|            bad             |\n",
            "+----------------------------+\n",
            "|           bought           |\n",
            "+----------------------------+\n",
            "|          ordered           |\n",
            "+----------------------------+\n",
            "|         delicious          |\n",
            "+----------------------------+\n",
            "|           money            |\n",
            "+----------------------------+\n",
            "|          favorite          |\n",
            "+----------------------------+\n",
            "|          product           |\n",
            "+----------------------------+\n",
            "|          received          |\n",
            "+----------------------------+\n",
            "|           great            |\n",
            "+----------------------------+\n",
            "|           waste            |\n",
            "+----------------------------+\n",
            "|         wonderful          |\n",
            "+----------------------------+\n",
            "|          perfect           |\n",
            "+----------------------------+\n",
            "|           didnt            |\n",
            "+----------------------------+\n",
            "|        disappointed        |\n",
            "+----------------------------+\n",
            "|          thought           |\n",
            "+----------------------------+\n"
          ],
          "name": "stdout"
        }
      ]
    },
    {
      "metadata": {
        "id": "VULLQAv1n4Rx",
        "colab_type": "text"
      },
      "cell_type": "markdown",
      "source": [
        "# xgboost"
      ]
    },
    {
      "metadata": {
        "id": "9EuZRtcTsPB7",
        "colab_type": "code",
        "colab": {}
      },
      "cell_type": "code",
      "source": [
        "random_cv(train_data,df_train_y,\"tf_idf_Bigrams.csv\")"
      ],
      "execution_count": 0,
      "outputs": []
    },
    {
      "metadata": {
        "id": "V8QmSkRLg3ZM",
        "colab_type": "code",
        "colab": {
          "base_uri": "https://localhost:8080/",
          "height": 359
        },
        "outputId": "c14b3420-6591-4496-befd-b21f90aebfb5"
      },
      "cell_type": "code",
      "source": [
        "read_table_data('/content/drive/My Drive/Colab_Notebooks/rf_xgboost/xg_boost/tf_idf_Bigrams.csv')"
      ],
      "execution_count": 57,
      "outputs": [
        {
          "output_type": "display_data",
          "data": {
            "text/html": [
              "<div>\n",
              "<style scoped>\n",
              "    .dataframe tbody tr th:only-of-type {\n",
              "        vertical-align: middle;\n",
              "    }\n",
              "\n",
              "    .dataframe tbody tr th {\n",
              "        vertical-align: top;\n",
              "    }\n",
              "\n",
              "    .dataframe thead th {\n",
              "        text-align: right;\n",
              "    }\n",
              "</style>\n",
              "<table border=\"1\" class=\"dataframe\">\n",
              "  <thead>\n",
              "    <tr style=\"text-align: right;\">\n",
              "      <th></th>\n",
              "      <th>cv_score</th>\n",
              "      <th>depth</th>\n",
              "      <th>learning_rate</th>\n",
              "      <th>trees</th>\n",
              "    </tr>\n",
              "  </thead>\n",
              "  <tbody>\n",
              "    <tr>\n",
              "      <th>7</th>\n",
              "      <td>0.954658</td>\n",
              "      <td>2</td>\n",
              "      <td>0.255556</td>\n",
              "      <td>600</td>\n",
              "    </tr>\n",
              "    <tr>\n",
              "      <th>8</th>\n",
              "      <td>0.954262</td>\n",
              "      <td>2</td>\n",
              "      <td>0.166667</td>\n",
              "      <td>800</td>\n",
              "    </tr>\n",
              "    <tr>\n",
              "      <th>0</th>\n",
              "      <td>0.953879</td>\n",
              "      <td>2</td>\n",
              "      <td>0.233333</td>\n",
              "      <td>500</td>\n",
              "    </tr>\n",
              "    <tr>\n",
              "      <th>9</th>\n",
              "      <td>0.953831</td>\n",
              "      <td>3</td>\n",
              "      <td>0.100000</td>\n",
              "      <td>800</td>\n",
              "    </tr>\n",
              "    <tr>\n",
              "      <th>6</th>\n",
              "      <td>0.953138</td>\n",
              "      <td>2</td>\n",
              "      <td>0.211111</td>\n",
              "      <td>400</td>\n",
              "    </tr>\n",
              "    <tr>\n",
              "      <th>2</th>\n",
              "      <td>0.947522</td>\n",
              "      <td>1</td>\n",
              "      <td>0.122222</td>\n",
              "      <td>300</td>\n",
              "    </tr>\n",
              "    <tr>\n",
              "      <th>3</th>\n",
              "      <td>0.947374</td>\n",
              "      <td>1</td>\n",
              "      <td>0.166667</td>\n",
              "      <td>200</td>\n",
              "    </tr>\n",
              "    <tr>\n",
              "      <th>5</th>\n",
              "      <td>0.946911</td>\n",
              "      <td>2</td>\n",
              "      <td>0.144444</td>\n",
              "      <td>100</td>\n",
              "    </tr>\n",
              "    <tr>\n",
              "      <th>1</th>\n",
              "      <td>0.945354</td>\n",
              "      <td>1</td>\n",
              "      <td>0.100000</td>\n",
              "      <td>200</td>\n",
              "    </tr>\n",
              "    <tr>\n",
              "      <th>4</th>\n",
              "      <td>0.944288</td>\n",
              "      <td>1</td>\n",
              "      <td>0.122222</td>\n",
              "      <td>100</td>\n",
              "    </tr>\n",
              "  </tbody>\n",
              "</table>\n",
              "</div>"
            ],
            "text/plain": [
              "   cv_score  depth  learning_rate  trees\n",
              "7  0.954658      2       0.255556    600\n",
              "8  0.954262      2       0.166667    800\n",
              "0  0.953879      2       0.233333    500\n",
              "9  0.953831      3       0.100000    800\n",
              "6  0.953138      2       0.211111    400\n",
              "2  0.947522      1       0.122222    300\n",
              "3  0.947374      1       0.166667    200\n",
              "5  0.946911      2       0.144444    100\n",
              "1  0.945354      1       0.100000    200\n",
              "4  0.944288      1       0.122222    100"
            ]
          },
          "metadata": {
            "tags": []
          }
        }
      ]
    },
    {
      "metadata": {
        "id": "idtitmtKokug",
        "colab_type": "code",
        "colab": {}
      },
      "cell_type": "code",
      "source": [
        "from xgboost.sklearn import XGBClassifier\n",
        "xgb1 = XGBClassifier(learning_rate =0.25,n_estimators=600,max_depth=2,min_child_weight=1,gamma=0,subsample=0.8,colsample_bytree=0.8,scale_pos_weight=1,)"
      ],
      "execution_count": 0,
      "outputs": []
    },
    {
      "metadata": {
        "id": "9gX3AfieqAc_",
        "colab_type": "code",
        "colab": {}
      },
      "cell_type": "code",
      "source": [
        "xgb_classifier=xgb1.fit(train_data,df_train_y)"
      ],
      "execution_count": 0,
      "outputs": []
    },
    {
      "metadata": {
        "id": "Z3m3IvYVpK4p",
        "colab_type": "code",
        "colab": {
          "base_uri": "https://localhost:8080/",
          "height": 501
        },
        "outputId": "0bb1c598-ba25-4324-c0ff-5b1a75cdebc6"
      },
      "cell_type": "code",
      "source": [
        "output=xgb1.predict(test_data)\n",
        "plot_confusion_matrix(output,df_test_y,'')"
      ],
      "execution_count": 16,
      "outputs": [
        {
          "output_type": "stream",
          "text": [
            "/usr/local/lib/python3.6/dist-packages/sklearn/preprocessing/label.py:151: DeprecationWarning: The truth value of an empty array is ambiguous. Returning False, but in future this will result in an error. Use `array.size > 0` to check that an array is not empty.\n",
            "  if diff:\n",
            "/usr/local/lib/python3.6/dist-packages/seaborn/matrix.py:143: DeprecationWarning: elementwise == comparison failed; this will raise an error in the future.\n",
            "  if xticklabels == []:\n",
            "/usr/local/lib/python3.6/dist-packages/seaborn/matrix.py:151: DeprecationWarning: elementwise == comparison failed; this will raise an error in the future.\n",
            "  if yticklabels == []:\n"
          ],
          "name": "stderr"
        },
        {
          "output_type": "stream",
          "text": [
            "+-----------------+--------------+----------+----------+\n",
            "| precision_score | recall_score | accuracy | f1-score |\n",
            "+-----------------+--------------+----------+----------+\n",
            "|      0.923      |    0.977     |  0.908   |  0.949   |\n",
            "+-----------------+--------------+----------+----------+\n"
          ],
          "name": "stdout"
        },
        {
          "output_type": "display_data",
          "data": {
            "image/png": "[encoded data removed]",
            "text/plain": [
              "<matplotlib.figure.Figure at 0x7f54d8f774e0>"
            ]
          },
          "metadata": {
            "tags": []
          }
        }
      ]
    },
    {
      "metadata": {
        "id": "TmUASWCgviqL",
        "colab_type": "code",
        "colab": {
          "base_uri": "https://localhost:8080/",
          "height": 765
        },
        "outputId": "66e862b7-ca79-4082-b9e1-8f98b246c825"
      },
      "cell_type": "code",
      "source": [
        "feature_importance([xgb_classifier],bow_unigrams)"
      ],
      "execution_count": 17,
      "outputs": [
        {
          "output_type": "stream",
          "text": [
            "Top 20 Important features\n",
            "+----------------------------+\n",
            "| Important features model 0 |\n",
            "+----------------------------+\n",
            "|           amazon           |\n",
            "+----------------------------+\n",
            "|          terrible          |\n",
            "+----------------------------+\n",
            "|            buy             |\n",
            "+----------------------------+\n",
            "|         excellent          |\n",
            "+----------------------------+\n",
            "|            eat             |\n",
            "+----------------------------+\n",
            "|        disappointed        |\n",
            "+----------------------------+\n",
            "|         delicious          |\n",
            "+----------------------------+\n",
            "|            love            |\n",
            "+----------------------------+\n",
            "|            time            |\n",
            "+----------------------------+\n",
            "|           better           |\n",
            "+----------------------------+\n",
            "|           flavor           |\n",
            "+----------------------------+\n",
            "|           little           |\n",
            "+----------------------------+\n",
            "|            best            |\n",
            "+----------------------------+\n",
            "|            dont            |\n",
            "+----------------------------+\n",
            "|          product           |\n",
            "+----------------------------+\n",
            "|            just            |\n",
            "+----------------------------+\n",
            "|           great            |\n",
            "+----------------------------+\n",
            "|            like            |\n",
            "+----------------------------+\n",
            "|           taste            |\n",
            "+----------------------------+\n",
            "|            good            |\n",
            "+----------------------------+\n"
          ],
          "name": "stdout"
        }
      ]
    },
    {
      "metadata": {
        "id": "3EKO4GFrYpQ2",
        "colab_type": "text"
      },
      "cell_type": "markdown",
      "source": [
        "# word2vec model"
      ]
    },
    {
      "metadata": {
        "id": "n5acgsZ3YyuW",
        "colab_type": "code",
        "colab": {
          "base_uri": "https://localhost:8080/",
          "height": 34
        },
        "outputId": "eafd7e03-ea7f-4040-a90f-5fe5a81c5f2d"
      },
      "cell_type": "code",
      "source": [
        "from sklearn.feature_extraction.text import TfidfVectorizer \n",
        "tf_idf_model=TfidfVectorizer(stop_words='english')\n",
        "stop_words = tf_idf_model.get_stop_words()\n",
        "model=[]  \n",
        "for sent in df_train_x:\n",
        "    temp=[]\n",
        "    for word in sent.split():\n",
        "        if word not in stop_words:\n",
        "            temp.append(word)\n",
        "    model.append(temp)\n",
        "print(model[0][0:10])"
      ],
      "execution_count": 18,
      "outputs": [
        {
          "output_type": "stream",
          "text": [
            "['witty', 'little', 'book', 'makes', 'son', 'laugh', 'loud', 'recite', 'car', 'driving']\n"
          ],
          "name": "stdout"
        }
      ]
    },
    {
      "metadata": {
        "id": "pCHw4sfKdflZ",
        "colab_type": "code",
        "colab": {}
      },
      "cell_type": "code",
      "source": [
        "!pip install gensim\n",
        "from gensim.models import Word2Vec\n",
        "amazon_model = Word2Vec(model, size=300, window=5, min_count=1, workers=4)"
      ],
      "execution_count": 0,
      "outputs": []
    },
    {
      "metadata": {
        "id": "3uz8Ufpudzof",
        "colab_type": "code",
        "colab": {}
      },
      "cell_type": "code",
      "source": [
        "import numpy as np\n",
        "word_vectors = amazon_model.wv\n",
        "train_vec=[]\n",
        "counter=0\n",
        "for sentence in df_train_x:\n",
        "    temp=np.zeros(300)\n",
        "    length=0\n",
        "    for word in sentence.split():\n",
        "        if word in word_vectors:\n",
        "            temp=temp+amazon_model.wv[word]\n",
        "        else:\n",
        "            #print(word,\" is not presnet in training model of word2vec\")\n",
        "            pass\n",
        "        length+=1\n",
        "    train_vec.append(temp/length)\n",
        "    if(counter%10000==0):\n",
        "        print(counter)\n",
        "    counter+=1"
      ],
      "execution_count": 0,
      "outputs": []
    },
    {
      "metadata": {
        "id": "X0t1Y86Vd85g",
        "colab_type": "code",
        "colab": {}
      },
      "cell_type": "code",
      "source": [
        "import numpy as np\n",
        "word_vectors = amazon_model.wv\n",
        "test_vec=[]\n",
        "counter=0\n",
        "for sentence in df_test_x:\n",
        "    temp=np.zeros(300)\n",
        "    length=0\n",
        "    for word in sentence.split():\n",
        "        if word in word_vectors:\n",
        "            temp=temp+amazon_model.wv[word]\n",
        "        else:\n",
        "            pass# print(word,\" is not presnet in training model of word2vec\")\n",
        "        length+=1\n",
        "    test_vec.append(temp/length)\n",
        "    if(counter%10000==0):\n",
        "        print(counter)\n",
        "    counter+=1"
      ],
      "execution_count": 0,
      "outputs": []
    },
    {
      "metadata": {
        "id": "naslr1IUeCdy",
        "colab_type": "code",
        "colab": {}
      },
      "cell_type": "code",
      "source": [
        "from sklearn.ensemble import RandomForestClassifier\n",
        "oob_scores=[];trees=[];depth=[]\n",
        "for no_of_trees in range(1,100,10):\n",
        "  for depth_max in range(1,100,10):\n",
        "    trees.append(no_of_trees)\n",
        "    depth.append(depth_max)\n",
        "    rf=RandomForestClassifier(n_estimators=no_of_trees, criterion='gini', max_depth=depth_max, min_samples_split=2, min_samples_leaf=1, max_features='auto', bootstrap=True, oob_score=True, n_jobs=-1,  verbose=1, class_weight=\"balanced\")\n",
        "    radom_forest=rf.fit(train_vec,df_train_y)\n",
        "    oob_scores.append(radom_forest.oob_score_)"
      ],
      "execution_count": 0,
      "outputs": []
    },
    {
      "metadata": {
        "id": "c-Md_d0flx8w",
        "colab_type": "code",
        "colab": {
          "base_uri": "https://localhost:8080/",
          "height": 3468
        },
        "outputId": "2dd852b7-eb5e-4f4c-cf77-9e976c33cb0c"
      },
      "cell_type": "code",
      "source": [
        "depth=[];trees=[]\n",
        "for i in range(1,100,10):\n",
        "  for j in range(1,100,10):\n",
        "    depth.append(i)\n",
        "    trees.append(j)\n",
        "    \n",
        "word2vec_vec=pd.DataFrame({'depth':depth,'trees':trees,'oob_scores':oob_scores})\n",
        "word2vec_vec.to_csv('/content/drive/My Drive/Colab_Notebooks/rf_xgboost/word2vec_vec.csv')\n",
        "from beautifultable import BeautifulTable\n",
        "table = BeautifulTable()\n",
        "table.insert_column(0,\"trees\",trees)\n",
        "table.insert_column(1,\"depth\",depth)\n",
        "table.insert_column(2,\"oob_score\",oob_scores)\n",
        "table.sort('oob_score',reverse=True)\n",
        "print(table)"
      ],
      "execution_count": 110,
      "outputs": [
        {
          "output_type": "stream",
          "text": [
            "+-------+-------+-----------+\n",
            "| trees | depth | oob_score |\n",
            "+-------+-------+-----------+\n",
            "|  31   |  81   |    0.9    |\n",
            "+-------+-------+-----------+\n",
            "|  31   |  91   |    0.9    |\n",
            "+-------+-------+-----------+\n",
            "|  31   |  71   |   0.899   |\n",
            "+-------+-------+-----------+\n",
            "|  61   |  81   |   0.899   |\n",
            "+-------+-------+-----------+\n",
            "|  31   |  61   |   0.899   |\n",
            "+-------+-------+-----------+\n",
            "|  41   |  91   |   0.899   |\n",
            "+-------+-------+-----------+\n",
            "|  61   |  91   |   0.899   |\n",
            "+-------+-------+-----------+\n",
            "|  61   |  71   |   0.899   |\n",
            "+-------+-------+-----------+\n",
            "|  31   |  51   |   0.899   |\n",
            "+-------+-------+-----------+\n",
            "|  71   |  71   |   0.899   |\n",
            "+-------+-------+-----------+\n",
            "|  91   |  81   |   0.899   |\n",
            "+-------+-------+-----------+\n",
            "|  81   |  81   |   0.899   |\n",
            "+-------+-------+-----------+\n",
            "|  81   |  91   |   0.899   |\n",
            "+-------+-------+-----------+\n",
            "|  21   |  91   |   0.899   |\n",
            "+-------+-------+-----------+\n",
            "|  51   |  81   |   0.899   |\n",
            "+-------+-------+-----------+\n",
            "|  81   |  71   |   0.899   |\n",
            "+-------+-------+-----------+\n",
            "|  91   |  91   |   0.899   |\n",
            "+-------+-------+-----------+\n",
            "|  51   |  71   |   0.899   |\n",
            "+-------+-------+-----------+\n",
            "|  41   |  61   |   0.899   |\n",
            "+-------+-------+-----------+\n",
            "|  51   |  91   |   0.899   |\n",
            "+-------+-------+-----------+\n",
            "|  91   |  61   |   0.898   |\n",
            "+-------+-------+-----------+\n",
            "|  21   |  81   |   0.898   |\n",
            "+-------+-------+-----------+\n",
            "|  71   |  81   |   0.898   |\n",
            "+-------+-------+-----------+\n",
            "|  91   |  51   |   0.898   |\n",
            "+-------+-------+-----------+\n",
            "|  81   |  61   |   0.898   |\n",
            "+-------+-------+-----------+\n",
            "|  61   |  51   |   0.898   |\n",
            "+-------+-------+-----------+\n",
            "|  51   |  51   |   0.898   |\n",
            "+-------+-------+-----------+\n",
            "|  41   |  71   |   0.898   |\n",
            "+-------+-------+-----------+\n",
            "|  71   |  91   |   0.898   |\n",
            "+-------+-------+-----------+\n",
            "|  21   |  61   |   0.898   |\n",
            "+-------+-------+-----------+\n",
            "|  41   |  51   |   0.898   |\n",
            "+-------+-------+-----------+\n",
            "|  71   |  61   |   0.898   |\n",
            "+-------+-------+-----------+\n",
            "|  41   |  81   |   0.898   |\n",
            "+-------+-------+-----------+\n",
            "|  71   |  51   |   0.898   |\n",
            "+-------+-------+-----------+\n",
            "|  21   |  71   |   0.898   |\n",
            "+-------+-------+-----------+\n",
            "|  91   |  71   |   0.898   |\n",
            "+-------+-------+-----------+\n",
            "|  61   |  61   |   0.898   |\n",
            "+-------+-------+-----------+\n",
            "|  81   |  51   |   0.898   |\n",
            "+-------+-------+-----------+\n",
            "|  71   |  41   |   0.898   |\n",
            "+-------+-------+-----------+\n",
            "|  51   |  61   |   0.898   |\n",
            "+-------+-------+-----------+\n",
            "|  31   |  41   |   0.898   |\n",
            "+-------+-------+-----------+\n",
            "|  51   |  41   |   0.898   |\n",
            "+-------+-------+-----------+\n",
            "|  31   |  31   |   0.898   |\n",
            "+-------+-------+-----------+\n",
            "|  81   |  41   |   0.898   |\n",
            "+-------+-------+-----------+\n",
            "|  21   |  51   |   0.897   |\n",
            "+-------+-------+-----------+\n",
            "|  91   |  41   |   0.897   |\n",
            "+-------+-------+-----------+\n",
            "|  61   |  41   |   0.897   |\n",
            "+-------+-------+-----------+\n",
            "|  41   |  41   |   0.897   |\n",
            "+-------+-------+-----------+\n",
            "|  61   |  31   |   0.897   |\n",
            "+-------+-------+-----------+\n",
            "|  41   |  31   |   0.896   |\n",
            "+-------+-------+-----------+\n",
            "|  71   |  31   |   0.896   |\n",
            "+-------+-------+-----------+\n",
            "|  51   |  31   |   0.896   |\n",
            "+-------+-------+-----------+\n",
            "|  21   |  41   |   0.896   |\n",
            "+-------+-------+-----------+\n",
            "|  81   |  31   |   0.896   |\n",
            "+-------+-------+-----------+\n",
            "|  91   |  31   |   0.896   |\n",
            "+-------+-------+-----------+\n",
            "|  21   |  31   |   0.895   |\n",
            "+-------+-------+-----------+\n",
            "|  91   |  21   |   0.893   |\n",
            "+-------+-------+-----------+\n",
            "|  31   |  21   |   0.893   |\n",
            "+-------+-------+-----------+\n",
            "|  41   |  21   |   0.893   |\n",
            "+-------+-------+-----------+\n",
            "|  71   |  21   |   0.892   |\n",
            "+-------+-------+-----------+\n",
            "|  81   |  21   |   0.892   |\n",
            "+-------+-------+-----------+\n",
            "|  21   |  21   |   0.891   |\n",
            "+-------+-------+-----------+\n",
            "|  51   |  21   |   0.891   |\n",
            "+-------+-------+-----------+\n",
            "|  61   |  21   |   0.891   |\n",
            "+-------+-------+-----------+\n",
            "|  31   |  11   |   0.869   |\n",
            "+-------+-------+-----------+\n",
            "|  21   |  11   |   0.869   |\n",
            "+-------+-------+-----------+\n",
            "|  91   |  11   |   0.869   |\n",
            "+-------+-------+-----------+\n",
            "|  41   |  11   |   0.869   |\n",
            "+-------+-------+-----------+\n",
            "|  61   |  11   |   0.868   |\n",
            "+-------+-------+-----------+\n",
            "|  51   |  11   |   0.868   |\n",
            "+-------+-------+-----------+\n",
            "|  81   |  11   |   0.868   |\n",
            "+-------+-------+-----------+\n",
            "|  71   |  11   |   0.867   |\n",
            "+-------+-------+-----------+\n",
            "|  11   |  81   |   0.862   |\n",
            "+-------+-------+-----------+\n",
            "|  11   |  91   |   0.862   |\n",
            "+-------+-------+-----------+\n",
            "|  11   |  71   |   0.862   |\n",
            "+-------+-------+-----------+\n",
            "|  11   |  61   |   0.858   |\n",
            "+-------+-------+-----------+\n",
            "|  11   |  51   |   0.857   |\n",
            "+-------+-------+-----------+\n",
            "|  11   |  41   |   0.856   |\n",
            "+-------+-------+-----------+\n",
            "|  11   |  31   |   0.85    |\n",
            "+-------+-------+-----------+\n",
            "|  11   |  21   |   0.846   |\n",
            "+-------+-------+-----------+\n",
            "|  11   |  11   |   0.82    |\n",
            "+-------+-------+-----------+\n",
            "|   1   |  91   |   0.699   |\n",
            "+-------+-------+-----------+\n",
            "|   1   |  51   |   0.693   |\n",
            "+-------+-------+-----------+\n",
            "|   1   |  61   |   0.693   |\n",
            "+-------+-------+-----------+\n",
            "|   1   |  71   |   0.691   |\n",
            "+-------+-------+-----------+\n",
            "|   1   |  31   |   0.688   |\n",
            "+-------+-------+-----------+\n",
            "|   1   |  41   |   0.68    |\n",
            "+-------+-------+-----------+\n",
            "|   1   |  81   |   0.678   |\n",
            "+-------+-------+-----------+\n",
            "|   1   |  21   |   0.676   |\n",
            "+-------+-------+-----------+\n",
            "|   1   |  11   |   0.649   |\n",
            "+-------+-------+-----------+\n",
            "|  91   |   1   |   0.381   |\n",
            "+-------+-------+-----------+\n",
            "|  51   |   1   |   0.381   |\n",
            "+-------+-------+-----------+\n",
            "|  31   |   1   |   0.381   |\n",
            "+-------+-------+-----------+\n",
            "|  61   |   1   |   0.38    |\n",
            "+-------+-------+-----------+\n",
            "|  41   |   1   |   0.379   |\n",
            "+-------+-------+-----------+\n",
            "|  71   |   1   |   0.379   |\n",
            "+-------+-------+-----------+\n",
            "|  81   |   1   |   0.378   |\n",
            "+-------+-------+-----------+\n",
            "|  21   |   1   |   0.375   |\n",
            "+-------+-------+-----------+\n",
            "|  11   |   1   |   0.345   |\n",
            "+-------+-------+-----------+\n",
            "|   1   |   1   |   0.281   |\n",
            "+-------+-------+-----------+\n"
          ],
          "name": "stdout"
        }
      ]
    },
    {
      "metadata": {
        "id": "iRu-zOTVWhGu",
        "colab_type": "text"
      },
      "cell_type": "markdown",
      "source": [
        "**At depth= 31  and no.of trees = 81 we are getting an accuracy about  90% so lets try these values on  the test to evaluate the performace of this model.  **"
      ]
    },
    {
      "metadata": {
        "id": "4mxFyRYmfIX5",
        "colab_type": "code",
        "colab": {
          "base_uri": "https://localhost:8080/",
          "height": 319
        },
        "outputId": "e894620c-8060-49da-a935-812491b57fc6"
      },
      "cell_type": "code",
      "source": [
        "zmax= np.max(oob_scores)\n",
        "mask = np.array(oob_scores) == 0.88\n",
        "color = np.where(mask, 'red', 'blue')\n",
        "fig = plt.figure()\n",
        "ax = Axes3D(fig)\n",
        "ax.scatter(depth, trees, oob_scores, color=color)\n",
        "plt.ticklabel_format(useOffset=False)   \n",
        "ax.set_xlabel('depth')\n",
        "ax.set_ylabel('trees')\n",
        "ax.set_zlabel('oob_scores')\n",
        "plt.show()"
      ],
      "execution_count": 111,
      "outputs": [
        {
          "output_type": "display_data",
          "data": {
            "image/png": "[encoded data removed]",
            "text/plain": [
              "<matplotlib.figure.Figure at 0x7f0e0985a048>"
            ]
          },
          "metadata": {
            "tags": []
          }
        }
      ]
    },
    {
      "metadata": {
        "id": "g5jLx5NywcGB",
        "colab_type": "code",
        "colab": {
          "base_uri": "https://localhost:8080/",
          "height": 51
        },
        "outputId": "c9c94d9f-3242-49e8-fbc6-ce7fd0494828"
      },
      "cell_type": "code",
      "source": [
        "from sklearn.ensemble import RandomForestClassifier\n",
        "rf=RandomForestClassifier(n_estimators=81, criterion='gini', max_depth=31, min_samples_split=2, min_samples_leaf=1, max_features='auto', bootstrap=True, oob_score=True, n_jobs=-1,  verbose=1, class_weight=\"balanced\")\n",
        "radom_forest=rf.fit(train_vec,df_train_y)"
      ],
      "execution_count": 25,
      "outputs": [
        {
          "output_type": "stream",
          "text": [
            "[Parallel(n_jobs=-1)]: Done  46 tasks      | elapsed:   45.1s\n",
            "[Parallel(n_jobs=-1)]: Done  81 out of  81 | elapsed:  1.3min finished\n"
          ],
          "name": "stderr"
        }
      ]
    },
    {
      "metadata": {
        "id": "9TjOLCWfwhhz",
        "colab_type": "code",
        "colab": {
          "base_uri": "https://localhost:8080/",
          "height": 501
        },
        "outputId": "29bab23e-7cda-49ed-d673-f4b6036c5031"
      },
      "cell_type": "code",
      "source": [
        "output=radom_forest.predict(test_vec)\n",
        "plot_confusion_matrix(output,df_test_y,'')"
      ],
      "execution_count": 26,
      "outputs": [
        {
          "output_type": "stream",
          "text": [
            "[Parallel(n_jobs=2)]: Done  46 tasks      | elapsed:    0.3s\n",
            "[Parallel(n_jobs=2)]: Done  81 out of  81 | elapsed:    0.5s finished\n",
            "/usr/local/lib/python3.6/dist-packages/seaborn/matrix.py:143: DeprecationWarning: elementwise == comparison failed; this will raise an error in the future.\n",
            "  if xticklabels == []:\n",
            "/usr/local/lib/python3.6/dist-packages/seaborn/matrix.py:151: DeprecationWarning: elementwise == comparison failed; this will raise an error in the future.\n",
            "  if yticklabels == []:\n"
          ],
          "name": "stderr"
        },
        {
          "output_type": "stream",
          "text": [
            "+-----------------+--------------+----------+----------+\n",
            "| precision_score | recall_score | accuracy | f1-score |\n",
            "+-----------------+--------------+----------+----------+\n",
            "|      0.893      |    0.987     |  0.885   |  0.938   |\n",
            "+-----------------+--------------+----------+----------+\n"
          ],
          "name": "stdout"
        },
        {
          "output_type": "display_data",
          "data": {
            "image/png": "[encoded data removed]",
            "text/plain": [
              "<matplotlib.figure.Figure at 0x7f54c55d5438>"
            ]
          },
          "metadata": {
            "tags": []
          }
        }
      ]
    },
    {
      "metadata": {
        "id": "XUydD8bt1n9U",
        "colab_type": "text"
      },
      "cell_type": "markdown",
      "source": [
        "# xgboost"
      ]
    },
    {
      "metadata": {
        "id": "rNT0_fnrxh_i",
        "colab_type": "code",
        "colab": {}
      },
      "cell_type": "code",
      "source": [
        "#train_vec=np.array(train_vec)\n",
        "random_cv(train_vec,df_train_y,\"word2vec.csv\")"
      ],
      "execution_count": 0,
      "outputs": []
    },
    {
      "metadata": {
        "id": "xoifbKcSfwM_",
        "colab_type": "code",
        "colab": {
          "base_uri": "https://localhost:8080/",
          "height": 359
        },
        "outputId": "87a3c0ee-9220-428a-d956-2b2f1f17bd10"
      },
      "cell_type": "code",
      "source": [
        "read_table_data('/content/drive/My Drive/Colab_Notebooks/rf_xgboost/xg_boost/word2vec.csv')"
      ],
      "execution_count": 27,
      "outputs": [
        {
          "output_type": "display_data",
          "data": {
            "text/html": [
              "<div>\n",
              "<style scoped>\n",
              "    .dataframe tbody tr th:only-of-type {\n",
              "        vertical-align: middle;\n",
              "    }\n",
              "\n",
              "    .dataframe tbody tr th {\n",
              "        vertical-align: top;\n",
              "    }\n",
              "\n",
              "    .dataframe thead th {\n",
              "        text-align: right;\n",
              "    }\n",
              "</style>\n",
              "<table border=\"1\" class=\"dataframe\">\n",
              "  <thead>\n",
              "    <tr style=\"text-align: right;\">\n",
              "      <th></th>\n",
              "      <th>cv_score</th>\n",
              "      <th>depth</th>\n",
              "      <th>learning_rate</th>\n",
              "      <th>trees</th>\n",
              "    </tr>\n",
              "  </thead>\n",
              "  <tbody>\n",
              "    <tr>\n",
              "      <th>5</th>\n",
              "      <td>0.948100</td>\n",
              "      <td>3</td>\n",
              "      <td>0.255556</td>\n",
              "      <td>100</td>\n",
              "    </tr>\n",
              "    <tr>\n",
              "      <th>2</th>\n",
              "      <td>0.947965</td>\n",
              "      <td>2</td>\n",
              "      <td>0.300000</td>\n",
              "      <td>400</td>\n",
              "    </tr>\n",
              "    <tr>\n",
              "      <th>0</th>\n",
              "      <td>0.947911</td>\n",
              "      <td>3</td>\n",
              "      <td>0.277778</td>\n",
              "      <td>800</td>\n",
              "    </tr>\n",
              "    <tr>\n",
              "      <th>4</th>\n",
              "      <td>0.947510</td>\n",
              "      <td>2</td>\n",
              "      <td>0.277778</td>\n",
              "      <td>100</td>\n",
              "    </tr>\n",
              "    <tr>\n",
              "      <th>6</th>\n",
              "      <td>0.947479</td>\n",
              "      <td>1</td>\n",
              "      <td>0.166667</td>\n",
              "      <td>500</td>\n",
              "    </tr>\n",
              "    <tr>\n",
              "      <th>9</th>\n",
              "      <td>0.947443</td>\n",
              "      <td>2</td>\n",
              "      <td>0.188889</td>\n",
              "      <td>100</td>\n",
              "    </tr>\n",
              "    <tr>\n",
              "      <th>1</th>\n",
              "      <td>0.947368</td>\n",
              "      <td>1</td>\n",
              "      <td>0.144444</td>\n",
              "      <td>700</td>\n",
              "    </tr>\n",
              "    <tr>\n",
              "      <th>3</th>\n",
              "      <td>0.947351</td>\n",
              "      <td>1</td>\n",
              "      <td>0.144444</td>\n",
              "      <td>600</td>\n",
              "    </tr>\n",
              "    <tr>\n",
              "      <th>8</th>\n",
              "      <td>0.947320</td>\n",
              "      <td>1</td>\n",
              "      <td>0.122222</td>\n",
              "      <td>500</td>\n",
              "    </tr>\n",
              "    <tr>\n",
              "      <th>7</th>\n",
              "      <td>0.946184</td>\n",
              "      <td>1</td>\n",
              "      <td>0.255556</td>\n",
              "      <td>100</td>\n",
              "    </tr>\n",
              "  </tbody>\n",
              "</table>\n",
              "</div>"
            ],
            "text/plain": [
              "   cv_score  depth  learning_rate  trees\n",
              "5  0.948100      3       0.255556    100\n",
              "2  0.947965      2       0.300000    400\n",
              "0  0.947911      3       0.277778    800\n",
              "4  0.947510      2       0.277778    100\n",
              "6  0.947479      1       0.166667    500\n",
              "9  0.947443      2       0.188889    100\n",
              "1  0.947368      1       0.144444    700\n",
              "3  0.947351      1       0.144444    600\n",
              "8  0.947320      1       0.122222    500\n",
              "7  0.946184      1       0.255556    100"
            ]
          },
          "metadata": {
            "tags": []
          }
        }
      ]
    },
    {
      "metadata": {
        "id": "gjQebWxgfxCk",
        "colab_type": "code",
        "colab": {}
      },
      "cell_type": "code",
      "source": [
        "from xgboost.sklearn import XGBClassifier\n",
        "xgb1 = XGBClassifier(learning_rate =0.25,n_estimators=100,max_depth=3,min_child_weight=1,gamma=0,subsample=0.8,colsample_bytree=0.8,scale_pos_weight=1,)"
      ],
      "execution_count": 0,
      "outputs": []
    },
    {
      "metadata": {
        "id": "70C-s6s-fxLk",
        "colab_type": "code",
        "colab": {}
      },
      "cell_type": "code",
      "source": [
        "train_vec=np.array(train_vec)\n",
        "xgb_classifier=xgb1.fit(train_vec,df_train_y)"
      ],
      "execution_count": 0,
      "outputs": []
    },
    {
      "metadata": {
        "id": "TlZVcMQakccW",
        "colab_type": "code",
        "colab": {
          "base_uri": "https://localhost:8080/",
          "height": 501
        },
        "outputId": "57df2914-cf46-4cce-9252-b7f2873414e1"
      },
      "cell_type": "code",
      "source": [
        "output=xgb_classifier.predict(test_vec)\n",
        "plot_confusion_matrix(output,df_test_y,'')"
      ],
      "execution_count": 31,
      "outputs": [
        {
          "output_type": "stream",
          "text": [
            "/usr/local/lib/python3.6/dist-packages/sklearn/preprocessing/label.py:151: DeprecationWarning: The truth value of an empty array is ambiguous. Returning False, but in future this will result in an error. Use `array.size > 0` to check that an array is not empty.\n",
            "  if diff:\n",
            "/usr/local/lib/python3.6/dist-packages/seaborn/matrix.py:143: DeprecationWarning: elementwise == comparison failed; this will raise an error in the future.\n",
            "  if xticklabels == []:\n",
            "/usr/local/lib/python3.6/dist-packages/seaborn/matrix.py:151: DeprecationWarning: elementwise == comparison failed; this will raise an error in the future.\n",
            "  if yticklabels == []:\n"
          ],
          "name": "stderr"
        },
        {
          "output_type": "stream",
          "text": [
            "+-----------------+--------------+----------+----------+\n",
            "| precision_score | recall_score | accuracy | f1-score |\n",
            "+-----------------+--------------+----------+----------+\n",
            "|      0.908      |    0.977     |  0.893   |  0.941   |\n",
            "+-----------------+--------------+----------+----------+\n"
          ],
          "name": "stdout"
        },
        {
          "output_type": "display_data",
          "data": {
            "image/png": "[encoded data removed]",
            "text/plain": [
              "<matplotlib.figure.Figure at 0x7f54dd8048d0>"
            ]
          },
          "metadata": {
            "tags": []
          }
        }
      ]
    },
    {
      "metadata": {
        "id": "mw_HNeoktNLD",
        "colab_type": "text"
      },
      "cell_type": "markdown",
      "source": [
        ""
      ]
    },
    {
      "metadata": {
        "id": "wBL0w0e9x_Qf",
        "colab_type": "text"
      },
      "cell_type": "markdown",
      "source": [
        "# Feature importance in word2vec\n",
        "\n",
        "**weights in word2vec model doesnot correspond to the actual words , so feature imortance in word2vec doesnot make sense.**"
      ]
    },
    {
      "metadata": {
        "id": "BzWW6QlvtR0x",
        "colab_type": "text"
      },
      "cell_type": "markdown",
      "source": [
        "# Conclusion"
      ]
    },
    {
      "metadata": {
        "id": "-OnM7wABtTfF",
        "colab_type": "text"
      },
      "cell_type": "markdown",
      "source": [
        "**analyzed amazon fine food reviews dataset with ensemble techniques both eranodm forests and xtreme gradient boosted decison trees and tuned hyperparameter  with cross validation for diiferennt values cnd chosen best hyper parameters for all  vectorizations such as bag of words and tf_idf and word2vec and results are tabulated .**\n",
        "\n",
        "\n",
        "\n",
        "**After analyzing random forest and xgboost  with all the vectorizations, all the model are perforing well and each f1 score is above 90% **"
      ]
    }
  ]
}