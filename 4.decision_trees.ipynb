{
  "nbformat": 4,
  "nbformat_minor": 0,
  "metadata": {
    "colab": {
      "name": "decision_trees.ipynb",
      "version": "0.3.2",
      "provenance": []
    },
    "kernelspec": {
      "name": "python3",
      "display_name": "Python 3"
    },
    "accelerator": "TPU"
  },
  "cells": [
    {
      "metadata": {
        "id": "C6oAtL8vclfp",
        "colab_type": "text"
      },
      "cell_type": "markdown",
      "source": [
        "# Ojective\n",
        "To classify a given new review eithe positive or negative  using **Decision trees**  technqiue."
      ]
    },
    {
      "metadata": {
        "id": "W72PwKTIcoCq",
        "colab_type": "code",
        "colab": {}
      },
      "cell_type": "code",
      "source": [
        "# Load the Drive helper and mount\n",
        "from google.colab import drive\n",
        "\n",
        "# This will prompt for authorization.\n",
        "drive.mount('/content/drive')"
      ],
      "execution_count": 0,
      "outputs": []
    },
    {
      "metadata": {
        "id": "ZTa_4V6Zclfs",
        "colab_type": "text"
      },
      "cell_type": "markdown",
      "source": [
        "# Loading libraries"
      ]
    },
    {
      "metadata": {
        "id": "mXk11sa4clft",
        "colab_type": "code",
        "colab": {}
      },
      "cell_type": "code",
      "source": [
        "import numpy as np\n",
        "import pandas as pd\n",
        "import matplotlib.pyplot as plt\n",
        "import seaborn as sb\n",
        "%matplotlib inline"
      ],
      "execution_count": 0,
      "outputs": []
    },
    {
      "metadata": {
        "id": "Vsb86AxGclfz",
        "colab_type": "text"
      },
      "cell_type": "markdown",
      "source": [
        "# Reading data"
      ]
    },
    {
      "metadata": {
        "id": "p-XNfpdzc1ty",
        "colab_type": "code",
        "colab": {
          "base_uri": "https://localhost:8080/",
          "height": 102
        },
        "outputId": "c191edd6-6db8-40c2-9106-f7c1b5c113da"
      },
      "cell_type": "code",
      "source": [
        "df=pd.read_csv('/content/drive/My Drive/Colab_Notebooks/Decision_trees/data.csv')\n",
        "print(df.shape)\n",
        "df.columns"
      ],
      "execution_count": 4,
      "outputs": [
        {
          "output_type": "stream",
          "text": [
            "(100000, 12)\n"
          ],
          "name": "stdout"
        },
        {
          "output_type": "execute_result",
          "data": {
            "text/plain": [
              "Index(['Unnamed: 0', 'Id', 'ProductId', 'UserId', 'ProfileName',\n",
              "       'HelpfulnessNumerator', 'HelpfulnessDenominator', 'Score', 'Time',\n",
              "       'Summary', 'Text', 'Class'],\n",
              "      dtype='object')"
            ]
          },
          "metadata": {
            "tags": []
          },
          "execution_count": 4
        }
      ]
    },
    {
      "metadata": {
        "id": "r_9InKQdclf9",
        "colab_type": "text"
      },
      "cell_type": "markdown",
      "source": [
        "# Train and test dataset\n",
        "Dataset is diveided into two parts in which 67% data is train data and 33% of the data is test data which is used to validate the performance of the dataset"
      ]
    },
    {
      "metadata": {
        "id": "r1QygsI-clf-",
        "colab_type": "code",
        "colab": {
          "base_uri": "https://localhost:8080/",
          "height": 34
        },
        "outputId": "bae0b77c-b0c0-4206-dcc1-24b5510edb26"
      },
      "cell_type": "code",
      "source": [
        "from sklearn.model_selection import train_test_split\n",
        "df_train_x,df_test_x,df_train_y,df_test_y=train_test_split(df['Text'],df['Class'],test_size=0.33,shuffle=False)\n",
        "print(df_train_x.shape,df_test_x.shape,df_train_y.shape,df_test_y.shape)"
      ],
      "execution_count": 5,
      "outputs": [
        {
          "output_type": "stream",
          "text": [
            "(67000,) (33000,) (67000,) (33000,)\n"
          ],
          "name": "stdout"
        }
      ]
    },
    {
      "metadata": {
        "id": "hCNUT4_cdxjV",
        "colab_type": "text"
      },
      "cell_type": "markdown",
      "source": [
        "# draw random and grid search reulsts"
      ]
    },
    {
      "metadata": {
        "id": "sGFtjGKWclgX",
        "colab_type": "code",
        "colab": {}
      },
      "cell_type": "code",
      "source": [
        "import ast\n",
        "from IPython.display import display, HTML\n",
        "def read_table_data(filename):\n",
        "    filename=\"/content/drive/My Drive/Colab_Notebooks/SVM/\"+filename\n",
        "    x=pd.read_csv(filename)\n",
        "    alpha_value=[]\n",
        "    regularization=[]\n",
        "    cv_score=[]\n",
        "    for x1 in x[['params','mean_test_score']].values:\n",
        "        #print(x1)\n",
        "        a=ast.literal_eval(x1[0])\n",
        "        cv_score.append(x1[1])\n",
        "        alpha_value.append(a['alpha'])\n",
        "        regularization.append(a['penalty'])\n",
        "    results=pd.DataFrame({'alpha_value':alpha_value,'regularization':regularization,'cv_score':cv_score})\n",
        "    zz=results.sort_values(by=['cv_score','regularization'],ascending=False)\n",
        "    display(zz)"
      ],
      "execution_count": 0,
      "outputs": []
    },
    {
      "metadata": {
        "id": "vZ16aDNYqF_B",
        "colab_type": "text"
      },
      "cell_type": "markdown",
      "source": [
        "# Feature importance function"
      ]
    },
    {
      "metadata": {
        "id": "wbbeOrlZqGmK",
        "colab_type": "code",
        "colab": {}
      },
      "cell_type": "code",
      "source": [
        "!pip install beautifultable\n",
        "from beautifultable import BeautifulTable\n",
        "def feature_importance(models_list,word_model):\n",
        "  #words=[]\n",
        "  index=0\n",
        "  table=BeautifulTable()\n",
        "  for model in models_list:\n",
        "    scores=model.feature_importances_\n",
        "    indices=np.argsort(scores)[-20:]\n",
        "    words=[word_model.get_feature_names()[i] for i in np.argsort(scores)[-20:]]\n",
        "    table.insert_column(index,\"Important features model \"+str(index),words)\n",
        "    index=index+1\n",
        "  print(\"Top 20 Important features\")\n",
        "  print(table)\n",
        "  #print(words)\n",
        "  "
      ],
      "execution_count": 0,
      "outputs": []
    },
    {
      "metadata": {
        "id": "4wCaquPJuRn0",
        "colab_type": "text"
      },
      "cell_type": "markdown",
      "source": [
        "#  plot confusion matrix function"
      ]
    },
    {
      "metadata": {
        "id": "z6p1VcCxE9oG",
        "colab_type": "code",
        "colab": {}
      },
      "cell_type": "code",
      "source": [
        "from sklearn.metrics import confusion_matrix,precision_score,recall_score\n",
        "cms=[]\n",
        "#depth=[350,700,1150]\n",
        "def plot_confusion_matrix(depth,output,output1,output2):\n",
        "  cm=confusion_matrix(df_test_y,output)\n",
        "  cm1=confusion_matrix(df_test_y,output1)\n",
        "  cm2=confusion_matrix(df_test_y,output2)\n",
        "  cms.append(cm);cms.append(cm1);cms.append(cm2)\n",
        "  dataframes=[]\n",
        "  for item in cms:\n",
        "    dataframes.append(pd.DataFrame(item,index=['negative','positive'],columns=['negative','positive']))   \n",
        "  fig, axes = plt.subplots(2,2,figsize=(10,5))\n",
        "  axes= axes.flatten()\n",
        "  index=0\n",
        "  for ax in axes:\n",
        "    if(index<3):\n",
        "      sb.heatmap(dataframes[index], annot=True, fmt='g',ax=ax)\n",
        "      #col.title.set_text('L2-regularizatiton with C='+str(C_values[i]))\n",
        "      ax.set_xlabel('Predicted label')\n",
        "      ax.title.set_text('Depth of tree='+str(depth[index]))\n",
        "      ax.set_ylabel('True label')\n",
        "      index+=1\n",
        "    else:\n",
        "      ax.set_visible(False)\n",
        "      print('done with confusion matrices')"
      ],
      "execution_count": 0,
      "outputs": []
    },
    {
      "metadata": {
        "id": "e419tzqIuYKL",
        "colab_type": "text"
      },
      "cell_type": "markdown",
      "source": [
        "# plot the table"
      ]
    },
    {
      "metadata": {
        "id": "8s6zuHasclga",
        "colab_type": "code",
        "colab": {}
      },
      "cell_type": "code",
      "source": [
        "from sklearn.metrics import f1_score,accuracy_score\n",
        "def plot_table(depth,output,output1,output2):\n",
        "  precision_scores=[];recall_scores=[];f1_scores=[];accuracies=[];\n",
        "  outputs=[output,output1,output2]\n",
        "  for item in outputs:\n",
        "    precision_scores.append(precision_score(df_test_y,item))\n",
        "    recall_scores.append(recall_score(df_test_y,item))\n",
        "    f1_scores.append(f1_score(df_test_y,item))\n",
        "    accuracies.append(accuracy_score(df_test_y,item))\n",
        "  from beautifultable import BeautifulTable\n",
        "  table=BeautifulTable()\n",
        "  table.insert_column(0,\"precision\",precision_scores)\n",
        "  table.insert_column(1,\"recall\",recall_scores)\n",
        "  table.insert_column(2,\"accuracy\",accuracies)\n",
        "  table.insert_column(3,\"f1-score\",f1_scores)\n",
        "  table.insert_column(4,\"depth\",depth)\n",
        "  sorted_table=table.sort('depth')\n",
        "  print(table) "
      ],
      "execution_count": 0,
      "outputs": []
    },
    {
      "metadata": {
        "id": "xRZSpJgpclgf",
        "colab_type": "text"
      },
      "cell_type": "markdown",
      "source": [
        "# Bag of words - unigrams"
      ]
    },
    {
      "metadata": {
        "id": "QYXA01m4clgg",
        "colab_type": "code",
        "colab": {
          "base_uri": "https://localhost:8080/",
          "height": 34
        },
        "outputId": "867a666d-17d2-4af4-d5b0-eb7b8f5c0531"
      },
      "cell_type": "code",
      "source": [
        "from sklearn.feature_extraction.text import CountVectorizer\n",
        "#from sklearn.preprocessing import StandardScaler\n",
        "from sklearn import preprocessing\n",
        "bow_unigrams=CountVectorizer(stop_words='english')\n",
        "BOW1_train=bow_unigrams.fit(df_train_x)\n",
        "train_data=bow_unigrams.transform(df_train_x)\n",
        "test_data=bow_unigrams.transform(df_test_x)\n",
        "print(\"The train data shape is \",train_data.shape,\"and test data shape is \",test_data.shape)"
      ],
      "execution_count": 45,
      "outputs": [
        {
          "output_type": "stream",
          "text": [
            "The train data shape is  (67000, 90770) and test data shape is  (33000, 90770)\n"
          ],
          "name": "stdout"
        }
      ]
    },
    {
      "metadata": {
        "id": "Czz-rZ_4yT_1",
        "colab_type": "code",
        "colab": {}
      },
      "cell_type": "code",
      "source": [
        "#Label encoder from positive negative to 1,0\n",
        "from sklearn import preprocessing\n",
        "bin=preprocessing.LabelEncoder()\n",
        "df_train_y=bin.fit_transform(df_train_y)\n",
        "df_test_y=bin.fit_transform(df_test_y)"
      ],
      "execution_count": 0,
      "outputs": []
    },
    {
      "metadata": {
        "id": "sE-_caramwK1",
        "colab_type": "code",
        "colab": {}
      },
      "cell_type": "code",
      "source": [
        "from sklearn.model_selection import cross_val_score\n",
        "#print(test_data.shape)\n",
        "from sklearn.tree import DecisionTreeClassifier"
      ],
      "execution_count": 0,
      "outputs": []
    },
    {
      "metadata": {
        "id": "8kES4wrXAS2W",
        "colab_type": "code",
        "colab": {}
      },
      "cell_type": "code",
      "source": [
        "from sklearn.model_selection import TimeSeriesSplit\n",
        "from sklearn.metrics import f1_score\n",
        "scores=[]\n",
        "depth=[]\n",
        "for i in range(1,30):\n",
        "  decision_tree=DecisionTreeClassifier(criterion='gini', splitter='best', max_depth=i, min_samples_split=2, min_samples_leaf=10, class_weight='balanced')\n",
        "  #result=cross_val_score(decision_tree,train_data,df_train_y,cv=3)\n",
        "  tscv = TimeSeriesSplit(n_splits=3)\n",
        "  cv_score=[]\n",
        "  for train_index, test_index in tscv.split(train_data):\n",
        "    print(\"TRAIN:\", train_index, \"TEST:\", test_index)\n",
        "    X_train, X_test = train_data[train_index], train_data[test_index]\n",
        "    y_train, y_test = df_train_y[train_index], df_train_y[test_index]\n",
        "    model=decision_tree.fit(X_train,y_train)\n",
        "    output=model.predict(X_test)\n",
        "    cv_score.append(f1_score(y_test,output))\n",
        "  print(i)\n",
        "  print(np.mean(cv_score))\n",
        "  print(\"********\")\n",
        "  scores.append(np.mean(cv_score))\n",
        "  depth.append(i)\n",
        "  "
      ],
      "execution_count": 0,
      "outputs": []
    },
    {
      "metadata": {
        "id": "gQyKvW_by6Sc",
        "colab_type": "code",
        "colab": {}
      },
      "cell_type": "code",
      "source": [
        "decision_tree=pd.DataFrame({'depth':depth,'scores':scores})\n",
        "decision_tree.head()\n",
        "decision_tree.to_csv(\"/content/drive/My Drive/Colab_Notebooks/Decision_trees/bow_unigrams_gini_time.csv\")"
      ],
      "execution_count": 0,
      "outputs": []
    },
    {
      "metadata": {
        "id": "q0j5VSkCwCB0",
        "colab_type": "code",
        "colab": {}
      },
      "cell_type": "code",
      "source": [
        "from sklearn.model_selection import TimeSeriesSplit\n",
        "from sklearn.metrics import f1_score\n",
        "scores=[]\n",
        "depth=[]\n",
        "for i in range(1,30):\n",
        "  decision_tree=DecisionTreeClassifier(criterion='entropy', splitter='best', max_depth=i, min_samples_split=2, min_samples_leaf=10, class_weight='balanced')\n",
        "  #result=cross_val_score(decision_tree,train_data,df_train_y,cv=3)\n",
        "  tscv = TimeSeriesSplit(n_splits=3)\n",
        "  cv_score=[]\n",
        "  for train_index, test_index in tscv.split(train_data):\n",
        "    print(\"TRAIN:\", train_index, \"TEST:\", test_index)\n",
        "    X_train, X_test = train_data[train_index], train_data[test_index]\n",
        "    y_train, y_test = df_train_y[train_index], df_train_y[test_index]\n",
        "    model=decision_tree.fit(X_train,y_train)\n",
        "    output=model.predict(X_test)\n",
        "    cv_score.append(f1_score(y_test,output))\n",
        "  print(i)\n",
        "  print(np.mean(cv_score))\n",
        "  print(\"********\")\n",
        "  scores.append(np.mean(cv_score))\n",
        "  depth.append(i)\n",
        "  "
      ],
      "execution_count": 0,
      "outputs": []
    },
    {
      "metadata": {
        "id": "54QhMSWvw4_C",
        "colab_type": "text"
      },
      "cell_type": "markdown",
      "source": [
        "**Here,for  depth of a decision tree  I have tried with values with 1 to 30 and ploted the graph with x-axis no.of iterations and y-axis as error **"
      ]
    },
    {
      "metadata": {
        "id": "FNknfISLJaNY",
        "colab_type": "code",
        "colab": {}
      },
      "cell_type": "code",
      "source": [
        "decision_tree=pd.DataFrame({'depth':depth,'scores':scores})\n",
        "decision_tree.head()\n",
        "decision_tree.to_csv(\"/content/drive/My Drive/Colab_Notebooks/Decision_trees/bow_unigrams_entropy_time.csv\")"
      ],
      "execution_count": 0,
      "outputs": []
    },
    {
      "metadata": {
        "id": "2XDT1aN4zbOy",
        "colab_type": "code",
        "colab": {
          "base_uri": "https://localhost:8080/",
          "height": 571
        },
        "outputId": "84337da8-e6fe-4a21-c303-50d3b4d2b98f"
      },
      "cell_type": "code",
      "source": [
        "data=pd.read_csv('/content/drive/My Drive/Colab_Notebooks/Decision_trees/bow_unigrams_gini_time.csv')\n",
        "data1=pd.read_csv('/content/drive/My Drive/Colab_Notebooks/Decision_trees/bow_unigrams_entropy_time.csv')\n",
        "plot_graph(data,'gini')\n",
        "plot_graph(data1,'entropy')"
      ],
      "execution_count": 57,
      "outputs": [
        {
          "output_type": "display_data",
          "data": {
            "image/png": "[encoded data removed]",
            "text/plain": [
              "<matplotlib.figure.Figure at 0x7f1d3e20bac8>"
            ]
          },
          "metadata": {
            "tags": []
          }
        },
        {
          "output_type": "display_data",
          "data": {
            "image/png": "[encoded data removed]",
            "text/plain": [
              "<matplotlib.figure.Figure at 0x7f1d3de2cc18>"
            ]
          },
          "metadata": {
            "tags": []
          }
        }
      ]
    },
    {
      "metadata": {
        "id": "zFFNrgf5dZPa",
        "colab_type": "text"
      },
      "cell_type": "markdown",
      "source": [
        "**For the depth 18,19,20 we are getting low error rate among all possible values of depth , so lets try these values**"
      ]
    },
    {
      "metadata": {
        "id": "3fIv029TSDC0",
        "colab_type": "code",
        "colab": {}
      },
      "cell_type": "code",
      "source": [
        "def plot_graph(data,name):\n",
        "  depth=data['depth']\n",
        "  scores=data['scores']\n",
        "  import matplotlib.pyplot as plt\n",
        "  #fig,(ax1,ax2)=plt.subplots(1,2,figsize(10,5))\n",
        "  #error=scores\n",
        "  #error=100-(error*100)\n",
        "  #plt.xlim(1,30)\n",
        "  plt.xticks(range(1,30))\n",
        "  plt.title(name)\n",
        "  plt.xlabel('depth')\n",
        "  plt.ylabel('accuracy')\n",
        "  plt.plot(depth,scores)\n",
        "  plt.show()"
      ],
      "execution_count": 0,
      "outputs": []
    },
    {
      "metadata": {
        "id": "0ihbbTfux_Ox",
        "colab_type": "code",
        "colab": {}
      },
      "cell_type": "code",
      "source": [
        "decision_tree=DecisionTreeClassifier(criterion='gini', splitter='best', max_depth=18, min_samples_split=2, min_samples_leaf=10, class_weight='balanced')\n",
        "model=decision_tree.fit(train_data,df_train_y)\n",
        "output=model.predict(test_data)"
      ],
      "execution_count": 0,
      "outputs": []
    },
    {
      "metadata": {
        "id": "p5SJN78byQfU",
        "colab_type": "code",
        "colab": {}
      },
      "cell_type": "code",
      "source": [
        "decision_tree=DecisionTreeClassifier(criterion='gini', splitter='best', max_depth=19, min_samples_split=2, min_samples_leaf=10, class_weight='balanced')\n",
        "model1=decision_tree.fit(train_data,df_train_y)\n",
        "output1=model1.predict(test_data)"
      ],
      "execution_count": 0,
      "outputs": []
    },
    {
      "metadata": {
        "id": "4kiw-Pv8zAWZ",
        "colab_type": "code",
        "colab": {}
      },
      "cell_type": "code",
      "source": [
        "decision_tree=DecisionTreeClassifier(criterion='gini', splitter='best', max_depth=20, min_samples_split=2, min_samples_leaf=10, class_weight='balanced')\n",
        "model2=decision_tree.fit(train_data,df_train_y)\n",
        "output2=model2.predict(test_data)"
      ],
      "execution_count": 0,
      "outputs": []
    },
    {
      "metadata": {
        "id": "-uDG3G_AEAF-",
        "colab_type": "code",
        "colab": {
          "base_uri": "https://localhost:8080/",
          "height": 1372
        },
        "outputId": "e74b385d-b823-4c80-ee4f-95b943c5a869"
      },
      "cell_type": "code",
      "source": [
        "#!pip install beautifultable\n",
        "depth=[18,19,20]\n",
        "plot_confusion_matrix(depth,output,output1,output2)\n",
        "plot_table(depth,output,output1,output2)\n",
        "feature_importance([model,model1,model2],BOW1_train)"
      ],
      "execution_count": 34,
      "outputs": [
        {
          "output_type": "stream",
          "text": [
            "/usr/local/lib/python3.6/dist-packages/seaborn/matrix.py:143: DeprecationWarning: elementwise == comparison failed; this will raise an error in the future.\n",
            "  if xticklabels == []:\n",
            "/usr/local/lib/python3.6/dist-packages/seaborn/matrix.py:151: DeprecationWarning: elementwise == comparison failed; this will raise an error in the future.\n",
            "  if yticklabels == []:\n"
          ],
          "name": "stderr"
        },
        {
          "output_type": "stream",
          "text": [
            "done with confusion matrices\n",
            "+-----------+--------+----------+----------+-------+\n",
            "| precision | recall | accuracy | f1-score | depth |\n",
            "+-----------+--------+----------+----------+-------+\n",
            "|   0.947   |  0.72  |   0.72   |  0.818   |  18   |\n",
            "+-----------+--------+----------+----------+-------+\n",
            "|   0.945   | 0.733  |  0.729   |  0.826   |  19   |\n",
            "+-----------+--------+----------+----------+-------+\n",
            "|   0.948   | 0.718  |  0.719   |  0.817   |  20   |\n",
            "+-----------+--------+----------+----------+-------+\n",
            "Top 20 Important features\n",
            "+-------------------------+-------------------------+-------------------------+\n",
            "| Important features mode | Important features mode | Important features mode |\n",
            "|           l 0           |           l 1           |           l 2           |\n",
            "+-------------------------+-------------------------+-------------------------+\n",
            "|      unfortunately      |      unfortunately      |         product         |\n",
            "+-------------------------+-------------------------+-------------------------+\n",
            "|          easy           |           did           |           did           |\n",
            "+-------------------------+-------------------------+-------------------------+\n",
            "|           did           |          easy           |          easy           |\n",
            "+-------------------------+-------------------------+-------------------------+\n",
            "|          tasty          |          awful          |          awful          |\n",
            "+-------------------------+-------------------------+-------------------------+\n",
            "|          awful          |          nice           |          nice           |\n",
            "+-------------------------+-------------------------+-------------------------+\n",
            "|          nice           |          tasty          |          tasty          |\n",
            "+-------------------------+-------------------------+-------------------------+\n",
            "|          money          |          money          |          money          |\n",
            "+-------------------------+-------------------------+-------------------------+\n",
            "|        favorite         |        favorite         |        favorite         |\n",
            "+-------------------------+-------------------------+-------------------------+\n",
            "|        wonderful        |        wonderful        |        wonderful        |\n",
            "+-------------------------+-------------------------+-------------------------+\n",
            "|           bad           |           bad           |           bad           |\n",
            "+-------------------------+-------------------------+-------------------------+\n",
            "|        excellent        |        excellent        |        excellent        |\n",
            "+-------------------------+-------------------------+-------------------------+\n",
            "|      disappointed       |      disappointed       |      disappointed       |\n",
            "+-------------------------+-------------------------+-------------------------+\n",
            "|         thought         |         thought         |         thought         |\n",
            "+-------------------------+-------------------------+-------------------------+\n",
            "|          love           |          love           |          loves          |\n",
            "+-------------------------+-------------------------+-------------------------+\n",
            "|          loves          |          loves          |          love           |\n",
            "+-------------------------+-------------------------+-------------------------+\n",
            "|          good           |         perfect         |         perfect         |\n",
            "+-------------------------+-------------------------+-------------------------+\n",
            "|         perfect         |          good           |          good           |\n",
            "+-------------------------+-------------------------+-------------------------+\n",
            "|        delicious        |        delicious        |        delicious        |\n",
            "+-------------------------+-------------------------+-------------------------+\n",
            "|          best           |          best           |          best           |\n",
            "+-------------------------+-------------------------+-------------------------+\n",
            "|          great          |          great          |          great          |\n",
            "+-------------------------+-------------------------+-------------------------+\n"
          ],
          "name": "stdout"
        },
        {
          "output_type": "display_data",
          "data": {
            "image/png": "[encoded data removed]",
            "text/plain": [
              "<matplotlib.figure.Figure at 0x7f1d39c8f320>"
            ]
          },
          "metadata": {
            "tags": []
          }
        }
      ]
    },
    {
      "metadata": {
        "id": "aB8lMjiGqqAu",
        "colab_type": "text"
      },
      "cell_type": "markdown",
      "source": [
        "**The models  precision score is around 95% and recall score is around 76% **"
      ]
    },
    {
      "metadata": {
        "id": "G9lWPCFvAk2v",
        "colab_type": "code",
        "colab": {
          "base_uri": "https://localhost:8080/",
          "height": 68
        },
        "outputId": "4dc11385-4300-4fa9-9b48-90136b079303"
      },
      "cell_type": "code",
      "source": [
        "#!apt-get install graphviz\n",
        "#!pip install graphviz\n",
        "from sklearn import tree\n",
        "import graphviz \n",
        "dot_data = tree.export_graphviz(model2, out_file=None) \n",
        "graph = graphviz.Source(dot_data) \n",
        "graph.render(\"/content/drive/My Drive/Colab_Notebooks/Decision_trees/plot\") "
      ],
      "execution_count": 52,
      "outputs": [
        {
          "output_type": "stream",
          "text": [
            "/usr/lib/python3.6/subprocess.py:766: ResourceWarning: subprocess 885 is still running\n",
            "  ResourceWarning, source=self)\n"
          ],
          "name": "stderr"
        },
        {
          "output_type": "execute_result",
          "data": {
            "text/plain": [
              "'/content/drive/My Drive/Colab_Notebooks/Decision_trees/plot.pdf'"
            ]
          },
          "metadata": {
            "tags": []
          },
          "execution_count": 52
        }
      ]
    },
    {
      "metadata": {
        "id": "dQIrqo9qDZci",
        "colab_type": "code",
        "colab": {
          "base_uri": "https://localhost:8080/",
          "height": 34
        },
        "outputId": "eb0c70bb-fe3e-4e67-8e91-c648d75ec7b5"
      },
      "cell_type": "code",
      "source": [
        "dot_data = tree.export_graphviz(model2, out_file='/content/drive/My Drive/Colab_Notebooks/Decision_trees/plot.dot',\n",
        "                         feature_names=BOW1_train.get_feature_names(),  \n",
        "                         class_names=['negative','positive'],  \n",
        "                         filled=True, rounded=True,  \n",
        "                         special_characters=True)  \n",
        "graph = graphviz.Source(dot_data)  \n",
        "!dot -Tps '/content/drive/My Drive/Colab_Notebooks/Decision_trees/plot.dot' -o '/content/drive/My Drive/Colab_Notebooks/Decision_trees/outfile.png' "
      ],
      "execution_count": 51,
      "outputs": [
        {
          "output_type": "stream",
          "text": [
            "Warning: UTF-8 input uses non-Latin1 characters which cannot be handled by this PostScript driver\n"
          ],
          "name": "stdout"
        }
      ]
    },
    {
      "metadata": {
        "id": "KCrCogsAO2fR",
        "colab_type": "text"
      },
      "cell_type": "markdown",
      "source": [
        "# Bag of words - Bigrams"
      ]
    },
    {
      "metadata": {
        "id": "7cT9jVdWDxLA",
        "colab_type": "code",
        "colab": {
          "base_uri": "https://localhost:8080/",
          "height": 34
        },
        "outputId": "df8ca4e9-8972-42d4-b3c5-22869ec708b4"
      },
      "cell_type": "code",
      "source": [
        "from sklearn.feature_extraction.text import CountVectorizer\n",
        "#from sklearn.preprocessing import StandardScaler\n",
        "from sklearn import preprocessing\n",
        "bow_unigrams=CountVectorizer(ngram_range=(1,2),stop_words='english')\n",
        "BOW1_train=bow_unigrams.fit(df_train_x)\n",
        "train_data=bow_unigrams.transform(df_train_x)\n",
        "test_data=bow_unigrams.transform(df_test_x)\n",
        "print(\"The train data shape is \",train_data.shape,\"and test data shape is \",test_data.shape)"
      ],
      "execution_count": 54,
      "outputs": [
        {
          "output_type": "stream",
          "text": [
            "The train data shape is  (67000, 1169770) and test data shape is  (33000, 1169770)\n"
          ],
          "name": "stdout"
        }
      ]
    },
    {
      "metadata": {
        "id": "gpOS0LjTbBSx",
        "colab_type": "code",
        "colab": {}
      },
      "cell_type": "code",
      "source": [
        "from sklearn.model_selection import TimeSeriesSplit\n",
        "from sklearn.metrics import f1_score\n",
        "scores=[]\n",
        "depth=[]\n",
        "for i in range(1,20):\n",
        "  decision_tree=DecisionTreeClassifier(criterion='gini', splitter='best', max_depth=i, min_samples_split=2, min_samples_leaf=10, class_weight='balanced')\n",
        "  #result=cross_val_score(decision_tree,train_data,df_train_y,cv=3)\n",
        "  tscv = TimeSeriesSplit(n_splits=3)\n",
        "  cv_score=[]\n",
        "  for train_index, test_index in tscv.split(train_data):\n",
        "    print(\"TRAIN:\", train_index, \"TEST:\", test_index)\n",
        "    X_train, X_test = train_data[train_index], train_data[test_index]\n",
        "    y_train, y_test = df_train_y[train_index], df_train_y[test_index]\n",
        "    model=decision_tree.fit(X_train,y_train)\n",
        "    output=model.predict(X_test)\n",
        "    cv_score.append(f1_score(y_test,output))\n",
        "  print(i)\n",
        "  print(np.mean(cv_score))\n",
        "  print(\"********\")\n",
        "  scores.append(np.mean(cv_score))\n",
        "  depth.append(i)\n",
        "  "
      ],
      "execution_count": 0,
      "outputs": []
    },
    {
      "metadata": {
        "id": "r6O-1cmyn_e_",
        "colab_type": "code",
        "colab": {}
      },
      "cell_type": "code",
      "source": [
        "decision_tree=pd.DataFrame({'depth':depth,'score':scores})\n",
        "decision_tree.to_csv(\"/content/drive/My Drive/Colab_Notebooks/Decision_trees/bow_biigrams_gini.csv\")"
      ],
      "execution_count": 0,
      "outputs": []
    },
    {
      "metadata": {
        "id": "JL5h9uoz9kTk",
        "colab_type": "code",
        "colab": {}
      },
      "cell_type": "code",
      "source": [
        "from sklearn.model_selection import TimeSeriesSplit\n",
        "from sklearn.metrics import f1_score\n",
        "scores=[]\n",
        "depth=[]\n",
        "for i in range(1,20):\n",
        "  decision_tree=DecisionTreeClassifier(criterion='entropy', splitter='best', max_depth=i, min_samples_split=2, min_samples_leaf=10, class_weight='balanced')\n",
        "  #result=cross_val_score(decision_tree,train_data,df_train_y,cv=3)\n",
        "  tscv = TimeSeriesSplit(n_splits=3)\n",
        "  cv_score=[]\n",
        "  for train_index, test_index in tscv.split(train_data):\n",
        "    print(\"TRAIN:\", train_index, \"TEST:\", test_index)\n",
        "    X_train, X_test = train_data[train_index], train_data[test_index]\n",
        "    y_train, y_test = df_train_y[train_index], df_train_y[test_index]\n",
        "    model=decision_tree.fit(X_train,y_train)\n",
        "    output=model.predict(X_test)\n",
        "    cv_score.append(f1_score(y_test,output))\n",
        "  print(i)\n",
        "  print(np.mean(cv_score))\n",
        "  print(\"********\")\n",
        "  scores.append(np.mean(cv_score))\n",
        "  depth.append(i)\n",
        "decision_tree=pd.DataFrame({'depth':depth,'score':scores})\n",
        "decision_tree.to_csv(\"/content/drive/My Drive/Colab_Notebooks/Decision_trees/bow_biigrams_entropy.csv\")"
      ],
      "execution_count": 0,
      "outputs": []
    },
    {
      "metadata": {
        "id": "6blDRDLYAnYX",
        "colab_type": "code",
        "colab": {
          "base_uri": "https://localhost:8080/",
          "height": 588
        },
        "outputId": "659920f2-3c35-4552-9fad-0c7ed0e3e3dc"
      },
      "cell_type": "code",
      "source": [
        "data=pd.read_csv('/content/drive/My Drive/Colab_Notebooks/Decision_trees/bow_biigrams_gini.csv')\n",
        "data1=pd.read_csv('/content/drive/My Drive/Colab_Notebooks/Decision_trees/bow_biigrams_entropy.csv')\n",
        "print(data.columns,data1.columns)\n",
        "data.columns=['index','depth','scores']\n",
        "data1.columns=['index','depth','scores']\n",
        "plot_graph(data,'gini')\n",
        "plot_graph(data1,'entropy')"
      ],
      "execution_count": 22,
      "outputs": [
        {
          "output_type": "stream",
          "text": [
            "Index(['Unnamed: 0', 'depth', 'score'], dtype='object') Index(['Unnamed: 0', 'depth', 'score'], dtype='object')\n"
          ],
          "name": "stdout"
        },
        {
          "output_type": "display_data",
          "data": {
            "image/png": "[encoded data removed]",
            "text/plain": [
              "<matplotlib.figure.Figure at 0x7f3096235da0>"
            ]
          },
          "metadata": {
            "tags": []
          }
        },
        {
          "output_type": "display_data",
          "data": {
            "image/png": "[encoded data removed]",
            "text/plain": [
              "<matplotlib.figure.Figure at 0x7f308dd8dfd0>"
            ]
          },
          "metadata": {
            "tags": []
          }
        }
      ]
    },
    {
      "metadata": {
        "id": "NX9o44j-RAGX",
        "colab_type": "text"
      },
      "cell_type": "markdown",
      "source": [
        "**For the depth 19 we are getting low error rate among all possible values of depth , so lets try these values**"
      ]
    },
    {
      "metadata": {
        "id": "LizcOcYoRcTB",
        "colab_type": "code",
        "colab": {}
      },
      "cell_type": "code",
      "source": [
        "decision_tree=DecisionTreeClassifier(criterion='gini', splitter='best', max_depth=19, min_samples_split=2, min_samples_leaf=10, class_weight='balanced')\n",
        "model=decision_tree.fit(train_data,df_train_y)\n",
        "output=model.predict(test_data)"
      ],
      "execution_count": 0,
      "outputs": []
    },
    {
      "metadata": {
        "id": "A23rOaMzRdDg",
        "colab_type": "code",
        "colab": {
          "base_uri": "https://localhost:8080/",
          "height": 522
        },
        "outputId": "5460e7e8-6166-4b28-b95e-52bcd61369aa"
      },
      "cell_type": "code",
      "source": [
        "from sklearn.metrics import confusion_matrix,precision_score,recall_score,accuracy_score\n",
        "from beautifultable import BeautifulTable\n",
        "#Label encoder from positive negative to 1,0\n",
        "from sklearn import preprocessing\n",
        "bin=preprocessing.LabelEncoder()\n",
        "output=bin.fit_transform(output)\n",
        "\n",
        "cm=confusion_matrix(df_test_y,output)\n",
        "dataframes=pd.DataFrame(cm,index=['negative','positive'],columns=['negative','positive'])  \n",
        "fig, axes = plt.subplots(1,1,figsize=(10,5))\n",
        "sb.heatmap(dataframes, annot=True, fmt='g',ax=axes)\n",
        "#col.title.set_text('L2-regularizatiton with C='+str(C_values[i]))\n",
        "axes.set_xlabel('Predicted label')\n",
        "axes.title.set_text('Depth of tree= 700')\n",
        "axes.set_ylabel('True label')\n",
        "table=BeautifulTable()\n",
        "table.insert_column(0,\"precision\",[precision_score(df_test_y,output)])\n",
        "table.insert_column(1,\"recall\",[recall_score(df_test_y,output)])\n",
        "table.insert_column(2,\"accuracy\",[accuracy_score(df_test_y,output)])\n",
        "table.insert_column(2,\"f1_score\",[f1_score(df_test_y,output)])\n",
        "table.insert_column(3,\"depth\",[700])\n",
        "print(table)"
      ],
      "execution_count": 26,
      "outputs": [
        {
          "output_type": "stream",
          "text": [
            "/usr/local/lib/python3.6/dist-packages/seaborn/matrix.py:143: DeprecationWarning: elementwise == comparison failed; this will raise an error in the future.\n",
            "  if xticklabels == []:\n",
            "/usr/local/lib/python3.6/dist-packages/seaborn/matrix.py:151: DeprecationWarning: elementwise == comparison failed; this will raise an error in the future.\n",
            "  if yticklabels == []:\n"
          ],
          "name": "stderr"
        },
        {
          "output_type": "stream",
          "text": [
            "+-----------+--------+----------+-------+----------+\n",
            "| precision | recall | f1_score | depth | accuracy |\n",
            "+-----------+--------+----------+-------+----------+\n",
            "|   0.945   | 0.733  |  0.826   |  700  |  0.729   |\n",
            "+-----------+--------+----------+-------+----------+\n"
          ],
          "name": "stdout"
        },
        {
          "output_type": "display_data",
          "data": {
            "image/png": "[encoded data removed]",
            "text/plain": [
              "<matplotlib.figure.Figure at 0x7f3093cf70b8>"
            ]
          },
          "metadata": {
            "tags": []
          }
        }
      ]
    },
    {
      "metadata": {
        "id": "jZSmNTd-sLn6",
        "colab_type": "text"
      },
      "cell_type": "markdown",
      "source": [
        "**The models precision score is around  94 and f1 score is  score is 83%**\n",
        "\n"
      ]
    },
    {
      "metadata": {
        "id": "mjfP5e6EhtS7",
        "colab_type": "code",
        "colab": {
          "base_uri": "https://localhost:8080/",
          "height": 765
        },
        "outputId": "4fb90277-7760-4219-cac0-15013ef53e97"
      },
      "cell_type": "code",
      "source": [
        "feature_importance([model],BOW1_train)"
      ],
      "execution_count": 56,
      "outputs": [
        {
          "output_type": "stream",
          "text": [
            "Top 20 Important features\n",
            "+----------------------------+\n",
            "| Important features model 0 |\n",
            "+----------------------------+\n",
            "|            like            |\n",
            "+----------------------------+\n",
            "|            did             |\n",
            "+----------------------------+\n",
            "|            easy            |\n",
            "+----------------------------+\n",
            "|           awful            |\n",
            "+----------------------------+\n",
            "|            nice            |\n",
            "+----------------------------+\n",
            "|           tasty            |\n",
            "+----------------------------+\n",
            "|           money            |\n",
            "+----------------------------+\n",
            "|          favorite          |\n",
            "+----------------------------+\n",
            "|            bad             |\n",
            "+----------------------------+\n",
            "|         wonderful          |\n",
            "+----------------------------+\n",
            "|        disappointed        |\n",
            "+----------------------------+\n",
            "|         excellent          |\n",
            "+----------------------------+\n",
            "|          thought           |\n",
            "+----------------------------+\n",
            "|           loves            |\n",
            "+----------------------------+\n",
            "|            love            |\n",
            "+----------------------------+\n",
            "|          perfect           |\n",
            "+----------------------------+\n",
            "|            good            |\n",
            "+----------------------------+\n",
            "|         delicious          |\n",
            "+----------------------------+\n",
            "|            best            |\n",
            "+----------------------------+\n",
            "|           great            |\n",
            "+----------------------------+\n"
          ],
          "name": "stdout"
        }
      ]
    },
    {
      "metadata": {
        "id": "iRtog4LxXumC",
        "colab_type": "text"
      },
      "cell_type": "markdown",
      "source": [
        "# Tf_idf Unigrams"
      ]
    },
    {
      "metadata": {
        "id": "b1ZoGxUTIfJ9",
        "colab_type": "code",
        "colab": {
          "base_uri": "https://localhost:8080/",
          "height": 34
        },
        "outputId": "a36a7c35-becd-441a-c1d1-6e495b5b3a0f"
      },
      "cell_type": "code",
      "source": [
        "from sklearn.feature_extraction.text import TfidfVectorizer\n",
        "bow_unigrams=TfidfVectorizer(stop_words='english')\n",
        "tfidf1_train=bow_unigrams.fit(df_train_x)\n",
        "train_data=bow_unigrams.transform(df_train_x)\n",
        "test_data=bow_unigrams.transform(df_test_x)\n",
        "print(\"The train data shape is \",train_data.shape,\"and test data shape is \",test_data.shape)"
      ],
      "execution_count": 12,
      "outputs": [
        {
          "output_type": "stream",
          "text": [
            "The train data shape is  (67000, 90770) and test data shape is  (33000, 90770)\n"
          ],
          "name": "stdout"
        }
      ]
    },
    {
      "metadata": {
        "id": "23FUW8f5JOfb",
        "colab_type": "code",
        "colab": {}
      },
      "cell_type": "code",
      "source": [
        "from sklearn.model_selection import TimeSeriesSplit\n",
        "from sklearn.metrics import f1_score\n",
        "scores=[]\n",
        "depth=[]\n",
        "for i in range(1,20):\n",
        "  decision_tree=DecisionTreeClassifier(criterion='entropy', splitter='best', max_depth=i, min_samples_split=2, min_samples_leaf=10, class_weight='balanced')\n",
        "  tscv = TimeSeriesSplit(n_splits=3)\n",
        "  cv_score=[]\n",
        "  for train_index, test_index in tscv.split(train_data):\n",
        "    print(\"TRAIN:\", train_index, \"TEST:\", test_index)\n",
        "    X_train, X_test = train_data[train_index], train_data[test_index]\n",
        "    y_train, y_test = df_train_y[train_index], df_train_y[test_index]\n",
        "    model=decision_tree.fit(X_train,y_train)\n",
        "    output=model.predict(X_test)\n",
        "    cv_score.append(f1_score(y_test,output))\n",
        "  print(i)\n",
        "  print(np.mean(cv_score))\n",
        "  print(\"********\")\n",
        "  scores.append(np.mean(cv_score))\n",
        "  depth.append(i)\n",
        "decision_tree=pd.DataFrame({'depth':depth,'scores':scores})\n",
        "decision_tree.to_csv(\"/content/drive/My Drive/Colab_Notebooks/Decision_trees/tf_idf_unigrams_entropy.csv\")"
      ],
      "execution_count": 0,
      "outputs": []
    },
    {
      "metadata": {
        "id": "fPKilnEOYdWb",
        "colab_type": "code",
        "colab": {}
      },
      "cell_type": "code",
      "source": [
        "from sklearn.model_selection import TimeSeriesSplit\n",
        "from sklearn.tree import DecisionTreeClassifier\n",
        "from sklearn.metrics import f1_score\n",
        "scores=[]\n",
        "depth=[]\n",
        "for i in range(1,20):\n",
        "  decision_tree=DecisionTreeClassifier(criterion='gini', splitter='best', max_depth=i, min_samples_split=2, min_samples_leaf=10, class_weight='balanced')\n",
        "  tscv = TimeSeriesSplit(n_splits=3)\n",
        "  cv_score=[]\n",
        "  for train_index, test_index in tscv.split(train_data):\n",
        "    print(\"TRAIN:\", train_index, \"TEST:\", test_index)\n",
        "    X_train, X_test = train_data[train_index], train_data[test_index]\n",
        "    y_train, y_test = df_train_y[train_index], df_train_y[test_index]\n",
        "    model=decision_tree.fit(X_train,y_train)\n",
        "    output=model.predict(X_test)\n",
        "    cv_score.append(f1_score(y_test,output))\n",
        "  print(i)\n",
        "  print(np.mean(cv_score))\n",
        "  print(\"********\")\n",
        "  scores.append(np.mean(cv_score))\n",
        "  depth.append(i)\n",
        "decision_tree=pd.DataFrame({'depth':depth,'scores':scores})\n",
        "decision_tree.to_csv(\"/content/drive/My Drive/Colab_Notebooks/Decision_trees/tf_idf_unigrams_gini.csv\")"
      ],
      "execution_count": 0,
      "outputs": []
    },
    {
      "metadata": {
        "id": "iCkhA7wDU12j",
        "colab_type": "code",
        "colab": {}
      },
      "cell_type": "code",
      "source": [
        ""
      ],
      "execution_count": 0,
      "outputs": []
    },
    {
      "metadata": {
        "id": "JhqkuLnDX4xS",
        "colab_type": "code",
        "colab": {
          "base_uri": "https://localhost:8080/",
          "height": 571
        },
        "outputId": "e602601e-6917-4968-f18d-ff6824538681"
      },
      "cell_type": "code",
      "source": [
        "data=pd.read_csv('/content/drive/My Drive/Colab_Notebooks/Decision_trees/tf_idf_unigrams_gini.csv')\n",
        "data1=pd.read_csv('/content/drive/My Drive/Colab_Notebooks/Decision_trees/tf_idf_unigrams_entropy.csv')\n",
        "plot_graph(data,'gini')\n",
        "plot_graph(data1,'entropy')"
      ],
      "execution_count": 18,
      "outputs": [
        {
          "output_type": "display_data",
          "data": {
            "image/png": "[encoded data removed]",
            "text/plain": [
              "<matplotlib.figure.Figure at 0x7f339b34dbe0>"
            ]
          },
          "metadata": {
            "tags": []
          }
        },
        {
          "output_type": "display_data",
          "data": {
            "image/png": "[encoded data removed]",
            "text/plain": [
              "<matplotlib.figure.Figure at 0x7f339a8bafd0>"
            ]
          },
          "metadata": {
            "tags": []
          }
        }
      ]
    },
    {
      "metadata": {
        "id": "YWnymVYVYI3q",
        "colab_type": "text"
      },
      "cell_type": "markdown",
      "source": [
        "****For the depth13,17,19 we are getting low error rate among all possible values of depth , so lets try these values****"
      ]
    },
    {
      "metadata": {
        "id": "n9Rg1ml0YH1F",
        "colab_type": "code",
        "colab": {}
      },
      "cell_type": "code",
      "source": [
        "decision_tree=DecisionTreeClassifier(criterion='gini', splitter='best', max_depth=13, min_samples_split=2, min_samples_leaf=10, class_weight='balanced')\n",
        "model=decision_tree.fit(train_data,df_train_y)\n",
        "output=model.predict(test_data)"
      ],
      "execution_count": 0,
      "outputs": []
    },
    {
      "metadata": {
        "id": "hP6Qz2Y5X50N",
        "colab_type": "code",
        "colab": {}
      },
      "cell_type": "code",
      "source": [
        "decision_tree=DecisionTreeClassifier(criterion='gini', splitter='best', max_depth=17, min_samples_split=2, min_samples_leaf=10, class_weight='balanced')\n",
        "model1=decision_tree.fit(train_data,df_train_y)\n",
        "output1=model1.predict(test_data)"
      ],
      "execution_count": 0,
      "outputs": []
    },
    {
      "metadata": {
        "id": "7XpZu2HjX6At",
        "colab_type": "code",
        "colab": {}
      },
      "cell_type": "code",
      "source": [
        "decision_tree=DecisionTreeClassifier(criterion='gini', splitter='best', max_depth=19, min_samples_split=2, min_samples_leaf=10, class_weight='balanced')\n",
        "model2=decision_tree.fit(train_data,df_train_y)\n",
        "output2=model2.predict(test_data)"
      ],
      "execution_count": 0,
      "outputs": []
    },
    {
      "metadata": {
        "id": "KgR1tU59X6Jb",
        "colab_type": "code",
        "colab": {
          "base_uri": "https://localhost:8080/",
          "height": 1284
        },
        "outputId": "660b17a0-8ad0-4d42-8452-8d0ae1437a21"
      },
      "cell_type": "code",
      "source": [
        "depth=[13,17,19]\n",
        "plot_confusion_matrix(depth,output,output1,output2)\n",
        "plot_table(depth,output,output1,output2)\n",
        "feature_importance([model,model1,model2],tfidf1_train)"
      ],
      "execution_count": 23,
      "outputs": [
        {
          "output_type": "stream",
          "text": [
            "done with confusion matrices\n",
            "+-----------+--------+----------+----------+-------+\n",
            "| precision | recall | accuracy | f1-score | depth |\n",
            "+-----------+--------+----------+----------+-------+\n",
            "|   0.951   | 0.679  |  0.689   |  0.793   |  13   |\n",
            "+-----------+--------+----------+----------+-------+\n",
            "|   0.952   | 0.689  |  0.697   |  0.799   |  17   |\n",
            "+-----------+--------+----------+----------+-------+\n",
            "|   0.949   |  0.7   |  0.704   |  0.806   |  19   |\n",
            "+-----------+--------+----------+----------+-------+\n",
            "Top 20 Important features\n",
            "+-------------------------+-------------------------+-------------------------+\n",
            "| Important features mode | Important features mode | Important features mode |\n",
            "|           l 0           |           l 1           |           l 2           |\n",
            "+-------------------------+-------------------------+-------------------------+\n",
            "|          money          |         highly          |          easy           |\n",
            "+-------------------------+-------------------------+-------------------------+\n",
            "|      disappointed       |          taste          |           bad           |\n",
            "+-------------------------+-------------------------+-------------------------+\n",
            "|          taste          |          easy           |          awful          |\n",
            "+-------------------------+-------------------------+-------------------------+\n",
            "|        terrible         |           bad           |         highly          |\n",
            "+-------------------------+-------------------------+-------------------------+\n",
            "|           bad           |          awful          |          taste          |\n",
            "+-------------------------+-------------------------+-------------------------+\n",
            "|         highly          |          tasty          |          tasty          |\n",
            "+-------------------------+-------------------------+-------------------------+\n",
            "|          awful          |          money          |          money          |\n",
            "+-------------------------+-------------------------+-------------------------+\n",
            "|          tasty          |          nice           |          nice           |\n",
            "+-------------------------+-------------------------+-------------------------+\n",
            "|         thought         |         thought         |         thought         |\n",
            "+-------------------------+-------------------------+-------------------------+\n",
            "|          nice           |        wonderful        |        wonderful        |\n",
            "+-------------------------+-------------------------+-------------------------+\n",
            "|        wonderful        |        favorite         |         perfect         |\n",
            "+-------------------------+-------------------------+-------------------------+\n",
            "|        favorite         |         perfect         |        favorite         |\n",
            "+-------------------------+-------------------------+-------------------------+\n",
            "|         perfect         |      disappointed       |      disappointed       |\n",
            "+-------------------------+-------------------------+-------------------------+\n",
            "|        excellent        |        excellent        |        excellent        |\n",
            "+-------------------------+-------------------------+-------------------------+\n",
            "|          loves          |          loves          |          loves          |\n",
            "+-------------------------+-------------------------+-------------------------+\n",
            "|          good           |          good           |          good           |\n",
            "+-------------------------+-------------------------+-------------------------+\n",
            "|          love           |          love           |          love           |\n",
            "+-------------------------+-------------------------+-------------------------+\n",
            "|        delicious        |        delicious        |        delicious        |\n",
            "+-------------------------+-------------------------+-------------------------+\n",
            "|          best           |          best           |          best           |\n",
            "+-------------------------+-------------------------+-------------------------+\n",
            "|          great          |          great          |          great          |\n",
            "+-------------------------+-------------------------+-------------------------+\n"
          ],
          "name": "stdout"
        },
        {
          "output_type": "display_data",
          "data": {
            "image/png": "[encoded data removed]",
            "text/plain": [
              "<matplotlib.figure.Figure at 0x7f339b5cf550>"
            ]
          },
          "metadata": {
            "tags": []
          }
        }
      ]
    },
    {
      "metadata": {
        "id": "FFt7z_I1ssnM",
        "colab_type": "text"
      },
      "cell_type": "markdown",
      "source": [
        "**The models precision score is around 95% and recall score is 80% which means among true 100 reviews the model is able to predict 80% them correctly**"
      ]
    },
    {
      "metadata": {
        "id": "MKqlqeTxbphz",
        "colab_type": "text"
      },
      "cell_type": "markdown",
      "source": [
        "# TF-IDF bigrams"
      ]
    },
    {
      "metadata": {
        "id": "uCvQGDB6VY__",
        "colab_type": "code",
        "colab": {
          "base_uri": "https://localhost:8080/",
          "height": 34
        },
        "outputId": "c243eb6b-effa-4187-f253-1478747b1711"
      },
      "cell_type": "code",
      "source": [
        "from sklearn.feature_extraction.text import TfidfVectorizer\n",
        "bow_unigrams=TfidfVectorizer(ngram_range=(1,2),stop_words='english')\n",
        "tfidf1_train=bow_unigrams.fit(df_train_x)\n",
        "train_data=bow_unigrams.transform(df_train_x)\n",
        "test_data=bow_unigrams.transform(df_test_x)\n",
        "print(\"The train data shape is \",train_data.shape,\"and test data shape is \",test_data.shape)"
      ],
      "execution_count": 24,
      "outputs": [
        {
          "output_type": "stream",
          "text": [
            "The train data shape is  (67000, 1169770) and test data shape is  (33000, 1169770)\n"
          ],
          "name": "stdout"
        }
      ]
    },
    {
      "metadata": {
        "id": "XERIyexUVgsD",
        "colab_type": "code",
        "colab": {}
      },
      "cell_type": "code",
      "source": [
        "from sklearn.model_selection import TimeSeriesSplit\n",
        "from sklearn.metrics import f1_score\n",
        "scores=[]\n",
        "depth=[]\n",
        "for i in range(1,20):\n",
        "  decision_tree=DecisionTreeClassifier(criterion='entropy', splitter='best', max_depth=i, min_samples_split=2, min_samples_leaf=10, class_weight='balanced')\n",
        "  tscv = TimeSeriesSplit(n_splits=3)\n",
        "  cv_score=[]\n",
        "  for train_index, test_index in tscv.split(train_data):\n",
        "    print(\"TRAIN:\", train_index, \"TEST:\", test_index)\n",
        "    X_train, X_test = train_data[train_index], train_data[test_index]\n",
        "    y_train, y_test = df_train_y[train_index], df_train_y[test_index]\n",
        "    model=decision_tree.fit(X_train,y_train)\n",
        "    output=model.predict(X_test)\n",
        "    cv_score.append(f1_score(y_test,output))\n",
        "  print(i)\n",
        "  print(np.mean(cv_score))\n",
        "  print(\"********\")\n",
        "  scores.append(np.mean(cv_score))\n",
        "  depth.append(i)\n",
        "decision_tree=pd.DataFrame({'depth':depth,'scores':scores})\n",
        "decision_tree.to_csv(\"/content/drive/My Drive/Colab_Notebooks/Decision_trees/tf_idf_Bigrams_entropy.csv\")"
      ],
      "execution_count": 0,
      "outputs": []
    },
    {
      "metadata": {
        "id": "OBauZp5imoYr",
        "colab_type": "code",
        "colab": {}
      },
      "cell_type": "code",
      "source": [
        "from sklearn.model_selection import TimeSeriesSplit\n",
        "from sklearn.metrics import f1_score\n",
        "scores=[]\n",
        "depth=[]\n",
        "for i in range(1,20):\n",
        "  decision_tree=DecisionTreeClassifier(criterion='gini', splitter='best', max_depth=i, min_samples_split=2, min_samples_leaf=10, class_weight='balanced')\n",
        "  tscv = TimeSeriesSplit(n_splits=3)\n",
        "  cv_score=[]\n",
        "  for train_index, test_index in tscv.split(train_data):\n",
        "    print(\"TRAIN:\", train_index, \"TEST:\", test_index)\n",
        "    X_train, X_test = train_data[train_index], train_data[test_index]\n",
        "    y_train, y_test = df_train_y[train_index], df_train_y[test_index]\n",
        "    model=decision_tree.fit(X_train,y_train)\n",
        "    output=model.predict(X_test)\n",
        "    cv_score.append(f1_score(y_test,output))\n",
        "  print(i)\n",
        "  print(np.mean(cv_score))\n",
        "  print(\"********\")\n",
        "  scores.append(np.mean(cv_score))\n",
        "  depth.append(i)\n",
        "decision_tree=pd.DataFrame({'depth':depth,'scores':scores})\n",
        "decision_tree.to_csv(\"/content/drive/My Drive/Colab_Notebooks/Decision_trees/tf_idf_Bigrams_gini.csv\")"
      ],
      "execution_count": 0,
      "outputs": []
    },
    {
      "metadata": {
        "id": "7CKXTO7zA4l8",
        "colab_type": "code",
        "colab": {
          "base_uri": "https://localhost:8080/",
          "height": 571
        },
        "outputId": "24b1caa1-d22b-427c-85fb-b67ce2134b10"
      },
      "cell_type": "code",
      "source": [
        "data=pd.read_csv('/content/drive/My Drive/Colab_Notebooks/Decision_trees/tf_idf_Bigrams_gini.csv')\n",
        "data1=pd.read_csv('/content/drive/My Drive/Colab_Notebooks/Decision_trees/tf_idf_Bigrams_entropy.csv')\n",
        "plot_graph(data,'gini')\n",
        "plot_graph(data1,'entropy')"
      ],
      "execution_count": 27,
      "outputs": [
        {
          "output_type": "display_data",
          "data": {
            "image/png": "[encoded data removed]",
            "text/plain": [
              "<matplotlib.figure.Figure at 0x7f339b34db38>"
            ]
          },
          "metadata": {
            "tags": []
          }
        },
        {
          "output_type": "display_data",
          "data": {
            "image/png": "[encoded data removed]",
            "text/plain": [
              "<matplotlib.figure.Figure at 0x7f339ecba710>"
            ]
          },
          "metadata": {
            "tags": []
          }
        }
      ]
    },
    {
      "metadata": {
        "id": "pJ1TOyAncEej",
        "colab_type": "text"
      },
      "cell_type": "markdown",
      "source": [
        "**At the depth=19 we are getting low error in the cross validation **"
      ]
    },
    {
      "metadata": {
        "id": "CtSPhJrxchG7",
        "colab_type": "code",
        "colab": {}
      },
      "cell_type": "code",
      "source": [
        "decision_tree=DecisionTreeClassifier(criterion='gini', splitter='best', max_depth=19, min_samples_split=2, min_samples_leaf=10, class_weight='balanced')\n",
        "model=decision_tree.fit(train_data,df_train_y)\n",
        "output=model.predict(test_data)\n"
      ],
      "execution_count": 0,
      "outputs": []
    },
    {
      "metadata": {
        "id": "RuT0SuNicccb",
        "colab_type": "code",
        "colab": {
          "base_uri": "https://localhost:8080/",
          "height": 522
        },
        "outputId": "169906af-102d-4e45-dab6-090da7299290"
      },
      "cell_type": "code",
      "source": [
        "from sklearn.metrics import confusion_matrix,precision_score,recall_score,accuracy_score\n",
        "from beautifultable import BeautifulTable\n",
        "#Label encoder from positive negative to 1,0\n",
        "from sklearn import preprocessing\n",
        "bin=preprocessing.LabelEncoder()\n",
        "output=bin.fit_transform(output)\n",
        "\n",
        "cm=confusion_matrix(df_test_y,output)\n",
        "dataframes=pd.DataFrame(cm,index=['negative','positive'],columns=['negative','positive'])  \n",
        "fig, axes = plt.subplots(1,1,figsize=(10,5))\n",
        "sb.heatmap(dataframes, annot=True, fmt='g',ax=axes)\n",
        "#col.title.set_text('L2-regularizatiton with C='+str(C_values[i]))\n",
        "axes.set_xlabel('Predicted label')\n",
        "axes.title.set_text('Depth of tree= 850')\n",
        "axes.set_ylabel('True label')\n",
        "table=BeautifulTable()\n",
        "table.insert_column(0,\"precision\",[precision_score(df_test_y,output)])\n",
        "table.insert_column(1,\"recall\",[recall_score(df_test_y,output)])\n",
        "table.insert_column(3,\"accuracy\",[accuracy_score(df_test_y,output)])\n",
        "table.insert_column(2,\"f1_score\",[f1_score(df_test_y,output)])\n",
        "table.insert_column(4,\"depth\",[19])\n",
        "print(table)"
      ],
      "execution_count": 32,
      "outputs": [
        {
          "output_type": "stream",
          "text": [
            "/usr/local/lib/python3.6/dist-packages/seaborn/matrix.py:143: DeprecationWarning: elementwise == comparison failed; this will raise an error in the future.\n",
            "  if xticklabels == []:\n",
            "/usr/local/lib/python3.6/dist-packages/seaborn/matrix.py:151: DeprecationWarning: elementwise == comparison failed; this will raise an error in the future.\n",
            "  if yticklabels == []:\n"
          ],
          "name": "stderr"
        },
        {
          "output_type": "stream",
          "text": [
            "+-----------+--------+----------+----------+-------+\n",
            "| precision | recall | f1_score | accuracy | depth |\n",
            "+-----------+--------+----------+----------+-------+\n",
            "|   0.949   | 0.701  |  0.807   |  0.706   |  19   |\n",
            "+-----------+--------+----------+----------+-------+\n"
          ],
          "name": "stdout"
        },
        {
          "output_type": "display_data",
          "data": {
            "image/png": "[encoded data removed]",
            "text/plain": [
              "<matplotlib.figure.Figure at 0x7f339a407908>"
            ]
          },
          "metadata": {
            "tags": []
          }
        }
      ]
    },
    {
      "metadata": {
        "id": "lBK4RtiFtCqF",
        "colab_type": "text"
      },
      "cell_type": "markdown",
      "source": [
        "**The models precision score is around 95% and f1_score is 81% which means among true 100 reviews the model is able to predict 81% them correctly**"
      ]
    },
    {
      "metadata": {
        "id": "3EKO4GFrYpQ2",
        "colab_type": "text"
      },
      "cell_type": "markdown",
      "source": [
        "# word2vec model"
      ]
    },
    {
      "metadata": {
        "id": "n5acgsZ3YyuW",
        "colab_type": "code",
        "colab": {
          "base_uri": "https://localhost:8080/",
          "height": 34
        },
        "outputId": "f72998c3-5ecf-41e6-c8d5-02f8a09c2735"
      },
      "cell_type": "code",
      "source": [
        "from sklearn.feature_extraction.text import TfidfVectorizer \n",
        "tf_idf_model=TfidfVectorizer(stop_words='english')\n",
        "stop_words = tf_idf_model.get_stop_words()\n",
        "model=[]   #df_train_x.shape,df_test_x.shape,df_train_y.shape,df_test_y.shape\n",
        "for sent in df_train_x:\n",
        "    temp=[]\n",
        "    for word in sent.split():\n",
        "        if word not in stop_words:\n",
        "            temp.append(word)\n",
        "    model.append(temp)\n",
        "print(model[0][0:10])"
      ],
      "execution_count": 33,
      "outputs": [
        {
          "output_type": "stream",
          "text": [
            "['witty', 'little', 'book', 'makes', 'son', 'laugh', 'loud', 'recite', 'car', 'driving']\n"
          ],
          "name": "stdout"
        }
      ]
    },
    {
      "metadata": {
        "id": "pCHw4sfKdflZ",
        "colab_type": "code",
        "colab": {}
      },
      "cell_type": "code",
      "source": [
        "!pip install gensim\n",
        "from gensim.models import Word2Vec\n",
        "amazon_model = Word2Vec(model, size=300, window=5, min_count=1, workers=4)"
      ],
      "execution_count": 0,
      "outputs": []
    },
    {
      "metadata": {
        "id": "3uz8Ufpudzof",
        "colab_type": "code",
        "colab": {}
      },
      "cell_type": "code",
      "source": [
        "import numpy as np\n",
        "word_vectors = amazon_model.wv\n",
        "train_vec=[]\n",
        "counter=0\n",
        "for sentence in df_train_x:\n",
        "    temp=np.zeros(300)\n",
        "    length=0\n",
        "    for word in sentence.split():\n",
        "        if word in word_vectors:\n",
        "            temp=temp+amazon_model.wv[word]\n",
        "        else:\n",
        "            #print(word,\" is not presnet in training model of word2vec\")\n",
        "            pass\n",
        "        length+=1\n",
        "    train_vec.append(temp/length)\n",
        "    if(counter%10000==0):\n",
        "        print(counter)\n",
        "    counter+=1"
      ],
      "execution_count": 0,
      "outputs": []
    },
    {
      "metadata": {
        "id": "X0t1Y86Vd85g",
        "colab_type": "code",
        "colab": {}
      },
      "cell_type": "code",
      "source": [
        "import numpy as np\n",
        "word_vectors = amazon_model.wv\n",
        "test_vec=[]\n",
        "counter=0\n",
        "for sentence in df_test_x:\n",
        "    temp=np.zeros(300)\n",
        "    length=0\n",
        "    for word in sentence.split():\n",
        "        if word in word_vectors:\n",
        "            temp=temp+amazon_model.wv[word]\n",
        "        else:\n",
        "            pass# print(word,\" is not presnet in training model of word2vec\")\n",
        "        length+=1\n",
        "    test_vec.append(temp/length)\n",
        "    if(counter%10000==0):\n",
        "        print(counter)\n",
        "    counter+=1"
      ],
      "execution_count": 0,
      "outputs": []
    },
    {
      "metadata": {
        "id": "naslr1IUeCdy",
        "colab_type": "code",
        "colab": {}
      },
      "cell_type": "code",
      "source": [
        "from sklearn.model_selection import TimeSeriesSplit\n",
        "from sklearn.metrics import f1_score\n",
        "scores=[]\n",
        "depth=[]\n",
        "for i in range(1,30):\n",
        "  decision_tree=DecisionTreeClassifier(criterion='entropy', splitter='best', max_depth=i, min_samples_split=2, min_samples_leaf=10, class_weight='balanced')\n",
        "  tscv = TimeSeriesSplit(n_splits=3)\n",
        "  cv_score=[]\n",
        "  for train_index, test_index in tscv.split(train_vec):\n",
        "    print(\"TRAIN:\", train_index, \"TEST:\", test_index)\n",
        "    X_train, X_test = train_data[train_index], train_data[test_index]\n",
        "    y_train, y_test = df_train_y[train_index], df_train_y[test_index]\n",
        "    model=decision_tree.fit(X_train,y_train)\n",
        "    output=model.predict(X_test)\n",
        "    cv_score.append(f1_score(y_test,output))\n",
        "  print(i)\n",
        "  print(np.mean(cv_score))\n",
        "  print(\"********\")\n",
        "  scores.append(np.mean(cv_score))\n",
        "  depth.append(i)\n",
        "decision_tree=pd.DataFrame({'depth':depth,'scores':scores})\n",
        "decision_tree.to_csv(\"/content/drive/My Drive/Colab_Notebooks/Decision_trees/word2vec_entropy.csv\")"
      ],
      "execution_count": 0,
      "outputs": []
    },
    {
      "metadata": {
        "id": "c-Md_d0flx8w",
        "colab_type": "code",
        "colab": {}
      },
      "cell_type": "code",
      "source": [
        "from sklearn.model_selection import TimeSeriesSplit\n",
        "from sklearn.metrics import f1_score\n",
        "scores=[]\n",
        "depth=[]\n",
        "for i in range(1,30):\n",
        "  decision_tree=DecisionTreeClassifier(criterion='gini', splitter='best', max_depth=i, min_samples_split=2, min_samples_leaf=10, class_weight='balanced')\n",
        "  tscv = TimeSeriesSplit(n_splits=3)\n",
        "  cv_score=[]\n",
        "  for train_index, test_index in tscv.split(train_vec):\n",
        "    print(\"TRAIN:\", train_index, \"TEST:\", test_index)\n",
        "    X_train, X_test = train_data[train_index], train_data[test_index]\n",
        "    y_train, y_test = df_train_y[train_index], df_train_y[test_index]\n",
        "    model=decision_tree.fit(X_train,y_train)\n",
        "    output=model.predict(X_test)\n",
        "    cv_score.append(f1_score(y_test,output))\n",
        "  print(i)\n",
        "  print(np.mean(cv_score))\n",
        "  print(\"********\")\n",
        "  scores.append(np.mean(cv_score))\n",
        "  depth.append(i)\n",
        "decision_tree=pd.DataFrame({'depth':depth,'scores':scores})\n",
        "decision_tree.to_csv(\"/content/drive/My Drive/Colab_Notebooks/Decision_trees/word2vec_gini.csv\")"
      ],
      "execution_count": 0,
      "outputs": []
    },
    {
      "metadata": {
        "id": "4mxFyRYmfIX5",
        "colab_type": "code",
        "colab": {
          "base_uri": "https://localhost:8080/",
          "height": 571
        },
        "outputId": "9f5ecc45-7325-4960-ec4d-d3b170240820"
      },
      "cell_type": "code",
      "source": [
        "data=pd.read_csv('/content/drive/My Drive/Colab_Notebooks/Decision_trees/word2vec_gini.csv')\n",
        "data1=pd.read_csv('/content/drive/My Drive/Colab_Notebooks/Decision_trees/word2vec_entropy.csv')\n",
        "plot_graph(data,'gini')\n",
        "plot_graph(data1,'entropy')"
      ],
      "execution_count": 39,
      "outputs": [
        {
          "output_type": "display_data",
          "data": {
            "image/png": "[encoded data removed]",
            "text/plain": [
              "<matplotlib.figure.Figure at 0x7f339000f240>"
            ]
          },
          "metadata": {
            "tags": []
          }
        },
        {
          "output_type": "display_data",
          "data": {
            "image/png": "[encoded data removed]",
            "text/plain": [
              "<matplotlib.figure.Figure at 0x7f3395c81dd8>"
            ]
          },
          "metadata": {
            "tags": []
          }
        }
      ]
    },
    {
      "metadata": {
        "id": "EAHo_p_hfeT4",
        "colab_type": "text"
      },
      "cell_type": "markdown",
      "source": [
        "****For the depth 25,26,28 we are getting low error rate among all possible values of depth , so lets try these values****"
      ]
    },
    {
      "metadata": {
        "id": "xoifbKcSfwM_",
        "colab_type": "code",
        "colab": {}
      },
      "cell_type": "code",
      "source": [
        "decision_tree=DecisionTreeClassifier(criterion='gini', splitter='best', max_depth=25, min_samples_split=2, min_samples_leaf=10, class_weight='balanced')\n",
        "model=decision_tree.fit(train_vec,df_train_y)\n",
        "output=model.predict(test_vec)"
      ],
      "execution_count": 0,
      "outputs": []
    },
    {
      "metadata": {
        "id": "gjQebWxgfxCk",
        "colab_type": "code",
        "colab": {}
      },
      "cell_type": "code",
      "source": [
        "decision_tree=DecisionTreeClassifier(criterion='gini', splitter='best', max_depth=26, min_samples_split=2, min_samples_leaf=10, class_weight='balanced')\n",
        "model1=decision_tree.fit(train_vec,df_train_y)\n",
        "output1=model1.predict(test_vec)"
      ],
      "execution_count": 0,
      "outputs": []
    },
    {
      "metadata": {
        "id": "70C-s6s-fxLk",
        "colab_type": "code",
        "colab": {}
      },
      "cell_type": "code",
      "source": [
        "decision_tree=DecisionTreeClassifier(criterion='gini', splitter='best', max_depth=28, min_samples_split=2, min_samples_leaf=10, class_weight='balanced')\n",
        "model2=decision_tree.fit(train_vec,df_train_y)\n",
        "output2=model2.predict(test_vec)"
      ],
      "execution_count": 0,
      "outputs": []
    },
    {
      "metadata": {
        "id": "TlZVcMQakccW",
        "colab_type": "code",
        "colab": {
          "base_uri": "https://localhost:8080/",
          "height": 607
        },
        "outputId": "43c1cdad-0836-4b8a-9785-11ef0ef5ef56"
      },
      "cell_type": "code",
      "source": [
        "depth=[25,26,28]\n",
        "plot_confusion_matrix(depth,output,output1,output2)\n",
        "plot_table(depth,output,output1,output2)\n",
        "#feature_importance([model,model1,model2],tfidf1_train)"
      ],
      "execution_count": 43,
      "outputs": [
        {
          "output_type": "stream",
          "text": [
            "/usr/local/lib/python3.6/dist-packages/seaborn/matrix.py:143: DeprecationWarning: elementwise == comparison failed; this will raise an error in the future.\n",
            "  if xticklabels == []:\n",
            "/usr/local/lib/python3.6/dist-packages/seaborn/matrix.py:151: DeprecationWarning: elementwise == comparison failed; this will raise an error in the future.\n",
            "  if yticklabels == []:\n"
          ],
          "name": "stderr"
        },
        {
          "output_type": "stream",
          "text": [
            "done with confusion matrices\n",
            "+-----------+--------+----------+----------+-------+\n",
            "| precision | recall | accuracy | f1-score | depth |\n",
            "+-----------+--------+----------+----------+-------+\n",
            "|   0.921   | 0.835  |  0.793   |  0.876   |  25   |\n",
            "+-----------+--------+----------+----------+-------+\n",
            "|   0.921   | 0.836  |  0.794   |  0.877   |  26   |\n",
            "+-----------+--------+----------+----------+-------+\n",
            "|   0.92    | 0.834  |  0.792   |  0.875   |  28   |\n",
            "+-----------+--------+----------+----------+-------+\n"
          ],
          "name": "stdout"
        },
        {
          "output_type": "display_data",
          "data": {
            "image/png": "[encoded data removed]",
            "text/plain": [
              "<matplotlib.figure.Figure at 0x7f33948667b8>"
            ]
          },
          "metadata": {
            "tags": []
          }
        }
      ]
    },
    {
      "metadata": {
        "id": "mw_HNeoktNLD",
        "colab_type": "text"
      },
      "cell_type": "markdown",
      "source": [
        "**The models precision score is around 92% and recall score is 83% which means among true 100 reviews the model is able to predict 83% them correctly**"
      ]
    },
    {
      "metadata": {
        "id": "wBL0w0e9x_Qf",
        "colab_type": "text"
      },
      "cell_type": "markdown",
      "source": [
        "# Feature importance in word2vec\n",
        "\n",
        "**weights in word2vec model doesnot correspond to the actual words , so feature imortance in word2vec doesnot make sense.**"
      ]
    },
    {
      "metadata": {
        "id": "BzWW6QlvtR0x",
        "colab_type": "text"
      },
      "cell_type": "markdown",
      "source": [
        "# Conclusion"
      ]
    },
    {
      "metadata": {
        "id": "-OnM7wABtTfF",
        "colab_type": "text"
      },
      "cell_type": "markdown",
      "source": [
        "**analyzed decision tree algorithm with different vectorizations such as bag of words and tf_idf and word2vec and results are tabulated .**\n",
        "\n",
        "**I visulized the decision tree with the help of graphviz module and understtod how a query point reaches to its class in the decision tree**\n",
        "\n",
        "**After analyzing decision trees with all the vectorizations , word2vec is performing good  with an f1_score of around 87% among all the vetorizations. **"
      ]
    }
  ]
}