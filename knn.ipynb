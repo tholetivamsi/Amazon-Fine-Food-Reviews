{
 "cells": [
  {
   "cell_type": "markdown",
   "metadata": {
    "colab_type": "text",
    "id": "cSgCsDmzSy4k"
   },
   "source": [
    "# Ojective\n",
    "**To classify a given new review using K-nearest neighbours technique.**"
   ]
  },
  {
   "cell_type": "code",
   "execution_count": 1,
   "metadata": {
    "colab": {},
    "colab_type": "code",
    "id": "TQQEOXfvSwn0"
   },
   "outputs": [],
   "source": [
    "import numpy as np\n",
    "import pandas as pd\n",
    "import seaborn as sb\n",
    "import matplotlib.pyplot as plt"
   ]
  },
  {
   "cell_type": "code",
   "execution_count": 2,
   "metadata": {
    "colab": {
     "base_uri": "https://localhost:8080/",
     "height": 85
    },
    "colab_type": "code",
    "id": "Jx1AORIJSenW",
    "outputId": "b6ac71da-e90e-4d54-f3db-c7ce5d38934e"
   },
   "outputs": [
    {
     "name": "stdout",
     "output_type": "stream",
     "text": [
      "columns are  Index(['Unnamed: 0', 'Id', 'ProductId', 'UserId', 'ProfileName',\n",
      "       'HelpfulnessNumerator', 'HelpfulnessDenominator', 'Score', 'Time',\n",
      "       'Summary', 'Text', 'Class'],\n",
      "      dtype='object')\n"
     ]
    }
   ],
   "source": [
    "import os \n",
    "df=pd.read_csv(\"/home/gurnatham_ravi/SVM/yesterday/data.csv\") \n",
    "print(\"columns are \",df.columns)"
   ]
  },
  {
   "cell_type": "markdown",
   "metadata": {
    "colab_type": "text",
    "id": "c4OMT_fkSenf"
   },
   "source": [
    "**For this assignment I took 100k points which are splitted based in the time and among 100k points I chosen 67k points for training and 33k points for testing the performance tof the model.**"
   ]
  },
  {
   "cell_type": "code",
   "execution_count": 4,
   "metadata": {
    "colab": {
     "base_uri": "https://localhost:8080/",
     "height": 34
    },
    "colab_type": "code",
    "id": "1t6DBAgLSenh",
    "outputId": "e1ee174f-1c9f-4596-fc17-4fb5d0629571"
   },
   "outputs": [
    {
     "name": "stdout",
     "output_type": "stream",
     "text": [
      "(67000,) (33000,) (67000,) (33000,)\n"
     ]
    }
   ],
   "source": [
    "from sklearn.model_selection import train_test_split\n",
    "from sklearn.feature_extraction.text import CountVectorizer\n",
    "from sklearn.preprocessing import StandardScaler\n",
    "from sklearn import preprocessing\n",
    "df_train_x,df_test_x,df_train_y,df_test_y=train_test_split(df['Text'],df['Class'],test_size=0.33,shuffle=False)\n",
    "print(df_train_x.shape,df_test_x.shape,df_train_y.shape,df_test_y.shape)"
   ]
  },
  {
   "cell_type": "markdown",
   "metadata": {
    "colab_type": "text",
    "id": "Vk7FZBFY8XAm"
   },
   "source": [
    "# Data standardization function"
   ]
  },
  {
   "cell_type": "code",
   "execution_count": 5,
   "metadata": {
    "colab": {},
    "colab_type": "code",
    "id": "kJzHzuTr8aV-"
   },
   "outputs": [],
   "source": [
    "from sklearn.exceptions import DataConversionWarning\n",
    "from sklearn.preprocessing import StandardScaler\n",
    "from sklearn import warnings\n",
    "warnings.filterwarnings(\"ignore\", category=DataConversionWarning)\n",
    "def data_standardization(train_data,test_data):\n",
    "    std=StandardScaler(with_mean=False)\n",
    "    std=std.fit(train_data)\n",
    "    train_data = train_data.astype(float)\n",
    "    test_data = test_data.astype(float)\n",
    "    train=std.transform(train_data)\n",
    "    test=std.transform(test_data)\n",
    "    print(train.shape,test.shape)\n",
    "    return train,test"
   ]
  },
  {
   "cell_type": "markdown",
   "metadata": {
    "colab_type": "text",
    "id": "kG56H6GO8poQ"
   },
   "source": [
    "# Label encoder"
   ]
  },
  {
   "cell_type": "code",
   "execution_count": 6,
   "metadata": {
    "colab": {},
    "colab_type": "code",
    "id": "s-YPoppj8p4X"
   },
   "outputs": [],
   "source": [
    "from sklearn.neighbors import KNeighborsClassifier\n",
    "from sklearn.model_selection import cross_val_score\n",
    "from sklearn import preprocessing\n",
    "bin=preprocessing.LabelEncoder()\n",
    "df_train_y=bin.fit_transform(df_train_y)\n",
    "df_test_y=bin.fit_transform(df_test_y)"
   ]
  },
  {
   "cell_type": "markdown",
   "metadata": {
    "colab_type": "text",
    "id": "_ipr5ydB8yNt"
   },
   "source": [
    "# truncated_svd"
   ]
  },
  {
   "cell_type": "code",
   "execution_count": 24,
   "metadata": {
    "colab": {},
    "colab_type": "code",
    "id": "yk2JeENk8z1B"
   },
   "outputs": [],
   "source": [
    "from sklearn.decomposition import TruncatedSVD\n",
    "def truncated_svd(BOW1_train_std,BOW1_test_std):\n",
    "  svd = TruncatedSVD(n_components=300)\n",
    "  svd_func=svd.fit(BOW1_train_std)\n",
    "  train_data=svd_func.transform(BOW1_train_std)\n",
    "  test_data=svd_func.transform(BOW1_test_std)\n",
    "  return train_data,test_data"
   ]
  },
  {
   "cell_type": "markdown",
   "metadata": {
    "colab_type": "text",
    "id": "7pDYaw6C9rNX"
   },
   "source": [
    "# Kd_tree function\n"
   ]
  },
  {
   "cell_type": "code",
   "execution_count": 26,
   "metadata": {
    "colab": {},
    "colab_type": "code",
    "id": "2Ky3nAwg9reg"
   },
   "outputs": [],
   "source": [
    "from sklearn.neighbors import KNeighborsClassifier\n",
    "from sklearn.model_selection import cross_val_score\n",
    "def kd_tree_function(train_data,df_train_y,filename):\n",
    "  k_values=[]\n",
    "  cv_scores=[]\n",
    "  for i in range(1,31,2):\n",
    "    knn=KNeighborsClassifier(n_neighbors=i, weights='uniform', algorithm='kd_tree', leaf_size=30,  n_jobs=-1)\n",
    "    scores=cross_val_score(knn,train_data,df_train_y,cv=3,scoring=\"f1\")\n",
    "    cv_scores.append(scores)\n",
    "    k_values.append(i)\n",
    "    print(\"done with \",i)\n",
    "  dataframe=pd.DataFrame({'cv_scores':cv_scores,'k':k_values})\n",
    "  print(filename)\n",
    "  #file_path='/content/drive/My Drive/Colab_Notebooks/knn_redoing/'+filename\n",
    "  dataframe.to_csv(filename)"
   ]
  },
  {
   "cell_type": "markdown",
   "metadata": {
    "colab_type": "text",
    "id": "hzvlD66vFFSg"
   },
   "source": [
    "# Brute force knn"
   ]
  },
  {
   "cell_type": "code",
   "execution_count": 27,
   "metadata": {
    "colab": {},
    "colab_type": "code",
    "id": "7FkoWYYQFEYq"
   },
   "outputs": [],
   "source": [
    "from sklearn.neighbors import KNeighborsClassifier\n",
    "from sklearn.model_selection import cross_val_score\n",
    "def brute_function(train_data,df_train_y,filename):\n",
    "  k_values=[]\n",
    "  cv_scores=[]\n",
    "  for i in range(1,31,2):\n",
    "    knn=KNeighborsClassifier(n_neighbors=i, weights='uniform', algorithm='brute', leaf_size=30)\n",
    "    scores=cross_val_score(knn,train_data,df_train_y,cv=3,scoring=\"f1\")\n",
    "    cv_scores.append(scores)\n",
    "    k_values.append(i)\n",
    "    print(\"done with \",i)\n",
    "  dataframe=pd.DataFrame({'cv_scores':cv_scores,'k':k_values})\n",
    "  print(filename)\n",
    "  #file_path='/content/drive/My Drive/Colab_Notebooks/knn_redoing/'+filename\n",
    "  dataframe.to_csv(filename)"
   ]
  },
  {
   "cell_type": "markdown",
   "metadata": {
    "colab_type": "text",
    "id": "b1IcVCii7Izk"
   },
   "source": [
    "# conversion "
   ]
  },
  {
   "cell_type": "code",
   "execution_count": 10,
   "metadata": {
    "colab": {},
    "colab_type": "code",
    "id": "BMaNE9O97KkG"
   },
   "outputs": [],
   "source": [
    "import ast\n",
    "import re\n",
    "def convertion(kd_tree,brute_force):\n",
    "  tree=[]\n",
    "  for x in kd_tree['cv_scores']:\n",
    "    temp=''\n",
    "    x=re.sub(' +',' ',x)\n",
    "    for y in x.split(' '):\n",
    "      temp=temp+y+','\n",
    "    tree.append(ast.literal_eval(temp))\n",
    "   \n",
    "  brute=[]\n",
    "  for x in brute_force['cv_scores']:\n",
    "    temp=''\n",
    "    x=re.sub(' +',' ',x)\n",
    "    for y in x.split(' '):\n",
    "      temp=temp+y+','\n",
    "    brute.append(ast.literal_eval(temp))\n",
    "\n",
    "  tree=np.array(tree)\n",
    "  brute=np.array(brute)\n",
    "  return tree,brute"
   ]
  },
  {
   "cell_type": "markdown",
   "metadata": {
    "colab_type": "text",
    "id": "UI6IohmMAl4f"
   },
   "source": [
    "# plot graph"
   ]
  },
  {
   "cell_type": "code",
   "execution_count": 28,
   "metadata": {
    "colab": {},
    "colab_type": "code",
    "id": "3LxEkv-2AoKK"
   },
   "outputs": [],
   "source": [
    "def plot_graph(tree,brute,t,b,width=0.01):\n",
    "  x=[]\n",
    "  x1=[]\n",
    "  for i in range(0,15):\n",
    "    x.append(np.mean(brute[i]))\n",
    "    x1.append(np.mean(tree[i]))\n",
    "  max_brute=x[b];max_tree=x1[t]\n",
    "  fig=plt.figure(figsize=(10,5))\n",
    "  ax1 = fig.add_subplot(211)\n",
    "  ax1.grid(True)\n",
    "  ax1.plot(range(1,31,2),x,'r')\n",
    "  ax1.set_title('brute',fontsize=\"15\", color=\"red\")\n",
    "  ax1.set_xticks(range(1,30,2))\n",
    "  ax1.set_ylabel(\"F1-Score\")\n",
    "  ax1.set_xlabel('K')\n",
    "  ax1.annotate('maximum value at k='+str(b), xy=(b, max_brute), xytext=(b, max_brute-width),arrowprops=dict(facecolor='red', shrink=0.05),)\n",
    "  ax2 = fig.add_subplot(212)\n",
    "  ax2.grid(True)\n",
    "  ax2.set_xlabel('K')\n",
    "  ax2.set_ylabel(\"F1-Score\")\n",
    "  ax2.set_xticks(range(1,30,2))\n",
    "  ax2.plot(range(1,31,2),x1,'g')\n",
    "  ax2.annotate('maximum value at k='+str(t), xy=(t, max_tree), xytext=(t,max_tree-width),arrowprops=dict(facecolor='red', shrink=0.05),)\n",
    "  ax2.set_title('kd_tree', color=\"red\",y=1.08)\n",
    "  plt.show()\n",
    "  "
   ]
  },
  {
   "cell_type": "markdown",
   "metadata": {},
   "source": [
    "# plot confusion matrix"
   ]
  },
  {
   "cell_type": "code",
   "execution_count": 19,
   "metadata": {},
   "outputs": [],
   "source": [
    "from sklearn.metrics import f1_score,confusion_matrix,precision_score,recall_score,accuracy_score\n",
    "def plot_confusion_matrix(output,df_test_y,name):\n",
    "  import seaborn as sns\n",
    "  from beautifultable import BeautifulTable\n",
    "  table=BeautifulTable()\n",
    "  table.insert_column(0,\"precision_score\",[precision_score(df_test_y,output)])\n",
    "  table.insert_column(1,\"recall_score\",[recall_score(df_test_y,output)])\n",
    "  table.insert_column(2,\"accuracy\",[accuracy_score(df_test_y,output)])\n",
    "  table.insert_column(3,\"f1-score\",[f1_score(df_test_y,output)])\n",
    "  print(table)\n",
    "  cm_df = pd.DataFrame(confusion_matrix(df_test_y,output),index = ['negative','positive'], columns = ['negative','positive'])\n",
    "  plt.figure(figsize=(5.5,4))\n",
    "  sns.heatmap(cm_df, annot=True, fmt='g')\n",
    "  plt.title('confusion matrix'+name)\n",
    "  plt.ylabel('True label')\n",
    "  plt.xlabel('Predicted label')\n",
    "  plt.show()\n",
    "\n"
   ]
  },
  {
   "cell_type": "markdown",
   "metadata": {
    "colab_type": "text",
    "id": "bJocGw0jWdwO"
   },
   "source": [
    "# BOW-Unigrams"
   ]
  },
  {
   "cell_type": "code",
   "execution_count": 13,
   "metadata": {
    "colab": {
     "base_uri": "https://localhost:8080/",
     "height": 34
    },
    "colab_type": "code",
    "id": "RoazXdBhSenn",
    "outputId": "b6092dee-12e6-49b4-873b-70f4fb8a65e5"
   },
   "outputs": [
    {
     "name": "stdout",
     "output_type": "stream",
     "text": [
      "The train data shape is  (67000, 90770) and test data shape is  (33000, 90770)\n"
     ]
    }
   ],
   "source": [
    "bow_unigrams=CountVectorizer(stop_words='english')\n",
    "BOW1_train=bow_unigrams.fit(df_train_x)\n",
    "BOW1_train=bow_unigrams.transform(df_train_x)\n",
    "BOW1_test=bow_unigrams.transform(df_test_x)\n",
    "print(\"The train data shape is \",BOW1_train.shape,\"and test data shape is \",BOW1_test.shape)"
   ]
  },
  {
   "cell_type": "code",
   "execution_count": 14,
   "metadata": {
    "colab": {
     "base_uri": "https://localhost:8080/",
     "height": 34
    },
    "colab_type": "code",
    "id": "VNCZnmEISent",
    "outputId": "df8ffef5-daea-4a5f-8208-00fd1ffe7999"
   },
   "outputs": [
    {
     "name": "stdout",
     "output_type": "stream",
     "text": [
      "(67000, 90770) (33000, 90770)\n"
     ]
    }
   ],
   "source": [
    "train,test=data_standardization(BOW1_train,BOW1_test)"
   ]
  },
  {
   "cell_type": "code",
   "execution_count": 39,
   "metadata": {
    "colab": {
     "base_uri": "https://localhost:8080/",
     "height": 34
    },
    "colab_type": "code",
    "id": "S8zhw2iSSen_",
    "outputId": "12bf0454-a5c6-4bff-f13b-427b820dd947"
   },
   "outputs": [
    {
     "name": "stdout",
     "output_type": "stream",
     "text": [
      "(67000, 300) (33000, 300)\n"
     ]
    }
   ],
   "source": [
    "train_data,test_data=truncated_svd(train,test)\n",
    "print(train_data.shape,test_data.shape)"
   ]
  },
  {
   "cell_type": "code",
   "execution_count": 0,
   "metadata": {
    "colab": {},
    "colab_type": "code",
    "id": "R-beLj8x7twf"
   },
   "outputs": [],
   "source": [
    "kd_tree_function(train_data[:40000],df_train_y[:40000],'bow_unigarms_kd_tree.csv')"
   ]
  },
  {
   "cell_type": "code",
   "execution_count": 0,
   "metadata": {
    "colab": {},
    "colab_type": "code",
    "id": "u7fwRQmNSeoF"
   },
   "outputs": [],
   "source": [
    "brute_function(train,df_train_y,'bow_unigarms_brute.csv')"
   ]
  },
  {
   "cell_type": "code",
   "execution_count": 14,
   "metadata": {
    "colab": {
     "base_uri": "https://localhost:8080/",
     "height": 423
    },
    "colab_type": "code",
    "id": "wSwEkfSJ7tw5",
    "outputId": "ceb2c2b1-4379-402e-bd7c-93df16e6e0a4"
   },
   "outputs": [
    {
     "data": {
      "image/png": "[encoded data removed]",
      "text/plain": [
       "<Figure size 720x360 with 2 Axes>"
      ]
     },
     "metadata": {},
     "output_type": "display_data"
    }
   ],
   "source": [
    "kd_tree=pd.read_csv('bow_unigarms_kd_tree.csv')\n",
    "brute=pd.read_csv('bow_unigarms_brute.csv')\n",
    "tree,brute=convertion(kd_tree,brute)\n",
    "plot_graph(tree,brute,7,5)"
   ]
  },
  {
   "cell_type": "markdown",
   "metadata": {
    "colab_type": "text",
    "id": "Hia2dEz8Seo1"
   },
   "source": [
    "**1. In the kd-tree at k=7 we are getting high accuracy **<br>\n",
    "    **2. In brute technique , at k=5 , we are getting high accuracy around 94.28% **"
   ]
  },
  {
   "cell_type": "code",
   "execution_count": 40,
   "metadata": {
    "colab": {},
    "colab_type": "code",
    "id": "alEKYgcrSeo1"
   },
   "outputs": [],
   "source": [
    "knn=KNeighborsClassifier(n_neighbors=7,algorithm=\"kd_tree\",n_jobs=-1,leaf_size=30)\n",
    "knn_classifier=knn.fit(train_data[:40000],df_train_y[:40000])"
   ]
  },
  {
   "cell_type": "code",
   "execution_count": 42,
   "metadata": {},
   "outputs": [],
   "source": [
    "kd_tree_output=knn_classifier.predict(test_data)"
   ]
  },
  {
   "cell_type": "code",
   "execution_count": 54,
   "metadata": {},
   "outputs": [
    {
     "name": "stdout",
     "output_type": "stream",
     "text": [
      "+-----------------+--------------+----------+----------+\n",
      "| precision_score | recall_score | accuracy | f1-score |\n",
      "+-----------------+--------------+----------+----------+\n",
      "|      0.877      |    0.996     |  0.874   |  0.933   |\n",
      "+-----------------+--------------+----------+----------+\n"
     ]
    },
    {
     "data": {
      "image/png": "[encoded data removed]",
      "text/plain": [
       "<Figure size 396x288 with 2 Axes>"
      ]
     },
     "metadata": {},
     "output_type": "display_data"
    }
   ],
   "source": [
    "plot_confusion_matrix(kd_tree_output,df_test_y,\" Kd-tree(k=7)\")"
   ]
  },
  {
   "cell_type": "code",
   "execution_count": 49,
   "metadata": {
    "colab": {},
    "colab_type": "code",
    "id": "NXk71N-vSeo5"
   },
   "outputs": [],
   "source": [
    "knn=KNeighborsClassifier(n_neighbors=5,algorithm=\"brute\",n_jobs=-1)\n",
    "knn_classifier=knn.fit(train,df_train_y)"
   ]
  },
  {
   "cell_type": "code",
   "execution_count": 51,
   "metadata": {
    "colab": {},
    "colab_type": "code",
    "id": "5bEEnIjqSeo-"
   },
   "outputs": [],
   "source": [
    "brute_output=knn_classifier.predict(test)"
   ]
  },
  {
   "cell_type": "code",
   "execution_count": 55,
   "metadata": {},
   "outputs": [
    {
     "name": "stdout",
     "output_type": "stream",
     "text": [
      "+-----------------+--------------+----------+----------+\n",
      "| precision_score | recall_score | accuracy | f1-score |\n",
      "+-----------------+--------------+----------+----------+\n",
      "|      0.88       |    0.995     |  0.876   |  0.934   |\n",
      "+-----------------+--------------+----------+----------+\n"
     ]
    },
    {
     "data": {
      "image/png": "[encoded data removed]",
      "text/plain": [
       "<Figure size 396x288 with 2 Axes>"
      ]
     },
     "metadata": {},
     "output_type": "display_data"
    }
   ],
   "source": [
    "plot_confusion_matrix(brute_output,df_test_y,' Brute(k=7)')"
   ]
  },
  {
   "cell_type": "markdown",
   "metadata": {
    "colab_type": "text",
    "id": "GStwxN5ESepE"
   },
   "source": [
    "# observation\n",
    "1.**In kd-tree, Precision score 87.7% which indicates that among the total reviews which are labled as positive, 87.6% are atually positive and recall score is 99% which means from total positive reviews in test data, model identifed correctly 99% of them as positive. **\n",
    "\n",
    "2.**In brute-force method, Precision score 88% which indicates that among the total reviews which are labled as positive, 88% are atually positive and recall score is 99.5% which means from total positive reviews in test data, model identifed correctly 99.5% of them as positive. **\n",
    "\n"
   ]
  },
  {
   "cell_type": "markdown",
   "metadata": {
    "colab_type": "text",
    "id": "zEU3CssFSepG"
   },
   "source": [
    "# BOW- Bigrams"
   ]
  },
  {
   "cell_type": "code",
   "execution_count": 12,
   "metadata": {
    "colab": {
     "base_uri": "https://localhost:8080/",
     "height": 34
    },
    "colab_type": "code",
    "id": "drRxmq1QSepG",
    "outputId": "e62f480f-1221-4223-f942-528b46d6a3a6"
   },
   "outputs": [
    {
     "name": "stdout",
     "output_type": "stream",
     "text": [
      "The train data shape is  (67000, 1169770) and test data shape is  (33000, 1169770)\n"
     ]
    }
   ],
   "source": [
    "bow_unigrams=CountVectorizer(ngram_range=(1,2),stop_words='english')\n",
    "BOW1_train=bow_unigrams.fit(df_train_x)\n",
    "BOW1_train=bow_unigrams.transform(df_train_x)\n",
    "BOW1_test=bow_unigrams.transform(df_test_x)\n",
    "print(\"The train data shape is \",BOW1_train.shape,\"and test data shape is \",BOW1_test.shape)"
   ]
  },
  {
   "cell_type": "code",
   "execution_count": 13,
   "metadata": {
    "colab": {
     "base_uri": "https://localhost:8080/",
     "height": 34
    },
    "colab_type": "code",
    "id": "jfoSuUr5SepM",
    "outputId": "6dbe6136-06ed-4062-e8af-3bdbeb8ab16b"
   },
   "outputs": [
    {
     "name": "stdout",
     "output_type": "stream",
     "text": [
      "(67000, 1169770) (33000, 1169770)\n"
     ]
    }
   ],
   "source": [
    "train,test=data_standardization(BOW1_train,BOW1_test)"
   ]
  },
  {
   "cell_type": "code",
   "execution_count": 14,
   "metadata": {
    "colab": {
     "base_uri": "https://localhost:8080/",
     "height": 34
    },
    "colab_type": "code",
    "id": "AwB-b33VSepT",
    "outputId": "fe2ee581-0b37-4bd4-e880-d825188ce2c7"
   },
   "outputs": [
    {
     "name": "stdout",
     "output_type": "stream",
     "text": [
      "(67000, 300) (33000, 300)\n"
     ]
    }
   ],
   "source": [
    "train_data,test_data=truncated_svd(train,test)\n",
    "print(train_data.shape,test_data.shape)"
   ]
  },
  {
   "cell_type": "code",
   "execution_count": 0,
   "metadata": {
    "colab": {},
    "colab_type": "code",
    "id": "Jc9cecPPSepb"
   },
   "outputs": [],
   "source": [
    "kd_tree_function(train_data[:40000],df_train_y[:40000],'bow_Bigarms_kd_tree.csv')"
   ]
  },
  {
   "cell_type": "code",
   "execution_count": 15,
   "metadata": {
    "colab": {
     "base_uri": "https://localhost:8080/",
     "height": 423
    },
    "colab_type": "code",
    "id": "nxWRY65USep6",
    "outputId": "6eec214a-9461-481f-d7a5-5d1a278db5f1"
   },
   "outputs": [
    {
     "data": {
      "image/png": "[encoded data removed]",
      "text/plain": [
       "<Figure size 720x360 with 2 Axes>"
      ]
     },
     "metadata": {},
     "output_type": "display_data"
    }
   ],
   "source": [
    "kd_tree=pd.read_csv('bow_Bigarms_kd_tree.csv')\n",
    "brute=pd.read_csv('bow_Bigarms_brute.csv')\n",
    "tree,brute=convertion(kd_tree,brute)\n",
    "plot_graph(tree,brute,9,3)"
   ]
  },
  {
   "cell_type": "markdown",
   "metadata": {},
   "source": [
    "**1. In the kd-tree at k=9 we are getting high accuracy **<br>\n",
    "    **2. In brute technique , at k=3 , we are getting high accuracy around 94.3% **"
   ]
  },
  {
   "cell_type": "code",
   "execution_count": 17,
   "metadata": {
    "colab": {},
    "colab_type": "code",
    "id": "s35XyjVpSep9"
   },
   "outputs": [],
   "source": [
    "knn=KNeighborsClassifier(n_neighbors=9,algorithm=\"kd_tree\",n_jobs=-1,leaf_size=30)\n",
    "knn_classifier=knn.fit(train_data[:40000],df_train_y[:40000])"
   ]
  },
  {
   "cell_type": "code",
   "execution_count": 18,
   "metadata": {},
   "outputs": [],
   "source": [
    "kd_tree_output=knn_classifier.predict(test_data)"
   ]
  },
  {
   "cell_type": "code",
   "execution_count": 19,
   "metadata": {},
   "outputs": [
    {
     "name": "stdout",
     "output_type": "stream",
     "text": [
      "+-----------------+--------------+----------+----------+\n",
      "| precision_score | recall_score | accuracy | f1-score |\n",
      "+-----------------+--------------+----------+----------+\n",
      "|      0.876      |    0.997     |  0.873   |  0.932   |\n",
      "+-----------------+--------------+----------+----------+\n"
     ]
    },
    {
     "data": {
      "image/png": "[encoded data removed]",
      "text/plain": [
       "<Figure size 396x288 with 2 Axes>"
      ]
     },
     "metadata": {},
     "output_type": "display_data"
    }
   ],
   "source": [
    "plot_confusion_matrix(kd_tree_output,df_test_y,\" Kd-tree(k=9)\")"
   ]
  },
  {
   "cell_type": "code",
   "execution_count": 20,
   "metadata": {
    "colab": {},
    "colab_type": "code",
    "id": "eIsqHqrjSeqD"
   },
   "outputs": [],
   "source": [
    "knn=KNeighborsClassifier(n_neighbors=3,algorithm=\"brute\",n_jobs=-1)\n",
    "knn_classifier=knn.fit(train,df_train_y)"
   ]
  },
  {
   "cell_type": "code",
   "execution_count": 22,
   "metadata": {
    "colab": {},
    "colab_type": "code",
    "id": "Bsk9cT51SeqI"
   },
   "outputs": [],
   "source": [
    "brute_output=knn_classifier.predict(test)"
   ]
  },
  {
   "cell_type": "code",
   "execution_count": 23,
   "metadata": {
    "colab": {},
    "colab_type": "code",
    "id": "o3oX5vhvSeqO"
   },
   "outputs": [
    {
     "name": "stdout",
     "output_type": "stream",
     "text": [
      "+-----------------+--------------+----------+----------+\n",
      "| precision_score | recall_score | accuracy | f1-score |\n",
      "+-----------------+--------------+----------+----------+\n",
      "|      0.875      |     1.0      |  0.875   |  0.933   |\n",
      "+-----------------+--------------+----------+----------+\n"
     ]
    },
    {
     "data": {
      "image/png": "[encoded data removed]",
      "text/plain": [
       "<Figure size 396x288 with 2 Axes>"
      ]
     },
     "metadata": {},
     "output_type": "display_data"
    }
   ],
   "source": [
    "plot_confusion_matrix(brute_output,df_test_y,\" Brute(k=9)\")"
   ]
  },
  {
   "cell_type": "markdown",
   "metadata": {
    "colab_type": "text",
    "id": "8WhIAPZBaOv6"
   },
   "source": [
    "# observation\n",
    "1.**In kd-tree, Precision score 87.6% which indicates that among the total reviews which are labled as positive, 87.6% are atually positive and recall score is 99.7% which means from total positive reviews in test data, model identifed correctly 99.7% of them as positive. **\n",
    "\n",
    "2.**In brute-force method, Precision score 87.5% which indicates that among the total reviews which are labled as positive, 87.5% are atually positive and recall score is 100% which means from total positive reviews in test data, model identifed correctly 100% of them as positive. **\n",
    "\n"
   ]
  },
  {
   "cell_type": "markdown",
   "metadata": {
    "colab_type": "text",
    "id": "ksHcEdoISeqf"
   },
   "source": [
    "# TF_IDF unigrams"
   ]
  },
  {
   "cell_type": "code",
   "execution_count": 12,
   "metadata": {
    "colab": {
     "base_uri": "https://localhost:8080/",
     "height": 34
    },
    "colab_type": "code",
    "id": "ttqdPnMtSeqg",
    "outputId": "7747f4bb-4447-45a4-8ba5-75f671b0b5f3"
   },
   "outputs": [
    {
     "name": "stdout",
     "output_type": "stream",
     "text": [
      "The train data shape is  (67000, 90770) and test data shape is  (33000, 90770)\n"
     ]
    }
   ],
   "source": [
    "from sklearn.feature_extraction.text import TfidfVectorizer\n",
    "bow_unigrams=TfidfVectorizer(stop_words='english')\n",
    "BOW1_train=bow_unigrams.fit(df_train_x)\n",
    "BOW1_train=bow_unigrams.transform(df_train_x)\n",
    "BOW1_test=bow_unigrams.transform(df_test_x)\n",
    "print(\"The train data shape is \",BOW1_train.shape,\"and test data shape is \",BOW1_test.shape)"
   ]
  },
  {
   "cell_type": "code",
   "execution_count": 13,
   "metadata": {
    "colab": {
     "base_uri": "https://localhost:8080/",
     "height": 34
    },
    "colab_type": "code",
    "id": "S2TD-yZeSeqk",
    "outputId": "e60cb546-8dc0-450e-a423-ebbd3cb17818"
   },
   "outputs": [
    {
     "name": "stdout",
     "output_type": "stream",
     "text": [
      "(67000, 90770) (33000, 90770)\n"
     ]
    }
   ],
   "source": [
    "train,test=data_standardization(BOW1_train,BOW1_test)"
   ]
  },
  {
   "cell_type": "code",
   "execution_count": 14,
   "metadata": {
    "colab": {
     "base_uri": "https://localhost:8080/",
     "height": 34
    },
    "colab_type": "code",
    "id": "B4dO-ACsSeqp",
    "outputId": "cf00e26f-81f3-42f4-e020-d566062d75b5"
   },
   "outputs": [
    {
     "name": "stdout",
     "output_type": "stream",
     "text": [
      "(67000, 300) (33000, 300)\n"
     ]
    }
   ],
   "source": [
    "train_data,test_data=truncated_svd(train,test)\n",
    "print(train_data.shape,test_data.shape)"
   ]
  },
  {
   "cell_type": "code",
   "execution_count": 0,
   "metadata": {
    "colab": {},
    "colab_type": "code",
    "id": "NcmDncYOQpo7"
   },
   "outputs": [],
   "source": [
    "kd_tree_function(train_data[:40000],df_train_y[:40000],'tfidf_unigarms_kd_tree.csv')"
   ]
  },
  {
   "cell_type": "code",
   "execution_count": 16,
   "metadata": {
    "colab": {
     "base_uri": "https://localhost:8080/",
     "height": 423
    },
    "colab_type": "code",
    "id": "Cgtj_TvXSeq0",
    "outputId": "2826b48a-c1ea-4b04-d09b-dd86427f9832"
   },
   "outputs": [
    {
     "data": {
      "image/png": "[encoded data removed]",
      "text/plain": [
       "<Figure size 720x360 with 2 Axes>"
      ]
     },
     "metadata": {},
     "output_type": "display_data"
    }
   ],
   "source": [
    "kd_tree=pd.read_csv('tfidf_unigarms_kd_tree.csv')\n",
    "brute=pd.read_csv('tfidf_unigarms_brute.csv')\n",
    "tree,brute=convertion(kd_tree,brute)\n",
    "plot_graph(tree,brute,11,5)"
   ]
  },
  {
   "cell_type": "markdown",
   "metadata": {},
   "source": [
    "**1. In the kd-tree at k=11 we are getting high accuracy **<br>\n",
    "    **2. In brute technique , at k=5 , we are getting high accuracy around 94.5% **"
   ]
  },
  {
   "cell_type": "code",
   "execution_count": 15,
   "metadata": {
    "colab": {},
    "colab_type": "code",
    "id": "h-UP0VmcSeq8"
   },
   "outputs": [],
   "source": [
    "knn=KNeighborsClassifier(n_neighbors=11,algorithm=\"kd_tree\",n_jobs=-1,leaf_size=30)\n",
    "knn_classifier=knn.fit(train_data[:40000],df_train_y[:40000])"
   ]
  },
  {
   "cell_type": "code",
   "execution_count": 16,
   "metadata": {
    "colab": {},
    "colab_type": "code",
    "id": "PCYO8o_jSerG"
   },
   "outputs": [],
   "source": [
    "kd_tree_output=knn_classifier.predict(test_data)"
   ]
  },
  {
   "cell_type": "code",
   "execution_count": 17,
   "metadata": {
    "colab": {},
    "colab_type": "code",
    "id": "YTLeb3HqSerg"
   },
   "outputs": [
    {
     "name": "stdout",
     "output_type": "stream",
     "text": [
      "+-----------------+--------------+----------+----------+\n",
      "| precision_score | recall_score | accuracy | f1-score |\n",
      "+-----------------+--------------+----------+----------+\n",
      "|      0.876      |    0.999     |  0.875   |  0.933   |\n",
      "+-----------------+--------------+----------+----------+\n"
     ]
    },
    {
     "data": {
      "image/png": "[encoded data removed]",
      "text/plain": [
       "<Figure size 396x288 with 2 Axes>"
      ]
     },
     "metadata": {},
     "output_type": "display_data"
    }
   ],
   "source": [
    "plot_confusion_matrix(kd_tree_output,df_test_y,\" Kd_tree(k=11)\")"
   ]
  },
  {
   "cell_type": "code",
   "execution_count": 18,
   "metadata": {
    "colab": {},
    "colab_type": "code",
    "id": "AO0N54YaSero"
   },
   "outputs": [],
   "source": [
    "knn=KNeighborsClassifier(n_neighbors=5,algorithm=\"brute\",n_jobs=-1)\n",
    "knn_classifier=knn.fit(train,df_train_y)"
   ]
  },
  {
   "cell_type": "code",
   "execution_count": 19,
   "metadata": {
    "colab": {},
    "colab_type": "code",
    "id": "HgHt8A1SSers"
   },
   "outputs": [],
   "source": [
    "brute_output=knn_classifier.predict(test)"
   ]
  },
  {
   "cell_type": "code",
   "execution_count": 21,
   "metadata": {
    "colab": {},
    "colab_type": "code",
    "id": "63IB3jZeSerw"
   },
   "outputs": [
    {
     "name": "stdout",
     "output_type": "stream",
     "text": [
      "+-----------------+--------------+----------+----------+\n",
      "| precision_score | recall_score | accuracy | f1-score |\n",
      "+-----------------+--------------+----------+----------+\n",
      "|      0.877      |    0.998     |  0.875   |  0.933   |\n",
      "+-----------------+--------------+----------+----------+\n"
     ]
    },
    {
     "data": {
      "image/png": "[encoded data removed]",
      "text/plain": [
       "<Figure size 396x288 with 2 Axes>"
      ]
     },
     "metadata": {},
     "output_type": "display_data"
    }
   ],
   "source": [
    "plot_confusion_matrix(brute_output,df_test_y,\" Brute(k=5)\")"
   ]
  },
  {
   "cell_type": "markdown",
   "metadata": {
    "colab": {},
    "colab_type": "code",
    "id": "LgzRwHviSesJ"
   },
   "source": [
    "# observation\n",
    "1.**In kd-tree, Precision score 87.6% which indicates that among the total reviews which are labled as positive, 87.6% are atually positive and recall score is 99.9% which means from total positive reviews in test data, model identifed correctly 99.9% of them as positive. **\n",
    "\n",
    "2.**In brute-force method, Precision score 87.7% which indicates that among the total reviews which are labled as positive, 87.7% are atually positive and recall score is 99.8% which means from total positive reviews in test data, model identifed correctly 99.8% of them as positive. **\n",
    "\n"
   ]
  },
  {
   "cell_type": "markdown",
   "metadata": {
    "colab_type": "text",
    "id": "ZPseoh5XSesS"
   },
   "source": [
    "# TF_IDF Bigrams"
   ]
  },
  {
   "cell_type": "code",
   "execution_count": 22,
   "metadata": {
    "colab": {
     "base_uri": "https://localhost:8080/",
     "height": 34
    },
    "colab_type": "code",
    "id": "Shf7bT8uSesT",
    "outputId": "7ce20a7e-e650-425f-f5b8-14c97c1a0269"
   },
   "outputs": [
    {
     "name": "stdout",
     "output_type": "stream",
     "text": [
      "The train data shape is  (67000, 1169770) and test data shape is  (33000, 1169770)\n"
     ]
    }
   ],
   "source": [
    "from sklearn.feature_extraction.text import TfidfVectorizer\n",
    "bow_unigrams=TfidfVectorizer(ngram_range=(1,2),stop_words='english')\n",
    "BOW1_train=bow_unigrams.fit(df_train_x)\n",
    "BOW1_train=bow_unigrams.transform(df_train_x)\n",
    "BOW1_test=bow_unigrams.transform(df_test_x)\n",
    "print(\"The train data shape is \",BOW1_train.shape,\"and test data shape is \",BOW1_test.shape)"
   ]
  },
  {
   "cell_type": "code",
   "execution_count": 23,
   "metadata": {
    "colab": {
     "base_uri": "https://localhost:8080/",
     "height": 34
    },
    "colab_type": "code",
    "id": "6msqNdJWSesb",
    "outputId": "6c052bd4-fd1e-4d47-ddb6-f4ec7db17794"
   },
   "outputs": [
    {
     "name": "stdout",
     "output_type": "stream",
     "text": [
      "(67000, 1169770) (33000, 1169770)\n"
     ]
    }
   ],
   "source": [
    "train,test=data_standardization(BOW1_train,BOW1_test)"
   ]
  },
  {
   "cell_type": "code",
   "execution_count": 24,
   "metadata": {
    "colab": {
     "base_uri": "https://localhost:8080/",
     "height": 34
    },
    "colab_type": "code",
    "id": "CwslE4LeSesj",
    "outputId": "f8ad52cf-36b1-4b8b-c801-e874563a796a"
   },
   "outputs": [
    {
     "name": "stdout",
     "output_type": "stream",
     "text": [
      "(67000, 300) (33000, 300)\n"
     ]
    }
   ],
   "source": [
    "train_data,test_data=truncated_svd(train,test)\n",
    "print(train_data.shape,test_data.shape)"
   ]
  },
  {
   "cell_type": "code",
   "execution_count": 0,
   "metadata": {
    "colab": {},
    "colab_type": "code",
    "id": "Pt3bIu2oSess"
   },
   "outputs": [],
   "source": [
    "kd_tree_function(train_data[:40000],df_train_y[:40000],'tfidf_bigarms_kd_tree.csv')"
   ]
  },
  {
   "cell_type": "code",
   "execution_count": 17,
   "metadata": {
    "colab": {
     "base_uri": "https://localhost:8080/",
     "height": 453
    },
    "colab_type": "code",
    "id": "HYLvraQ3Sesu",
    "outputId": "e5108697-6998-4e71-f8b4-ae7d5719ca76"
   },
   "outputs": [
    {
     "data": {
      "image/png": "[encoded data removed]",
      "text/plain": [
       "<Figure size 720x360 with 2 Axes>"
      ]
     },
     "metadata": {},
     "output_type": "display_data"
    }
   ],
   "source": [
    "kd_tree=pd.read_csv('tfidf_bigarms_kd_tree.csv')\n",
    "brute=pd.read_csv('tfidf_Bigarms_brute.csv')\n",
    "tree,brute=convertion(kd_tree,brute)\n",
    "plot_graph(tree,brute,9,3,width=0.00001)"
   ]
  },
  {
   "cell_type": "markdown",
   "metadata": {},
   "source": [
    "**1. In the kd-tree at k=9 we are getting high accuracy **<br>\n",
    "    **2. In brute technique , at k=3 , we are getting high accuracy around 94.5% **"
   ]
  },
  {
   "cell_type": "code",
   "execution_count": 25,
   "metadata": {
    "colab": {},
    "colab_type": "code",
    "id": "XisyG0clSes0"
   },
   "outputs": [],
   "source": [
    "knn=KNeighborsClassifier(n_neighbors=9,algorithm=\"kd_tree\",n_jobs=-1,leaf_size=30)\n",
    "knn_classifier=knn.fit(train_data[:40000],df_train_y[:40000])"
   ]
  },
  {
   "cell_type": "code",
   "execution_count": 26,
   "metadata": {
    "colab": {},
    "colab_type": "code",
    "id": "T0vYgR_BSes3"
   },
   "outputs": [],
   "source": [
    "kd_tree_output=knn_classifier.predict(test_data)"
   ]
  },
  {
   "cell_type": "code",
   "execution_count": 27,
   "metadata": {
    "colab": {},
    "colab_type": "code",
    "id": "RzmAAGBxSes9"
   },
   "outputs": [
    {
     "name": "stdout",
     "output_type": "stream",
     "text": [
      "+-----------------+--------------+----------+----------+\n",
      "| precision_score | recall_score | accuracy | f1-score |\n",
      "+-----------------+--------------+----------+----------+\n",
      "|      0.875      |    0.997     |  0.873   |  0.932   |\n",
      "+-----------------+--------------+----------+----------+\n"
     ]
    },
    {
     "data": {
      "image/png": "[encoded data removed]",
      "text/plain": [
       "<Figure size 396x288 with 2 Axes>"
      ]
     },
     "metadata": {},
     "output_type": "display_data"
    }
   ],
   "source": [
    "plot_confusion_matrix(kd_tree_output,df_test_y,\" Kd_tree(k=9)\")"
   ]
  },
  {
   "cell_type": "code",
   "execution_count": 28,
   "metadata": {
    "colab": {},
    "colab_type": "code",
    "id": "I2A6Ha-ISetC"
   },
   "outputs": [],
   "source": [
    "knn=KNeighborsClassifier(n_neighbors=3,algorithm=\"brute\",n_jobs=-1)\n",
    "knn_classifier=knn.fit(train,df_train_y)"
   ]
  },
  {
   "cell_type": "code",
   "execution_count": 30,
   "metadata": {
    "colab": {},
    "colab_type": "code",
    "id": "6rsEAZaGSetE"
   },
   "outputs": [],
   "source": [
    "brute_output=knn_classifier.predict(test)"
   ]
  },
  {
   "cell_type": "code",
   "execution_count": 31,
   "metadata": {
    "colab": {},
    "colab_type": "code",
    "id": "UpP-KtM0SetI"
   },
   "outputs": [
    {
     "name": "stdout",
     "output_type": "stream",
     "text": [
      "+-----------------+--------------+----------+----------+\n",
      "| precision_score | recall_score | accuracy | f1-score |\n",
      "+-----------------+--------------+----------+----------+\n",
      "|      0.875      |     1.0      |  0.875   |  0.934   |\n",
      "+-----------------+--------------+----------+----------+\n"
     ]
    },
    {
     "data": {
      "image/png": "[encoded data removed]",
      "text/plain": [
       "<Figure size 396x288 with 2 Axes>"
      ]
     },
     "metadata": {},
     "output_type": "display_data"
    }
   ],
   "source": [
    "plot_confusion_matrix(brute_output,df_test_y,\" Brute(k=3)\")"
   ]
  },
  {
   "cell_type": "markdown",
   "metadata": {
    "colab_type": "text",
    "id": "ZKRt1n4qaopK"
   },
   "source": [
    "# observation\n",
    "1.**In kd-tree, Precision score 87.5% which indicates that among the total reviews which are labled as positive, 87.5% are atually positive and recall score is 99.7% which means from total positive reviews in test data, model identifed correctly 99.7% of them as positive. **\n",
    "\n",
    "2.**In brute-force method, Precision score 87.5% which indicates that among the total reviews which are labled as positive, 87.5% are atually positive and recall score is 100% which means from total positive reviews in test data, model identifed correctly 100% of them as positive. **\n",
    "\n"
   ]
  },
  {
   "cell_type": "markdown",
   "metadata": {
    "colab_type": "text",
    "id": "fcc3uw7GSetW"
   },
   "source": [
    "# word2vec model"
   ]
  },
  {
   "cell_type": "code",
   "execution_count": 32,
   "metadata": {
    "colab": {
     "base_uri": "https://localhost:8080/",
     "height": 51
    },
    "colab_type": "code",
    "id": "EIa7NWspSetX",
    "outputId": "f4adf2ae-3abf-45e3-e8e0-1325b3079fd8"
   },
   "outputs": [
    {
     "name": "stdout",
     "output_type": "stream",
     "text": [
      "Python 3.6.5 :: Anaconda, Inc.\r\n"
     ]
    },
    {
     "data": {
      "text/plain": [
       "['this', 'witty', 'little', 'book', 'makes', 'my', 'son', 'laugh']"
      ]
     },
     "execution_count": 32,
     "metadata": {},
     "output_type": "execute_result"
    }
   ],
   "source": [
    "!python -V\n",
    "model=[]\n",
    "for sent in df_train_x:\n",
    "    temp=[]\n",
    "    for word in sent.split():\n",
    "        temp.append(word)\n",
    "    model.append(temp)\n",
    "model[0][:8]"
   ]
  },
  {
   "cell_type": "code",
   "execution_count": 33,
   "metadata": {
    "colab": {},
    "colab_type": "code",
    "id": "9LKQezbYSete"
   },
   "outputs": [
    {
     "name": "stderr",
     "output_type": "stream",
     "text": [
      "/home/gurnatham_ravi/anaconda3/lib/python3.6/importlib/_bootstrap.py:219: ImportWarning: can't resolve package from __spec__ or __package__, falling back on __name__ and __path__\n",
      "  return f(*args, **kwds)\n",
      "/home/gurnatham_ravi/anaconda3/lib/python3.6/site-packages/scipy/sparse/sparsetools.py:21: DeprecationWarning: `scipy.sparse.sparsetools` is deprecated!\n",
      "scipy.sparse.sparsetools is a private module for scipy.sparse, and should not be used.\n",
      "  _deprecated()\n"
     ]
    }
   ],
   "source": [
    "from gensim.models import Word2Vec\n",
    "amazon_model = Word2Vec(model, size=100, window=5, min_count=1, workers=4)"
   ]
  },
  {
   "cell_type": "code",
   "execution_count": 34,
   "metadata": {
    "colab": {},
    "colab_type": "code",
    "id": "rdKaEJBqSeth"
   },
   "outputs": [
    {
     "name": "stdout",
     "output_type": "stream",
     "text": [
      "0\n",
      "10000\n",
      "20000\n",
      "30000\n",
      "40000\n",
      "50000\n",
      "60000\n"
     ]
    }
   ],
   "source": [
    "import numpy as np\n",
    "word_vectors = amazon_model.wv\n",
    "train_vec=[]\n",
    "counter=0\n",
    "for sentence in df_train_x:\n",
    "    temp=np.zeros(100)\n",
    "    length=0\n",
    "    for word in sentence.split():\n",
    "        if word in word_vectors:\n",
    "            temp=temp+amazon_model.wv[word]\n",
    "        else:\n",
    "            print(word,\" is not presnet in training model of word2vec\")\n",
    "    length+=1\n",
    "    train_vec.append(temp/length)\n",
    "    if(counter%10000==0):\n",
    "        print(counter)\n",
    "    counter+=1"
   ]
  },
  {
   "cell_type": "code",
   "execution_count": 35,
   "metadata": {
    "colab": {},
    "colab_type": "code",
    "id": "a1EpiCzoSetj"
   },
   "outputs": [
    {
     "name": "stdout",
     "output_type": "stream",
     "text": [
      "0\n",
      "10000\n",
      "20000\n",
      "30000\n"
     ]
    }
   ],
   "source": [
    "import numpy as np\n",
    "word_vectors = amazon_model.wv\n",
    "test_vec=[]\n",
    "counter=0\n",
    "for sentence in df_test_x:\n",
    "    temp=np.zeros(100)\n",
    "    length=0\n",
    "    for word in sentence.split():\n",
    "        if word in word_vectors:\n",
    "            temp=temp+amazon_model.wv[word]\n",
    "        #else:\n",
    "         #   print(word,\" is not presnet in training model of word2vec\")\n",
    "    length+=1\n",
    "    test_vec.append(temp/length)\n",
    "    if(counter%10000==0):\n",
    "        print(counter)\n",
    "    counter+=1"
   ]
  },
  {
   "cell_type": "code",
   "execution_count": 37,
   "metadata": {
    "colab": {
     "base_uri": "https://localhost:8080/",
     "height": 34
    },
    "colab_type": "code",
    "id": "gi1f1nbfSetu",
    "outputId": "070f4980-ba70-4054-ade8-0d092a9c1b4e"
   },
   "outputs": [
    {
     "name": "stdout",
     "output_type": "stream",
     "text": [
      "(67000, 100) (33000, 100)\n"
     ]
    }
   ],
   "source": [
    "train,test=data_standardization(np.array(train_vec),np.array(test_vec))"
   ]
  },
  {
   "cell_type": "code",
   "execution_count": 0,
   "metadata": {
    "colab": {},
    "colab_type": "code",
    "id": "uiI5_JoYSetz"
   },
   "outputs": [],
   "source": [
    "kd_tree_function(train[:40000],df_train_y[:40000],'tfidf_bigarms_kd_tree.csv')"
   ]
  },
  {
   "cell_type": "code",
   "execution_count": 0,
   "metadata": {
    "colab": {},
    "colab_type": "code",
    "id": "zm5aaTBiSet2"
   },
   "outputs": [],
   "source": [
    "brute_function(train,df_train_y,'word2vec_brute.csv')"
   ]
  },
  {
   "cell_type": "code",
   "execution_count": 18,
   "metadata": {
    "colab": {
     "base_uri": "https://localhost:8080/",
     "height": 423
    },
    "colab_type": "code",
    "id": "DHnyJD30Set5",
    "outputId": "455b2177-f8a5-4394-8f33-57922be7be0c"
   },
   "outputs": [
    {
     "data": {
      "image/png": "[encoded data removed]",
      "text/plain": [
       "<Figure size 720x360 with 2 Axes>"
      ]
     },
     "metadata": {},
     "output_type": "display_data"
    }
   ],
   "source": [
    "kd_tree=pd.read_csv('word2vec_kd_tree.csv')\n",
    "brute=pd.read_csv('word2vec_brute.csv')\n",
    "tree,brute=convertion(kd_tree,brute)\n",
    "plot_graph(tree,brute,7,13)"
   ]
  },
  {
   "cell_type": "markdown",
   "metadata": {},
   "source": [
    "**1. In the kd-tree at k=7 we are getting high accuracy **<br>\n",
    "    **2. In brute technique , at k=13 , we are getting high accuracy around 95% **"
   ]
  },
  {
   "cell_type": "code",
   "execution_count": 48,
   "metadata": {
    "colab": {},
    "colab_type": "code",
    "id": "DZxpBZjxSet_"
   },
   "outputs": [],
   "source": [
    "knn=KNeighborsClassifier(n_neighbors=7,algorithm=\"kd_tree\",n_jobs=-1,leaf_size=30)\n",
    "knn_classifier=knn.fit(train[:40000],df_train_y[:40000])"
   ]
  },
  {
   "cell_type": "code",
   "execution_count": 49,
   "metadata": {
    "colab": {},
    "colab_type": "code",
    "id": "nWBiwL8MSeuB"
   },
   "outputs": [],
   "source": [
    "kd_tree_output=knn_classifier.predict(test)"
   ]
  },
  {
   "cell_type": "code",
   "execution_count": 50,
   "metadata": {
    "colab": {},
    "colab_type": "code",
    "id": "WQdqsBZySeuF"
   },
   "outputs": [
    {
     "name": "stdout",
     "output_type": "stream",
     "text": [
      "+-----------------+--------------+----------+----------+\n",
      "| precision_score | recall_score | accuracy | f1-score |\n",
      "+-----------------+--------------+----------+----------+\n",
      "|      0.887      |    0.984     |  0.877   |  0.933   |\n",
      "+-----------------+--------------+----------+----------+\n"
     ]
    },
    {
     "data": {
      "image/png": "[encoded data removed]",
      "text/plain": [
       "<Figure size 396x288 with 2 Axes>"
      ]
     },
     "metadata": {},
     "output_type": "display_data"
    }
   ],
   "source": [
    "plot_confusion_matrix(kd_tree_output,df_test_y,\" Kd_tree(k=7)\")"
   ]
  },
  {
   "cell_type": "code",
   "execution_count": 51,
   "metadata": {
    "colab": {},
    "colab_type": "code",
    "id": "X0alAyvKSeuI"
   },
   "outputs": [],
   "source": [
    "knn=KNeighborsClassifier(n_neighbors=13,algorithm=\"brute\",n_jobs=-1)\n",
    "knn_classifier=knn.fit(train,df_train_y)"
   ]
  },
  {
   "cell_type": "code",
   "execution_count": 54,
   "metadata": {},
   "outputs": [],
   "source": [
    "brute_output=knn_classifier.predict(test)"
   ]
  },
  {
   "cell_type": "code",
   "execution_count": 55,
   "metadata": {},
   "outputs": [
    {
     "name": "stdout",
     "output_type": "stream",
     "text": [
      "+-----------------+--------------+----------+----------+\n",
      "| precision_score | recall_score | accuracy | f1-score |\n",
      "+-----------------+--------------+----------+----------+\n",
      "|      0.885      |    0.992     |   0.88   |  0.935   |\n",
      "+-----------------+--------------+----------+----------+\n"
     ]
    },
    {
     "data": {
      "image/png": "[encoded data removed]",
      "text/plain": [
       "<Figure size 396x288 with 2 Axes>"
      ]
     },
     "metadata": {},
     "output_type": "display_data"
    }
   ],
   "source": [
    "plot_confusion_matrix(brute_output,df_test_y,\" Brute(k=13)\")"
   ]
  },
  {
   "cell_type": "markdown",
   "metadata": {
    "colab_type": "text",
    "id": "I7wZNFYpavlC"
   },
   "source": [
    "# observation\n",
    "1.**In kd-tree, Precision score 88.7% which indicates that among the total reviews which are labled as positive, 88.7% are atually positive and recall score is 98.4% which means from total positive reviews in test data, model identifed correctly 98.4% of them as positive. **\n",
    "\n",
    "2.**In brute-force method, Precision score 88.5% which indicates that among the total reviews which are labled as positive, 88.5% are atually positive and recall score is 99.2% which means from total positive reviews in test data, model identifed correctly 99.2% of them as positive. **\n",
    "\n"
   ]
  },
  {
   "cell_type": "markdown",
   "metadata": {
    "colab_type": "text",
    "id": "vjq9rOera4vI"
   },
   "source": [
    "# Conclusion "
   ]
  },
  {
   "cell_type": "code",
   "execution_count": 23,
   "metadata": {
    "colab": {},
    "colab_type": "code",
    "id": "KEnxNSDSa8hm"
   },
   "outputs": [
    {
     "name": "stdout",
     "output_type": "stream",
     "text": [
      "+----------------------+---------+----+-------------+--------------------------+\n",
      "|        model         |  type   | K  | CV-accuracy |    accuracy(f1-score)    |\n",
      "+----------------------+---------+----+-------------+--------------------------+\n",
      "|     BOW_Unigrams     | kd_tree | 7  |    94.3     |          93.33           |\n",
      "+----------------------+---------+----+-------------+--------------------------+\n",
      "|     BOW_Unigrams     |  brute  | 5  |    94.5     |           93.4           |\n",
      "+----------------------+---------+----+-------------+--------------------------+\n",
      "|     BOW_Bigrams      | kd_tree | 9  |    94.6     |           93.2           |\n",
      "+----------------------+---------+----+-------------+--------------------------+\n",
      "|     BOW_Bigrams      |  brute  | 3  |    94.25    |          93.33           |\n",
      "+----------------------+---------+----+-------------+--------------------------+\n",
      "|   TF_IDF_Unigrams    | kd_tree | 11 |    94.6     |          93.33           |\n",
      "+----------------------+---------+----+-------------+--------------------------+\n",
      "|   TF_IDF_Unigrams    |  brute  | 5  |    94.8     |          93.33           |\n",
      "+----------------------+---------+----+-------------+--------------------------+\n",
      "|    TF_IDF_Bigrams    | kd_tree | 9  |    94.6     |           93.2           |\n",
      "+----------------------+---------+----+-------------+--------------------------+\n",
      "|    TF_IDF_Bigrams    |  brute  | 3  |   94.283    |           93.4           |\n",
      "+----------------------+---------+----+-------------+--------------------------+\n",
      "|       Word2vec       | kd_tree | 7  |    94.5     |           93.3           |\n",
      "+----------------------+---------+----+-------------+--------------------------+\n",
      "|       Word2vec       |  brute  | 13 |    94.8     |           93.5           |\n",
      "+----------------------+---------+----+-------------+--------------------------+\n"
     ]
    }
   ],
   "source": [
    "from beautifultable import BeautifulTable\n",
    "table=BeautifulTable()\n",
    "model_names=[\"BOW_Unigrams\",\"BOW_Unigrams\",\"BOW_Bigrams\",\"BOW_Bigrams\",\"TF_IDF_Unigrams\",\"TF_IDF_Unigrams\",\"TF_IDF_Bigrams\",\"TF_IDF_Bigrams\",\"Word2vec\",\"Word2vec\"]\n",
    "type_model=[\"kd_tree\",\"brute\",\"kd_tree\",\"brute\",\"kd_tree\",\"brute\",\"kd_tree\",\"brute\",\"kd_tree\",\"brute\"]\n",
    "k=[7,5,9,3,11,5,9,3,7,13]\n",
    "cv_accuracy=[94.3,94.5,94.6,94.25,94.6,94.8,94.6,94.2834,94.5,94.8]\n",
    "f1_scores=[93.33,93.4,93.2,93.33,93.33,93.33,93.2,93.4,93.3,93.5]\n",
    "table.insert_column(0,\"model\",model_names)\n",
    "table.insert_column(1,\"type\",type_model)\n",
    "table.insert_column(2,\"K\",k)\n",
    "table.insert_column(3,\"CV-accuracy\",cv_accuracy)\n",
    "table.insert_column(4,\"accuracy(f1-score)\",f1_scores)\n",
    "print(table)"
   ]
  },
  {
   "cell_type": "markdown",
   "metadata": {
    "colab_type": "text",
    "id": "fAbQIpKIcSjA"
   },
   "source": [
    "\n",
    "**In this assignment  I took 100k points for brute force model and 40k points for the kd-tree model  and used bow and tf_idf vectorizations,word2vec and analyzed for both the brute force and kd tree approaches and the kd-tree with 40k points performs as good as the brute force method with 100k points. And each vectorization is performing well and each model f1-score is above 90% **"
   ]
  }
 ],
 "metadata": {
  "accelerator": "TPU",
  "colab": {
   "name": "fuck_knn.ipynb",
   "provenance": [],
   "version": "0.3.2"
  },
  "kernelspec": {
   "display_name": "Python 3",
   "language": "python",
   "name": "python3"
  },
  "language_info": {
   "codemirror_mode": {
    "name": "ipython",
    "version": 3
   },
   "file_extension": ".py",
   "mimetype": "text/x-python",
   "name": "python",
   "nbconvert_exporter": "python",
   "pygments_lexer": "ipython3",
   "version": "3.6.5"
  }
 },
 "nbformat": 4,
 "nbformat_minor": 1
}
